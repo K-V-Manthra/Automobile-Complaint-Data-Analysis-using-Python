{
 "cells": [
  {
   "cell_type": "markdown",
   "metadata": {},
   "source": [
    "# Exploratory Data Analysis"
   ]
  },
  {
   "cell_type": "code",
   "execution_count": 143,
   "metadata": {},
   "outputs": [],
   "source": [
    "#import the required libraries for analysis and visualization\n",
    "import pandas as pd\n",
    "import numpy as np\n",
    "import matplotlib.pyplot as plt\n",
    "import seaborn as sea"
   ]
  },
  {
   "cell_type": "code",
   "execution_count": 144,
   "metadata": {},
   "outputs": [],
   "source": [
    "import warnings \n",
    "warnings.filterwarnings(\"ignore\")"
   ]
  },
  {
   "cell_type": "code",
   "execution_count": 145,
   "metadata": {},
   "outputs": [
    {
     "data": {
      "text/html": [
       "<div>\n",
       "<style scoped>\n",
       "    .dataframe tbody tr th:only-of-type {\n",
       "        vertical-align: middle;\n",
       "    }\n",
       "\n",
       "    .dataframe tbody tr th {\n",
       "        vertical-align: top;\n",
       "    }\n",
       "\n",
       "    .dataframe thead th {\n",
       "        text-align: right;\n",
       "    }\n",
       "</style>\n",
       "<table border=\"1\" class=\"dataframe\">\n",
       "  <thead>\n",
       "    <tr style=\"text-align: right;\">\n",
       "      <th></th>\n",
       "      <th>Model</th>\n",
       "      <th>Complaint Related To</th>\n",
       "      <th>Complaint Type</th>\n",
       "      <th>Complaint Source</th>\n",
       "      <th>Complaint Mode</th>\n",
       "      <th>Category 1</th>\n",
       "      <th>Area 1</th>\n",
       "      <th>Contact Details 1</th>\n",
       "      <th>Product Component 1</th>\n",
       "      <th>Product Phenomenon 1</th>\n",
       "      <th>...</th>\n",
       "      <th>No Assistance 2</th>\n",
       "      <th>Category 3</th>\n",
       "      <th>Area 3</th>\n",
       "      <th>Contact Details 3</th>\n",
       "      <th>Product Component 3</th>\n",
       "      <th>Product Phenomenon 3</th>\n",
       "      <th>Request 3</th>\n",
       "      <th>Action 3</th>\n",
       "      <th>No Assistance 3</th>\n",
       "      <th>Resolution Days</th>\n",
       "    </tr>\n",
       "  </thead>\n",
       "  <tbody>\n",
       "    <tr>\n",
       "      <th>0</th>\n",
       "      <td>model1</td>\n",
       "      <td>Service</td>\n",
       "      <td>Normal</td>\n",
       "      <td>Dealer</td>\n",
       "      <td>PSF Service</td>\n",
       "      <td>Negative Comments</td>\n",
       "      <td>Service and Parts</td>\n",
       "      <td>General Service [Washing Quality]</td>\n",
       "      <td>Poor Washing &amp; Cleaning (Interior &amp; Exterior)</td>\n",
       "      <td>NaN</td>\n",
       "      <td>...</td>\n",
       "      <td>NaN</td>\n",
       "      <td>NaN</td>\n",
       "      <td>NaN</td>\n",
       "      <td>NaN</td>\n",
       "      <td>NaN</td>\n",
       "      <td>NaN</td>\n",
       "      <td>NaN</td>\n",
       "      <td>NaN</td>\n",
       "      <td>NaN</td>\n",
       "      <td>0.09</td>\n",
       "    </tr>\n",
       "    <tr>\n",
       "      <th>1</th>\n",
       "      <td>model10</td>\n",
       "      <td>Service</td>\n",
       "      <td>Normal</td>\n",
       "      <td>Dealer</td>\n",
       "      <td>Call-in</td>\n",
       "      <td>Negative Comments</td>\n",
       "      <td>Service and Parts</td>\n",
       "      <td>General Service [Repeat Repair]</td>\n",
       "      <td>New issues after Service</td>\n",
       "      <td>NaN</td>\n",
       "      <td>...</td>\n",
       "      <td>NaN</td>\n",
       "      <td>NaN</td>\n",
       "      <td>NaN</td>\n",
       "      <td>NaN</td>\n",
       "      <td>NaN</td>\n",
       "      <td>NaN</td>\n",
       "      <td>NaN</td>\n",
       "      <td>NaN</td>\n",
       "      <td>NaN</td>\n",
       "      <td>2.97</td>\n",
       "    </tr>\n",
       "    <tr>\n",
       "      <th>2</th>\n",
       "      <td>model3</td>\n",
       "      <td>Service</td>\n",
       "      <td>Normal</td>\n",
       "      <td>Dealer</td>\n",
       "      <td>PSF Service</td>\n",
       "      <td>Negative Comments</td>\n",
       "      <td>Service and Parts</td>\n",
       "      <td>General Service [Repeat Repair]</td>\n",
       "      <td>New issues after Service</td>\n",
       "      <td>NaN</td>\n",
       "      <td>...</td>\n",
       "      <td>NaN</td>\n",
       "      <td>NaN</td>\n",
       "      <td>NaN</td>\n",
       "      <td>NaN</td>\n",
       "      <td>NaN</td>\n",
       "      <td>NaN</td>\n",
       "      <td>NaN</td>\n",
       "      <td>NaN</td>\n",
       "      <td>NaN</td>\n",
       "      <td>1.23</td>\n",
       "    </tr>\n",
       "    <tr>\n",
       "      <th>3</th>\n",
       "      <td>model1</td>\n",
       "      <td>Service</td>\n",
       "      <td>Normal</td>\n",
       "      <td>Dealer</td>\n",
       "      <td>PSF Service, In person</td>\n",
       "      <td>Negative Comments</td>\n",
       "      <td>Service and Parts</td>\n",
       "      <td>General Service [Handling &amp; Attitude]</td>\n",
       "      <td>Gadgets missing in the vehicle after delivery</td>\n",
       "      <td>NaN</td>\n",
       "      <td>...</td>\n",
       "      <td>NaN</td>\n",
       "      <td>NaN</td>\n",
       "      <td>NaN</td>\n",
       "      <td>NaN</td>\n",
       "      <td>NaN</td>\n",
       "      <td>NaN</td>\n",
       "      <td>NaN</td>\n",
       "      <td>NaN</td>\n",
       "      <td>NaN</td>\n",
       "      <td>7.03</td>\n",
       "    </tr>\n",
       "    <tr>\n",
       "      <th>4</th>\n",
       "      <td>model1</td>\n",
       "      <td>Sales</td>\n",
       "      <td>Normal</td>\n",
       "      <td>Dealer</td>\n",
       "      <td>SSI</td>\n",
       "      <td>Negative Comments</td>\n",
       "      <td>Sales</td>\n",
       "      <td>Delivery Process</td>\n",
       "      <td>Vehicle condition is bad at delivery</td>\n",
       "      <td>NaN</td>\n",
       "      <td>...</td>\n",
       "      <td>NaN</td>\n",
       "      <td>NaN</td>\n",
       "      <td>NaN</td>\n",
       "      <td>NaN</td>\n",
       "      <td>NaN</td>\n",
       "      <td>NaN</td>\n",
       "      <td>NaN</td>\n",
       "      <td>NaN</td>\n",
       "      <td>NaN</td>\n",
       "      <td>1.99</td>\n",
       "    </tr>\n",
       "  </tbody>\n",
       "</table>\n",
       "<p>5 rows × 30 columns</p>\n",
       "</div>"
      ],
      "text/plain": [
       "     Model Complaint Related To Complaint Type Complaint Source  \\\n",
       "0   model1              Service         Normal           Dealer   \n",
       "1  model10              Service         Normal           Dealer   \n",
       "2   model3              Service         Normal           Dealer   \n",
       "3   model1              Service         Normal           Dealer   \n",
       "4   model1                Sales         Normal           Dealer   \n",
       "\n",
       "           Complaint Mode         Category 1             Area 1  \\\n",
       "0             PSF Service  Negative Comments  Service and Parts   \n",
       "1                 Call-in  Negative Comments  Service and Parts   \n",
       "2             PSF Service  Negative Comments  Service and Parts   \n",
       "3  PSF Service, In person  Negative Comments  Service and Parts   \n",
       "4                     SSI  Negative Comments              Sales   \n",
       "\n",
       "                       Contact Details 1  \\\n",
       "0      General Service [Washing Quality]   \n",
       "1        General Service [Repeat Repair]   \n",
       "2        General Service [Repeat Repair]   \n",
       "3  General Service [Handling & Attitude]   \n",
       "4                       Delivery Process   \n",
       "\n",
       "                              Product Component 1  Product Phenomenon 1  \\\n",
       "0   Poor Washing & Cleaning (Interior & Exterior)                   NaN   \n",
       "1                        New issues after Service                   NaN   \n",
       "2                        New issues after Service                   NaN   \n",
       "3  Gadgets missing in the vehicle after delivery                    NaN   \n",
       "4            Vehicle condition is bad at delivery                   NaN   \n",
       "\n",
       "        ...       No Assistance 2 Category 3 Area 3 Contact Details 3  \\\n",
       "0       ...                   NaN        NaN    NaN               NaN   \n",
       "1       ...                   NaN        NaN    NaN               NaN   \n",
       "2       ...                   NaN        NaN    NaN               NaN   \n",
       "3       ...                   NaN        NaN    NaN               NaN   \n",
       "4       ...                   NaN        NaN    NaN               NaN   \n",
       "\n",
       "  Product Component 3  Product Phenomenon 3 Request 3 Action 3  \\\n",
       "0                 NaN                   NaN       NaN      NaN   \n",
       "1                 NaN                   NaN       NaN      NaN   \n",
       "2                 NaN                   NaN       NaN      NaN   \n",
       "3                 NaN                   NaN       NaN      NaN   \n",
       "4                 NaN                   NaN       NaN      NaN   \n",
       "\n",
       "  No Assistance 3 Resolution Days  \n",
       "0             NaN            0.09  \n",
       "1             NaN            2.97  \n",
       "2             NaN            1.23  \n",
       "3             NaN            7.03  \n",
       "4             NaN            1.99  \n",
       "\n",
       "[5 rows x 30 columns]"
      ]
     },
     "execution_count": 145,
     "metadata": {},
     "output_type": "execute_result"
    }
   ],
   "source": [
    "#Load data using pandas\n",
    "cd = pd.read_csv(\"E:/mini/data/final/complaint_data.csv\",encoding = \"cp1252\")\n",
    "cd.head()"
   ]
  },
  {
   "cell_type": "code",
   "execution_count": 146,
   "metadata": {},
   "outputs": [
    {
     "name": "stdout",
     "output_type": "stream",
     "text": [
      "<class 'pandas.core.frame.DataFrame'>\n",
      "RangeIndex: 4150 entries, 0 to 4149\n",
      "Data columns (total 30 columns):\n",
      "Model                    4150 non-null object\n",
      "Complaint Related To     4150 non-null object\n",
      "Complaint Type           4150 non-null object\n",
      "Complaint Source         4150 non-null object\n",
      "Complaint Mode           4150 non-null object\n",
      "Category 1               4150 non-null object\n",
      "Area 1                   4150 non-null object\n",
      "Contact Details 1        4150 non-null object\n",
      "Product Component 1      4150 non-null object\n",
      " Product Phenomenon 1    888 non-null object\n",
      "Request 1                4150 non-null object\n",
      "Action 1                 4090 non-null object\n",
      "No Assistance 1          4090 non-null object\n",
      "Category 2               784 non-null object\n",
      "Area 2                   784 non-null object\n",
      "Contact Details 2        784 non-null object\n",
      "Product Component 2      784 non-null object\n",
      " Product Phenomenon 2    167 non-null object\n",
      "Request 2                784 non-null object\n",
      "Action 2                 771 non-null object\n",
      "No Assistance 2          771 non-null object\n",
      "Category 3               107 non-null object\n",
      "Area 3                   107 non-null object\n",
      "Contact Details 3        107 non-null object\n",
      "Product Component 3      107 non-null object\n",
      " Product Phenomenon 3    18 non-null object\n",
      "Request 3                107 non-null object\n",
      "Action 3                 105 non-null object\n",
      "No Assistance 3          105 non-null object\n",
      "Resolution Days          4150 non-null float64\n",
      "dtypes: float64(1), object(29)\n",
      "memory usage: 972.7+ KB\n"
     ]
    }
   ],
   "source": [
    "cd.info()"
   ]
  },
  {
   "cell_type": "markdown",
   "metadata": {},
   "source": [
    "## Data Visualization"
   ]
  },
  {
   "cell_type": "markdown",
   "metadata": {},
   "source": [
    "##### Boxplot using matplotlib"
   ]
  },
  {
   "cell_type": "code",
   "execution_count": 147,
   "metadata": {},
   "outputs": [
    {
     "data": {
      "text/plain": [
       "<matplotlib.axes._subplots.AxesSubplot at 0x20e2883f8d0>"
      ]
     },
     "execution_count": 147,
     "metadata": {},
     "output_type": "execute_result"
    },
    {
     "data": {
      "image/png": "[encoded data removed]",
      "text/plain": [
       "<Figure size 504x504 with 1 Axes>"
      ]
     },
     "metadata": {
      "needs_background": "light"
     },
     "output_type": "display_data"
    }
   ],
   "source": [
    "cd.boxplot(figsize=(7,7))"
   ]
  },
  {
   "cell_type": "code",
   "execution_count": 148,
   "metadata": {},
   "outputs": [
    {
     "data": {
      "text/plain": [
       "<matplotlib.axes._subplots.AxesSubplot at 0x20e28cfa128>"
      ]
     },
     "execution_count": 148,
     "metadata": {},
     "output_type": "execute_result"
    },
    {
     "data": {
      "image/png": "[encoded data removed]",
      "text/plain": [
       "<Figure size 504x504 with 1 Axes>"
      ]
     },
     "metadata": {
      "needs_background": "light"
     },
     "output_type": "display_data"
    }
   ],
   "source": [
    "plt.figure(figsize=(7,7))\n",
    "sea.violinplot(data=cd)"
   ]
  },
  {
   "cell_type": "markdown",
   "metadata": {},
   "source": [
    "##### Violin plot is a plot from seaborn package which is similar to boxplot and used for almost the same cause of identifying the outliers but violin plot also shows the probability distribution of data on both sides.\n",
    "##### This plot shows that the complaints are resolved within 20days and there were also few complaints which took nearly 100 days it to get resolved.\n",
    "##### It may be because of the reason that the dealer may not have all the major spare parts available in the godown and only when a complaint is received and the requirement of that part arises the dealer requests for the spare to the company and based on the delivery of those parts."
   ]
  },
  {
   "cell_type": "markdown",
   "metadata": {},
   "source": [
    "### View the missing values and value_counts of attributes to gain better knowledge about the data provided. "
   ]
  },
  {
   "cell_type": "code",
   "execution_count": 149,
   "metadata": {},
   "outputs": [
    {
     "data": {
      "text/plain": [
       "63390"
      ]
     },
     "execution_count": 149,
     "metadata": {},
     "output_type": "execute_result"
    }
   ],
   "source": [
    "cd.isnull().values.sum()"
   ]
  },
  {
   "cell_type": "markdown",
   "metadata": {},
   "source": [
    "##### Here missing values conveys that 63390 complaints were not filed among the total complaints."
   ]
  },
  {
   "cell_type": "code",
   "execution_count": 150,
   "metadata": {},
   "outputs": [
    {
     "data": {
      "text/plain": [
       "Normal     4143\n",
       "Serious       7\n",
       "Name: Complaint Type, dtype: int64"
      ]
     },
     "execution_count": 150,
     "metadata": {},
     "output_type": "execute_result"
    }
   ],
   "source": [
    "cd['Complaint Type'].value_counts()"
   ]
  },
  {
   "cell_type": "code",
   "execution_count": 151,
   "metadata": {},
   "outputs": [
    {
     "data": {
      "text/plain": [
       "Dealer                  4050\n",
       "manufacturer              51\n",
       "Dealer, manufacturer      49\n",
       "Name: Complaint Source, dtype: int64"
      ]
     },
     "execution_count": 151,
     "metadata": {},
     "output_type": "execute_result"
    }
   ],
   "source": [
    "cd['Complaint Source'].value_counts()"
   ]
  },
  {
   "cell_type": "code",
   "execution_count": 152,
   "metadata": {},
   "outputs": [
    {
     "data": {
      "text/plain": [
       "Service and Parts    2905\n",
       "Product               888\n",
       "Sales                 357\n",
       "Name: Area 1, dtype: int64"
      ]
     },
     "execution_count": 152,
     "metadata": {},
     "output_type": "execute_result"
    }
   ],
   "source": [
    "cd['Area 1'].value_counts()"
   ]
  },
  {
   "cell_type": "code",
   "execution_count": 153,
   "metadata": {},
   "outputs": [
    {
     "data": {
      "text/plain": [
       "Other                 4074\n",
       "Out of warranty         11\n",
       "No service history       5\n",
       "Name: No Assistance 1, dtype: int64"
      ]
     },
     "execution_count": 153,
     "metadata": {},
     "output_type": "execute_result"
    }
   ],
   "source": [
    "cd['No Assistance 1'].value_counts()"
   ]
  },
  {
   "cell_type": "code",
   "execution_count": 154,
   "metadata": {},
   "outputs": [
    {
     "data": {
      "text/plain": [
       "Service    2896\n",
       "Product     892\n",
       "Sales       362\n",
       "Name: Complaint Related To, dtype: int64"
      ]
     },
     "execution_count": 154,
     "metadata": {},
     "output_type": "execute_result"
    }
   ],
   "source": [
    "cd['Complaint Related To'].value_counts()"
   ]
  },
  {
   "cell_type": "code",
   "execution_count": 155,
   "metadata": {},
   "outputs": [
    {
     "data": {
      "text/plain": [
       "PSF Service                        2379\n",
       "In person                           638\n",
       "Call-in                             347\n",
       "Teleout                             315\n",
       "Call-in, PSF Service                111\n",
       "PSF Sales                            78\n",
       "PSF Service, In person               73\n",
       "Email                                62\n",
       "NCDS                                 39\n",
       "Scube-Sales                          34\n",
       "PSF Service, Teleout                 19\n",
       "SSI                                   9\n",
       "PSF Sales, PSF Service                8\n",
       "Email, In person                      7\n",
       "Call-in, In person                    6\n",
       "PSF Sales, In person                  5\n",
       "Call-in, PSF Service, In person       5\n",
       "PSF Service, Email                    4\n",
       "Top Management                        3\n",
       "Media/Web, Email                      2\n",
       "Twitter                               2\n",
       "Call-in, Email                        1\n",
       "CSI, Teleout                          1\n",
       "Teleout, Email                        1\n",
       "Call-in, PSF Sales                    1\n",
       "Name: Complaint Mode, dtype: int64"
      ]
     },
     "execution_count": 155,
     "metadata": {},
     "output_type": "execute_result"
    }
   ],
   "source": [
    "cd['Complaint Mode'].value_counts()"
   ]
  },
  {
   "cell_type": "code",
   "execution_count": 156,
   "metadata": {},
   "outputs": [
    {
     "data": {
      "text/plain": [
       "model1     2220\n",
       "model3      991\n",
       "model4      334\n",
       "model2      220\n",
       "model6      153\n",
       "model11      71\n",
       "model12      66\n",
       "model7       50\n",
       "model5       15\n",
       "model9       12\n",
       "model8        8\n",
       "model10       8\n",
       "model13       2\n",
       "Name: Model, dtype: int64"
      ]
     },
     "execution_count": 156,
     "metadata": {},
     "output_type": "execute_result"
    }
   ],
   "source": [
    "cd['Model'].value_counts()"
   ]
  },
  {
   "cell_type": "code",
   "execution_count": 157,
   "metadata": {},
   "outputs": [
    {
     "name": "stdout",
     "output_type": "stream",
     "text": [
      "<class 'pandas.core.frame.DataFrame'>\n",
      "RangeIndex: 4150 entries, 0 to 4149\n",
      "Data columns (total 5 columns):\n",
      "Model                   4150 non-null object\n",
      "Complaint Related To    4150 non-null object\n",
      "Complaint Type          4150 non-null object\n",
      "Complaint Source        4150 non-null object\n",
      "Complaint Mode          4150 non-null object\n",
      "dtypes: object(5)\n",
      "memory usage: 162.2+ KB\n",
      "None\n"
     ]
    },
    {
     "data": {
      "text/html": [
       "<div>\n",
       "<style scoped>\n",
       "    .dataframe tbody tr th:only-of-type {\n",
       "        vertical-align: middle;\n",
       "    }\n",
       "\n",
       "    .dataframe tbody tr th {\n",
       "        vertical-align: top;\n",
       "    }\n",
       "\n",
       "    .dataframe thead th {\n",
       "        text-align: right;\n",
       "    }\n",
       "</style>\n",
       "<table border=\"1\" class=\"dataframe\">\n",
       "  <thead>\n",
       "    <tr style=\"text-align: right;\">\n",
       "      <th></th>\n",
       "      <th>Model</th>\n",
       "      <th>Complaint Related To</th>\n",
       "      <th>Complaint Type</th>\n",
       "      <th>Complaint Source</th>\n",
       "      <th>Complaint Mode</th>\n",
       "    </tr>\n",
       "  </thead>\n",
       "  <tbody>\n",
       "    <tr>\n",
       "      <th>1141</th>\n",
       "      <td>model12</td>\n",
       "      <td>Product</td>\n",
       "      <td>Normal</td>\n",
       "      <td>manufacturer</td>\n",
       "      <td>Call-in</td>\n",
       "    </tr>\n",
       "    <tr>\n",
       "      <th>3219</th>\n",
       "      <td>model4</td>\n",
       "      <td>Service</td>\n",
       "      <td>Normal</td>\n",
       "      <td>Dealer</td>\n",
       "      <td>PSF Service</td>\n",
       "    </tr>\n",
       "  </tbody>\n",
       "</table>\n",
       "</div>"
      ],
      "text/plain": [
       "        Model Complaint Related To Complaint Type Complaint Source  \\\n",
       "1141  model12              Product         Normal     manufacturer   \n",
       "3219   model4              Service         Normal           Dealer   \n",
       "\n",
       "     Complaint Mode  \n",
       "1141        Call-in  \n",
       "3219    PSF Service  "
      ]
     },
     "execution_count": 157,
     "metadata": {},
     "output_type": "execute_result"
    }
   ],
   "source": [
    "cd_info = cd.iloc[:,:5]\n",
    "print(cd_info.info())\n",
    "cd_info.sample(2)"
   ]
  },
  {
   "cell_type": "code",
   "execution_count": 158,
   "metadata": {},
   "outputs": [
    {
     "data": {
      "text/html": [
       "<div>\n",
       "<style scoped>\n",
       "    .dataframe tbody tr th:only-of-type {\n",
       "        vertical-align: middle;\n",
       "    }\n",
       "\n",
       "    .dataframe tbody tr th {\n",
       "        vertical-align: top;\n",
       "    }\n",
       "\n",
       "    .dataframe thead th {\n",
       "        text-align: right;\n",
       "    }\n",
       "</style>\n",
       "<table border=\"1\" class=\"dataframe\">\n",
       "  <thead>\n",
       "    <tr style=\"text-align: right;\">\n",
       "      <th></th>\n",
       "      <th>Resolution Days</th>\n",
       "    </tr>\n",
       "  </thead>\n",
       "  <tbody>\n",
       "    <tr>\n",
       "      <th>834</th>\n",
       "      <td>2.02</td>\n",
       "    </tr>\n",
       "    <tr>\n",
       "      <th>1310</th>\n",
       "      <td>1.08</td>\n",
       "    </tr>\n",
       "    <tr>\n",
       "      <th>375</th>\n",
       "      <td>4.97</td>\n",
       "    </tr>\n",
       "    <tr>\n",
       "      <th>3757</th>\n",
       "      <td>17.03</td>\n",
       "    </tr>\n",
       "  </tbody>\n",
       "</table>\n",
       "</div>"
      ],
      "text/plain": [
       "      Resolution Days\n",
       "834              2.02\n",
       "1310             1.08\n",
       "375              4.97\n",
       "3757            17.03"
      ]
     },
     "execution_count": 158,
     "metadata": {},
     "output_type": "execute_result"
    }
   ],
   "source": [
    "cd_info1 = cd.iloc[:,29:]\n",
    "cd_info1.sample(4)"
   ]
  },
  {
   "cell_type": "code",
   "execution_count": 159,
   "metadata": {},
   "outputs": [
    {
     "name": "stdout",
     "output_type": "stream",
     "text": [
      "<class 'pandas.core.frame.DataFrame'>\n",
      "RangeIndex: 4150 entries, 0 to 4149\n",
      "Data columns (total 8 columns):\n",
      "Category 1               4150 non-null object\n",
      "Area 1                   4150 non-null object\n",
      "Contact Details 1        4150 non-null object\n",
      "Product Component 1      4150 non-null object\n",
      " Product Phenomenon 1    888 non-null object\n",
      "Request 1                4150 non-null object\n",
      "Action 1                 4090 non-null object\n",
      "No Assistance 1          4090 non-null object\n",
      "dtypes: object(8)\n",
      "memory usage: 259.5+ KB\n",
      "None\n"
     ]
    },
    {
     "data": {
      "text/html": [
       "<div>\n",
       "<style scoped>\n",
       "    .dataframe tbody tr th:only-of-type {\n",
       "        vertical-align: middle;\n",
       "    }\n",
       "\n",
       "    .dataframe tbody tr th {\n",
       "        vertical-align: top;\n",
       "    }\n",
       "\n",
       "    .dataframe thead th {\n",
       "        text-align: right;\n",
       "    }\n",
       "</style>\n",
       "<table border=\"1\" class=\"dataframe\">\n",
       "  <thead>\n",
       "    <tr style=\"text-align: right;\">\n",
       "      <th></th>\n",
       "      <th>Category 1</th>\n",
       "      <th>Area 1</th>\n",
       "      <th>Contact Details 1</th>\n",
       "      <th>Product Component 1</th>\n",
       "      <th>Product Phenomenon 1</th>\n",
       "      <th>Request 1</th>\n",
       "      <th>Action 1</th>\n",
       "      <th>No Assistance 1</th>\n",
       "    </tr>\n",
       "  </thead>\n",
       "  <tbody>\n",
       "    <tr>\n",
       "      <th>1757</th>\n",
       "      <td>Negative Comments</td>\n",
       "      <td>Service and Parts</td>\n",
       "      <td>General Service [Handling &amp; Attitude]</td>\n",
       "      <td>Poor Communication</td>\n",
       "      <td>NaN</td>\n",
       "      <td>Apology</td>\n",
       "      <td>Explanation, apology</td>\n",
       "      <td>Other</td>\n",
       "    </tr>\n",
       "    <tr>\n",
       "      <th>857</th>\n",
       "      <td>Negative Comments</td>\n",
       "      <td>Service and Parts</td>\n",
       "      <td>General Service [Handling &amp; Attitude]</td>\n",
       "      <td>Staff are not courteous</td>\n",
       "      <td>NaN</td>\n",
       "      <td>Apology</td>\n",
       "      <td>Explanation, apology</td>\n",
       "      <td>Other</td>\n",
       "    </tr>\n",
       "  </tbody>\n",
       "</table>\n",
       "</div>"
      ],
      "text/plain": [
       "             Category 1             Area 1  \\\n",
       "1757  Negative Comments  Service and Parts   \n",
       "857   Negative Comments  Service and Parts   \n",
       "\n",
       "                          Contact Details 1      Product Component 1  \\\n",
       "1757  General Service [Handling & Attitude]       Poor Communication   \n",
       "857   General Service [Handling & Attitude]  Staff are not courteous   \n",
       "\n",
       "      Product Phenomenon 1 Request 1              Action 1 No Assistance 1  \n",
       "1757                   NaN   Apology  Explanation, apology           Other  \n",
       "857                    NaN   Apology  Explanation, apology           Other  "
      ]
     },
     "execution_count": 159,
     "metadata": {},
     "output_type": "execute_result"
    }
   ],
   "source": [
    "complaint1 = cd.iloc[:,5:13]\n",
    "print(complaint1.info())\n",
    "complaint1.sample(2)"
   ]
  },
  {
   "cell_type": "code",
   "execution_count": 160,
   "metadata": {},
   "outputs": [
    {
     "data": {
      "text/html": [
       "<div>\n",
       "<style scoped>\n",
       "    .dataframe tbody tr th:only-of-type {\n",
       "        vertical-align: middle;\n",
       "    }\n",
       "\n",
       "    .dataframe tbody tr th {\n",
       "        vertical-align: top;\n",
       "    }\n",
       "\n",
       "    .dataframe thead th {\n",
       "        text-align: right;\n",
       "    }\n",
       "</style>\n",
       "<table border=\"1\" class=\"dataframe\">\n",
       "  <thead>\n",
       "    <tr style=\"text-align: right;\">\n",
       "      <th></th>\n",
       "      <th>Model</th>\n",
       "      <th>Complaint Related To</th>\n",
       "      <th>Complaint Type</th>\n",
       "      <th>Complaint Source</th>\n",
       "      <th>Complaint Mode</th>\n",
       "      <th>Category 1</th>\n",
       "      <th>Area 1</th>\n",
       "      <th>Contact Details 1</th>\n",
       "      <th>Product Component 1</th>\n",
       "      <th>Product Phenomenon 1</th>\n",
       "      <th>Request 1</th>\n",
       "      <th>Action 1</th>\n",
       "      <th>No Assistance 1</th>\n",
       "      <th>Resolution Days</th>\n",
       "    </tr>\n",
       "  </thead>\n",
       "  <tbody>\n",
       "    <tr>\n",
       "      <th>2948</th>\n",
       "      <td>model1</td>\n",
       "      <td>Service</td>\n",
       "      <td>Normal</td>\n",
       "      <td>Dealer</td>\n",
       "      <td>PSF Service</td>\n",
       "      <td>Negative Comments</td>\n",
       "      <td>Service and Parts</td>\n",
       "      <td>General Service [Washing Quality]</td>\n",
       "      <td>Poor Washing &amp; Cleaning (Interior &amp; Exterior)</td>\n",
       "      <td>NaN</td>\n",
       "      <td>Complete repair</td>\n",
       "      <td>Explanation, apology</td>\n",
       "      <td>Other</td>\n",
       "      <td>8.97</td>\n",
       "    </tr>\n",
       "  </tbody>\n",
       "</table>\n",
       "</div>"
      ],
      "text/plain": [
       "       Model Complaint Related To Complaint Type Complaint Source  \\\n",
       "2948  model1              Service         Normal           Dealer   \n",
       "\n",
       "     Complaint Mode         Category 1             Area 1  \\\n",
       "2948    PSF Service  Negative Comments  Service and Parts   \n",
       "\n",
       "                      Contact Details 1  \\\n",
       "2948  General Service [Washing Quality]   \n",
       "\n",
       "                                Product Component 1  Product Phenomenon 1  \\\n",
       "2948  Poor Washing & Cleaning (Interior & Exterior)                   NaN   \n",
       "\n",
       "            Request 1              Action 1 No Assistance 1  Resolution Days  \n",
       "2948  Complete repair  Explanation, apology           Other             8.97  "
      ]
     },
     "execution_count": 160,
     "metadata": {},
     "output_type": "execute_result"
    }
   ],
   "source": [
    "complaint1 = pd.concat([cd_info,complaint1,cd_info1],axis=1)\n",
    "complaint1.sample()"
   ]
  },
  {
   "cell_type": "code",
   "execution_count": 161,
   "metadata": {},
   "outputs": [
    {
     "name": "stdout",
     "output_type": "stream",
     "text": [
      "<class 'pandas.core.frame.DataFrame'>\n",
      "RangeIndex: 4150 entries, 0 to 4149\n",
      "Data columns (total 14 columns):\n",
      "Model                    4150 non-null object\n",
      "Complaint Related To     4150 non-null object\n",
      "Complaint Type           4150 non-null object\n",
      "Complaint Source         4150 non-null object\n",
      "Complaint Mode           4150 non-null object\n",
      "Category 1               4150 non-null object\n",
      "Area 1                   4150 non-null object\n",
      "Contact Details 1        4150 non-null object\n",
      "Product Component 1      4150 non-null object\n",
      " Product Phenomenon 1    888 non-null object\n",
      "Request 1                4150 non-null object\n",
      "Action 1                 4090 non-null object\n",
      "No Assistance 1          4090 non-null object\n",
      "Resolution Days          4150 non-null float64\n",
      "dtypes: float64(1), object(13)\n",
      "memory usage: 454.0+ KB\n"
     ]
    }
   ],
   "source": [
    "complaint1.info()"
   ]
  },
  {
   "cell_type": "code",
   "execution_count": 162,
   "metadata": {},
   "outputs": [
    {
     "data": {
      "text/plain": [
       "Model                       0\n",
       "Complaint Related To        0\n",
       "Complaint Type              0\n",
       "Complaint Source            0\n",
       "Complaint Mode              0\n",
       "Category 1                  0\n",
       "Area 1                      0\n",
       "Contact Details 1           0\n",
       "Product Component 1         0\n",
       " Product Phenomenon 1    3262\n",
       "Request 1                   0\n",
       "Action 1                   60\n",
       "No Assistance 1            60\n",
       "Resolution Days             0\n",
       "dtype: int64"
      ]
     },
     "execution_count": 162,
     "metadata": {},
     "output_type": "execute_result"
    }
   ],
   "source": [
    "complaint1.isnull().sum()"
   ]
  },
  {
   "cell_type": "code",
   "execution_count": 163,
   "metadata": {},
   "outputs": [
    {
     "data": {
      "application/vnd.plotly.v1+json": {
       "config": {
        "plotlyServerURL": "https://plot.ly"
       },
       "data": [
        {
         "alignmentgroup": "True",
         "bingroup": "x",
         "hoverlabel": {
          "namelength": 0
         },
         "hovertemplate": "x=%{x}<br>count=%{y}",
         "legendgroup": "",
         "marker": {
          "color": "#636efa"
         },
         "name": "",
         "offsetgroup": "",
         "orientation": "v",
         "showlegend": false,
         "type": "histogram",
         "x": [
          "Service and Parts",
          "Service and Parts",
          "Service and Parts",
          "Service and Parts",
          "Sales",
          "Product",
          "Product",
          "Service and Parts",
          "Service and Parts",
          "Product",
          "Service and Parts",
          "Sales",
          "Service and Parts",
          "Service and Parts",
          "Service and Parts",
          "Service and Parts",
          "Sales",
          "Service and Parts",
          "Service and Parts",
          "Service and Parts",
          "Service and Parts",
          "Product",
          "Service and Parts",
          "Service and Parts",
          "Service and Parts",
          "Service and Parts",
          "Product",
          "Product",
          "Service and Parts",
          "Product",
          "Sales",
          "Service and Parts",
          "Service and Parts",
          "Sales",
          "Service and Parts",
          "Product",
          "Sales",
          "Sales",
          "Service and Parts",
          "Service and Parts",
          "Sales",
          "Product",
          "Service and Parts",
          "Service and Parts",
          "Service and Parts",
          "Service and Parts",
          "Product",
          "Sales",
          "Service and Parts",
          "Service and Parts",
          "Product",
          "Service and Parts",
          "Service and Parts",
          "Service and Parts",
          "Product",
          "Product",
          "Service and Parts",
          "Service and Parts",
          "Service and Parts",
          "Service and Parts",
          "Product",
          "Product",
          "Product",
          "Product",
          "Service and Parts",
          "Service and Parts",
          "Service and Parts",
          "Service and Parts",
          "Product",
          "Service and Parts",
          "Service and Parts",
          "Service and Parts",
          "Service and Parts",
          "Service and Parts",
          "Service and Parts",
          "Service and Parts",
          "Service and Parts",
          "Service and Parts",
          "Service and Parts",
          "Product",
          "Service and Parts",
          "Product",
          "Service and Parts",
          "Service and Parts",
          "Product",
          "Product",
          "Service and Parts",
          "Service and Parts",
          "Sales",
          "Service and Parts",
          "Product",
          "Service and Parts",
          "Sales",
          "Service and Parts",
          "Sales",
          "Service and Parts",
          "Service and Parts",
          "Service and Parts",
          "Service and Parts",
          "Service and Parts",
          "Sales",
          "Service and Parts",
          "Service and Parts",
          "Service and Parts",
          "Service and Parts",
          "Product",
          "Service and Parts",
          "Sales",
          "Product",
          "Product",
          "Service and Parts",
          "Service and Parts",
          "Service and Parts",
          "Product",
          "Service and Parts",
          "Product",
          "Service and Parts",
          "Service and Parts",
          "Service and Parts",
          "Service and Parts",
          "Sales",
          "Sales",
          "Product",
          "Service and Parts",
          "Service and Parts",
          "Service and Parts",
          "Service and Parts",
          "Product",
          "Sales",
          "Service and Parts",
          "Service and Parts",
          "Service and Parts",
          "Product",
          "Product",
          "Product",
          "Product",
          "Service and Parts",
          "Service and Parts",
          "Service and Parts",
          "Service and Parts",
          "Product",
          "Service and Parts",
          "Service and Parts",
          "Sales",
          "Sales",
          "Product",
          "Service and Parts",
          "Product",
          "Service and Parts",
          "Service and Parts",
          "Service and Parts",
          "Service and Parts",
          "Service and Parts",
          "Product",
          "Service and Parts",
          "Service and Parts",
          "Sales",
          "Service and Parts",
          "Service and Parts",
          "Service and Parts",
          "Service and Parts",
          "Product",
          "Product",
          "Service and Parts",
          "Sales",
          "Product",
          "Service and Parts",
          "Product",
          "Service and Parts",
          "Service and Parts",
          "Product",
          "Product",
          "Service and Parts",
          "Service and Parts",
          "Product",
          "Service and Parts",
          "Service and Parts",
          "Service and Parts",
          "Service and Parts",
          "Service and Parts",
          "Service and Parts",
          "Service and Parts",
          "Product",
          "Service and Parts",
          "Service and Parts",
          "Sales",
          "Service and Parts",
          "Service and Parts",
          "Service and Parts",
          "Sales",
          "Service and Parts",
          "Service and Parts",
          "Product",
          "Sales",
          "Product",
          "Service and Parts",
          "Service and Parts",
          "Product",
          "Service and Parts",
          "Sales",
          "Service and Parts",
          "Service and Parts",
          "Product",
          "Sales",
          "Product",
          "Service and Parts",
          "Service and Parts",
          "Product",
          "Sales",
          "Service and Parts",
          "Product",
          "Service and Parts",
          "Product",
          "Service and Parts",
          "Service and Parts",
          "Service and Parts",
          "Service and Parts",
          "Sales",
          "Product",
          "Product",
          "Product",
          "Service and Parts",
          "Service and Parts",
          "Service and Parts",
          "Service and Parts",
          "Service and Parts",
          "Service and Parts",
          "Service and Parts",
          "Service and Parts",
          "Product",
          "Service and Parts",
          "Product",
          "Service and Parts",
          "Product",
          "Product",
          "Sales",
          "Service and Parts",
          "Service and Parts",
          "Service and Parts",
          "Service and Parts",
          "Service and Parts",
          "Sales",
          "Service and Parts",
          "Service and Parts",
          "Service and Parts",
          "Product",
          "Product",
          "Product",
          "Service and Parts",
          "Service and Parts",
          "Service and Parts",
          "Service and Parts",
          "Sales",
          "Service and Parts",
          "Service and Parts",
          "Service and Parts",
          "Service and Parts",
          "Service and Parts",
          "Service and Parts",
          "Product",
          "Service and Parts",
          "Service and Parts",
          "Service and Parts",
          "Service and Parts",
          "Service and Parts",
          "Service and Parts",
          "Product",
          "Service and Parts",
          "Product",
          "Service and Parts",
          "Service and Parts",
          "Service and Parts",
          "Service and Parts",
          "Service and Parts",
          "Service and Parts",
          "Service and Parts",
          "Service and Parts",
          "Service and Parts",
          "Service and Parts",
          "Product",
          "Service and Parts",
          "Product",
          "Service and Parts",
          "Product",
          "Service and Parts",
          "Service and Parts",
          "Service and Parts",
          "Service and Parts",
          "Service and Parts",
          "Service and Parts",
          "Service and Parts",
          "Service and Parts",
          "Service and Parts",
          "Product",
          "Service and Parts",
          "Service and Parts",
          "Service and Parts",
          "Sales",
          "Service and Parts",
          "Service and Parts",
          "Service and Parts",
          "Service and Parts",
          "Service and Parts",
          "Service and Parts",
          "Service and Parts",
          "Service and Parts",
          "Service and Parts",
          "Service and Parts",
          "Service and Parts",
          "Service and Parts",
          "Sales",
          "Product",
          "Service and Parts",
          "Service and Parts",
          "Service and Parts",
          "Sales",
          "Service and Parts",
          "Service and Parts",
          "Service and Parts",
          "Service and Parts",
          "Product",
          "Service and Parts",
          "Sales",
          "Service and Parts",
          "Service and Parts",
          "Service and Parts",
          "Product",
          "Service and Parts",
          "Service and Parts",
          "Service and Parts",
          "Service and Parts",
          "Service and Parts",
          "Service and Parts",
          "Service and Parts",
          "Service and Parts",
          "Service and Parts",
          "Service and Parts",
          "Service and Parts",
          "Sales",
          "Service and Parts",
          "Service and Parts",
          "Service and Parts",
          "Service and Parts",
          "Product",
          "Sales",
          "Sales",
          "Service and Parts",
          "Service and Parts",
          "Sales",
          "Service and Parts",
          "Service and Parts",
          "Product",
          "Sales",
          "Service and Parts",
          "Service and Parts",
          "Service and Parts",
          "Service and Parts",
          "Service and Parts",
          "Service and Parts",
          "Service and Parts",
          "Service and Parts",
          "Service and Parts",
          "Service and Parts",
          "Sales",
          "Product",
          "Service and Parts",
          "Service and Parts",
          "Product",
          "Sales",
          "Product",
          "Sales",
          "Service and Parts",
          "Sales",
          "Product",
          "Sales",
          "Product",
          "Service and Parts",
          "Service and Parts",
          "Sales",
          "Service and Parts",
          "Product",
          "Service and Parts",
          "Sales",
          "Sales",
          "Product",
          "Service and Parts",
          "Sales",
          "Sales",
          "Service and Parts",
          "Product",
          "Sales",
          "Service and Parts",
          "Product",
          "Service and Parts",
          "Service and Parts",
          "Product",
          "Service and Parts",
          "Service and Parts",
          "Sales",
          "Service and Parts",
          "Product",
          "Service and Parts",
          "Service and Parts",
          "Service and Parts",
          "Service and Parts",
          "Product",
          "Product",
          "Service and Parts",
          "Service and Parts",
          "Service and Parts",
          "Service and Parts",
          "Service and Parts",
          "Sales",
          "Service and Parts",
          "Service and Parts",
          "Service and Parts",
          "Service and Parts",
          "Service and Parts",
          "Service and Parts",
          "Service and Parts",
          "Service and Parts",
          "Service and Parts",
          "Product",
          "Product",
          "Product",
          "Service and Parts",
          "Product",
          "Product",
          "Service and Parts",
          "Service and Parts",
          "Service and Parts",
          "Service and Parts",
          "Service and Parts",
          "Service and Parts",
          "Service and Parts",
          "Product",
          "Service and Parts",
          "Service and Parts",
          "Service and Parts",
          "Service and Parts",
          "Product",
          "Sales",
          "Service and Parts",
          "Product",
          "Service and Parts",
          "Service and Parts",
          "Service and Parts",
          "Service and Parts",
          "Service and Parts",
          "Sales",
          "Product",
          "Service and Parts",
          "Product",
          "Service and Parts",
          "Service and Parts",
          "Service and Parts",
          "Service and Parts",
          "Service and Parts",
          "Service and Parts",
          "Service and Parts",
          "Service and Parts",
          "Service and Parts",
          "Service and Parts",
          "Sales",
          "Service and Parts",
          "Service and Parts",
          "Service and Parts",
          "Service and Parts",
          "Service and Parts",
          "Product",
          "Service and Parts",
          "Service and Parts",
          "Service and Parts",
          "Service and Parts",
          "Product",
          "Service and Parts",
          "Service and Parts",
          "Product",
          "Service and Parts",
          "Service and Parts",
          "Service and Parts",
          "Service and Parts",
          "Service and Parts",
          "Service and Parts",
          "Service and Parts",
          "Product",
          "Service and Parts",
          "Service and Parts",
          "Product",
          "Service and Parts",
          "Service and Parts",
          "Service and Parts",
          "Service and Parts",
          "Service and Parts",
          "Service and Parts",
          "Service and Parts",
          "Service and Parts",
          "Service and Parts",
          "Service and Parts",
          "Sales",
          "Service and Parts",
          "Sales",
          "Service and Parts",
          "Sales",
          "Sales",
          "Product",
          "Service and Parts",
          "Sales",
          "Sales",
          "Service and Parts",
          "Product",
          "Service and Parts",
          "Sales",
          "Service and Parts",
          "Service and Parts",
          "Service and Parts",
          "Sales",
          "Service and Parts",
          "Service and Parts",
          "Service and Parts",
          "Product",
          "Service and Parts",
          "Service and Parts",
          "Product",
          "Service and Parts",
          "Service and Parts",
          "Service and Parts",
          "Service and Parts",
          "Service and Parts",
          "Service and Parts",
          "Service and Parts",
          "Sales",
          "Sales",
          "Sales",
          "Sales",
          "Service and Parts",
          "Service and Parts",
          "Service and Parts",
          "Service and Parts",
          "Service and Parts",
          "Service and Parts",
          "Product",
          "Service and Parts",
          "Product",
          "Service and Parts",
          "Service and Parts",
          "Service and Parts",
          "Service and Parts",
          "Sales",
          "Service and Parts",
          "Product",
          "Service and Parts",
          "Product",
          "Service and Parts",
          "Sales",
          "Service and Parts",
          "Service and Parts",
          "Service and Parts",
          "Service and Parts",
          "Service and Parts",
          "Product",
          "Service and Parts",
          "Product",
          "Service and Parts",
          "Service and Parts",
          "Product",
          "Service and Parts",
          "Sales",
          "Service and Parts",
          "Service and Parts",
          "Product",
          "Service and Parts",
          "Service and Parts",
          "Sales",
          "Service and Parts",
          "Service and Parts",
          "Service and Parts",
          "Service and Parts",
          "Service and Parts",
          "Service and Parts",
          "Sales",
          "Service and Parts",
          "Product",
          "Service and Parts",
          "Service and Parts",
          "Service and Parts",
          "Service and Parts",
          "Service and Parts",
          "Service and Parts",
          "Service and Parts",
          "Service and Parts",
          "Service and Parts",
          "Service and Parts",
          "Product",
          "Product",
          "Product",
          "Service and Parts",
          "Service and Parts",
          "Product",
          "Service and Parts",
          "Service and Parts",
          "Product",
          "Product",
          "Service and Parts",
          "Service and Parts",
          "Sales",
          "Service and Parts",
          "Service and Parts",
          "Product",
          "Service and Parts",
          "Service and Parts",
          "Service and Parts",
          "Service and Parts",
          "Service and Parts",
          "Service and Parts",
          "Product",
          "Service and Parts",
          "Service and Parts",
          "Service and Parts",
          "Service and Parts",
          "Service and Parts",
          "Sales",
          "Service and Parts",
          "Product",
          "Service and Parts",
          "Service and Parts",
          "Service and Parts",
          "Service and Parts",
          "Sales",
          "Product",
          "Service and Parts",
          "Service and Parts",
          "Service and Parts",
          "Sales",
          "Service and Parts",
          "Service and Parts",
          "Service and Parts",
          "Sales",
          "Service and Parts",
          "Service and Parts",
          "Service and Parts",
          "Service and Parts",
          "Service and Parts",
          "Sales",
          "Product",
          "Service and Parts",
          "Service and Parts",
          "Product",
          "Service and Parts",
          "Service and Parts",
          "Sales",
          "Service and Parts",
          "Service and Parts",
          "Service and Parts",
          "Service and Parts",
          "Product",
          "Service and Parts",
          "Service and Parts",
          "Service and Parts",
          "Service and Parts",
          "Service and Parts",
          "Service and Parts",
          "Service and Parts",
          "Service and Parts",
          "Product",
          "Service and Parts",
          "Product",
          "Sales",
          "Product",
          "Service and Parts",
          "Service and Parts",
          "Product",
          "Service and Parts",
          "Service and Parts",
          "Product",
          "Product",
          "Sales",
          "Product",
          "Product",
          "Service and Parts",
          "Sales",
          "Product",
          "Product",
          "Service and Parts",
          "Service and Parts",
          "Service and Parts",
          "Service and Parts",
          "Service and Parts",
          "Service and Parts",
          "Service and Parts",
          "Service and Parts",
          "Product",
          "Service and Parts",
          "Service and Parts",
          "Service and Parts",
          "Service and Parts",
          "Service and Parts",
          "Service and Parts",
          "Service and Parts",
          "Service and Parts",
          "Service and Parts",
          "Service and Parts",
          "Service and Parts",
          "Service and Parts",
          "Service and Parts",
          "Product",
          "Service and Parts",
          "Service and Parts",
          "Product",
          "Service and Parts",
          "Sales",
          "Service and Parts",
          "Service and Parts",
          "Service and Parts",
          "Service and Parts",
          "Product",
          "Service and Parts",
          "Service and Parts",
          "Service and Parts",
          "Service and Parts",
          "Service and Parts",
          "Service and Parts",
          "Product",
          "Service and Parts",
          "Product",
          "Service and Parts",
          "Service and Parts",
          "Service and Parts",
          "Service and Parts",
          "Product",
          "Service and Parts",
          "Service and Parts",
          "Sales",
          "Service and Parts",
          "Service and Parts",
          "Service and Parts",
          "Sales",
          "Service and Parts",
          "Service and Parts",
          "Service and Parts",
          "Service and Parts",
          "Sales",
          "Service and Parts",
          "Service and Parts",
          "Service and Parts",
          "Service and Parts",
          "Product",
          "Service and Parts",
          "Service and Parts",
          "Service and Parts",
          "Service and Parts",
          "Service and Parts",
          "Service and Parts",
          "Sales",
          "Service and Parts",
          "Service and Parts",
          "Product",
          "Product",
          "Service and Parts",
          "Product",
          "Product",
          "Service and Parts",
          "Product",
          "Service and Parts",
          "Service and Parts",
          "Product",
          "Sales",
          "Service and Parts",
          "Service and Parts",
          "Service and Parts",
          "Service and Parts",
          "Service and Parts",
          "Service and Parts",
          "Service and Parts",
          "Service and Parts",
          "Service and Parts",
          "Service and Parts",
          "Service and Parts",
          "Service and Parts",
          "Sales",
          "Service and Parts",
          "Service and Parts",
          "Service and Parts",
          "Service and Parts",
          "Product",
          "Service and Parts",
          "Service and Parts",
          "Product",
          "Service and Parts",
          "Service and Parts",
          "Service and Parts",
          "Service and Parts",
          "Service and Parts",
          "Service and Parts",
          "Sales",
          "Service and Parts",
          "Product",
          "Service and Parts",
          "Service and Parts",
          "Sales",
          "Service and Parts",
          "Service and Parts",
          "Service and Parts",
          "Service and Parts",
          "Service and Parts",
          "Service and Parts",
          "Product",
          "Service and Parts",
          "Service and Parts",
          "Service and Parts",
          "Service and Parts",
          "Service and Parts",
          "Service and Parts",
          "Sales",
          "Service and Parts",
          "Service and Parts",
          "Product",
          "Service and Parts",
          "Service and Parts",
          "Service and Parts",
          "Product",
          "Service and Parts",
          "Service and Parts",
          "Service and Parts",
          "Service and Parts",
          "Product",
          "Service and Parts",
          "Sales",
          "Service and Parts",
          "Product",
          "Service and Parts",
          "Service and Parts",
          "Service and Parts",
          "Service and Parts",
          "Service and Parts",
          "Product",
          "Service and Parts",
          "Service and Parts",
          "Product",
          "Product",
          "Service and Parts",
          "Service and Parts",
          "Service and Parts",
          "Service and Parts",
          "Product",
          "Sales",
          "Service and Parts",
          "Service and Parts",
          "Service and Parts",
          "Service and Parts",
          "Sales",
          "Service and Parts",
          "Service and Parts",
          "Service and Parts",
          "Service and Parts",
          "Service and Parts",
          "Service and Parts",
          "Service and Parts",
          "Product",
          "Service and Parts",
          "Service and Parts",
          "Sales",
          "Service and Parts",
          "Service and Parts",
          "Service and Parts",
          "Service and Parts",
          "Service and Parts",
          "Service and Parts",
          "Service and Parts",
          "Service and Parts",
          "Service and Parts",
          "Service and Parts",
          "Service and Parts",
          "Service and Parts",
          "Service and Parts",
          "Product",
          "Service and Parts",
          "Service and Parts",
          "Service and Parts",
          "Service and Parts",
          "Service and Parts",
          "Product",
          "Service and Parts",
          "Service and Parts",
          "Service and Parts",
          "Service and Parts",
          "Service and Parts",
          "Service and Parts",
          "Service and Parts",
          "Service and Parts",
          "Product",
          "Service and Parts",
          "Service and Parts",
          "Service and Parts",
          "Service and Parts",
          "Service and Parts",
          "Service and Parts",
          "Product",
          "Service and Parts",
          "Service and Parts",
          "Service and Parts",
          "Service and Parts",
          "Service and Parts",
          "Service and Parts",
          "Service and Parts",
          "Service and Parts",
          "Service and Parts",
          "Service and Parts",
          "Sales",
          "Service and Parts",
          "Service and Parts",
          "Service and Parts",
          "Service and Parts",
          "Service and Parts",
          "Service and Parts",
          "Service and Parts",
          "Product",
          "Service and Parts",
          "Sales",
          "Service and Parts",
          "Service and Parts",
          "Service and Parts",
          "Service and Parts",
          "Product",
          "Service and Parts",
          "Service and Parts",
          "Service and Parts",
          "Service and Parts",
          "Service and Parts",
          "Service and Parts",
          "Service and Parts",
          "Service and Parts",
          "Service and Parts",
          "Service and Parts",
          "Service and Parts",
          "Product",
          "Service and Parts",
          "Product",
          "Service and Parts",
          "Service and Parts",
          "Service and Parts",
          "Product",
          "Service and Parts",
          "Sales",
          "Service and Parts",
          "Service and Parts",
          "Product",
          "Service and Parts",
          "Service and Parts",
          "Service and Parts",
          "Service and Parts",
          "Service and Parts",
          "Service and Parts",
          "Service and Parts",
          "Sales",
          "Service and Parts",
          "Service and Parts",
          "Service and Parts",
          "Product",
          "Service and Parts",
          "Service and Parts",
          "Service and Parts",
          "Service and Parts",
          "Service and Parts",
          "Service and Parts",
          "Service and Parts",
          "Sales",
          "Sales",
          "Sales",
          "Service and Parts",
          "Service and Parts",
          "Service and Parts",
          "Product",
          "Product",
          "Service and Parts",
          "Service and Parts",
          "Service and Parts",
          "Service and Parts",
          "Service and Parts",
          "Product",
          "Product",
          "Product",
          "Service and Parts",
          "Product",
          "Service and Parts",
          "Service and Parts",
          "Service and Parts",
          "Service and Parts",
          "Service and Parts",
          "Service and Parts",
          "Service and Parts",
          "Service and Parts",
          "Service and Parts",
          "Service and Parts",
          "Service and Parts",
          "Sales",
          "Service and Parts",
          "Service and Parts",
          "Sales",
          "Service and Parts",
          "Service and Parts",
          "Service and Parts",
          "Service and Parts",
          "Service and Parts",
          "Product",
          "Service and Parts",
          "Sales",
          "Service and Parts",
          "Service and Parts",
          "Sales",
          "Service and Parts",
          "Product",
          "Product",
          "Service and Parts",
          "Service and Parts",
          "Service and Parts",
          "Service and Parts",
          "Service and Parts",
          "Service and Parts",
          "Service and Parts",
          "Service and Parts",
          "Product",
          "Service and Parts",
          "Product",
          "Service and Parts",
          "Service and Parts",
          "Service and Parts",
          "Service and Parts",
          "Service and Parts",
          "Service and Parts",
          "Service and Parts",
          "Service and Parts",
          "Service and Parts",
          "Service and Parts",
          "Service and Parts",
          "Service and Parts",
          "Service and Parts",
          "Product",
          "Sales",
          "Product",
          "Service and Parts",
          "Service and Parts",
          "Product",
          "Service and Parts",
          "Product",
          "Service and Parts",
          "Service and Parts",
          "Sales",
          "Service and Parts",
          "Sales",
          "Service and Parts",
          "Service and Parts",
          "Service and Parts",
          "Product",
          "Product",
          "Service and Parts",
          "Service and Parts",
          "Service and Parts",
          "Service and Parts",
          "Service and Parts",
          "Product",
          "Service and Parts",
          "Sales",
          "Service and Parts",
          "Service and Parts",
          "Service and Parts",
          "Service and Parts",
          "Product",
          "Service and Parts",
          "Service and Parts",
          "Service and Parts",
          "Service and Parts",
          "Service and Parts",
          "Product",
          "Sales",
          "Product",
          "Product",
          "Product",
          "Sales",
          "Product",
          "Sales",
          "Service and Parts",
          "Service and Parts",
          "Service and Parts",
          "Service and Parts",
          "Sales",
          "Service and Parts",
          "Product",
          "Service and Parts",
          "Service and Parts",
          "Service and Parts",
          "Service and Parts",
          "Service and Parts",
          "Sales",
          "Service and Parts",
          "Service and Parts",
          "Product",
          "Service and Parts",
          "Product",
          "Service and Parts",
          "Service and Parts",
          "Service and Parts",
          "Service and Parts",
          "Service and Parts",
          "Service and Parts",
          "Service and Parts",
          "Product",
          "Service and Parts",
          "Service and Parts",
          "Product",
          "Service and Parts",
          "Service and Parts",
          "Service and Parts",
          "Service and Parts",
          "Service and Parts",
          "Sales",
          "Service and Parts",
          "Service and Parts",
          "Service and Parts",
          "Service and Parts",
          "Product",
          "Sales",
          "Service and Parts",
          "Product",
          "Service and Parts",
          "Service and Parts",
          "Service and Parts",
          "Service and Parts",
          "Sales",
          "Service and Parts",
          "Product",
          "Service and Parts",
          "Service and Parts",
          "Service and Parts",
          "Service and Parts",
          "Service and Parts",
          "Sales",
          "Service and Parts",
          "Product",
          "Product",
          "Service and Parts",
          "Product",
          "Service and Parts",
          "Product",
          "Service and Parts",
          "Product",
          "Product",
          "Service and Parts",
          "Service and Parts",
          "Service and Parts",
          "Service and Parts",
          "Service and Parts",
          "Product",
          "Product",
          "Service and Parts",
          "Service and Parts",
          "Service and Parts",
          "Service and Parts",
          "Sales",
          "Service and Parts",
          "Service and Parts",
          "Product",
          "Service and Parts",
          "Service and Parts",
          "Service and Parts",
          "Service and Parts",
          "Product",
          "Service and Parts",
          "Service and Parts",
          "Product",
          "Service and Parts",
          "Service and Parts",
          "Service and Parts",
          "Service and Parts",
          "Service and Parts",
          "Product",
          "Service and Parts",
          "Service and Parts",
          "Service and Parts",
          "Service and Parts",
          "Product",
          "Service and Parts",
          "Service and Parts",
          "Product",
          "Service and Parts",
          "Service and Parts",
          "Service and Parts",
          "Service and Parts",
          "Service and Parts",
          "Service and Parts",
          "Service and Parts",
          "Service and Parts",
          "Service and Parts",
          "Service and Parts",
          "Sales",
          "Product",
          "Service and Parts",
          "Service and Parts",
          "Service and Parts",
          "Product",
          "Service and Parts",
          "Service and Parts",
          "Sales",
          "Service and Parts",
          "Service and Parts",
          "Product",
          "Service and Parts",
          "Service and Parts",
          "Service and Parts",
          "Service and Parts",
          "Service and Parts",
          "Service and Parts",
          "Service and Parts",
          "Service and Parts",
          "Service and Parts",
          "Sales",
          "Service and Parts",
          "Service and Parts",
          "Service and Parts",
          "Service and Parts",
          "Product",
          "Service and Parts",
          "Service and Parts",
          "Product",
          "Product",
          "Service and Parts",
          "Service and Parts",
          "Service and Parts",
          "Service and Parts",
          "Service and Parts",
          "Product",
          "Service and Parts",
          "Product",
          "Service and Parts",
          "Service and Parts",
          "Product",
          "Product",
          "Service and Parts",
          "Service and Parts",
          "Service and Parts",
          "Service and Parts",
          "Service and Parts",
          "Service and Parts",
          "Service and Parts",
          "Service and Parts",
          "Service and Parts",
          "Sales",
          "Service and Parts",
          "Service and Parts",
          "Product",
          "Service and Parts",
          "Sales",
          "Service and Parts",
          "Service and Parts",
          "Service and Parts",
          "Service and Parts",
          "Service and Parts",
          "Sales",
          "Service and Parts",
          "Product",
          "Service and Parts",
          "Product",
          "Service and Parts",
          "Product",
          "Product",
          "Service and Parts",
          "Product",
          "Service and Parts",
          "Service and Parts",
          "Product",
          "Service and Parts",
          "Service and Parts",
          "Service and Parts",
          "Product",
          "Product",
          "Service and Parts",
          "Service and Parts",
          "Service and Parts",
          "Service and Parts",
          "Service and Parts",
          "Service and Parts",
          "Product",
          "Product",
          "Product",
          "Service and Parts",
          "Service and Parts",
          "Product",
          "Service and Parts",
          "Service and Parts",
          "Service and Parts",
          "Service and Parts",
          "Service and Parts",
          "Service and Parts",
          "Service and Parts",
          "Service and Parts",
          "Service and Parts",
          "Sales",
          "Product",
          "Service and Parts",
          "Service and Parts",
          "Service and Parts",
          "Service and Parts",
          "Service and Parts",
          "Service and Parts",
          "Service and Parts",
          "Service and Parts",
          "Service and Parts",
          "Product",
          "Service and Parts",
          "Product",
          "Product",
          "Service and Parts",
          "Product",
          "Service and Parts",
          "Sales",
          "Service and Parts",
          "Service and Parts",
          "Product",
          "Service and Parts",
          "Service and Parts",
          "Service and Parts",
          "Product",
          "Service and Parts",
          "Service and Parts",
          "Service and Parts",
          "Sales",
          "Service and Parts",
          "Service and Parts",
          "Service and Parts",
          "Service and Parts",
          "Service and Parts",
          "Service and Parts",
          "Product",
          "Service and Parts",
          "Service and Parts",
          "Product",
          "Product",
          "Service and Parts",
          "Service and Parts",
          "Service and Parts",
          "Service and Parts",
          "Service and Parts",
          "Service and Parts",
          "Service and Parts",
          "Product",
          "Service and Parts",
          "Service and Parts",
          "Service and Parts",
          "Service and Parts",
          "Product",
          "Service and Parts",
          "Service and Parts",
          "Product",
          "Service and Parts",
          "Sales",
          "Service and Parts",
          "Sales",
          "Product",
          "Service and Parts",
          "Service and Parts",
          "Service and Parts",
          "Service and Parts",
          "Product",
          "Product",
          "Sales",
          "Service and Parts",
          "Service and Parts",
          "Service and Parts",
          "Service and Parts",
          "Product",
          "Service and Parts",
          "Service and Parts",
          "Service and Parts",
          "Product",
          "Service and Parts",
          "Product",
          "Service and Parts",
          "Service and Parts",
          "Service and Parts",
          "Service and Parts",
          "Service and Parts",
          "Service and Parts",
          "Service and Parts",
          "Service and Parts",
          "Product",
          "Service and Parts",
          "Service and Parts",
          "Service and Parts",
          "Service and Parts",
          "Service and Parts",
          "Service and Parts",
          "Product",
          "Service and Parts",
          "Product",
          "Sales",
          "Service and Parts",
          "Service and Parts",
          "Service and Parts",
          "Sales",
          "Service and Parts",
          "Service and Parts",
          "Service and Parts",
          "Service and Parts",
          "Service and Parts",
          "Service and Parts",
          "Service and Parts",
          "Product",
          "Service and Parts",
          "Service and Parts",
          "Service and Parts",
          "Product",
          "Service and Parts",
          "Product",
          "Service and Parts",
          "Product",
          "Service and Parts",
          "Service and Parts",
          "Product",
          "Product",
          "Service and Parts",
          "Service and Parts",
          "Service and Parts",
          "Service and Parts",
          "Product",
          "Service and Parts",
          "Sales",
          "Sales",
          "Service and Parts",
          "Service and Parts",
          "Service and Parts",
          "Service and Parts",
          "Sales",
          "Service and Parts",
          "Service and Parts",
          "Sales",
          "Service and Parts",
          "Service and Parts",
          "Service and Parts",
          "Service and Parts",
          "Sales",
          "Service and Parts",
          "Service and Parts",
          "Service and Parts",
          "Service and Parts",
          "Service and Parts",
          "Service and Parts",
          "Service and Parts",
          "Sales",
          "Service and Parts",
          "Service and Parts",
          "Service and Parts",
          "Service and Parts",
          "Service and Parts",
          "Product",
          "Service and Parts",
          "Product",
          "Product",
          "Service and Parts",
          "Service and Parts",
          "Service and Parts",
          "Service and Parts",
          "Service and Parts",
          "Product",
          "Service and Parts",
          "Product",
          "Service and Parts",
          "Product",
          "Service and Parts",
          "Service and Parts",
          "Service and Parts",
          "Service and Parts",
          "Service and Parts",
          "Service and Parts",
          "Service and Parts",
          "Product",
          "Service and Parts",
          "Service and Parts",
          "Service and Parts",
          "Product",
          "Service and Parts",
          "Service and Parts",
          "Product",
          "Product",
          "Sales",
          "Service and Parts",
          "Sales",
          "Service and Parts",
          "Service and Parts",
          "Service and Parts",
          "Service and Parts",
          "Service and Parts",
          "Product",
          "Service and Parts",
          "Service and Parts",
          "Product",
          "Service and Parts",
          "Service and Parts",
          "Service and Parts",
          "Service and Parts",
          "Product",
          "Service and Parts",
          "Service and Parts",
          "Service and Parts",
          "Service and Parts",
          "Service and Parts",
          "Service and Parts",
          "Service and Parts",
          "Service and Parts",
          "Service and Parts",
          "Service and Parts",
          "Sales",
          "Service and Parts",
          "Product",
          "Service and Parts",
          "Service and Parts",
          "Service and Parts",
          "Service and Parts",
          "Service and Parts",
          "Service and Parts",
          "Service and Parts",
          "Service and Parts",
          "Service and Parts",
          "Service and Parts",
          "Service and Parts",
          "Product",
          "Sales",
          "Product",
          "Service and Parts",
          "Service and Parts",
          "Service and Parts",
          "Service and Parts",
          "Service and Parts",
          "Service and Parts",
          "Service and Parts",
          "Product",
          "Service and Parts",
          "Service and Parts",
          "Service and Parts",
          "Service and Parts",
          "Service and Parts",
          "Sales",
          "Product",
          "Service and Parts",
          "Service and Parts",
          "Service and Parts",
          "Service and Parts",
          "Service and Parts",
          "Service and Parts",
          "Product",
          "Product",
          "Product",
          "Service and Parts",
          "Service and Parts",
          "Service and Parts",
          "Service and Parts",
          "Service and Parts",
          "Service and Parts",
          "Service and Parts",
          "Service and Parts",
          "Service and Parts",
          "Service and Parts",
          "Sales",
          "Service and Parts",
          "Service and Parts",
          "Service and Parts",
          "Service and Parts",
          "Service and Parts",
          "Service and Parts",
          "Sales",
          "Service and Parts",
          "Service and Parts",
          "Product",
          "Product",
          "Product",
          "Service and Parts",
          "Service and Parts",
          "Service and Parts",
          "Service and Parts",
          "Service and Parts",
          "Sales",
          "Service and Parts",
          "Product",
          "Service and Parts",
          "Sales",
          "Service and Parts",
          "Product",
          "Service and Parts",
          "Service and Parts",
          "Product",
          "Sales",
          "Sales",
          "Service and Parts",
          "Service and Parts",
          "Service and Parts",
          "Service and Parts",
          "Product",
          "Service and Parts",
          "Service and Parts",
          "Service and Parts",
          "Service and Parts",
          "Service and Parts",
          "Service and Parts",
          "Service and Parts",
          "Service and Parts",
          "Service and Parts",
          "Service and Parts",
          "Service and Parts",
          "Product",
          "Sales",
          "Service and Parts",
          "Service and Parts",
          "Service and Parts",
          "Service and Parts",
          "Service and Parts",
          "Service and Parts",
          "Service and Parts",
          "Product",
          "Service and Parts",
          "Service and Parts",
          "Service and Parts",
          "Service and Parts",
          "Service and Parts",
          "Service and Parts",
          "Service and Parts",
          "Service and Parts",
          "Service and Parts",
          "Service and Parts",
          "Service and Parts",
          "Product",
          "Service and Parts",
          "Service and Parts",
          "Service and Parts",
          "Service and Parts",
          "Sales",
          "Service and Parts",
          "Service and Parts",
          "Service and Parts",
          "Service and Parts",
          "Sales",
          "Service and Parts",
          "Service and Parts",
          "Service and Parts",
          "Service and Parts",
          "Service and Parts",
          "Product",
          "Service and Parts",
          "Product",
          "Sales",
          "Service and Parts",
          "Product",
          "Service and Parts",
          "Service and Parts",
          "Service and Parts",
          "Product",
          "Product",
          "Service and Parts",
          "Service and Parts",
          "Service and Parts",
          "Service and Parts",
          "Service and Parts",
          "Service and Parts",
          "Service and Parts",
          "Product",
          "Service and Parts",
          "Service and Parts",
          "Service and Parts",
          "Service and Parts",
          "Service and Parts",
          "Service and Parts",
          "Service and Parts",
          "Product",
          "Service and Parts",
          "Service and Parts",
          "Service and Parts",
          "Service and Parts",
          "Product",
          "Service and Parts",
          "Service and Parts",
          "Product",
          "Product",
          "Sales",
          "Service and Parts",
          "Service and Parts",
          "Service and Parts",
          "Service and Parts",
          "Sales",
          "Service and Parts",
          "Service and Parts",
          "Service and Parts",
          "Product",
          "Service and Parts",
          "Product",
          "Service and Parts",
          "Service and Parts",
          "Service and Parts",
          "Service and Parts",
          "Service and Parts",
          "Sales",
          "Service and Parts",
          "Service and Parts",
          "Sales",
          "Service and Parts",
          "Service and Parts",
          "Service and Parts",
          "Product",
          "Service and Parts",
          "Product",
          "Sales",
          "Sales",
          "Product",
          "Product",
          "Product",
          "Product",
          "Service and Parts",
          "Service and Parts",
          "Service and Parts",
          "Service and Parts",
          "Sales",
          "Service and Parts",
          "Service and Parts",
          "Sales",
          "Service and Parts",
          "Service and Parts",
          "Product",
          "Service and Parts",
          "Service and Parts",
          "Product",
          "Service and Parts",
          "Product",
          "Service and Parts",
          "Service and Parts",
          "Service and Parts",
          "Service and Parts",
          "Product",
          "Service and Parts",
          "Service and Parts",
          "Service and Parts",
          "Service and Parts",
          "Product",
          "Sales",
          "Service and Parts",
          "Product",
          "Service and Parts",
          "Service and Parts",
          "Service and Parts",
          "Service and Parts",
          "Service and Parts",
          "Service and Parts",
          "Product",
          "Service and Parts",
          "Service and Parts",
          "Service and Parts",
          "Service and Parts",
          "Service and Parts",
          "Product",
          "Service and Parts",
          "Sales",
          "Service and Parts",
          "Sales",
          "Sales",
          "Product",
          "Service and Parts",
          "Sales",
          "Service and Parts",
          "Service and Parts",
          "Service and Parts",
          "Service and Parts",
          "Sales",
          "Service and Parts",
          "Product",
          "Service and Parts",
          "Service and Parts",
          "Service and Parts",
          "Service and Parts",
          "Service and Parts",
          "Service and Parts",
          "Service and Parts",
          "Service and Parts",
          "Product",
          "Service and Parts",
          "Service and Parts",
          "Service and Parts",
          "Service and Parts",
          "Service and Parts",
          "Service and Parts",
          "Service and Parts",
          "Service and Parts",
          "Service and Parts",
          "Sales",
          "Service and Parts",
          "Service and Parts",
          "Service and Parts",
          "Service and Parts",
          "Product",
          "Sales",
          "Product",
          "Service and Parts",
          "Service and Parts",
          "Sales",
          "Service and Parts",
          "Sales",
          "Service and Parts",
          "Product",
          "Service and Parts",
          "Product",
          "Service and Parts",
          "Sales",
          "Sales",
          "Service and Parts",
          "Service and Parts",
          "Service and Parts",
          "Service and Parts",
          "Service and Parts",
          "Service and Parts",
          "Product",
          "Service and Parts",
          "Service and Parts",
          "Product",
          "Service and Parts",
          "Service and Parts",
          "Service and Parts",
          "Service and Parts",
          "Service and Parts",
          "Service and Parts",
          "Service and Parts",
          "Sales",
          "Service and Parts",
          "Service and Parts",
          "Service and Parts",
          "Product",
          "Service and Parts",
          "Sales",
          "Service and Parts",
          "Service and Parts",
          "Service and Parts",
          "Service and Parts",
          "Service and Parts",
          "Service and Parts",
          "Service and Parts",
          "Service and Parts",
          "Service and Parts",
          "Service and Parts",
          "Service and Parts",
          "Product",
          "Service and Parts",
          "Service and Parts",
          "Service and Parts",
          "Product",
          "Product",
          "Service and Parts",
          "Service and Parts",
          "Service and Parts",
          "Service and Parts",
          "Service and Parts",
          "Service and Parts",
          "Service and Parts",
          "Service and Parts",
          "Service and Parts",
          "Service and Parts",
          "Service and Parts",
          "Service and Parts",
          "Product",
          "Service and Parts",
          "Service and Parts",
          "Service and Parts",
          "Service and Parts",
          "Service and Parts",
          "Product",
          "Service and Parts",
          "Product",
          "Sales",
          "Service and Parts",
          "Service and Parts",
          "Product",
          "Sales",
          "Service and Parts",
          "Service and Parts",
          "Sales",
          "Product",
          "Product",
          "Service and Parts",
          "Service and Parts",
          "Sales",
          "Product",
          "Service and Parts",
          "Service and Parts",
          "Service and Parts",
          "Service and Parts",
          "Service and Parts",
          "Service and Parts",
          "Service and Parts",
          "Service and Parts",
          "Product",
          "Service and Parts",
          "Product",
          "Service and Parts",
          "Service and Parts",
          "Product",
          "Service and Parts",
          "Service and Parts",
          "Product",
          "Service and Parts",
          "Product",
          "Service and Parts",
          "Service and Parts",
          "Service and Parts",
          "Product",
          "Service and Parts",
          "Service and Parts",
          "Service and Parts",
          "Service and Parts",
          "Service and Parts",
          "Service and Parts",
          "Service and Parts",
          "Service and Parts",
          "Service and Parts",
          "Service and Parts",
          "Service and Parts",
          "Product",
          "Service and Parts",
          "Service and Parts",
          "Service and Parts",
          "Service and Parts",
          "Product",
          "Service and Parts",
          "Service and Parts",
          "Service and Parts",
          "Service and Parts",
          "Service and Parts",
          "Service and Parts",
          "Product",
          "Sales",
          "Service and Parts",
          "Service and Parts",
          "Service and Parts",
          "Service and Parts",
          "Service and Parts",
          "Service and Parts",
          "Service and Parts",
          "Service and Parts",
          "Product",
          "Service and Parts",
          "Service and Parts",
          "Sales",
          "Service and Parts",
          "Service and Parts",
          "Service and Parts",
          "Product",
          "Product",
          "Service and Parts",
          "Service and Parts",
          "Product",
          "Service and Parts",
          "Sales",
          "Service and Parts",
          "Service and Parts",
          "Service and Parts",
          "Product",
          "Service and Parts",
          "Sales",
          "Service and Parts",
          "Service and Parts",
          "Service and Parts",
          "Product",
          "Service and Parts",
          "Service and Parts",
          "Service and Parts",
          "Service and Parts",
          "Service and Parts",
          "Product",
          "Service and Parts",
          "Sales",
          "Service and Parts",
          "Service and Parts",
          "Product",
          "Service and Parts",
          "Service and Parts",
          "Service and Parts",
          "Service and Parts",
          "Product",
          "Product",
          "Product",
          "Service and Parts",
          "Product",
          "Product",
          "Product",
          "Product",
          "Service and Parts",
          "Service and Parts",
          "Service and Parts",
          "Service and Parts",
          "Service and Parts",
          "Product",
          "Product",
          "Service and Parts",
          "Service and Parts",
          "Service and Parts",
          "Service and Parts",
          "Service and Parts",
          "Service and Parts",
          "Service and Parts",
          "Service and Parts",
          "Product",
          "Service and Parts",
          "Service and Parts",
          "Service and Parts",
          "Service and Parts",
          "Product",
          "Product",
          "Product",
          "Service and Parts",
          "Service and Parts",
          "Product",
          "Service and Parts",
          "Service and Parts",
          "Service and Parts",
          "Service and Parts",
          "Service and Parts",
          "Service and Parts",
          "Product",
          "Service and Parts",
          "Service and Parts",
          "Service and Parts",
          "Sales",
          "Service and Parts",
          "Service and Parts",
          "Service and Parts",
          "Service and Parts",
          "Product",
          "Product",
          "Service and Parts",
          "Product",
          "Product",
          "Service and Parts",
          "Service and Parts",
          "Product",
          "Service and Parts",
          "Service and Parts",
          "Service and Parts",
          "Service and Parts",
          "Product",
          "Service and Parts",
          "Service and Parts",
          "Service and Parts",
          "Service and Parts",
          "Service and Parts",
          "Product",
          "Service and Parts",
          "Service and Parts",
          "Service and Parts",
          "Service and Parts",
          "Service and Parts",
          "Service and Parts",
          "Service and Parts",
          "Product",
          "Service and Parts",
          "Service and Parts",
          "Service and Parts",
          "Service and Parts",
          "Service and Parts",
          "Service and Parts",
          "Service and Parts",
          "Product",
          "Service and Parts",
          "Service and Parts",
          "Service and Parts",
          "Service and Parts",
          "Service and Parts",
          "Service and Parts",
          "Service and Parts",
          "Service and Parts",
          "Service and Parts",
          "Service and Parts",
          "Service and Parts",
          "Service and Parts",
          "Service and Parts",
          "Service and Parts",
          "Service and Parts",
          "Service and Parts",
          "Product",
          "Service and Parts",
          "Service and Parts",
          "Service and Parts",
          "Service and Parts",
          "Service and Parts",
          "Service and Parts",
          "Service and Parts",
          "Service and Parts",
          "Sales",
          "Service and Parts",
          "Service and Parts",
          "Service and Parts",
          "Service and Parts",
          "Service and Parts",
          "Service and Parts",
          "Service and Parts",
          "Service and Parts",
          "Product",
          "Service and Parts",
          "Service and Parts",
          "Sales",
          "Service and Parts",
          "Product",
          "Service and Parts",
          "Service and Parts",
          "Service and Parts",
          "Service and Parts",
          "Service and Parts",
          "Service and Parts",
          "Service and Parts",
          "Service and Parts",
          "Service and Parts",
          "Service and Parts",
          "Service and Parts",
          "Service and Parts",
          "Product",
          "Product",
          "Service and Parts",
          "Service and Parts",
          "Service and Parts",
          "Service and Parts",
          "Service and Parts",
          "Service and Parts",
          "Service and Parts",
          "Service and Parts",
          "Service and Parts",
          "Service and Parts",
          "Service and Parts",
          "Service and Parts",
          "Sales",
          "Product",
          "Service and Parts",
          "Service and Parts",
          "Product",
          "Product",
          "Service and Parts",
          "Service and Parts",
          "Sales",
          "Sales",
          "Service and Parts",
          "Service and Parts",
          "Service and Parts",
          "Service and Parts",
          "Service and Parts",
          "Service and Parts",
          "Service and Parts",
          "Product",
          "Service and Parts",
          "Sales",
          "Service and Parts",
          "Service and Parts",
          "Service and Parts",
          "Service and Parts",
          "Service and Parts",
          "Service and Parts",
          "Service and Parts",
          "Service and Parts",
          "Service and Parts",
          "Service and Parts",
          "Service and Parts",
          "Service and Parts",
          "Service and Parts",
          "Service and Parts",
          "Service and Parts",
          "Service and Parts",
          "Service and Parts",
          "Product",
          "Service and Parts",
          "Sales",
          "Service and Parts",
          "Service and Parts",
          "Service and Parts",
          "Service and Parts",
          "Service and Parts",
          "Service and Parts",
          "Service and Parts",
          "Service and Parts",
          "Product",
          "Service and Parts",
          "Product",
          "Product",
          "Service and Parts",
          "Service and Parts",
          "Service and Parts",
          "Service and Parts",
          "Service and Parts",
          "Service and Parts",
          "Service and Parts",
          "Product",
          "Service and Parts",
          "Product",
          "Service and Parts",
          "Service and Parts",
          "Service and Parts",
          "Service and Parts",
          "Service and Parts",
          "Product",
          "Service and Parts",
          "Product",
          "Product",
          "Service and Parts",
          "Service and Parts",
          "Product",
          "Service and Parts",
          "Service and Parts",
          "Sales",
          "Service and Parts",
          "Service and Parts",
          "Service and Parts",
          "Product",
          "Service and Parts",
          "Service and Parts",
          "Product",
          "Product",
          "Service and Parts",
          "Service and Parts",
          "Service and Parts",
          "Service and Parts",
          "Product",
          "Sales",
          "Service and Parts",
          "Service and Parts",
          "Service and Parts",
          "Service and Parts",
          "Service and Parts",
          "Service and Parts",
          "Service and Parts",
          "Product",
          "Service and Parts",
          "Product",
          "Service and Parts",
          "Service and Parts",
          "Sales",
          "Service and Parts",
          "Service and Parts",
          "Service and Parts",
          "Sales",
          "Service and Parts",
          "Product",
          "Service and Parts",
          "Service and Parts",
          "Service and Parts",
          "Service and Parts",
          "Service and Parts",
          "Service and Parts",
          "Product",
          "Service and Parts",
          "Product",
          "Product",
          "Sales",
          "Service and Parts",
          "Sales",
          "Service and Parts",
          "Service and Parts",
          "Service and Parts",
          "Product",
          "Service and Parts",
          "Service and Parts",
          "Service and Parts",
          "Service and Parts",
          "Service and Parts",
          "Sales",
          "Service and Parts",
          "Product",
          "Product",
          "Product",
          "Product",
          "Product",
          "Service and Parts",
          "Service and Parts",
          "Service and Parts",
          "Product",
          "Service and Parts",
          "Service and Parts",
          "Product",
          "Product",
          "Service and Parts",
          "Sales",
          "Service and Parts",
          "Product",
          "Service and Parts",
          "Service and Parts",
          "Service and Parts",
          "Sales",
          "Product",
          "Product",
          "Product",
          "Service and Parts",
          "Sales",
          "Product",
          "Service and Parts",
          "Product",
          "Service and Parts",
          "Product",
          "Service and Parts",
          "Service and Parts",
          "Product",
          "Service and Parts",
          "Service and Parts",
          "Service and Parts",
          "Product",
          "Service and Parts",
          "Service and Parts",
          "Service and Parts",
          "Product",
          "Product",
          "Service and Parts",
          "Service and Parts",
          "Product",
          "Service and Parts",
          "Service and Parts",
          "Product",
          "Service and Parts",
          "Service and Parts",
          "Product",
          "Service and Parts",
          "Service and Parts",
          "Service and Parts",
          "Product",
          "Service and Parts",
          "Service and Parts",
          "Sales",
          "Service and Parts",
          "Sales",
          "Service and Parts",
          "Product",
          "Service and Parts",
          "Service and Parts",
          "Product",
          "Service and Parts",
          "Product",
          "Service and Parts",
          "Service and Parts",
          "Service and Parts",
          "Service and Parts",
          "Service and Parts",
          "Sales",
          "Service and Parts",
          "Product",
          "Product",
          "Service and Parts",
          "Product",
          "Service and Parts",
          "Service and Parts",
          "Service and Parts",
          "Service and Parts",
          "Service and Parts",
          "Sales",
          "Service and Parts",
          "Service and Parts",
          "Service and Parts",
          "Service and Parts",
          "Service and Parts",
          "Service and Parts",
          "Service and Parts",
          "Product",
          "Service and Parts",
          "Service and Parts",
          "Service and Parts",
          "Service and Parts",
          "Service and Parts",
          "Product",
          "Service and Parts",
          "Service and Parts",
          "Service and Parts",
          "Service and Parts",
          "Service and Parts",
          "Service and Parts",
          "Service and Parts",
          "Service and Parts",
          "Service and Parts",
          "Product",
          "Product",
          "Service and Parts",
          "Service and Parts",
          "Service and Parts",
          "Product",
          "Service and Parts",
          "Product",
          "Service and Parts",
          "Product",
          "Service and Parts",
          "Service and Parts",
          "Service and Parts",
          "Service and Parts",
          "Service and Parts",
          "Service and Parts",
          "Service and Parts",
          "Service and Parts",
          "Service and Parts",
          "Product",
          "Service and Parts",
          "Product",
          "Product",
          "Service and Parts",
          "Service and Parts",
          "Service and Parts",
          "Service and Parts",
          "Service and Parts",
          "Service and Parts",
          "Service and Parts",
          "Service and Parts",
          "Service and Parts",
          "Sales",
          "Service and Parts",
          "Service and Parts",
          "Product",
          "Service and Parts",
          "Service and Parts",
          "Service and Parts",
          "Sales",
          "Service and Parts",
          "Service and Parts",
          "Service and Parts",
          "Service and Parts",
          "Service and Parts",
          "Service and Parts",
          "Service and Parts",
          "Service and Parts",
          "Product",
          "Product",
          "Service and Parts",
          "Service and Parts",
          "Product",
          "Service and Parts",
          "Service and Parts",
          "Product",
          "Service and Parts",
          "Service and Parts",
          "Service and Parts",
          "Product",
          "Service and Parts",
          "Sales",
          "Sales",
          "Service and Parts",
          "Service and Parts",
          "Service and Parts",
          "Service and Parts",
          "Service and Parts",
          "Service and Parts",
          "Service and Parts",
          "Sales",
          "Service and Parts",
          "Sales",
          "Service and Parts",
          "Service and Parts",
          "Service and Parts",
          "Service and Parts",
          "Service and Parts",
          "Service and Parts",
          "Product",
          "Service and Parts",
          "Service and Parts",
          "Product",
          "Product",
          "Product",
          "Service and Parts",
          "Product",
          "Product",
          "Service and Parts",
          "Service and Parts",
          "Product",
          "Service and Parts",
          "Service and Parts",
          "Product",
          "Sales",
          "Service and Parts",
          "Service and Parts",
          "Service and Parts",
          "Product",
          "Service and Parts",
          "Service and Parts",
          "Service and Parts",
          "Product",
          "Service and Parts",
          "Service and Parts",
          "Service and Parts",
          "Service and Parts",
          "Product",
          "Product",
          "Service and Parts",
          "Product",
          "Service and Parts",
          "Service and Parts",
          "Service and Parts",
          "Product",
          "Product",
          "Service and Parts",
          "Service and Parts",
          "Service and Parts",
          "Service and Parts",
          "Service and Parts",
          "Service and Parts",
          "Service and Parts",
          "Service and Parts",
          "Service and Parts",
          "Service and Parts",
          "Service and Parts",
          "Service and Parts",
          "Product",
          "Service and Parts",
          "Service and Parts",
          "Service and Parts",
          "Product",
          "Service and Parts",
          "Product",
          "Service and Parts",
          "Service and Parts",
          "Product",
          "Service and Parts",
          "Service and Parts",
          "Service and Parts",
          "Service and Parts",
          "Sales",
          "Product",
          "Service and Parts",
          "Service and Parts",
          "Service and Parts",
          "Service and Parts",
          "Service and Parts",
          "Service and Parts",
          "Service and Parts",
          "Product",
          "Service and Parts",
          "Service and Parts",
          "Service and Parts",
          "Service and Parts",
          "Product",
          "Service and Parts",
          "Service and Parts",
          "Service and Parts",
          "Service and Parts",
          "Product",
          "Service and Parts",
          "Product",
          "Service and Parts",
          "Product",
          "Service and Parts",
          "Service and Parts",
          "Sales",
          "Service and Parts",
          "Service and Parts",
          "Service and Parts",
          "Product",
          "Service and Parts",
          "Service and Parts",
          "Product",
          "Service and Parts",
          "Product",
          "Service and Parts",
          "Service and Parts",
          "Service and Parts",
          "Product",
          "Service and Parts",
          "Service and Parts",
          "Product",
          "Product",
          "Service and Parts",
          "Service and Parts",
          "Sales",
          "Service and Parts",
          "Service and Parts",
          "Service and Parts",
          "Product",
          "Service and Parts",
          "Service and Parts",
          "Service and Parts",
          "Sales",
          "Service and Parts",
          "Product",
          "Service and Parts",
          "Service and Parts",
          "Product",
          "Product",
          "Service and Parts",
          "Service and Parts",
          "Service and Parts",
          "Product",
          "Service and Parts",
          "Service and Parts",
          "Service and Parts",
          "Product",
          "Product",
          "Service and Parts",
          "Product",
          "Service and Parts",
          "Service and Parts",
          "Sales",
          "Service and Parts",
          "Service and Parts",
          "Product",
          "Service and Parts",
          "Service and Parts",
          "Product",
          "Service and Parts",
          "Service and Parts",
          "Service and Parts",
          "Service and Parts",
          "Service and Parts",
          "Service and Parts",
          "Service and Parts",
          "Service and Parts",
          "Product",
          "Service and Parts",
          "Service and Parts",
          "Service and Parts",
          "Service and Parts",
          "Product",
          "Service and Parts",
          "Service and Parts",
          "Service and Parts",
          "Service and Parts",
          "Service and Parts",
          "Service and Parts",
          "Product",
          "Service and Parts",
          "Service and Parts",
          "Service and Parts",
          "Sales",
          "Product",
          "Service and Parts",
          "Service and Parts",
          "Service and Parts",
          "Product",
          "Service and Parts",
          "Product",
          "Service and Parts",
          "Product",
          "Product",
          "Service and Parts",
          "Product",
          "Product",
          "Service and Parts",
          "Sales",
          "Service and Parts",
          "Service and Parts",
          "Service and Parts",
          "Product",
          "Service and Parts",
          "Service and Parts",
          "Service and Parts",
          "Service and Parts",
          "Service and Parts",
          "Service and Parts",
          "Product",
          "Product",
          "Sales",
          "Service and Parts",
          "Product",
          "Product",
          "Service and Parts",
          "Service and Parts",
          "Service and Parts",
          "Service and Parts",
          "Service and Parts",
          "Service and Parts",
          "Service and Parts",
          "Product",
          "Service and Parts",
          "Service and Parts",
          "Service and Parts",
          "Service and Parts",
          "Service and Parts",
          "Service and Parts",
          "Service and Parts",
          "Sales",
          "Service and Parts",
          "Service and Parts",
          "Service and Parts",
          "Service and Parts",
          "Service and Parts",
          "Service and Parts",
          "Service and Parts",
          "Service and Parts",
          "Service and Parts",
          "Service and Parts",
          "Product",
          "Service and Parts",
          "Service and Parts",
          "Service and Parts",
          "Product",
          "Service and Parts",
          "Service and Parts",
          "Product",
          "Product",
          "Service and Parts",
          "Service and Parts",
          "Service and Parts",
          "Service and Parts",
          "Service and Parts",
          "Service and Parts",
          "Service and Parts",
          "Service and Parts",
          "Service and Parts",
          "Service and Parts",
          "Service and Parts",
          "Service and Parts",
          "Service and Parts",
          "Product",
          "Service and Parts",
          "Service and Parts",
          "Service and Parts",
          "Product",
          "Service and Parts",
          "Service and Parts",
          "Service and Parts",
          "Service and Parts",
          "Product",
          "Service and Parts",
          "Product",
          "Service and Parts",
          "Service and Parts",
          "Service and Parts",
          "Product",
          "Service and Parts",
          "Product",
          "Service and Parts",
          "Service and Parts",
          "Service and Parts",
          "Service and Parts",
          "Service and Parts",
          "Service and Parts",
          "Service and Parts",
          "Sales",
          "Service and Parts",
          "Service and Parts",
          "Service and Parts",
          "Service and Parts",
          "Product",
          "Service and Parts",
          "Service and Parts",
          "Service and Parts",
          "Service and Parts",
          "Product",
          "Service and Parts",
          "Product",
          "Product",
          "Service and Parts",
          "Service and Parts",
          "Service and Parts",
          "Service and Parts",
          "Service and Parts",
          "Service and Parts",
          "Service and Parts",
          "Service and Parts",
          "Service and Parts",
          "Product",
          "Service and Parts",
          "Service and Parts",
          "Product",
          "Service and Parts",
          "Service and Parts",
          "Service and Parts",
          "Service and Parts",
          "Service and Parts",
          "Service and Parts",
          "Service and Parts",
          "Service and Parts",
          "Service and Parts",
          "Service and Parts",
          "Service and Parts",
          "Product",
          "Service and Parts",
          "Service and Parts",
          "Service and Parts",
          "Service and Parts",
          "Service and Parts",
          "Service and Parts",
          "Product",
          "Product",
          "Product",
          "Product",
          "Product",
          "Product",
          "Sales",
          "Service and Parts",
          "Service and Parts",
          "Service and Parts",
          "Product",
          "Service and Parts",
          "Product",
          "Service and Parts",
          "Product",
          "Service and Parts",
          "Product",
          "Service and Parts",
          "Product",
          "Service and Parts",
          "Product",
          "Service and Parts",
          "Service and Parts",
          "Product",
          "Service and Parts",
          "Sales",
          "Service and Parts",
          "Service and Parts",
          "Service and Parts",
          "Service and Parts",
          "Product",
          "Product",
          "Service and Parts",
          "Product",
          "Service and Parts",
          "Service and Parts",
          "Service and Parts",
          "Service and Parts",
          "Service and Parts",
          "Service and Parts",
          "Product",
          "Product",
          "Service and Parts",
          "Service and Parts",
          "Product",
          "Service and Parts",
          "Service and Parts",
          "Service and Parts",
          "Service and Parts",
          "Product",
          "Product",
          "Service and Parts",
          "Sales",
          "Product",
          "Product",
          "Product",
          "Product",
          "Product",
          "Product",
          "Service and Parts",
          "Sales",
          "Service and Parts",
          "Sales",
          "Sales",
          "Sales",
          "Sales",
          "Service and Parts",
          "Service and Parts",
          "Product",
          "Product",
          "Service and Parts",
          "Service and Parts",
          "Product",
          "Service and Parts",
          "Product",
          "Service and Parts",
          "Service and Parts",
          "Service and Parts",
          "Service and Parts",
          "Service and Parts",
          "Sales",
          "Sales",
          "Service and Parts",
          "Service and Parts",
          "Service and Parts",
          "Product",
          "Product",
          "Product",
          "Service and Parts",
          "Service and Parts",
          "Service and Parts",
          "Service and Parts",
          "Sales",
          "Service and Parts",
          "Sales",
          "Product",
          "Service and Parts",
          "Service and Parts",
          "Service and Parts",
          "Service and Parts",
          "Service and Parts",
          "Service and Parts",
          "Service and Parts",
          "Product",
          "Product",
          "Service and Parts",
          "Sales",
          "Service and Parts",
          "Sales",
          "Service and Parts",
          "Sales",
          "Service and Parts",
          "Product",
          "Service and Parts",
          "Product",
          "Sales",
          "Service and Parts",
          "Service and Parts",
          "Service and Parts",
          "Sales",
          "Service and Parts",
          "Product",
          "Sales",
          "Service and Parts",
          "Service and Parts",
          "Service and Parts",
          "Product",
          "Service and Parts",
          "Product",
          "Product",
          "Service and Parts",
          "Service and Parts",
          "Product",
          "Service and Parts",
          "Product",
          "Service and Parts",
          "Product",
          "Service and Parts",
          "Service and Parts",
          "Product",
          "Service and Parts",
          "Service and Parts",
          "Product",
          "Service and Parts",
          "Product",
          "Service and Parts",
          "Service and Parts",
          "Service and Parts",
          "Service and Parts",
          "Service and Parts",
          "Product",
          "Service and Parts",
          "Service and Parts",
          "Product",
          "Service and Parts",
          "Service and Parts",
          "Service and Parts",
          "Service and Parts",
          "Service and Parts",
          "Service and Parts",
          "Product",
          "Service and Parts",
          "Service and Parts",
          "Sales",
          "Service and Parts",
          "Service and Parts",
          "Product",
          "Service and Parts",
          "Service and Parts",
          "Service and Parts",
          "Service and Parts",
          "Service and Parts",
          "Product",
          "Product",
          "Service and Parts",
          "Service and Parts",
          "Product",
          "Service and Parts",
          "Service and Parts",
          "Service and Parts",
          "Service and Parts",
          "Product",
          "Service and Parts",
          "Service and Parts",
          "Service and Parts",
          "Service and Parts",
          "Service and Parts",
          "Product",
          "Service and Parts",
          "Service and Parts",
          "Service and Parts",
          "Service and Parts",
          "Service and Parts",
          "Service and Parts",
          "Service and Parts",
          "Product",
          "Service and Parts",
          "Service and Parts",
          "Service and Parts",
          "Product",
          "Service and Parts",
          "Service and Parts",
          "Product",
          "Sales",
          "Service and Parts",
          "Service and Parts",
          "Service and Parts",
          "Service and Parts",
          "Product",
          "Service and Parts",
          "Service and Parts",
          "Product",
          "Service and Parts",
          "Product",
          "Service and Parts",
          "Product",
          "Service and Parts",
          "Service and Parts",
          "Service and Parts",
          "Sales",
          "Service and Parts",
          "Sales",
          "Service and Parts",
          "Product",
          "Service and Parts",
          "Service and Parts",
          "Service and Parts",
          "Service and Parts",
          "Service and Parts",
          "Product",
          "Service and Parts",
          "Service and Parts",
          "Service and Parts",
          "Service and Parts",
          "Product",
          "Service and Parts",
          "Service and Parts",
          "Service and Parts",
          "Service and Parts",
          "Service and Parts",
          "Product",
          "Service and Parts",
          "Product",
          "Product",
          "Product",
          "Service and Parts",
          "Service and Parts",
          "Service and Parts",
          "Product",
          "Service and Parts",
          "Service and Parts",
          "Service and Parts",
          "Product",
          "Service and Parts",
          "Service and Parts",
          "Service and Parts",
          "Service and Parts",
          "Service and Parts",
          "Service and Parts",
          "Product",
          "Product",
          "Sales",
          "Product",
          "Service and Parts",
          "Service and Parts",
          "Service and Parts",
          "Service and Parts",
          "Product",
          "Service and Parts",
          "Sales",
          "Service and Parts",
          "Service and Parts",
          "Service and Parts",
          "Service and Parts",
          "Service and Parts",
          "Service and Parts",
          "Sales",
          "Sales",
          "Service and Parts",
          "Service and Parts",
          "Service and Parts",
          "Service and Parts",
          "Service and Parts",
          "Service and Parts",
          "Product",
          "Product",
          "Service and Parts",
          "Service and Parts",
          "Service and Parts",
          "Service and Parts",
          "Product",
          "Service and Parts",
          "Service and Parts",
          "Product",
          "Service and Parts",
          "Service and Parts",
          "Service and Parts",
          "Service and Parts",
          "Product",
          "Service and Parts",
          "Service and Parts",
          "Product",
          "Sales",
          "Service and Parts",
          "Service and Parts",
          "Service and Parts",
          "Product",
          "Sales",
          "Service and Parts",
          "Product",
          "Product",
          "Service and Parts",
          "Service and Parts",
          "Sales",
          "Product",
          "Service and Parts",
          "Sales",
          "Service and Parts",
          "Service and Parts",
          "Service and Parts",
          "Service and Parts",
          "Service and Parts",
          "Service and Parts",
          "Service and Parts",
          "Sales",
          "Service and Parts",
          "Service and Parts",
          "Service and Parts",
          "Service and Parts",
          "Product",
          "Service and Parts",
          "Product",
          "Service and Parts",
          "Sales",
          "Product",
          "Service and Parts",
          "Service and Parts",
          "Service and Parts",
          "Service and Parts",
          "Product",
          "Product",
          "Product",
          "Product",
          "Service and Parts",
          "Service and Parts",
          "Service and Parts",
          "Service and Parts",
          "Service and Parts",
          "Service and Parts",
          "Service and Parts",
          "Product",
          "Service and Parts",
          "Service and Parts",
          "Service and Parts",
          "Product",
          "Sales",
          "Product",
          "Service and Parts",
          "Service and Parts",
          "Product",
          "Product",
          "Service and Parts",
          "Service and Parts",
          "Service and Parts",
          "Product",
          "Service and Parts",
          "Service and Parts",
          "Service and Parts",
          "Service and Parts",
          "Service and Parts",
          "Service and Parts",
          "Service and Parts",
          "Product",
          "Service and Parts",
          "Service and Parts",
          "Product",
          "Service and Parts",
          "Sales",
          "Service and Parts",
          "Service and Parts",
          "Product",
          "Product",
          "Service and Parts",
          "Service and Parts",
          "Service and Parts",
          "Product",
          "Product",
          "Service and Parts",
          "Service and Parts",
          "Sales",
          "Product",
          "Service and Parts",
          "Service and Parts",
          "Service and Parts",
          "Service and Parts",
          "Product",
          "Sales",
          "Sales",
          "Service and Parts",
          "Service and Parts",
          "Service and Parts",
          "Service and Parts",
          "Service and Parts",
          "Service and Parts",
          "Product",
          "Service and Parts",
          "Service and Parts",
          "Service and Parts",
          "Service and Parts",
          "Service and Parts",
          "Product",
          "Product",
          "Product",
          "Service and Parts",
          "Product",
          "Product",
          "Product",
          "Service and Parts",
          "Sales",
          "Service and Parts",
          "Sales",
          "Service and Parts",
          "Service and Parts",
          "Product",
          "Service and Parts",
          "Product",
          "Sales",
          "Service and Parts",
          "Sales",
          "Product",
          "Service and Parts",
          "Service and Parts",
          "Service and Parts",
          "Service and Parts",
          "Product",
          "Service and Parts",
          "Service and Parts",
          "Service and Parts",
          "Sales",
          "Service and Parts",
          "Service and Parts",
          "Product",
          "Service and Parts",
          "Service and Parts",
          "Sales",
          "Service and Parts",
          "Service and Parts",
          "Service and Parts",
          "Product",
          "Service and Parts",
          "Service and Parts",
          "Service and Parts",
          "Service and Parts",
          "Service and Parts",
          "Service and Parts",
          "Service and Parts",
          "Service and Parts",
          "Service and Parts",
          "Service and Parts",
          "Service and Parts",
          "Product",
          "Service and Parts",
          "Service and Parts",
          "Service and Parts",
          "Service and Parts",
          "Product",
          "Service and Parts",
          "Product",
          "Service and Parts",
          "Service and Parts",
          "Service and Parts",
          "Service and Parts",
          "Service and Parts",
          "Product",
          "Sales",
          "Service and Parts",
          "Service and Parts",
          "Service and Parts",
          "Product",
          "Service and Parts",
          "Service and Parts",
          "Service and Parts",
          "Service and Parts",
          "Service and Parts",
          "Service and Parts",
          "Service and Parts",
          "Product",
          "Product",
          "Service and Parts",
          "Service and Parts",
          "Service and Parts",
          "Service and Parts",
          "Service and Parts",
          "Service and Parts",
          "Service and Parts",
          "Service and Parts",
          "Product",
          "Service and Parts",
          "Service and Parts",
          "Product",
          "Sales",
          "Service and Parts",
          "Service and Parts",
          "Service and Parts",
          "Service and Parts",
          "Sales",
          "Service and Parts",
          "Service and Parts",
          "Service and Parts",
          "Sales",
          "Product",
          "Product",
          "Service and Parts",
          "Service and Parts",
          "Service and Parts",
          "Sales",
          "Service and Parts",
          "Sales",
          "Service and Parts",
          "Product",
          "Service and Parts",
          "Product",
          "Product",
          "Product",
          "Product",
          "Service and Parts",
          "Service and Parts",
          "Service and Parts",
          "Service and Parts",
          "Product",
          "Service and Parts",
          "Service and Parts",
          "Service and Parts",
          "Service and Parts",
          "Service and Parts",
          "Service and Parts",
          "Service and Parts",
          "Service and Parts",
          "Service and Parts",
          "Service and Parts",
          "Service and Parts",
          "Product",
          "Service and Parts",
          "Sales",
          "Service and Parts",
          "Service and Parts",
          "Product",
          "Service and Parts",
          "Service and Parts",
          "Service and Parts",
          "Product",
          "Service and Parts",
          "Sales",
          "Product",
          "Service and Parts",
          "Service and Parts",
          "Sales",
          "Service and Parts",
          "Sales",
          "Service and Parts",
          "Sales",
          "Service and Parts",
          "Sales",
          "Product",
          "Sales",
          "Service and Parts",
          "Service and Parts",
          "Service and Parts",
          "Service and Parts",
          "Product",
          "Sales",
          "Service and Parts",
          "Sales",
          "Service and Parts",
          "Service and Parts",
          "Service and Parts",
          "Service and Parts",
          "Service and Parts",
          "Service and Parts",
          "Service and Parts",
          "Service and Parts",
          "Product",
          "Service and Parts",
          "Product",
          "Product",
          "Service and Parts",
          "Service and Parts",
          "Service and Parts",
          "Product",
          "Service and Parts",
          "Service and Parts",
          "Service and Parts",
          "Sales",
          "Service and Parts",
          "Service and Parts",
          "Service and Parts",
          "Service and Parts",
          "Service and Parts",
          "Service and Parts",
          "Service and Parts",
          "Service and Parts",
          "Product",
          "Service and Parts",
          "Service and Parts",
          "Product",
          "Service and Parts",
          "Service and Parts",
          "Service and Parts",
          "Service and Parts",
          "Product",
          "Service and Parts",
          "Service and Parts",
          "Sales",
          "Service and Parts",
          "Service and Parts",
          "Product",
          "Product",
          "Service and Parts",
          "Service and Parts",
          "Service and Parts",
          "Service and Parts",
          "Sales",
          "Service and Parts",
          "Service and Parts",
          "Service and Parts",
          "Product",
          "Service and Parts",
          "Product",
          "Service and Parts",
          "Service and Parts",
          "Service and Parts",
          "Service and Parts",
          "Service and Parts",
          "Product",
          "Product",
          "Sales",
          "Service and Parts",
          "Service and Parts",
          "Sales",
          "Service and Parts",
          "Service and Parts",
          "Service and Parts",
          "Sales",
          "Service and Parts",
          "Service and Parts",
          "Service and Parts",
          "Service and Parts",
          "Product",
          "Service and Parts",
          "Service and Parts",
          "Service and Parts",
          "Sales",
          "Product",
          "Product",
          "Product",
          "Service and Parts",
          "Service and Parts",
          "Service and Parts",
          "Service and Parts",
          "Product",
          "Product",
          "Service and Parts",
          "Sales",
          "Service and Parts",
          "Service and Parts",
          "Product",
          "Service and Parts",
          "Service and Parts",
          "Sales",
          "Service and Parts",
          "Service and Parts",
          "Product",
          "Service and Parts",
          "Service and Parts",
          "Service and Parts",
          "Product",
          "Sales",
          "Product",
          "Service and Parts",
          "Service and Parts",
          "Product",
          "Service and Parts",
          "Product",
          "Product",
          "Service and Parts",
          "Product",
          "Service and Parts",
          "Service and Parts",
          "Service and Parts",
          "Service and Parts",
          "Service and Parts",
          "Service and Parts",
          "Product",
          "Product",
          "Service and Parts",
          "Product",
          "Sales",
          "Service and Parts",
          "Product",
          "Product",
          "Service and Parts",
          "Service and Parts",
          "Product",
          "Service and Parts",
          "Service and Parts",
          "Service and Parts",
          "Product",
          "Product",
          "Product",
          "Service and Parts",
          "Product",
          "Sales",
          "Product",
          "Product",
          "Service and Parts",
          "Service and Parts",
          "Service and Parts",
          "Service and Parts",
          "Service and Parts",
          "Product",
          "Product",
          "Service and Parts",
          "Service and Parts",
          "Service and Parts",
          "Service and Parts",
          "Service and Parts",
          "Service and Parts",
          "Product",
          "Service and Parts",
          "Service and Parts",
          "Product",
          "Service and Parts",
          "Service and Parts",
          "Service and Parts",
          "Service and Parts",
          "Service and Parts",
          "Service and Parts",
          "Service and Parts",
          "Service and Parts",
          "Service and Parts",
          "Service and Parts",
          "Service and Parts",
          "Service and Parts",
          "Service and Parts",
          "Service and Parts",
          "Service and Parts",
          "Service and Parts",
          "Service and Parts",
          "Service and Parts",
          "Service and Parts",
          "Service and Parts",
          "Service and Parts",
          "Product",
          "Sales",
          "Sales",
          "Service and Parts",
          "Product",
          "Service and Parts",
          "Product",
          "Service and Parts",
          "Service and Parts",
          "Service and Parts",
          "Product",
          "Service and Parts",
          "Sales",
          "Service and Parts",
          "Product",
          "Service and Parts",
          "Sales",
          "Service and Parts",
          "Product",
          "Product",
          "Service and Parts",
          "Product",
          "Service and Parts",
          "Product",
          "Product",
          "Sales",
          "Service and Parts",
          "Service and Parts",
          "Service and Parts",
          "Service and Parts",
          "Product",
          "Sales",
          "Service and Parts",
          "Sales",
          "Service and Parts",
          "Service and Parts",
          "Service and Parts",
          "Service and Parts",
          "Service and Parts",
          "Service and Parts",
          "Service and Parts",
          "Service and Parts",
          "Service and Parts",
          "Service and Parts",
          "Service and Parts",
          "Product",
          "Service and Parts",
          "Product",
          "Service and Parts",
          "Product",
          "Service and Parts",
          "Service and Parts",
          "Product",
          "Sales",
          "Service and Parts",
          "Service and Parts",
          "Service and Parts",
          "Service and Parts",
          "Service and Parts",
          "Service and Parts",
          "Sales",
          "Product",
          "Service and Parts",
          "Service and Parts",
          "Service and Parts",
          "Sales",
          "Service and Parts",
          "Service and Parts",
          "Service and Parts",
          "Product",
          "Service and Parts",
          "Product",
          "Service and Parts",
          "Service and Parts",
          "Service and Parts",
          "Service and Parts",
          "Service and Parts",
          "Product",
          "Product",
          "Service and Parts",
          "Service and Parts",
          "Service and Parts",
          "Service and Parts",
          "Service and Parts",
          "Service and Parts",
          "Product",
          "Service and Parts",
          "Service and Parts",
          "Product",
          "Service and Parts",
          "Service and Parts",
          "Service and Parts",
          "Sales",
          "Service and Parts",
          "Service and Parts",
          "Service and Parts",
          "Service and Parts",
          "Service and Parts",
          "Sales",
          "Service and Parts",
          "Service and Parts",
          "Service and Parts",
          "Service and Parts",
          "Service and Parts",
          "Service and Parts",
          "Service and Parts",
          "Product",
          "Service and Parts",
          "Service and Parts",
          "Service and Parts",
          "Service and Parts",
          "Product",
          "Product",
          "Service and Parts",
          "Service and Parts",
          "Sales",
          "Service and Parts",
          "Sales",
          "Service and Parts",
          "Service and Parts",
          "Service and Parts",
          "Service and Parts",
          "Service and Parts",
          "Service and Parts",
          "Service and Parts",
          "Service and Parts",
          "Service and Parts",
          "Service and Parts",
          "Service and Parts",
          "Product",
          "Product",
          "Service and Parts",
          "Service and Parts",
          "Service and Parts",
          "Service and Parts",
          "Product",
          "Service and Parts",
          "Service and Parts",
          "Product",
          "Service and Parts",
          "Service and Parts",
          "Service and Parts",
          "Service and Parts",
          "Service and Parts",
          "Service and Parts",
          "Service and Parts",
          "Service and Parts",
          "Service and Parts",
          "Sales",
          "Service and Parts",
          "Service and Parts",
          "Service and Parts",
          "Product",
          "Service and Parts",
          "Product",
          "Service and Parts",
          "Service and Parts",
          "Service and Parts",
          "Service and Parts",
          "Product",
          "Sales",
          "Service and Parts",
          "Service and Parts",
          "Product",
          "Service and Parts",
          "Product",
          "Service and Parts",
          "Sales",
          "Service and Parts",
          "Product",
          "Service and Parts",
          "Service and Parts",
          "Service and Parts",
          "Sales",
          "Service and Parts",
          "Sales",
          "Product",
          "Service and Parts",
          "Service and Parts",
          "Product",
          "Service and Parts",
          "Service and Parts",
          "Service and Parts",
          "Sales",
          "Service and Parts",
          "Sales",
          "Sales",
          "Service and Parts",
          "Product",
          "Sales",
          "Service and Parts",
          "Service and Parts",
          "Service and Parts",
          "Service and Parts",
          "Service and Parts",
          "Service and Parts",
          "Service and Parts",
          "Product",
          "Service and Parts",
          "Product",
          "Service and Parts",
          "Product",
          "Service and Parts",
          "Product",
          "Sales",
          "Product",
          "Service and Parts",
          "Product",
          "Service and Parts",
          "Sales",
          "Service and Parts",
          "Service and Parts",
          "Service and Parts",
          "Service and Parts",
          "Service and Parts",
          "Service and Parts",
          "Product",
          "Service and Parts",
          "Service and Parts",
          "Sales",
          "Service and Parts",
          "Service and Parts",
          "Service and Parts",
          "Product",
          "Sales",
          "Service and Parts",
          "Product",
          "Service and Parts",
          "Service and Parts",
          "Service and Parts",
          "Service and Parts",
          "Service and Parts",
          "Service and Parts",
          "Service and Parts",
          "Service and Parts",
          "Product",
          "Service and Parts",
          "Service and Parts",
          "Service and Parts",
          "Service and Parts",
          "Service and Parts",
          "Service and Parts",
          "Product",
          "Service and Parts",
          "Service and Parts",
          "Service and Parts",
          "Product",
          "Sales",
          "Service and Parts",
          "Service and Parts",
          "Service and Parts",
          "Sales",
          "Service and Parts",
          "Sales",
          "Service and Parts",
          "Service and Parts",
          "Sales",
          "Product",
          "Sales",
          "Product",
          "Service and Parts",
          "Service and Parts",
          "Service and Parts",
          "Service and Parts",
          "Service and Parts",
          "Product",
          "Service and Parts",
          "Product",
          "Service and Parts",
          "Service and Parts",
          "Product",
          "Service and Parts",
          "Product",
          "Service and Parts",
          "Service and Parts",
          "Service and Parts",
          "Sales",
          "Service and Parts",
          "Product",
          "Service and Parts",
          "Product",
          "Service and Parts",
          "Service and Parts",
          "Service and Parts",
          "Service and Parts",
          "Product",
          "Service and Parts",
          "Service and Parts",
          "Service and Parts",
          "Service and Parts",
          "Service and Parts",
          "Service and Parts",
          "Product",
          "Product",
          "Sales",
          "Service and Parts",
          "Service and Parts",
          "Service and Parts",
          "Service and Parts",
          "Service and Parts",
          "Service and Parts",
          "Product",
          "Service and Parts",
          "Service and Parts",
          "Service and Parts",
          "Service and Parts",
          "Product",
          "Product",
          "Service and Parts",
          "Product",
          "Product",
          "Service and Parts",
          "Service and Parts",
          "Service and Parts",
          "Sales",
          "Service and Parts",
          "Service and Parts",
          "Service and Parts",
          "Service and Parts",
          "Service and Parts",
          "Product",
          "Product",
          "Sales",
          "Product",
          "Service and Parts",
          "Product",
          "Service and Parts",
          "Service and Parts",
          "Service and Parts",
          "Product",
          "Service and Parts",
          "Sales",
          "Service and Parts",
          "Product",
          "Product",
          "Service and Parts",
          "Service and Parts",
          "Service and Parts",
          "Product",
          "Service and Parts",
          "Service and Parts",
          "Product",
          "Service and Parts",
          "Product",
          "Service and Parts",
          "Service and Parts",
          "Product",
          "Sales",
          "Service and Parts",
          "Product",
          "Sales",
          "Service and Parts",
          "Service and Parts",
          "Service and Parts",
          "Service and Parts",
          "Service and Parts",
          "Product",
          "Service and Parts",
          "Service and Parts",
          "Service and Parts",
          "Service and Parts",
          "Service and Parts",
          "Product",
          "Service and Parts",
          "Service and Parts",
          "Service and Parts",
          "Product",
          "Product",
          "Service and Parts",
          "Service and Parts",
          "Service and Parts",
          "Service and Parts",
          "Service and Parts",
          "Service and Parts",
          "Service and Parts",
          "Product",
          "Sales",
          "Service and Parts",
          "Service and Parts",
          "Product",
          "Service and Parts",
          "Service and Parts",
          "Service and Parts",
          "Product",
          "Service and Parts",
          "Service and Parts",
          "Product",
          "Product",
          "Product",
          "Service and Parts",
          "Sales",
          "Service and Parts",
          "Sales",
          "Service and Parts",
          "Service and Parts",
          "Service and Parts",
          "Service and Parts",
          "Product",
          "Service and Parts",
          "Service and Parts",
          "Service and Parts",
          "Product",
          "Service and Parts",
          "Service and Parts",
          "Service and Parts",
          "Product",
          "Service and Parts",
          "Sales",
          "Product",
          "Service and Parts",
          "Service and Parts",
          "Product",
          "Service and Parts",
          "Product",
          "Service and Parts",
          "Service and Parts",
          "Service and Parts",
          "Product",
          "Product",
          "Service and Parts",
          "Service and Parts",
          "Product",
          "Service and Parts",
          "Product",
          "Sales",
          "Sales",
          "Service and Parts",
          "Product",
          "Service and Parts",
          "Product",
          "Product",
          "Service and Parts",
          "Sales",
          "Product",
          "Service and Parts",
          "Product",
          "Product",
          "Product",
          "Service and Parts",
          "Service and Parts",
          "Product",
          "Service and Parts",
          "Service and Parts",
          "Service and Parts",
          "Service and Parts",
          "Product",
          "Service and Parts",
          "Service and Parts",
          "Service and Parts",
          "Service and Parts",
          "Service and Parts",
          "Service and Parts",
          "Service and Parts",
          "Product",
          "Service and Parts",
          "Service and Parts",
          "Service and Parts",
          "Service and Parts",
          "Product",
          "Product",
          "Service and Parts",
          "Service and Parts",
          "Service and Parts",
          "Product",
          "Service and Parts",
          "Product",
          "Service and Parts",
          "Product",
          "Sales",
          "Service and Parts",
          "Product",
          "Service and Parts",
          "Service and Parts",
          "Service and Parts",
          "Product",
          "Sales",
          "Service and Parts",
          "Service and Parts",
          "Service and Parts",
          "Product",
          "Product",
          "Service and Parts",
          "Service and Parts",
          "Service and Parts",
          "Service and Parts",
          "Service and Parts",
          "Sales",
          "Service and Parts",
          "Service and Parts",
          "Service and Parts",
          "Service and Parts",
          "Product",
          "Service and Parts",
          "Service and Parts",
          "Service and Parts",
          "Product",
          "Service and Parts",
          "Service and Parts",
          "Product",
          "Service and Parts",
          "Sales",
          "Product",
          "Product",
          "Product",
          "Service and Parts",
          "Service and Parts",
          "Product",
          "Service and Parts",
          "Sales",
          "Service and Parts",
          "Product",
          "Service and Parts",
          "Service and Parts",
          "Service and Parts",
          "Sales",
          "Service and Parts",
          "Service and Parts",
          "Service and Parts",
          "Service and Parts",
          "Product",
          "Service and Parts",
          "Sales",
          "Service and Parts",
          "Product",
          "Product",
          "Service and Parts",
          "Product",
          "Product",
          "Service and Parts",
          "Product",
          "Product",
          "Service and Parts",
          "Product",
          "Service and Parts",
          "Service and Parts",
          "Service and Parts",
          "Service and Parts",
          "Service and Parts",
          "Service and Parts",
          "Product",
          "Service and Parts",
          "Service and Parts",
          "Service and Parts",
          "Product",
          "Sales",
          "Service and Parts",
          "Service and Parts",
          "Service and Parts",
          "Service and Parts",
          "Product",
          "Service and Parts",
          "Product",
          "Service and Parts",
          "Service and Parts",
          "Service and Parts",
          "Product",
          "Product",
          "Service and Parts",
          "Product",
          "Service and Parts",
          "Service and Parts",
          "Product",
          "Service and Parts",
          "Service and Parts",
          "Service and Parts",
          "Service and Parts",
          "Service and Parts",
          "Sales",
          "Product",
          "Service and Parts",
          "Service and Parts",
          "Service and Parts",
          "Service and Parts",
          "Product",
          "Service and Parts",
          "Service and Parts",
          "Service and Parts",
          "Service and Parts",
          "Product",
          "Product",
          "Product",
          "Service and Parts",
          "Service and Parts",
          "Product",
          "Service and Parts",
          "Product",
          "Service and Parts",
          "Service and Parts",
          "Service and Parts",
          "Product",
          "Product",
          "Service and Parts",
          "Service and Parts",
          "Product",
          "Service and Parts",
          "Service and Parts",
          "Sales",
          "Service and Parts",
          "Service and Parts",
          "Service and Parts",
          "Service and Parts",
          "Product",
          "Service and Parts",
          "Service and Parts",
          "Service and Parts",
          "Sales",
          "Service and Parts",
          "Service and Parts",
          "Product",
          "Service and Parts",
          "Product",
          "Service and Parts",
          "Product",
          "Service and Parts",
          "Sales",
          "Service and Parts",
          "Product",
          "Service and Parts",
          "Service and Parts",
          "Service and Parts",
          "Service and Parts",
          "Service and Parts",
          "Sales",
          "Service and Parts",
          "Service and Parts",
          "Service and Parts",
          "Service and Parts",
          "Sales",
          "Service and Parts",
          "Product"
         ],
         "xaxis": "x",
         "yaxis": "y"
        }
       ],
       "layout": {
        "barmode": "relative",
        "height": 600,
        "legend": {
         "tracegroupgap": 0
        },
        "margin": {
         "t": 60
        },
        "template": {
         "data": {
          "bar": [
           {
            "error_x": {
             "color": "#2a3f5f"
            },
            "error_y": {
             "color": "#2a3f5f"
            },
            "marker": {
             "line": {
              "color": "#E5ECF6",
              "width": 0.5
             }
            },
            "type": "bar"
           }
          ],
          "barpolar": [
           {
            "marker": {
             "line": {
              "color": "#E5ECF6",
              "width": 0.5
             }
            },
            "type": "barpolar"
           }
          ],
          "carpet": [
           {
            "aaxis": {
             "endlinecolor": "#2a3f5f",
             "gridcolor": "white",
             "linecolor": "white",
             "minorgridcolor": "white",
             "startlinecolor": "#2a3f5f"
            },
            "baxis": {
             "endlinecolor": "#2a3f5f",
             "gridcolor": "white",
             "linecolor": "white",
             "minorgridcolor": "white",
             "startlinecolor": "#2a3f5f"
            },
            "type": "carpet"
           }
          ],
          "choropleth": [
           {
            "colorbar": {
             "outlinewidth": 0,
             "ticks": ""
            },
            "type": "choropleth"
           }
          ],
          "contour": [
           {
            "colorbar": {
             "outlinewidth": 0,
             "ticks": ""
            },
            "colorscale": [
             [
              0,
              "#0d0887"
             ],
             [
              0.1111111111111111,
              "#46039f"
             ],
             [
              0.2222222222222222,
              "#7201a8"
             ],
             [
              0.3333333333333333,
              "#9c179e"
             ],
             [
              0.4444444444444444,
              "#bd3786"
             ],
             [
              0.5555555555555556,
              "#d8576b"
             ],
             [
              0.6666666666666666,
              "#ed7953"
             ],
             [
              0.7777777777777778,
              "#fb9f3a"
             ],
             [
              0.8888888888888888,
              "#fdca26"
             ],
             [
              1,
              "#f0f921"
             ]
            ],
            "type": "contour"
           }
          ],
          "contourcarpet": [
           {
            "colorbar": {
             "outlinewidth": 0,
             "ticks": ""
            },
            "type": "contourcarpet"
           }
          ],
          "heatmap": [
           {
            "colorbar": {
             "outlinewidth": 0,
             "ticks": ""
            },
            "colorscale": [
             [
              0,
              "#0d0887"
             ],
             [
              0.1111111111111111,
              "#46039f"
             ],
             [
              0.2222222222222222,
              "#7201a8"
             ],
             [
              0.3333333333333333,
              "#9c179e"
             ],
             [
              0.4444444444444444,
              "#bd3786"
             ],
             [
              0.5555555555555556,
              "#d8576b"
             ],
             [
              0.6666666666666666,
              "#ed7953"
             ],
             [
              0.7777777777777778,
              "#fb9f3a"
             ],
             [
              0.8888888888888888,
              "#fdca26"
             ],
             [
              1,
              "#f0f921"
             ]
            ],
            "type": "heatmap"
           }
          ],
          "heatmapgl": [
           {
            "colorbar": {
             "outlinewidth": 0,
             "ticks": ""
            },
            "colorscale": [
             [
              0,
              "#0d0887"
             ],
             [
              0.1111111111111111,
              "#46039f"
             ],
             [
              0.2222222222222222,
              "#7201a8"
             ],
             [
              0.3333333333333333,
              "#9c179e"
             ],
             [
              0.4444444444444444,
              "#bd3786"
             ],
             [
              0.5555555555555556,
              "#d8576b"
             ],
             [
              0.6666666666666666,
              "#ed7953"
             ],
             [
              0.7777777777777778,
              "#fb9f3a"
             ],
             [
              0.8888888888888888,
              "#fdca26"
             ],
             [
              1,
              "#f0f921"
             ]
            ],
            "type": "heatmapgl"
           }
          ],
          "histogram": [
           {
            "marker": {
             "colorbar": {
              "outlinewidth": 0,
              "ticks": ""
             }
            },
            "type": "histogram"
           }
          ],
          "histogram2d": [
           {
            "colorbar": {
             "outlinewidth": 0,
             "ticks": ""
            },
            "colorscale": [
             [
              0,
              "#0d0887"
             ],
             [
              0.1111111111111111,
              "#46039f"
             ],
             [
              0.2222222222222222,
              "#7201a8"
             ],
             [
              0.3333333333333333,
              "#9c179e"
             ],
             [
              0.4444444444444444,
              "#bd3786"
             ],
             [
              0.5555555555555556,
              "#d8576b"
             ],
             [
              0.6666666666666666,
              "#ed7953"
             ],
             [
              0.7777777777777778,
              "#fb9f3a"
             ],
             [
              0.8888888888888888,
              "#fdca26"
             ],
             [
              1,
              "#f0f921"
             ]
            ],
            "type": "histogram2d"
           }
          ],
          "histogram2dcontour": [
           {
            "colorbar": {
             "outlinewidth": 0,
             "ticks": ""
            },
            "colorscale": [
             [
              0,
              "#0d0887"
             ],
             [
              0.1111111111111111,
              "#46039f"
             ],
             [
              0.2222222222222222,
              "#7201a8"
             ],
             [
              0.3333333333333333,
              "#9c179e"
             ],
             [
              0.4444444444444444,
              "#bd3786"
             ],
             [
              0.5555555555555556,
              "#d8576b"
             ],
             [
              0.6666666666666666,
              "#ed7953"
             ],
             [
              0.7777777777777778,
              "#fb9f3a"
             ],
             [
              0.8888888888888888,
              "#fdca26"
             ],
             [
              1,
              "#f0f921"
             ]
            ],
            "type": "histogram2dcontour"
           }
          ],
          "mesh3d": [
           {
            "colorbar": {
             "outlinewidth": 0,
             "ticks": ""
            },
            "type": "mesh3d"
           }
          ],
          "parcoords": [
           {
            "line": {
             "colorbar": {
              "outlinewidth": 0,
              "ticks": ""
             }
            },
            "type": "parcoords"
           }
          ],
          "scatter": [
           {
            "marker": {
             "colorbar": {
              "outlinewidth": 0,
              "ticks": ""
             }
            },
            "type": "scatter"
           }
          ],
          "scatter3d": [
           {
            "line": {
             "colorbar": {
              "outlinewidth": 0,
              "ticks": ""
             }
            },
            "marker": {
             "colorbar": {
              "outlinewidth": 0,
              "ticks": ""
             }
            },
            "type": "scatter3d"
           }
          ],
          "scattercarpet": [
           {
            "marker": {
             "colorbar": {
              "outlinewidth": 0,
              "ticks": ""
             }
            },
            "type": "scattercarpet"
           }
          ],
          "scattergeo": [
           {
            "marker": {
             "colorbar": {
              "outlinewidth": 0,
              "ticks": ""
             }
            },
            "type": "scattergeo"
           }
          ],
          "scattergl": [
           {
            "marker": {
             "colorbar": {
              "outlinewidth": 0,
              "ticks": ""
             }
            },
            "type": "scattergl"
           }
          ],
          "scattermapbox": [
           {
            "marker": {
             "colorbar": {
              "outlinewidth": 0,
              "ticks": ""
             }
            },
            "type": "scattermapbox"
           }
          ],
          "scatterpolar": [
           {
            "marker": {
             "colorbar": {
              "outlinewidth": 0,
              "ticks": ""
             }
            },
            "type": "scatterpolar"
           }
          ],
          "scatterpolargl": [
           {
            "marker": {
             "colorbar": {
              "outlinewidth": 0,
              "ticks": ""
             }
            },
            "type": "scatterpolargl"
           }
          ],
          "scatterternary": [
           {
            "marker": {
             "colorbar": {
              "outlinewidth": 0,
              "ticks": ""
             }
            },
            "type": "scatterternary"
           }
          ],
          "surface": [
           {
            "colorbar": {
             "outlinewidth": 0,
             "ticks": ""
            },
            "colorscale": [
             [
              0,
              "#0d0887"
             ],
             [
              0.1111111111111111,
              "#46039f"
             ],
             [
              0.2222222222222222,
              "#7201a8"
             ],
             [
              0.3333333333333333,
              "#9c179e"
             ],
             [
              0.4444444444444444,
              "#bd3786"
             ],
             [
              0.5555555555555556,
              "#d8576b"
             ],
             [
              0.6666666666666666,
              "#ed7953"
             ],
             [
              0.7777777777777778,
              "#fb9f3a"
             ],
             [
              0.8888888888888888,
              "#fdca26"
             ],
             [
              1,
              "#f0f921"
             ]
            ],
            "type": "surface"
           }
          ],
          "table": [
           {
            "cells": {
             "fill": {
              "color": "#EBF0F8"
             },
             "line": {
              "color": "white"
             }
            },
            "header": {
             "fill": {
              "color": "#C8D4E3"
             },
             "line": {
              "color": "white"
             }
            },
            "type": "table"
           }
          ]
         },
         "layout": {
          "annotationdefaults": {
           "arrowcolor": "#2a3f5f",
           "arrowhead": 0,
           "arrowwidth": 1
          },
          "colorscale": {
           "diverging": [
            [
             0,
             "#8e0152"
            ],
            [
             0.1,
             "#c51b7d"
            ],
            [
             0.2,
             "#de77ae"
            ],
            [
             0.3,
             "#f1b6da"
            ],
            [
             0.4,
             "#fde0ef"
            ],
            [
             0.5,
             "#f7f7f7"
            ],
            [
             0.6,
             "#e6f5d0"
            ],
            [
             0.7,
             "#b8e186"
            ],
            [
             0.8,
             "#7fbc41"
            ],
            [
             0.9,
             "#4d9221"
            ],
            [
             1,
             "#276419"
            ]
           ],
           "sequential": [
            [
             0,
             "#0d0887"
            ],
            [
             0.1111111111111111,
             "#46039f"
            ],
            [
             0.2222222222222222,
             "#7201a8"
            ],
            [
             0.3333333333333333,
             "#9c179e"
            ],
            [
             0.4444444444444444,
             "#bd3786"
            ],
            [
             0.5555555555555556,
             "#d8576b"
            ],
            [
             0.6666666666666666,
             "#ed7953"
            ],
            [
             0.7777777777777778,
             "#fb9f3a"
            ],
            [
             0.8888888888888888,
             "#fdca26"
            ],
            [
             1,
             "#f0f921"
            ]
           ],
           "sequentialminus": [
            [
             0,
             "#0d0887"
            ],
            [
             0.1111111111111111,
             "#46039f"
            ],
            [
             0.2222222222222222,
             "#7201a8"
            ],
            [
             0.3333333333333333,
             "#9c179e"
            ],
            [
             0.4444444444444444,
             "#bd3786"
            ],
            [
             0.5555555555555556,
             "#d8576b"
            ],
            [
             0.6666666666666666,
             "#ed7953"
            ],
            [
             0.7777777777777778,
             "#fb9f3a"
            ],
            [
             0.8888888888888888,
             "#fdca26"
            ],
            [
             1,
             "#f0f921"
            ]
           ]
          },
          "colorway": [
           "#636efa",
           "#EF553B",
           "#00cc96",
           "#ab63fa",
           "#FFA15A",
           "#19d3f3",
           "#FF6692",
           "#B6E880",
           "#FF97FF",
           "#FECB52"
          ],
          "font": {
           "color": "#2a3f5f"
          },
          "geo": {
           "bgcolor": "white",
           "lakecolor": "white",
           "landcolor": "#E5ECF6",
           "showlakes": true,
           "showland": true,
           "subunitcolor": "white"
          },
          "hoverlabel": {
           "align": "left"
          },
          "hovermode": "closest",
          "mapbox": {
           "style": "light"
          },
          "paper_bgcolor": "white",
          "plot_bgcolor": "#E5ECF6",
          "polar": {
           "angularaxis": {
            "gridcolor": "white",
            "linecolor": "white",
            "ticks": ""
           },
           "bgcolor": "#E5ECF6",
           "radialaxis": {
            "gridcolor": "white",
            "linecolor": "white",
            "ticks": ""
           }
          },
          "scene": {
           "xaxis": {
            "backgroundcolor": "#E5ECF6",
            "gridcolor": "white",
            "gridwidth": 2,
            "linecolor": "white",
            "showbackground": true,
            "ticks": "",
            "zerolinecolor": "white"
           },
           "yaxis": {
            "backgroundcolor": "#E5ECF6",
            "gridcolor": "white",
            "gridwidth": 2,
            "linecolor": "white",
            "showbackground": true,
            "ticks": "",
            "zerolinecolor": "white"
           },
           "zaxis": {
            "backgroundcolor": "#E5ECF6",
            "gridcolor": "white",
            "gridwidth": 2,
            "linecolor": "white",
            "showbackground": true,
            "ticks": "",
            "zerolinecolor": "white"
           }
          },
          "shapedefaults": {
           "line": {
            "color": "#2a3f5f"
           }
          },
          "ternary": {
           "aaxis": {
            "gridcolor": "white",
            "linecolor": "white",
            "ticks": ""
           },
           "baxis": {
            "gridcolor": "white",
            "linecolor": "white",
            "ticks": ""
           },
           "bgcolor": "#E5ECF6",
           "caxis": {
            "gridcolor": "white",
            "linecolor": "white",
            "ticks": ""
           }
          },
          "title": {
           "x": 0.05
          },
          "xaxis": {
           "automargin": true,
           "gridcolor": "white",
           "linecolor": "white",
           "ticks": "",
           "zerolinecolor": "white",
           "zerolinewidth": 2
          },
          "yaxis": {
           "automargin": true,
           "gridcolor": "white",
           "linecolor": "white",
           "ticks": "",
           "zerolinecolor": "white",
           "zerolinewidth": 2
          }
         }
        },
        "xaxis": {
         "anchor": "y",
         "domain": [
          0,
          0.98
         ],
         "title": {
          "text": "x"
         }
        },
        "yaxis": {
         "anchor": "x",
         "domain": [
          0,
          1
         ],
         "title": {
          "text": "count"
         }
        }
       }
      },
      "text/html": [
       "<div>\n",
       "        \n",
       "        \n",
       "            <div id=\"885a0a71-98ac-4824-a8b5-14a496189451\" class=\"plotly-graph-div\" style=\"height:600px; width:100%;\"></div>\n",
       "            <script type=\"text/javascript\">\n",
       "                require([\"plotly\"], function(Plotly) {\n",
       "                    window.PLOTLYENV=window.PLOTLYENV || {};\n",
       "                    \n",
       "                if (document.getElementById(\"885a0a71-98ac-4824-a8b5-14a496189451\")) {\n",
       "                    Plotly.newPlot(\n",
       "                        '885a0a71-98ac-4824-a8b5-14a496189451',\n",
       "                        [{\"alignmentgroup\": \"True\", \"bingroup\": \"x\", \"hoverlabel\": {\"namelength\": 0}, \"hovertemplate\": \"x=%{x}<br>count=%{y}\", \"legendgroup\": \"\", \"marker\": {\"color\": \"#636efa\"}, \"name\": \"\", \"offsetgroup\": \"\", \"orientation\": \"v\", \"showlegend\": false, \"type\": \"histogram\", \"x\": [\"Service and Parts\", \"Service and Parts\", \"Service and Parts\", \"Service and Parts\", \"Sales\", \"Product\", \"Product\", \"Service and Parts\", \"Service and Parts\", \"Product\", \"Service and Parts\", \"Sales\", \"Service and Parts\", \"Service and Parts\", \"Service and Parts\", \"Service and Parts\", \"Sales\", \"Service and Parts\", \"Service and Parts\", \"Service and Parts\", \"Service and Parts\", \"Product\", \"Service and Parts\", \"Service and Parts\", \"Service and Parts\", \"Service and Parts\", \"Product\", \"Product\", \"Service and Parts\", \"Product\", \"Sales\", \"Service and Parts\", \"Service and Parts\", \"Sales\", \"Service and Parts\", \"Product\", \"Sales\", \"Sales\", \"Service and Parts\", \"Service and Parts\", \"Sales\", \"Product\", \"Service and Parts\", \"Service and Parts\", \"Service and Parts\", \"Service and Parts\", \"Product\", \"Sales\", \"Service and Parts\", \"Service and Parts\", \"Product\", \"Service and Parts\", \"Service and Parts\", \"Service and Parts\", \"Product\", \"Product\", \"Service and Parts\", \"Service and Parts\", \"Service and Parts\", \"Service and Parts\", \"Product\", \"Product\", \"Product\", \"Product\", \"Service and Parts\", \"Service and Parts\", \"Service and Parts\", \"Service and Parts\", \"Product\", \"Service and Parts\", \"Service and Parts\", \"Service and Parts\", \"Service and Parts\", \"Service and Parts\", \"Service and Parts\", \"Service and Parts\", \"Service and Parts\", \"Service and Parts\", \"Service and Parts\", \"Product\", \"Service and Parts\", \"Product\", \"Service and Parts\", \"Service and Parts\", \"Product\", \"Product\", \"Service and Parts\", \"Service and Parts\", \"Sales\", \"Service and Parts\", \"Product\", \"Service and Parts\", \"Sales\", \"Service and Parts\", \"Sales\", \"Service and Parts\", \"Service and Parts\", \"Service and Parts\", \"Service and Parts\", \"Service and Parts\", \"Sales\", \"Service and Parts\", \"Service and Parts\", \"Service and Parts\", \"Service and Parts\", \"Product\", \"Service and Parts\", \"Sales\", \"Product\", \"Product\", \"Service and Parts\", \"Service and Parts\", \"Service and Parts\", \"Product\", \"Service and Parts\", \"Product\", \"Service and Parts\", \"Service and Parts\", \"Service and Parts\", \"Service and Parts\", \"Sales\", \"Sales\", \"Product\", \"Service and Parts\", \"Service and Parts\", \"Service and Parts\", \"Service and Parts\", \"Product\", \"Sales\", \"Service and Parts\", \"Service and Parts\", \"Service and Parts\", \"Product\", \"Product\", \"Product\", \"Product\", \"Service and Parts\", \"Service and Parts\", \"Service and Parts\", \"Service and Parts\", \"Product\", \"Service and Parts\", \"Service and Parts\", \"Sales\", \"Sales\", \"Product\", \"Service and Parts\", \"Product\", \"Service and Parts\", \"Service and Parts\", \"Service and Parts\", \"Service and Parts\", \"Service and Parts\", \"Product\", \"Service and Parts\", \"Service and Parts\", \"Sales\", \"Service and Parts\", \"Service and Parts\", \"Service and Parts\", \"Service and Parts\", \"Product\", \"Product\", \"Service and Parts\", \"Sales\", \"Product\", \"Service and Parts\", \"Product\", \"Service and Parts\", \"Service and Parts\", \"Product\", \"Product\", \"Service and Parts\", \"Service and Parts\", \"Product\", \"Service and Parts\", \"Service and Parts\", \"Service and Parts\", \"Service and Parts\", \"Service and Parts\", \"Service and Parts\", \"Service and Parts\", \"Product\", \"Service and Parts\", \"Service and Parts\", \"Sales\", \"Service and Parts\", \"Service and Parts\", \"Service and Parts\", \"Sales\", \"Service and Parts\", \"Service and Parts\", \"Product\", \"Sales\", \"Product\", \"Service and Parts\", \"Service and Parts\", \"Product\", \"Service and Parts\", \"Sales\", \"Service and Parts\", \"Service and Parts\", \"Product\", \"Sales\", \"Product\", \"Service and Parts\", \"Service and Parts\", \"Product\", \"Sales\", \"Service and Parts\", \"Product\", \"Service and Parts\", \"Product\", \"Service and Parts\", \"Service and Parts\", \"Service and Parts\", \"Service and Parts\", \"Sales\", \"Product\", \"Product\", \"Product\", \"Service and Parts\", \"Service and Parts\", \"Service and Parts\", \"Service and Parts\", \"Service and Parts\", \"Service and Parts\", \"Service and Parts\", \"Service and Parts\", \"Product\", \"Service and Parts\", \"Product\", \"Service and Parts\", \"Product\", \"Product\", \"Sales\", \"Service and Parts\", \"Service and Parts\", \"Service and Parts\", \"Service and Parts\", \"Service and Parts\", \"Sales\", \"Service and Parts\", \"Service and Parts\", \"Service and Parts\", \"Product\", \"Product\", \"Product\", \"Service and Parts\", \"Service and Parts\", \"Service and Parts\", \"Service and Parts\", \"Sales\", \"Service and Parts\", \"Service and Parts\", \"Service and Parts\", \"Service and Parts\", \"Service and Parts\", \"Service and Parts\", \"Product\", \"Service and Parts\", \"Service and Parts\", \"Service and Parts\", \"Service and Parts\", \"Service and Parts\", \"Service and Parts\", \"Product\", \"Service and Parts\", \"Product\", \"Service and Parts\", \"Service and Parts\", \"Service and Parts\", \"Service and Parts\", \"Service and Parts\", \"Service and Parts\", \"Service and Parts\", \"Service and Parts\", \"Service and Parts\", \"Service and Parts\", \"Product\", \"Service and Parts\", \"Product\", \"Service and Parts\", \"Product\", \"Service and Parts\", \"Service and Parts\", \"Service and Parts\", \"Service and Parts\", \"Service and Parts\", \"Service and Parts\", \"Service and Parts\", \"Service and Parts\", \"Service and Parts\", \"Product\", \"Service and Parts\", \"Service and Parts\", \"Service and Parts\", \"Sales\", \"Service and Parts\", \"Service and Parts\", \"Service and Parts\", \"Service and Parts\", \"Service and Parts\", \"Service and Parts\", \"Service and Parts\", \"Service and Parts\", \"Service and Parts\", \"Service and Parts\", \"Service and Parts\", \"Service and Parts\", \"Sales\", \"Product\", \"Service and Parts\", \"Service and Parts\", \"Service and Parts\", \"Sales\", \"Service and Parts\", \"Service and Parts\", \"Service and Parts\", \"Service and Parts\", \"Product\", \"Service and Parts\", \"Sales\", \"Service and Parts\", \"Service and Parts\", \"Service and Parts\", \"Product\", \"Service and Parts\", \"Service and Parts\", \"Service and Parts\", \"Service and Parts\", \"Service and Parts\", \"Service and Parts\", \"Service and Parts\", \"Service and Parts\", \"Service and Parts\", \"Service and Parts\", \"Service and Parts\", \"Sales\", \"Service and Parts\", \"Service and Parts\", \"Service and Parts\", \"Service and Parts\", \"Product\", \"Sales\", \"Sales\", \"Service and Parts\", \"Service and Parts\", \"Sales\", \"Service and Parts\", \"Service and Parts\", \"Product\", \"Sales\", \"Service and Parts\", \"Service and Parts\", \"Service and Parts\", \"Service and Parts\", \"Service and Parts\", \"Service and Parts\", \"Service and Parts\", \"Service and Parts\", \"Service and Parts\", \"Service and Parts\", \"Sales\", \"Product\", \"Service and Parts\", \"Service and Parts\", \"Product\", \"Sales\", \"Product\", \"Sales\", \"Service and Parts\", \"Sales\", \"Product\", \"Sales\", \"Product\", \"Service and Parts\", \"Service and Parts\", \"Sales\", \"Service and Parts\", \"Product\", \"Service and Parts\", \"Sales\", \"Sales\", \"Product\", \"Service and Parts\", \"Sales\", \"Sales\", \"Service and Parts\", \"Product\", \"Sales\", \"Service and Parts\", \"Product\", \"Service and Parts\", \"Service and Parts\", \"Product\", \"Service and Parts\", \"Service and Parts\", \"Sales\", \"Service and Parts\", \"Product\", \"Service and Parts\", \"Service and Parts\", \"Service and Parts\", \"Service and Parts\", \"Product\", \"Product\", \"Service and Parts\", \"Service and Parts\", \"Service and Parts\", \"Service and Parts\", \"Service and Parts\", \"Sales\", \"Service and Parts\", \"Service and Parts\", \"Service and Parts\", \"Service and Parts\", \"Service and Parts\", \"Service and Parts\", \"Service and Parts\", \"Service and Parts\", \"Service and Parts\", \"Product\", \"Product\", \"Product\", \"Service and Parts\", \"Product\", \"Product\", \"Service and Parts\", \"Service and Parts\", \"Service and Parts\", \"Service and Parts\", \"Service and Parts\", \"Service and Parts\", \"Service and Parts\", \"Product\", \"Service and Parts\", \"Service and Parts\", \"Service and Parts\", \"Service and Parts\", \"Product\", \"Sales\", \"Service and Parts\", \"Product\", \"Service and Parts\", \"Service and Parts\", \"Service and Parts\", \"Service and Parts\", \"Service and Parts\", \"Sales\", \"Product\", \"Service and Parts\", \"Product\", \"Service and Parts\", \"Service and Parts\", \"Service and Parts\", \"Service and Parts\", \"Service and Parts\", \"Service and Parts\", \"Service and Parts\", \"Service and Parts\", \"Service and Parts\", \"Service and Parts\", \"Sales\", \"Service and Parts\", \"Service and Parts\", \"Service and Parts\", \"Service and Parts\", \"Service and Parts\", \"Product\", \"Service and Parts\", \"Service and Parts\", \"Service and Parts\", \"Service and Parts\", \"Product\", \"Service and Parts\", \"Service and Parts\", \"Product\", \"Service and Parts\", \"Service and Parts\", \"Service and Parts\", \"Service and Parts\", \"Service and Parts\", \"Service and Parts\", \"Service and Parts\", \"Product\", \"Service and Parts\", \"Service and Parts\", \"Product\", \"Service and Parts\", \"Service and Parts\", \"Service and Parts\", \"Service and Parts\", \"Service and Parts\", \"Service and Parts\", \"Service and Parts\", \"Service and Parts\", \"Service and Parts\", \"Service and Parts\", \"Sales\", \"Service and Parts\", \"Sales\", \"Service and Parts\", \"Sales\", \"Sales\", \"Product\", \"Service and Parts\", \"Sales\", \"Sales\", \"Service and Parts\", \"Product\", \"Service and Parts\", \"Sales\", \"Service and Parts\", \"Service and Parts\", \"Service and Parts\", \"Sales\", \"Service and Parts\", \"Service and Parts\", \"Service and Parts\", \"Product\", \"Service and Parts\", \"Service and Parts\", \"Product\", \"Service and Parts\", \"Service and Parts\", \"Service and Parts\", \"Service and Parts\", \"Service and Parts\", \"Service and Parts\", \"Service and Parts\", \"Sales\", \"Sales\", \"Sales\", \"Sales\", \"Service and Parts\", \"Service and Parts\", \"Service and Parts\", \"Service and Parts\", \"Service and Parts\", \"Service and Parts\", \"Product\", \"Service and Parts\", \"Product\", \"Service and Parts\", \"Service and Parts\", \"Service and Parts\", \"Service and Parts\", \"Sales\", \"Service and Parts\", \"Product\", \"Service and Parts\", \"Product\", \"Service and Parts\", \"Sales\", \"Service and Parts\", \"Service and Parts\", \"Service and Parts\", \"Service and Parts\", \"Service and Parts\", \"Product\", \"Service and Parts\", \"Product\", \"Service and Parts\", \"Service and Parts\", \"Product\", \"Service and Parts\", \"Sales\", \"Service and Parts\", \"Service and Parts\", \"Product\", \"Service and Parts\", \"Service and Parts\", \"Sales\", \"Service and Parts\", \"Service and Parts\", \"Service and Parts\", \"Service and Parts\", \"Service and Parts\", \"Service and Parts\", \"Sales\", \"Service and Parts\", \"Product\", \"Service and Parts\", \"Service and Parts\", \"Service and Parts\", \"Service and Parts\", \"Service and Parts\", \"Service and Parts\", \"Service and Parts\", \"Service and Parts\", \"Service and Parts\", \"Service and Parts\", \"Product\", \"Product\", \"Product\", \"Service and Parts\", \"Service and Parts\", \"Product\", \"Service and Parts\", \"Service and Parts\", \"Product\", \"Product\", \"Service and Parts\", \"Service and Parts\", \"Sales\", \"Service and Parts\", \"Service and Parts\", \"Product\", \"Service and Parts\", \"Service and Parts\", \"Service and Parts\", \"Service and Parts\", \"Service and Parts\", \"Service and Parts\", \"Product\", \"Service and Parts\", \"Service and Parts\", \"Service and Parts\", \"Service and Parts\", \"Service and Parts\", \"Sales\", \"Service and Parts\", \"Product\", \"Service and Parts\", \"Service and Parts\", \"Service and Parts\", \"Service and Parts\", \"Sales\", \"Product\", \"Service and Parts\", \"Service and Parts\", \"Service and Parts\", \"Sales\", \"Service and Parts\", \"Service and Parts\", \"Service and Parts\", \"Sales\", \"Service and Parts\", \"Service and Parts\", \"Service and Parts\", \"Service and Parts\", \"Service and Parts\", \"Sales\", \"Product\", \"Service and Parts\", \"Service and Parts\", \"Product\", \"Service and Parts\", \"Service and Parts\", \"Sales\", \"Service and Parts\", \"Service and Parts\", \"Service and Parts\", \"Service and Parts\", \"Product\", \"Service and Parts\", \"Service and Parts\", \"Service and Parts\", \"Service and Parts\", \"Service and Parts\", \"Service and Parts\", \"Service and Parts\", \"Service and Parts\", \"Product\", \"Service and Parts\", \"Product\", \"Sales\", \"Product\", \"Service and Parts\", \"Service and Parts\", \"Product\", \"Service and Parts\", \"Service and Parts\", \"Product\", \"Product\", \"Sales\", \"Product\", \"Product\", \"Service and Parts\", \"Sales\", \"Product\", \"Product\", \"Service and Parts\", \"Service and Parts\", \"Service and Parts\", \"Service and Parts\", \"Service and Parts\", \"Service and Parts\", \"Service and Parts\", \"Service and Parts\", \"Product\", \"Service and Parts\", \"Service and Parts\", \"Service and Parts\", \"Service and Parts\", \"Service and Parts\", \"Service and Parts\", \"Service and Parts\", \"Service and Parts\", \"Service and Parts\", \"Service and Parts\", \"Service and Parts\", \"Service and Parts\", \"Service and Parts\", \"Product\", \"Service and Parts\", \"Service and Parts\", \"Product\", \"Service and Parts\", \"Sales\", \"Service and Parts\", \"Service and Parts\", \"Service and Parts\", \"Service and Parts\", \"Product\", \"Service and Parts\", \"Service and Parts\", \"Service and Parts\", \"Service and Parts\", \"Service and Parts\", \"Service and Parts\", \"Product\", \"Service and Parts\", \"Product\", \"Service and Parts\", \"Service and Parts\", \"Service and Parts\", \"Service and Parts\", \"Product\", \"Service and Parts\", \"Service and Parts\", \"Sales\", \"Service and Parts\", \"Service and Parts\", \"Service and Parts\", \"Sales\", \"Service and Parts\", \"Service and Parts\", \"Service and Parts\", \"Service and Parts\", \"Sales\", \"Service and Parts\", \"Service and Parts\", \"Service and Parts\", \"Service and Parts\", \"Product\", \"Service and Parts\", \"Service and Parts\", \"Service and Parts\", \"Service and Parts\", \"Service and Parts\", \"Service and Parts\", \"Sales\", \"Service and Parts\", \"Service and Parts\", \"Product\", \"Product\", \"Service and Parts\", \"Product\", \"Product\", \"Service and Parts\", \"Product\", \"Service and Parts\", \"Service and Parts\", \"Product\", \"Sales\", \"Service and Parts\", \"Service and Parts\", \"Service and Parts\", \"Service and Parts\", \"Service and Parts\", \"Service and Parts\", \"Service and Parts\", \"Service and Parts\", \"Service and Parts\", \"Service and Parts\", \"Service and Parts\", \"Service and Parts\", \"Sales\", \"Service and Parts\", \"Service and Parts\", \"Service and Parts\", \"Service and Parts\", \"Product\", \"Service and Parts\", \"Service and Parts\", \"Product\", \"Service and Parts\", \"Service and Parts\", \"Service and Parts\", \"Service and Parts\", \"Service and Parts\", \"Service and Parts\", \"Sales\", \"Service and Parts\", \"Product\", \"Service and Parts\", \"Service and Parts\", \"Sales\", \"Service and Parts\", \"Service and Parts\", \"Service and Parts\", \"Service and Parts\", \"Service and Parts\", \"Service and Parts\", \"Product\", \"Service and Parts\", \"Service and Parts\", \"Service and Parts\", \"Service and Parts\", \"Service and Parts\", \"Service and Parts\", \"Sales\", \"Service and Parts\", \"Service and Parts\", \"Product\", \"Service and Parts\", \"Service and Parts\", \"Service and Parts\", \"Product\", \"Service and Parts\", \"Service and Parts\", \"Service and Parts\", \"Service and Parts\", \"Product\", \"Service and Parts\", \"Sales\", \"Service and Parts\", \"Product\", \"Service and Parts\", \"Service and Parts\", \"Service and Parts\", \"Service and Parts\", \"Service and Parts\", \"Product\", \"Service and Parts\", \"Service and Parts\", \"Product\", \"Product\", \"Service and Parts\", \"Service and Parts\", \"Service and Parts\", \"Service and Parts\", \"Product\", \"Sales\", \"Service and Parts\", \"Service and Parts\", \"Service and Parts\", \"Service and Parts\", \"Sales\", \"Service and Parts\", \"Service and Parts\", \"Service and Parts\", \"Service and Parts\", \"Service and Parts\", \"Service and Parts\", \"Service and Parts\", \"Product\", \"Service and Parts\", \"Service and Parts\", \"Sales\", \"Service and Parts\", \"Service and Parts\", \"Service and Parts\", \"Service and Parts\", \"Service and Parts\", \"Service and Parts\", \"Service and Parts\", \"Service and Parts\", \"Service and Parts\", \"Service and Parts\", \"Service and Parts\", \"Service and Parts\", \"Service and Parts\", \"Product\", \"Service and Parts\", \"Service and Parts\", \"Service and Parts\", \"Service and Parts\", \"Service and Parts\", \"Product\", \"Service and Parts\", \"Service and Parts\", \"Service and Parts\", \"Service and Parts\", \"Service and Parts\", \"Service and Parts\", \"Service and Parts\", \"Service and Parts\", \"Product\", \"Service and Parts\", \"Service and Parts\", \"Service and Parts\", \"Service and Parts\", \"Service and Parts\", \"Service and Parts\", \"Product\", \"Service and Parts\", \"Service and Parts\", \"Service and Parts\", \"Service and Parts\", \"Service and Parts\", \"Service and Parts\", \"Service and Parts\", \"Service and Parts\", \"Service and Parts\", \"Service and Parts\", \"Sales\", \"Service and Parts\", \"Service and Parts\", \"Service and Parts\", \"Service and Parts\", \"Service and Parts\", \"Service and Parts\", \"Service and Parts\", \"Product\", \"Service and Parts\", \"Sales\", \"Service and Parts\", \"Service and Parts\", \"Service and Parts\", \"Service and Parts\", \"Product\", \"Service and Parts\", \"Service and Parts\", \"Service and Parts\", \"Service and Parts\", \"Service and Parts\", \"Service and Parts\", \"Service and Parts\", \"Service and Parts\", \"Service and Parts\", \"Service and Parts\", \"Service and Parts\", \"Product\", \"Service and Parts\", \"Product\", \"Service and Parts\", \"Service and Parts\", \"Service and Parts\", \"Product\", \"Service and Parts\", \"Sales\", \"Service and Parts\", \"Service and Parts\", \"Product\", \"Service and Parts\", \"Service and Parts\", \"Service and Parts\", \"Service and Parts\", \"Service and Parts\", \"Service and Parts\", \"Service and Parts\", \"Sales\", \"Service and Parts\", \"Service and Parts\", \"Service and Parts\", \"Product\", \"Service and Parts\", \"Service and Parts\", \"Service and Parts\", \"Service and Parts\", \"Service and Parts\", \"Service and Parts\", \"Service and Parts\", \"Sales\", \"Sales\", \"Sales\", \"Service and Parts\", \"Service and Parts\", \"Service and Parts\", \"Product\", \"Product\", \"Service and Parts\", \"Service and Parts\", \"Service and Parts\", \"Service and Parts\", \"Service and Parts\", \"Product\", \"Product\", \"Product\", \"Service and Parts\", \"Product\", \"Service and Parts\", \"Service and Parts\", \"Service and Parts\", \"Service and Parts\", \"Service and Parts\", \"Service and Parts\", \"Service and Parts\", \"Service and Parts\", \"Service and Parts\", \"Service and Parts\", \"Service and Parts\", \"Sales\", \"Service and Parts\", \"Service and Parts\", \"Sales\", \"Service and Parts\", \"Service and Parts\", \"Service and Parts\", \"Service and Parts\", \"Service and Parts\", \"Product\", \"Service and Parts\", \"Sales\", \"Service and Parts\", \"Service and Parts\", \"Sales\", \"Service and Parts\", \"Product\", \"Product\", \"Service and Parts\", \"Service and Parts\", \"Service and Parts\", \"Service and Parts\", \"Service and Parts\", \"Service and Parts\", \"Service and Parts\", \"Service and Parts\", \"Product\", \"Service and Parts\", \"Product\", \"Service and Parts\", \"Service and Parts\", \"Service and Parts\", \"Service and Parts\", \"Service and Parts\", \"Service and Parts\", \"Service and Parts\", \"Service and Parts\", \"Service and Parts\", \"Service and Parts\", \"Service and Parts\", \"Service and Parts\", \"Service and Parts\", \"Product\", \"Sales\", \"Product\", \"Service and Parts\", \"Service and Parts\", \"Product\", \"Service and Parts\", \"Product\", \"Service and Parts\", \"Service and Parts\", \"Sales\", \"Service and Parts\", \"Sales\", \"Service and Parts\", \"Service and Parts\", \"Service and Parts\", \"Product\", \"Product\", \"Service and Parts\", \"Service and Parts\", \"Service and Parts\", \"Service and Parts\", \"Service and Parts\", \"Product\", \"Service and Parts\", \"Sales\", \"Service and Parts\", \"Service and Parts\", \"Service and Parts\", \"Service and Parts\", \"Product\", \"Service and Parts\", \"Service and Parts\", \"Service and Parts\", \"Service and Parts\", \"Service and Parts\", \"Product\", \"Sales\", \"Product\", \"Product\", \"Product\", \"Sales\", \"Product\", \"Sales\", \"Service and Parts\", \"Service and Parts\", \"Service and Parts\", \"Service and Parts\", \"Sales\", \"Service and Parts\", \"Product\", \"Service and Parts\", \"Service and Parts\", \"Service and Parts\", \"Service and Parts\", \"Service and Parts\", \"Sales\", \"Service and Parts\", \"Service and Parts\", \"Product\", \"Service and Parts\", \"Product\", \"Service and Parts\", \"Service and Parts\", \"Service and Parts\", \"Service and Parts\", \"Service and Parts\", \"Service and Parts\", \"Service and Parts\", \"Product\", \"Service and Parts\", \"Service and Parts\", \"Product\", \"Service and Parts\", \"Service and Parts\", \"Service and Parts\", \"Service and Parts\", \"Service and Parts\", \"Sales\", \"Service and Parts\", \"Service and Parts\", \"Service and Parts\", \"Service and Parts\", \"Product\", \"Sales\", \"Service and Parts\", \"Product\", \"Service and Parts\", \"Service and Parts\", \"Service and Parts\", \"Service and Parts\", \"Sales\", \"Service and Parts\", \"Product\", \"Service and Parts\", \"Service and Parts\", \"Service and Parts\", \"Service and Parts\", \"Service and Parts\", \"Sales\", \"Service and Parts\", \"Product\", \"Product\", \"Service and Parts\", \"Product\", \"Service and Parts\", \"Product\", \"Service and Parts\", \"Product\", \"Product\", \"Service and Parts\", \"Service and Parts\", \"Service and Parts\", \"Service and Parts\", \"Service and Parts\", \"Product\", \"Product\", \"Service and Parts\", \"Service and Parts\", \"Service and Parts\", \"Service and Parts\", \"Sales\", \"Service and Parts\", \"Service and Parts\", \"Product\", \"Service and Parts\", \"Service and Parts\", \"Service and Parts\", \"Service and Parts\", \"Product\", \"Service and Parts\", \"Service and Parts\", \"Product\", \"Service and Parts\", \"Service and Parts\", \"Service and Parts\", \"Service and Parts\", \"Service and Parts\", \"Product\", \"Service and Parts\", \"Service and Parts\", \"Service and Parts\", \"Service and Parts\", \"Product\", \"Service and Parts\", \"Service and Parts\", \"Product\", \"Service and Parts\", \"Service and Parts\", \"Service and Parts\", \"Service and Parts\", \"Service and Parts\", \"Service and Parts\", \"Service and Parts\", \"Service and Parts\", \"Service and Parts\", \"Service and Parts\", \"Sales\", \"Product\", \"Service and Parts\", \"Service and Parts\", \"Service and Parts\", \"Product\", \"Service and Parts\", \"Service and Parts\", \"Sales\", \"Service and Parts\", \"Service and Parts\", \"Product\", \"Service and Parts\", \"Service and Parts\", \"Service and Parts\", \"Service and Parts\", \"Service and Parts\", \"Service and Parts\", \"Service and Parts\", \"Service and Parts\", \"Service and Parts\", \"Sales\", \"Service and Parts\", \"Service and Parts\", \"Service and Parts\", \"Service and Parts\", \"Product\", \"Service and Parts\", \"Service and Parts\", \"Product\", \"Product\", \"Service and Parts\", \"Service and Parts\", \"Service and Parts\", \"Service and Parts\", \"Service and Parts\", \"Product\", \"Service and Parts\", \"Product\", \"Service and Parts\", \"Service and Parts\", \"Product\", \"Product\", \"Service and Parts\", \"Service and Parts\", \"Service and Parts\", \"Service and Parts\", \"Service and Parts\", \"Service and Parts\", \"Service and Parts\", \"Service and Parts\", \"Service and Parts\", \"Sales\", \"Service and Parts\", \"Service and Parts\", \"Product\", \"Service and Parts\", \"Sales\", \"Service and Parts\", \"Service and Parts\", \"Service and Parts\", \"Service and Parts\", \"Service and Parts\", \"Sales\", \"Service and Parts\", \"Product\", \"Service and Parts\", \"Product\", \"Service and Parts\", \"Product\", \"Product\", \"Service and Parts\", \"Product\", \"Service and Parts\", \"Service and Parts\", \"Product\", \"Service and Parts\", \"Service and Parts\", \"Service and Parts\", \"Product\", \"Product\", \"Service and Parts\", \"Service and Parts\", \"Service and Parts\", \"Service and Parts\", \"Service and Parts\", \"Service and Parts\", \"Product\", \"Product\", \"Product\", \"Service and Parts\", \"Service and Parts\", \"Product\", \"Service and Parts\", \"Service and Parts\", \"Service and Parts\", \"Service and Parts\", \"Service and Parts\", \"Service and Parts\", \"Service and Parts\", \"Service and Parts\", \"Service and Parts\", \"Sales\", \"Product\", \"Service and Parts\", \"Service and Parts\", \"Service and Parts\", \"Service and Parts\", \"Service and Parts\", \"Service and Parts\", \"Service and Parts\", \"Service and Parts\", \"Service and Parts\", \"Product\", \"Service and Parts\", \"Product\", \"Product\", \"Service and Parts\", \"Product\", \"Service and Parts\", \"Sales\", \"Service and Parts\", \"Service and Parts\", \"Product\", \"Service and Parts\", \"Service and Parts\", \"Service and Parts\", \"Product\", \"Service and Parts\", \"Service and Parts\", \"Service and Parts\", \"Sales\", \"Service and Parts\", \"Service and Parts\", \"Service and Parts\", \"Service and Parts\", \"Service and Parts\", \"Service and Parts\", \"Product\", \"Service and Parts\", \"Service and Parts\", \"Product\", \"Product\", \"Service and Parts\", \"Service and Parts\", \"Service and Parts\", \"Service and Parts\", \"Service and Parts\", \"Service and Parts\", \"Service and Parts\", \"Product\", \"Service and Parts\", \"Service and Parts\", \"Service and Parts\", \"Service and Parts\", \"Product\", \"Service and Parts\", \"Service and Parts\", \"Product\", \"Service and Parts\", \"Sales\", \"Service and Parts\", \"Sales\", \"Product\", \"Service and Parts\", \"Service and Parts\", \"Service and Parts\", \"Service and Parts\", \"Product\", \"Product\", \"Sales\", \"Service and Parts\", \"Service and Parts\", \"Service and Parts\", \"Service and Parts\", \"Product\", \"Service and Parts\", \"Service and Parts\", \"Service and Parts\", \"Product\", \"Service and Parts\", \"Product\", \"Service and Parts\", \"Service and Parts\", \"Service and Parts\", \"Service and Parts\", \"Service and Parts\", \"Service and Parts\", \"Service and Parts\", \"Service and Parts\", \"Product\", \"Service and Parts\", \"Service and Parts\", \"Service and Parts\", \"Service and Parts\", \"Service and Parts\", \"Service and Parts\", \"Product\", \"Service and Parts\", \"Product\", \"Sales\", \"Service and Parts\", \"Service and Parts\", \"Service and Parts\", \"Sales\", \"Service and Parts\", \"Service and Parts\", \"Service and Parts\", \"Service and Parts\", \"Service and Parts\", \"Service and Parts\", \"Service and Parts\", \"Product\", \"Service and Parts\", \"Service and Parts\", \"Service and Parts\", \"Product\", \"Service and Parts\", \"Product\", \"Service and Parts\", \"Product\", \"Service and Parts\", \"Service and Parts\", \"Product\", \"Product\", \"Service and Parts\", \"Service and Parts\", \"Service and Parts\", \"Service and Parts\", \"Product\", \"Service and Parts\", \"Sales\", \"Sales\", \"Service and Parts\", \"Service and Parts\", \"Service and Parts\", \"Service and Parts\", \"Sales\", \"Service and Parts\", \"Service and Parts\", \"Sales\", \"Service and Parts\", \"Service and Parts\", \"Service and Parts\", \"Service and Parts\", \"Sales\", \"Service and Parts\", \"Service and Parts\", \"Service and Parts\", \"Service and Parts\", \"Service and Parts\", \"Service and Parts\", \"Service and Parts\", \"Sales\", \"Service and Parts\", \"Service and Parts\", \"Service and Parts\", \"Service and Parts\", \"Service and Parts\", \"Product\", \"Service and Parts\", \"Product\", \"Product\", \"Service and Parts\", \"Service and Parts\", \"Service and Parts\", \"Service and Parts\", \"Service and Parts\", \"Product\", \"Service and Parts\", \"Product\", \"Service and Parts\", \"Product\", \"Service and Parts\", \"Service and Parts\", \"Service and Parts\", \"Service and Parts\", \"Service and Parts\", \"Service and Parts\", \"Service and Parts\", \"Product\", \"Service and Parts\", \"Service and Parts\", \"Service and Parts\", \"Product\", \"Service and Parts\", \"Service and Parts\", \"Product\", \"Product\", \"Sales\", \"Service and Parts\", \"Sales\", \"Service and Parts\", \"Service and Parts\", \"Service and Parts\", \"Service and Parts\", \"Service and Parts\", \"Product\", \"Service and Parts\", \"Service and Parts\", \"Product\", \"Service and Parts\", \"Service and Parts\", \"Service and Parts\", \"Service and Parts\", \"Product\", \"Service and Parts\", \"Service and Parts\", \"Service and Parts\", \"Service and Parts\", \"Service and Parts\", \"Service and Parts\", \"Service and Parts\", \"Service and Parts\", \"Service and Parts\", \"Service and Parts\", \"Sales\", \"Service and Parts\", \"Product\", \"Service and Parts\", \"Service and Parts\", \"Service and Parts\", \"Service and Parts\", \"Service and Parts\", \"Service and Parts\", \"Service and Parts\", \"Service and Parts\", \"Service and Parts\", \"Service and Parts\", \"Service and Parts\", \"Product\", \"Sales\", \"Product\", \"Service and Parts\", \"Service and Parts\", \"Service and Parts\", \"Service and Parts\", \"Service and Parts\", \"Service and Parts\", \"Service and Parts\", \"Product\", \"Service and Parts\", \"Service and Parts\", \"Service and Parts\", \"Service and Parts\", \"Service and Parts\", \"Sales\", \"Product\", \"Service and Parts\", \"Service and Parts\", \"Service and Parts\", \"Service and Parts\", \"Service and Parts\", \"Service and Parts\", \"Product\", \"Product\", \"Product\", \"Service and Parts\", \"Service and Parts\", \"Service and Parts\", \"Service and Parts\", \"Service and Parts\", \"Service and Parts\", \"Service and Parts\", \"Service and Parts\", \"Service and Parts\", \"Service and Parts\", \"Sales\", \"Service and Parts\", \"Service and Parts\", \"Service and Parts\", \"Service and Parts\", \"Service and Parts\", \"Service and Parts\", \"Sales\", \"Service and Parts\", \"Service and Parts\", \"Product\", \"Product\", \"Product\", \"Service and Parts\", \"Service and Parts\", \"Service and Parts\", \"Service and Parts\", \"Service and Parts\", \"Sales\", \"Service and Parts\", \"Product\", \"Service and Parts\", \"Sales\", \"Service and Parts\", \"Product\", \"Service and Parts\", \"Service and Parts\", \"Product\", \"Sales\", \"Sales\", \"Service and Parts\", \"Service and Parts\", \"Service and Parts\", \"Service and Parts\", \"Product\", \"Service and Parts\", \"Service and Parts\", \"Service and Parts\", \"Service and Parts\", \"Service and Parts\", \"Service and Parts\", \"Service and Parts\", \"Service and Parts\", \"Service and Parts\", \"Service and Parts\", \"Service and Parts\", \"Product\", \"Sales\", \"Service and Parts\", \"Service and Parts\", \"Service and Parts\", \"Service and Parts\", \"Service and Parts\", \"Service and Parts\", \"Service and Parts\", \"Product\", \"Service and Parts\", \"Service and Parts\", \"Service and Parts\", \"Service and Parts\", \"Service and Parts\", \"Service and Parts\", \"Service and Parts\", \"Service and Parts\", \"Service and Parts\", \"Service and Parts\", \"Service and Parts\", \"Product\", \"Service and Parts\", \"Service and Parts\", \"Service and Parts\", \"Service and Parts\", \"Sales\", \"Service and Parts\", \"Service and Parts\", \"Service and Parts\", \"Service and Parts\", \"Sales\", \"Service and Parts\", \"Service and Parts\", \"Service and Parts\", \"Service and Parts\", \"Service and Parts\", \"Product\", \"Service and Parts\", \"Product\", \"Sales\", \"Service and Parts\", \"Product\", \"Service and Parts\", \"Service and Parts\", \"Service and Parts\", \"Product\", \"Product\", \"Service and Parts\", \"Service and Parts\", \"Service and Parts\", \"Service and Parts\", \"Service and Parts\", \"Service and Parts\", \"Service and Parts\", \"Product\", \"Service and Parts\", \"Service and Parts\", \"Service and Parts\", \"Service and Parts\", \"Service and Parts\", \"Service and Parts\", \"Service and Parts\", \"Product\", \"Service and Parts\", \"Service and Parts\", \"Service and Parts\", \"Service and Parts\", \"Product\", \"Service and Parts\", \"Service and Parts\", \"Product\", \"Product\", \"Sales\", \"Service and Parts\", \"Service and Parts\", \"Service and Parts\", \"Service and Parts\", \"Sales\", \"Service and Parts\", \"Service and Parts\", \"Service and Parts\", \"Product\", \"Service and Parts\", \"Product\", \"Service and Parts\", \"Service and Parts\", \"Service and Parts\", \"Service and Parts\", \"Service and Parts\", \"Sales\", \"Service and Parts\", \"Service and Parts\", \"Sales\", \"Service and Parts\", \"Service and Parts\", \"Service and Parts\", \"Product\", \"Service and Parts\", \"Product\", \"Sales\", \"Sales\", \"Product\", \"Product\", \"Product\", \"Product\", \"Service and Parts\", \"Service and Parts\", \"Service and Parts\", \"Service and Parts\", \"Sales\", \"Service and Parts\", \"Service and Parts\", \"Sales\", \"Service and Parts\", \"Service and Parts\", \"Product\", \"Service and Parts\", \"Service and Parts\", \"Product\", \"Service and Parts\", \"Product\", \"Service and Parts\", \"Service and Parts\", \"Service and Parts\", \"Service and Parts\", \"Product\", \"Service and Parts\", \"Service and Parts\", \"Service and Parts\", \"Service and Parts\", \"Product\", \"Sales\", \"Service and Parts\", \"Product\", \"Service and Parts\", \"Service and Parts\", \"Service and Parts\", \"Service and Parts\", \"Service and Parts\", \"Service and Parts\", \"Product\", \"Service and Parts\", \"Service and Parts\", \"Service and Parts\", \"Service and Parts\", \"Service and Parts\", \"Product\", \"Service and Parts\", \"Sales\", \"Service and Parts\", \"Sales\", \"Sales\", \"Product\", \"Service and Parts\", \"Sales\", \"Service and Parts\", \"Service and Parts\", \"Service and Parts\", \"Service and Parts\", \"Sales\", \"Service and Parts\", \"Product\", \"Service and Parts\", \"Service and Parts\", \"Service and Parts\", \"Service and Parts\", \"Service and Parts\", \"Service and Parts\", \"Service and Parts\", \"Service and Parts\", \"Product\", \"Service and Parts\", \"Service and Parts\", \"Service and Parts\", \"Service and Parts\", \"Service and Parts\", \"Service and Parts\", \"Service and Parts\", \"Service and Parts\", \"Service and Parts\", \"Sales\", \"Service and Parts\", \"Service and Parts\", \"Service and Parts\", \"Service and Parts\", \"Product\", \"Sales\", \"Product\", \"Service and Parts\", \"Service and Parts\", \"Sales\", \"Service and Parts\", \"Sales\", \"Service and Parts\", \"Product\", \"Service and Parts\", \"Product\", \"Service and Parts\", \"Sales\", \"Sales\", \"Service and Parts\", \"Service and Parts\", \"Service and Parts\", \"Service and Parts\", \"Service and Parts\", \"Service and Parts\", \"Product\", \"Service and Parts\", \"Service and Parts\", \"Product\", \"Service and Parts\", \"Service and Parts\", \"Service and Parts\", \"Service and Parts\", \"Service and Parts\", \"Service and Parts\", \"Service and Parts\", \"Sales\", \"Service and Parts\", \"Service and Parts\", \"Service and Parts\", \"Product\", \"Service and Parts\", \"Sales\", \"Service and Parts\", \"Service and Parts\", \"Service and Parts\", \"Service and Parts\", \"Service and Parts\", \"Service and Parts\", \"Service and Parts\", \"Service and Parts\", \"Service and Parts\", \"Service and Parts\", \"Service and Parts\", \"Product\", \"Service and Parts\", \"Service and Parts\", \"Service and Parts\", \"Product\", \"Product\", \"Service and Parts\", \"Service and Parts\", \"Service and Parts\", \"Service and Parts\", \"Service and Parts\", \"Service and Parts\", \"Service and Parts\", \"Service and Parts\", \"Service and Parts\", \"Service and Parts\", \"Service and Parts\", \"Service and Parts\", \"Product\", \"Service and Parts\", \"Service and Parts\", \"Service and Parts\", \"Service and Parts\", \"Service and Parts\", \"Product\", \"Service and Parts\", \"Product\", \"Sales\", \"Service and Parts\", \"Service and Parts\", \"Product\", \"Sales\", \"Service and Parts\", \"Service and Parts\", \"Sales\", \"Product\", \"Product\", \"Service and Parts\", \"Service and Parts\", \"Sales\", \"Product\", \"Service and Parts\", \"Service and Parts\", \"Service and Parts\", \"Service and Parts\", \"Service and Parts\", \"Service and Parts\", \"Service and Parts\", \"Service and Parts\", \"Product\", \"Service and Parts\", \"Product\", \"Service and Parts\", \"Service and Parts\", \"Product\", \"Service and Parts\", \"Service and Parts\", \"Product\", \"Service and Parts\", \"Product\", \"Service and Parts\", \"Service and Parts\", \"Service and Parts\", \"Product\", \"Service and Parts\", \"Service and Parts\", \"Service and Parts\", \"Service and Parts\", \"Service and Parts\", \"Service and Parts\", \"Service and Parts\", \"Service and Parts\", \"Service and Parts\", \"Service and Parts\", \"Service and Parts\", \"Product\", \"Service and Parts\", \"Service and Parts\", \"Service and Parts\", \"Service and Parts\", \"Product\", \"Service and Parts\", \"Service and Parts\", \"Service and Parts\", \"Service and Parts\", \"Service and Parts\", \"Service and Parts\", \"Product\", \"Sales\", \"Service and Parts\", \"Service and Parts\", \"Service and Parts\", \"Service and Parts\", \"Service and Parts\", \"Service and Parts\", \"Service and Parts\", \"Service and Parts\", \"Product\", \"Service and Parts\", \"Service and Parts\", \"Sales\", \"Service and Parts\", \"Service and Parts\", \"Service and Parts\", \"Product\", \"Product\", \"Service and Parts\", \"Service and Parts\", \"Product\", \"Service and Parts\", \"Sales\", \"Service and Parts\", \"Service and Parts\", \"Service and Parts\", \"Product\", \"Service and Parts\", \"Sales\", \"Service and Parts\", \"Service and Parts\", \"Service and Parts\", \"Product\", \"Service and Parts\", \"Service and Parts\", \"Service and Parts\", \"Service and Parts\", \"Service and Parts\", \"Product\", \"Service and Parts\", \"Sales\", \"Service and Parts\", \"Service and Parts\", \"Product\", \"Service and Parts\", \"Service and Parts\", \"Service and Parts\", \"Service and Parts\", \"Product\", \"Product\", \"Product\", \"Service and Parts\", \"Product\", \"Product\", \"Product\", \"Product\", \"Service and Parts\", \"Service and Parts\", \"Service and Parts\", \"Service and Parts\", \"Service and Parts\", \"Product\", \"Product\", \"Service and Parts\", \"Service and Parts\", \"Service and Parts\", \"Service and Parts\", \"Service and Parts\", \"Service and Parts\", \"Service and Parts\", \"Service and Parts\", \"Product\", \"Service and Parts\", \"Service and Parts\", \"Service and Parts\", \"Service and Parts\", \"Product\", \"Product\", \"Product\", \"Service and Parts\", \"Service and Parts\", \"Product\", \"Service and Parts\", \"Service and Parts\", \"Service and Parts\", \"Service and Parts\", \"Service and Parts\", \"Service and Parts\", \"Product\", \"Service and Parts\", \"Service and Parts\", \"Service and Parts\", \"Sales\", \"Service and Parts\", \"Service and Parts\", \"Service and Parts\", \"Service and Parts\", \"Product\", \"Product\", \"Service and Parts\", \"Product\", \"Product\", \"Service and Parts\", \"Service and Parts\", \"Product\", \"Service and Parts\", \"Service and Parts\", \"Service and Parts\", \"Service and Parts\", \"Product\", \"Service and Parts\", \"Service and Parts\", \"Service and Parts\", \"Service and Parts\", \"Service and Parts\", \"Product\", \"Service and Parts\", \"Service and Parts\", \"Service and Parts\", \"Service and Parts\", \"Service and Parts\", \"Service and Parts\", \"Service and Parts\", \"Product\", \"Service and Parts\", \"Service and Parts\", \"Service and Parts\", \"Service and Parts\", \"Service and Parts\", \"Service and Parts\", \"Service and Parts\", \"Product\", \"Service and Parts\", \"Service and Parts\", \"Service and Parts\", \"Service and Parts\", \"Service and Parts\", \"Service and Parts\", \"Service and Parts\", \"Service and Parts\", \"Service and Parts\", \"Service and Parts\", \"Service and Parts\", \"Service and Parts\", \"Service and Parts\", \"Service and Parts\", \"Service and Parts\", \"Service and Parts\", \"Product\", \"Service and Parts\", \"Service and Parts\", \"Service and Parts\", \"Service and Parts\", \"Service and Parts\", \"Service and Parts\", \"Service and Parts\", \"Service and Parts\", \"Sales\", \"Service and Parts\", \"Service and Parts\", \"Service and Parts\", \"Service and Parts\", \"Service and Parts\", \"Service and Parts\", \"Service and Parts\", \"Service and Parts\", \"Product\", \"Service and Parts\", \"Service and Parts\", \"Sales\", \"Service and Parts\", \"Product\", \"Service and Parts\", \"Service and Parts\", \"Service and Parts\", \"Service and Parts\", \"Service and Parts\", \"Service and Parts\", \"Service and Parts\", \"Service and Parts\", \"Service and Parts\", \"Service and Parts\", \"Service and Parts\", \"Service and Parts\", \"Product\", \"Product\", \"Service and Parts\", \"Service and Parts\", \"Service and Parts\", \"Service and Parts\", \"Service and Parts\", \"Service and Parts\", \"Service and Parts\", \"Service and Parts\", \"Service and Parts\", \"Service and Parts\", \"Service and Parts\", \"Service and Parts\", \"Sales\", \"Product\", \"Service and Parts\", \"Service and Parts\", \"Product\", \"Product\", \"Service and Parts\", \"Service and Parts\", \"Sales\", \"Sales\", \"Service and Parts\", \"Service and Parts\", \"Service and Parts\", \"Service and Parts\", \"Service and Parts\", \"Service and Parts\", \"Service and Parts\", \"Product\", \"Service and Parts\", \"Sales\", \"Service and Parts\", \"Service and Parts\", \"Service and Parts\", \"Service and Parts\", \"Service and Parts\", \"Service and Parts\", \"Service and Parts\", \"Service and Parts\", \"Service and Parts\", \"Service and Parts\", \"Service and Parts\", \"Service and Parts\", \"Service and Parts\", \"Service and Parts\", \"Service and Parts\", \"Service and Parts\", \"Service and Parts\", \"Product\", \"Service and Parts\", \"Sales\", \"Service and Parts\", \"Service and Parts\", \"Service and Parts\", \"Service and Parts\", \"Service and Parts\", \"Service and Parts\", \"Service and Parts\", \"Service and Parts\", \"Product\", \"Service and Parts\", \"Product\", \"Product\", \"Service and Parts\", \"Service and Parts\", \"Service and Parts\", \"Service and Parts\", \"Service and Parts\", \"Service and Parts\", \"Service and Parts\", \"Product\", \"Service and Parts\", \"Product\", \"Service and Parts\", \"Service and Parts\", \"Service and Parts\", \"Service and Parts\", \"Service and Parts\", \"Product\", \"Service and Parts\", \"Product\", \"Product\", \"Service and Parts\", \"Service and Parts\", \"Product\", \"Service and Parts\", \"Service and Parts\", \"Sales\", \"Service and Parts\", \"Service and Parts\", \"Service and Parts\", \"Product\", \"Service and Parts\", \"Service and Parts\", \"Product\", \"Product\", \"Service and Parts\", \"Service and Parts\", \"Service and Parts\", \"Service and Parts\", \"Product\", \"Sales\", \"Service and Parts\", \"Service and Parts\", \"Service and Parts\", \"Service and Parts\", \"Service and Parts\", \"Service and Parts\", \"Service and Parts\", \"Product\", \"Service and Parts\", \"Product\", \"Service and Parts\", \"Service and Parts\", \"Sales\", \"Service and Parts\", \"Service and Parts\", \"Service and Parts\", \"Sales\", \"Service and Parts\", \"Product\", \"Service and Parts\", \"Service and Parts\", \"Service and Parts\", \"Service and Parts\", \"Service and Parts\", \"Service and Parts\", \"Product\", \"Service and Parts\", \"Product\", \"Product\", \"Sales\", \"Service and Parts\", \"Sales\", \"Service and Parts\", \"Service and Parts\", \"Service and Parts\", \"Product\", \"Service and Parts\", \"Service and Parts\", \"Service and Parts\", \"Service and Parts\", \"Service and Parts\", \"Sales\", \"Service and Parts\", \"Product\", \"Product\", \"Product\", \"Product\", \"Product\", \"Service and Parts\", \"Service and Parts\", \"Service and Parts\", \"Product\", \"Service and Parts\", \"Service and Parts\", \"Product\", \"Product\", \"Service and Parts\", \"Sales\", \"Service and Parts\", \"Product\", \"Service and Parts\", \"Service and Parts\", \"Service and Parts\", \"Sales\", \"Product\", \"Product\", \"Product\", \"Service and Parts\", \"Sales\", \"Product\", \"Service and Parts\", \"Product\", \"Service and Parts\", \"Product\", \"Service and Parts\", \"Service and Parts\", \"Product\", \"Service and Parts\", \"Service and Parts\", \"Service and Parts\", \"Product\", \"Service and Parts\", \"Service and Parts\", \"Service and Parts\", \"Product\", \"Product\", \"Service and Parts\", \"Service and Parts\", \"Product\", \"Service and Parts\", \"Service and Parts\", \"Product\", \"Service and Parts\", \"Service and Parts\", \"Product\", \"Service and Parts\", \"Service and Parts\", \"Service and Parts\", \"Product\", \"Service and Parts\", \"Service and Parts\", \"Sales\", \"Service and Parts\", \"Sales\", \"Service and Parts\", \"Product\", \"Service and Parts\", \"Service and Parts\", \"Product\", \"Service and Parts\", \"Product\", \"Service and Parts\", \"Service and Parts\", \"Service and Parts\", \"Service and Parts\", \"Service and Parts\", \"Sales\", \"Service and Parts\", \"Product\", \"Product\", \"Service and Parts\", \"Product\", \"Service and Parts\", \"Service and Parts\", \"Service and Parts\", \"Service and Parts\", \"Service and Parts\", \"Sales\", \"Service and Parts\", \"Service and Parts\", \"Service and Parts\", \"Service and Parts\", \"Service and Parts\", \"Service and Parts\", \"Service and Parts\", \"Product\", \"Service and Parts\", \"Service and Parts\", \"Service and Parts\", \"Service and Parts\", \"Service and Parts\", \"Product\", \"Service and Parts\", \"Service and Parts\", \"Service and Parts\", \"Service and Parts\", \"Service and Parts\", \"Service and Parts\", \"Service and Parts\", \"Service and Parts\", \"Service and Parts\", \"Product\", \"Product\", \"Service and Parts\", \"Service and Parts\", \"Service and Parts\", \"Product\", \"Service and Parts\", \"Product\", \"Service and Parts\", \"Product\", \"Service and Parts\", \"Service and Parts\", \"Service and Parts\", \"Service and Parts\", \"Service and Parts\", \"Service and Parts\", \"Service and Parts\", \"Service and Parts\", \"Service and Parts\", \"Product\", \"Service and Parts\", \"Product\", \"Product\", \"Service and Parts\", \"Service and Parts\", \"Service and Parts\", \"Service and Parts\", \"Service and Parts\", \"Service and Parts\", \"Service and Parts\", \"Service and Parts\", \"Service and Parts\", \"Sales\", \"Service and Parts\", \"Service and Parts\", \"Product\", \"Service and Parts\", \"Service and Parts\", \"Service and Parts\", \"Sales\", \"Service and Parts\", \"Service and Parts\", \"Service and Parts\", \"Service and Parts\", \"Service and Parts\", \"Service and Parts\", \"Service and Parts\", \"Service and Parts\", \"Product\", \"Product\", \"Service and Parts\", \"Service and Parts\", \"Product\", \"Service and Parts\", \"Service and Parts\", \"Product\", \"Service and Parts\", \"Service and Parts\", \"Service and Parts\", \"Product\", \"Service and Parts\", \"Sales\", \"Sales\", \"Service and Parts\", \"Service and Parts\", \"Service and Parts\", \"Service and Parts\", \"Service and Parts\", \"Service and Parts\", \"Service and Parts\", \"Sales\", \"Service and Parts\", \"Sales\", \"Service and Parts\", \"Service and Parts\", \"Service and Parts\", \"Service and Parts\", \"Service and Parts\", \"Service and Parts\", \"Product\", \"Service and Parts\", \"Service and Parts\", \"Product\", \"Product\", \"Product\", \"Service and Parts\", \"Product\", \"Product\", \"Service and Parts\", \"Service and Parts\", \"Product\", \"Service and Parts\", \"Service and Parts\", \"Product\", \"Sales\", \"Service and Parts\", \"Service and Parts\", \"Service and Parts\", \"Product\", \"Service and Parts\", \"Service and Parts\", \"Service and Parts\", \"Product\", \"Service and Parts\", \"Service and Parts\", \"Service and Parts\", \"Service and Parts\", \"Product\", \"Product\", \"Service and Parts\", \"Product\", \"Service and Parts\", \"Service and Parts\", \"Service and Parts\", \"Product\", \"Product\", \"Service and Parts\", \"Service and Parts\", \"Service and Parts\", \"Service and Parts\", \"Service and Parts\", \"Service and Parts\", \"Service and Parts\", \"Service and Parts\", \"Service and Parts\", \"Service and Parts\", \"Service and Parts\", \"Service and Parts\", \"Product\", \"Service and Parts\", \"Service and Parts\", \"Service and Parts\", \"Product\", \"Service and Parts\", \"Product\", \"Service and Parts\", \"Service and Parts\", \"Product\", \"Service and Parts\", \"Service and Parts\", \"Service and Parts\", \"Service and Parts\", \"Sales\", \"Product\", \"Service and Parts\", \"Service and Parts\", \"Service and Parts\", \"Service and Parts\", \"Service and Parts\", \"Service and Parts\", \"Service and Parts\", \"Product\", \"Service and Parts\", \"Service and Parts\", \"Service and Parts\", \"Service and Parts\", \"Product\", \"Service and Parts\", \"Service and Parts\", \"Service and Parts\", \"Service and Parts\", \"Product\", \"Service and Parts\", \"Product\", \"Service and Parts\", \"Product\", \"Service and Parts\", \"Service and Parts\", \"Sales\", \"Service and Parts\", \"Service and Parts\", \"Service and Parts\", \"Product\", \"Service and Parts\", \"Service and Parts\", \"Product\", \"Service and Parts\", \"Product\", \"Service and Parts\", \"Service and Parts\", \"Service and Parts\", \"Product\", \"Service and Parts\", \"Service and Parts\", \"Product\", \"Product\", \"Service and Parts\", \"Service and Parts\", \"Sales\", \"Service and Parts\", \"Service and Parts\", \"Service and Parts\", \"Product\", \"Service and Parts\", \"Service and Parts\", \"Service and Parts\", \"Sales\", \"Service and Parts\", \"Product\", \"Service and Parts\", \"Service and Parts\", \"Product\", \"Product\", \"Service and Parts\", \"Service and Parts\", \"Service and Parts\", \"Product\", \"Service and Parts\", \"Service and Parts\", \"Service and Parts\", \"Product\", \"Product\", \"Service and Parts\", \"Product\", \"Service and Parts\", \"Service and Parts\", \"Sales\", \"Service and Parts\", \"Service and Parts\", \"Product\", \"Service and Parts\", \"Service and Parts\", \"Product\", \"Service and Parts\", \"Service and Parts\", \"Service and Parts\", \"Service and Parts\", \"Service and Parts\", \"Service and Parts\", \"Service and Parts\", \"Service and Parts\", \"Product\", \"Service and Parts\", \"Service and Parts\", \"Service and Parts\", \"Service and Parts\", \"Product\", \"Service and Parts\", \"Service and Parts\", \"Service and Parts\", \"Service and Parts\", \"Service and Parts\", \"Service and Parts\", \"Product\", \"Service and Parts\", \"Service and Parts\", \"Service and Parts\", \"Sales\", \"Product\", \"Service and Parts\", \"Service and Parts\", \"Service and Parts\", \"Product\", \"Service and Parts\", \"Product\", \"Service and Parts\", \"Product\", \"Product\", \"Service and Parts\", \"Product\", \"Product\", \"Service and Parts\", \"Sales\", \"Service and Parts\", \"Service and Parts\", \"Service and Parts\", \"Product\", \"Service and Parts\", \"Service and Parts\", \"Service and Parts\", \"Service and Parts\", \"Service and Parts\", \"Service and Parts\", \"Product\", \"Product\", \"Sales\", \"Service and Parts\", \"Product\", \"Product\", \"Service and Parts\", \"Service and Parts\", \"Service and Parts\", \"Service and Parts\", \"Service and Parts\", \"Service and Parts\", \"Service and Parts\", \"Product\", \"Service and Parts\", \"Service and Parts\", \"Service and Parts\", \"Service and Parts\", \"Service and Parts\", \"Service and Parts\", \"Service and Parts\", \"Sales\", \"Service and Parts\", \"Service and Parts\", \"Service and Parts\", \"Service and Parts\", \"Service and Parts\", \"Service and Parts\", \"Service and Parts\", \"Service and Parts\", \"Service and Parts\", \"Service and Parts\", \"Product\", \"Service and Parts\", \"Service and Parts\", \"Service and Parts\", \"Product\", \"Service and Parts\", \"Service and Parts\", \"Product\", \"Product\", \"Service and Parts\", \"Service and Parts\", \"Service and Parts\", \"Service and Parts\", \"Service and Parts\", \"Service and Parts\", \"Service and Parts\", \"Service and Parts\", \"Service and Parts\", \"Service and Parts\", \"Service and Parts\", \"Service and Parts\", \"Service and Parts\", \"Product\", \"Service and Parts\", \"Service and Parts\", \"Service and Parts\", \"Product\", \"Service and Parts\", \"Service and Parts\", \"Service and Parts\", \"Service and Parts\", \"Product\", \"Service and Parts\", \"Product\", \"Service and Parts\", \"Service and Parts\", \"Service and Parts\", \"Product\", \"Service and Parts\", \"Product\", \"Service and Parts\", \"Service and Parts\", \"Service and Parts\", \"Service and Parts\", \"Service and Parts\", \"Service and Parts\", \"Service and Parts\", \"Sales\", \"Service and Parts\", \"Service and Parts\", \"Service and Parts\", \"Service and Parts\", \"Product\", \"Service and Parts\", \"Service and Parts\", \"Service and Parts\", \"Service and Parts\", \"Product\", \"Service and Parts\", \"Product\", \"Product\", \"Service and Parts\", \"Service and Parts\", \"Service and Parts\", \"Service and Parts\", \"Service and Parts\", \"Service and Parts\", \"Service and Parts\", \"Service and Parts\", \"Service and Parts\", \"Product\", \"Service and Parts\", \"Service and Parts\", \"Product\", \"Service and Parts\", \"Service and Parts\", \"Service and Parts\", \"Service and Parts\", \"Service and Parts\", \"Service and Parts\", \"Service and Parts\", \"Service and Parts\", \"Service and Parts\", \"Service and Parts\", \"Service and Parts\", \"Product\", \"Service and Parts\", \"Service and Parts\", \"Service and Parts\", \"Service and Parts\", \"Service and Parts\", \"Service and Parts\", \"Product\", \"Product\", \"Product\", \"Product\", \"Product\", \"Product\", \"Sales\", \"Service and Parts\", \"Service and Parts\", \"Service and Parts\", \"Product\", \"Service and Parts\", \"Product\", \"Service and Parts\", \"Product\", \"Service and Parts\", \"Product\", \"Service and Parts\", \"Product\", \"Service and Parts\", \"Product\", \"Service and Parts\", \"Service and Parts\", \"Product\", \"Service and Parts\", \"Sales\", \"Service and Parts\", \"Service and Parts\", \"Service and Parts\", \"Service and Parts\", \"Product\", \"Product\", \"Service and Parts\", \"Product\", \"Service and Parts\", \"Service and Parts\", \"Service and Parts\", \"Service and Parts\", \"Service and Parts\", \"Service and Parts\", \"Product\", \"Product\", \"Service and Parts\", \"Service and Parts\", \"Product\", \"Service and Parts\", \"Service and Parts\", \"Service and Parts\", \"Service and Parts\", \"Product\", \"Product\", \"Service and Parts\", \"Sales\", \"Product\", \"Product\", \"Product\", \"Product\", \"Product\", \"Product\", \"Service and Parts\", \"Sales\", \"Service and Parts\", \"Sales\", \"Sales\", \"Sales\", \"Sales\", \"Service and Parts\", \"Service and Parts\", \"Product\", \"Product\", \"Service and Parts\", \"Service and Parts\", \"Product\", \"Service and Parts\", \"Product\", \"Service and Parts\", \"Service and Parts\", \"Service and Parts\", \"Service and Parts\", \"Service and Parts\", \"Sales\", \"Sales\", \"Service and Parts\", \"Service and Parts\", \"Service and Parts\", \"Product\", \"Product\", \"Product\", \"Service and Parts\", \"Service and Parts\", \"Service and Parts\", \"Service and Parts\", \"Sales\", \"Service and Parts\", \"Sales\", \"Product\", \"Service and Parts\", \"Service and Parts\", \"Service and Parts\", \"Service and Parts\", \"Service and Parts\", \"Service and Parts\", \"Service and Parts\", \"Product\", \"Product\", \"Service and Parts\", \"Sales\", \"Service and Parts\", \"Sales\", \"Service and Parts\", \"Sales\", \"Service and Parts\", \"Product\", \"Service and Parts\", \"Product\", \"Sales\", \"Service and Parts\", \"Service and Parts\", \"Service and Parts\", \"Sales\", \"Service and Parts\", \"Product\", \"Sales\", \"Service and Parts\", \"Service and Parts\", \"Service and Parts\", \"Product\", \"Service and Parts\", \"Product\", \"Product\", \"Service and Parts\", \"Service and Parts\", \"Product\", \"Service and Parts\", \"Product\", \"Service and Parts\", \"Product\", \"Service and Parts\", \"Service and Parts\", \"Product\", \"Service and Parts\", \"Service and Parts\", \"Product\", \"Service and Parts\", \"Product\", \"Service and Parts\", \"Service and Parts\", \"Service and Parts\", \"Service and Parts\", \"Service and Parts\", \"Product\", \"Service and Parts\", \"Service and Parts\", \"Product\", \"Service and Parts\", \"Service and Parts\", \"Service and Parts\", \"Service and Parts\", \"Service and Parts\", \"Service and Parts\", \"Product\", \"Service and Parts\", \"Service and Parts\", \"Sales\", \"Service and Parts\", \"Service and Parts\", \"Product\", \"Service and Parts\", \"Service and Parts\", \"Service and Parts\", \"Service and Parts\", \"Service and Parts\", \"Product\", \"Product\", \"Service and Parts\", \"Service and Parts\", \"Product\", \"Service and Parts\", \"Service and Parts\", \"Service and Parts\", \"Service and Parts\", \"Product\", \"Service and Parts\", \"Service and Parts\", \"Service and Parts\", \"Service and Parts\", \"Service and Parts\", \"Product\", \"Service and Parts\", \"Service and Parts\", \"Service and Parts\", \"Service and Parts\", \"Service and Parts\", \"Service and Parts\", \"Service and Parts\", \"Product\", \"Service and Parts\", \"Service and Parts\", \"Service and Parts\", \"Product\", \"Service and Parts\", \"Service and Parts\", \"Product\", \"Sales\", \"Service and Parts\", \"Service and Parts\", \"Service and Parts\", \"Service and Parts\", \"Product\", \"Service and Parts\", \"Service and Parts\", \"Product\", \"Service and Parts\", \"Product\", \"Service and Parts\", \"Product\", \"Service and Parts\", \"Service and Parts\", \"Service and Parts\", \"Sales\", \"Service and Parts\", \"Sales\", \"Service and Parts\", \"Product\", \"Service and Parts\", \"Service and Parts\", \"Service and Parts\", \"Service and Parts\", \"Service and Parts\", \"Product\", \"Service and Parts\", \"Service and Parts\", \"Service and Parts\", \"Service and Parts\", \"Product\", \"Service and Parts\", \"Service and Parts\", \"Service and Parts\", \"Service and Parts\", \"Service and Parts\", \"Product\", \"Service and Parts\", \"Product\", \"Product\", \"Product\", \"Service and Parts\", \"Service and Parts\", \"Service and Parts\", \"Product\", \"Service and Parts\", \"Service and Parts\", \"Service and Parts\", \"Product\", \"Service and Parts\", \"Service and Parts\", \"Service and Parts\", \"Service and Parts\", \"Service and Parts\", \"Service and Parts\", \"Product\", \"Product\", \"Sales\", \"Product\", \"Service and Parts\", \"Service and Parts\", \"Service and Parts\", \"Service and Parts\", \"Product\", \"Service and Parts\", \"Sales\", \"Service and Parts\", \"Service and Parts\", \"Service and Parts\", \"Service and Parts\", \"Service and Parts\", \"Service and Parts\", \"Sales\", \"Sales\", \"Service and Parts\", \"Service and Parts\", \"Service and Parts\", \"Service and Parts\", \"Service and Parts\", \"Service and Parts\", \"Product\", \"Product\", \"Service and Parts\", \"Service and Parts\", \"Service and Parts\", \"Service and Parts\", \"Product\", \"Service and Parts\", \"Service and Parts\", \"Product\", \"Service and Parts\", \"Service and Parts\", \"Service and Parts\", \"Service and Parts\", \"Product\", \"Service and Parts\", \"Service and Parts\", \"Product\", \"Sales\", \"Service and Parts\", \"Service and Parts\", \"Service and Parts\", \"Product\", \"Sales\", \"Service and Parts\", \"Product\", \"Product\", \"Service and Parts\", \"Service and Parts\", \"Sales\", \"Product\", \"Service and Parts\", \"Sales\", \"Service and Parts\", \"Service and Parts\", \"Service and Parts\", \"Service and Parts\", \"Service and Parts\", \"Service and Parts\", \"Service and Parts\", \"Sales\", \"Service and Parts\", \"Service and Parts\", \"Service and Parts\", \"Service and Parts\", \"Product\", \"Service and Parts\", \"Product\", \"Service and Parts\", \"Sales\", \"Product\", \"Service and Parts\", \"Service and Parts\", \"Service and Parts\", \"Service and Parts\", \"Product\", \"Product\", \"Product\", \"Product\", \"Service and Parts\", \"Service and Parts\", \"Service and Parts\", \"Service and Parts\", \"Service and Parts\", \"Service and Parts\", \"Service and Parts\", \"Product\", \"Service and Parts\", \"Service and Parts\", \"Service and Parts\", \"Product\", \"Sales\", \"Product\", \"Service and Parts\", \"Service and Parts\", \"Product\", \"Product\", \"Service and Parts\", \"Service and Parts\", \"Service and Parts\", \"Product\", \"Service and Parts\", \"Service and Parts\", \"Service and Parts\", \"Service and Parts\", \"Service and Parts\", \"Service and Parts\", \"Service and Parts\", \"Product\", \"Service and Parts\", \"Service and Parts\", \"Product\", \"Service and Parts\", \"Sales\", \"Service and Parts\", \"Service and Parts\", \"Product\", \"Product\", \"Service and Parts\", \"Service and Parts\", \"Service and Parts\", \"Product\", \"Product\", \"Service and Parts\", \"Service and Parts\", \"Sales\", \"Product\", \"Service and Parts\", \"Service and Parts\", \"Service and Parts\", \"Service and Parts\", \"Product\", \"Sales\", \"Sales\", \"Service and Parts\", \"Service and Parts\", \"Service and Parts\", \"Service and Parts\", \"Service and Parts\", \"Service and Parts\", \"Product\", \"Service and Parts\", \"Service and Parts\", \"Service and Parts\", \"Service and Parts\", \"Service and Parts\", \"Product\", \"Product\", \"Product\", \"Service and Parts\", \"Product\", \"Product\", \"Product\", \"Service and Parts\", \"Sales\", \"Service and Parts\", \"Sales\", \"Service and Parts\", \"Service and Parts\", \"Product\", \"Service and Parts\", \"Product\", \"Sales\", \"Service and Parts\", \"Sales\", \"Product\", \"Service and Parts\", \"Service and Parts\", \"Service and Parts\", \"Service and Parts\", \"Product\", \"Service and Parts\", \"Service and Parts\", \"Service and Parts\", \"Sales\", \"Service and Parts\", \"Service and Parts\", \"Product\", \"Service and Parts\", \"Service and Parts\", \"Sales\", \"Service and Parts\", \"Service and Parts\", \"Service and Parts\", \"Product\", \"Service and Parts\", \"Service and Parts\", \"Service and Parts\", \"Service and Parts\", \"Service and Parts\", \"Service and Parts\", \"Service and Parts\", \"Service and Parts\", \"Service and Parts\", \"Service and Parts\", \"Service and Parts\", \"Product\", \"Service and Parts\", \"Service and Parts\", \"Service and Parts\", \"Service and Parts\", \"Product\", \"Service and Parts\", \"Product\", \"Service and Parts\", \"Service and Parts\", \"Service and Parts\", \"Service and Parts\", \"Service and Parts\", \"Product\", \"Sales\", \"Service and Parts\", \"Service and Parts\", \"Service and Parts\", \"Product\", \"Service and Parts\", \"Service and Parts\", \"Service and Parts\", \"Service and Parts\", \"Service and Parts\", \"Service and Parts\", \"Service and Parts\", \"Product\", \"Product\", \"Service and Parts\", \"Service and Parts\", \"Service and Parts\", \"Service and Parts\", \"Service and Parts\", \"Service and Parts\", \"Service and Parts\", \"Service and Parts\", \"Product\", \"Service and Parts\", \"Service and Parts\", \"Product\", \"Sales\", \"Service and Parts\", \"Service and Parts\", \"Service and Parts\", \"Service and Parts\", \"Sales\", \"Service and Parts\", \"Service and Parts\", \"Service and Parts\", \"Sales\", \"Product\", \"Product\", \"Service and Parts\", \"Service and Parts\", \"Service and Parts\", \"Sales\", \"Service and Parts\", \"Sales\", \"Service and Parts\", \"Product\", \"Service and Parts\", \"Product\", \"Product\", \"Product\", \"Product\", \"Service and Parts\", \"Service and Parts\", \"Service and Parts\", \"Service and Parts\", \"Product\", \"Service and Parts\", \"Service and Parts\", \"Service and Parts\", \"Service and Parts\", \"Service and Parts\", \"Service and Parts\", \"Service and Parts\", \"Service and Parts\", \"Service and Parts\", \"Service and Parts\", \"Service and Parts\", \"Product\", \"Service and Parts\", \"Sales\", \"Service and Parts\", \"Service and Parts\", \"Product\", \"Service and Parts\", \"Service and Parts\", \"Service and Parts\", \"Product\", \"Service and Parts\", \"Sales\", \"Product\", \"Service and Parts\", \"Service and Parts\", \"Sales\", \"Service and Parts\", \"Sales\", \"Service and Parts\", \"Sales\", \"Service and Parts\", \"Sales\", \"Product\", \"Sales\", \"Service and Parts\", \"Service and Parts\", \"Service and Parts\", \"Service and Parts\", \"Product\", \"Sales\", \"Service and Parts\", \"Sales\", \"Service and Parts\", \"Service and Parts\", \"Service and Parts\", \"Service and Parts\", \"Service and Parts\", \"Service and Parts\", \"Service and Parts\", \"Service and Parts\", \"Product\", \"Service and Parts\", \"Product\", \"Product\", \"Service and Parts\", \"Service and Parts\", \"Service and Parts\", \"Product\", \"Service and Parts\", \"Service and Parts\", \"Service and Parts\", \"Sales\", \"Service and Parts\", \"Service and Parts\", \"Service and Parts\", \"Service and Parts\", \"Service and Parts\", \"Service and Parts\", \"Service and Parts\", \"Service and Parts\", \"Product\", \"Service and Parts\", \"Service and Parts\", \"Product\", \"Service and Parts\", \"Service and Parts\", \"Service and Parts\", \"Service and Parts\", \"Product\", \"Service and Parts\", \"Service and Parts\", \"Sales\", \"Service and Parts\", \"Service and Parts\", \"Product\", \"Product\", \"Service and Parts\", \"Service and Parts\", \"Service and Parts\", \"Service and Parts\", \"Sales\", \"Service and Parts\", \"Service and Parts\", \"Service and Parts\", \"Product\", \"Service and Parts\", \"Product\", \"Service and Parts\", \"Service and Parts\", \"Service and Parts\", \"Service and Parts\", \"Service and Parts\", \"Product\", \"Product\", \"Sales\", \"Service and Parts\", \"Service and Parts\", \"Sales\", \"Service and Parts\", \"Service and Parts\", \"Service and Parts\", \"Sales\", \"Service and Parts\", \"Service and Parts\", \"Service and Parts\", \"Service and Parts\", \"Product\", \"Service and Parts\", \"Service and Parts\", \"Service and Parts\", \"Sales\", \"Product\", \"Product\", \"Product\", \"Service and Parts\", \"Service and Parts\", \"Service and Parts\", \"Service and Parts\", \"Product\", \"Product\", \"Service and Parts\", \"Sales\", \"Service and Parts\", \"Service and Parts\", \"Product\", \"Service and Parts\", \"Service and Parts\", \"Sales\", \"Service and Parts\", \"Service and Parts\", \"Product\", \"Service and Parts\", \"Service and Parts\", \"Service and Parts\", \"Product\", \"Sales\", \"Product\", \"Service and Parts\", \"Service and Parts\", \"Product\", \"Service and Parts\", \"Product\", \"Product\", \"Service and Parts\", \"Product\", \"Service and Parts\", \"Service and Parts\", \"Service and Parts\", \"Service and Parts\", \"Service and Parts\", \"Service and Parts\", \"Product\", \"Product\", \"Service and Parts\", \"Product\", \"Sales\", \"Service and Parts\", \"Product\", \"Product\", \"Service and Parts\", \"Service and Parts\", \"Product\", \"Service and Parts\", \"Service and Parts\", \"Service and Parts\", \"Product\", \"Product\", \"Product\", \"Service and Parts\", \"Product\", \"Sales\", \"Product\", \"Product\", \"Service and Parts\", \"Service and Parts\", \"Service and Parts\", \"Service and Parts\", \"Service and Parts\", \"Product\", \"Product\", \"Service and Parts\", \"Service and Parts\", \"Service and Parts\", \"Service and Parts\", \"Service and Parts\", \"Service and Parts\", \"Product\", \"Service and Parts\", \"Service and Parts\", \"Product\", \"Service and Parts\", \"Service and Parts\", \"Service and Parts\", \"Service and Parts\", \"Service and Parts\", \"Service and Parts\", \"Service and Parts\", \"Service and Parts\", \"Service and Parts\", \"Service and Parts\", \"Service and Parts\", \"Service and Parts\", \"Service and Parts\", \"Service and Parts\", \"Service and Parts\", \"Service and Parts\", \"Service and Parts\", \"Service and Parts\", \"Service and Parts\", \"Service and Parts\", \"Service and Parts\", \"Product\", \"Sales\", \"Sales\", \"Service and Parts\", \"Product\", \"Service and Parts\", \"Product\", \"Service and Parts\", \"Service and Parts\", \"Service and Parts\", \"Product\", \"Service and Parts\", \"Sales\", \"Service and Parts\", \"Product\", \"Service and Parts\", \"Sales\", \"Service and Parts\", \"Product\", \"Product\", \"Service and Parts\", \"Product\", \"Service and Parts\", \"Product\", \"Product\", \"Sales\", \"Service and Parts\", \"Service and Parts\", \"Service and Parts\", \"Service and Parts\", \"Product\", \"Sales\", \"Service and Parts\", \"Sales\", \"Service and Parts\", \"Service and Parts\", \"Service and Parts\", \"Service and Parts\", \"Service and Parts\", \"Service and Parts\", \"Service and Parts\", \"Service and Parts\", \"Service and Parts\", \"Service and Parts\", \"Service and Parts\", \"Product\", \"Service and Parts\", \"Product\", \"Service and Parts\", \"Product\", \"Service and Parts\", \"Service and Parts\", \"Product\", \"Sales\", \"Service and Parts\", \"Service and Parts\", \"Service and Parts\", \"Service and Parts\", \"Service and Parts\", \"Service and Parts\", \"Sales\", \"Product\", \"Service and Parts\", \"Service and Parts\", \"Service and Parts\", \"Sales\", \"Service and Parts\", \"Service and Parts\", \"Service and Parts\", \"Product\", \"Service and Parts\", \"Product\", \"Service and Parts\", \"Service and Parts\", \"Service and Parts\", \"Service and Parts\", \"Service and Parts\", \"Product\", \"Product\", \"Service and Parts\", \"Service and Parts\", \"Service and Parts\", \"Service and Parts\", \"Service and Parts\", \"Service and Parts\", \"Product\", \"Service and Parts\", \"Service and Parts\", \"Product\", \"Service and Parts\", \"Service and Parts\", \"Service and Parts\", \"Sales\", \"Service and Parts\", \"Service and Parts\", \"Service and Parts\", \"Service and Parts\", \"Service and Parts\", \"Sales\", \"Service and Parts\", \"Service and Parts\", \"Service and Parts\", \"Service and Parts\", \"Service and Parts\", \"Service and Parts\", \"Service and Parts\", \"Product\", \"Service and Parts\", \"Service and Parts\", \"Service and Parts\", \"Service and Parts\", \"Product\", \"Product\", \"Service and Parts\", \"Service and Parts\", \"Sales\", \"Service and Parts\", \"Sales\", \"Service and Parts\", \"Service and Parts\", \"Service and Parts\", \"Service and Parts\", \"Service and Parts\", \"Service and Parts\", \"Service and Parts\", \"Service and Parts\", \"Service and Parts\", \"Service and Parts\", \"Service and Parts\", \"Product\", \"Product\", \"Service and Parts\", \"Service and Parts\", \"Service and Parts\", \"Service and Parts\", \"Product\", \"Service and Parts\", \"Service and Parts\", \"Product\", \"Service and Parts\", \"Service and Parts\", \"Service and Parts\", \"Service and Parts\", \"Service and Parts\", \"Service and Parts\", \"Service and Parts\", \"Service and Parts\", \"Service and Parts\", \"Sales\", \"Service and Parts\", \"Service and Parts\", \"Service and Parts\", \"Product\", \"Service and Parts\", \"Product\", \"Service and Parts\", \"Service and Parts\", \"Service and Parts\", \"Service and Parts\", \"Product\", \"Sales\", \"Service and Parts\", \"Service and Parts\", \"Product\", \"Service and Parts\", \"Product\", \"Service and Parts\", \"Sales\", \"Service and Parts\", \"Product\", \"Service and Parts\", \"Service and Parts\", \"Service and Parts\", \"Sales\", \"Service and Parts\", \"Sales\", \"Product\", \"Service and Parts\", \"Service and Parts\", \"Product\", \"Service and Parts\", \"Service and Parts\", \"Service and Parts\", \"Sales\", \"Service and Parts\", \"Sales\", \"Sales\", \"Service and Parts\", \"Product\", \"Sales\", \"Service and Parts\", \"Service and Parts\", \"Service and Parts\", \"Service and Parts\", \"Service and Parts\", \"Service and Parts\", \"Service and Parts\", \"Product\", \"Service and Parts\", \"Product\", \"Service and Parts\", \"Product\", \"Service and Parts\", \"Product\", \"Sales\", \"Product\", \"Service and Parts\", \"Product\", \"Service and Parts\", \"Sales\", \"Service and Parts\", \"Service and Parts\", \"Service and Parts\", \"Service and Parts\", \"Service and Parts\", \"Service and Parts\", \"Product\", \"Service and Parts\", \"Service and Parts\", \"Sales\", \"Service and Parts\", \"Service and Parts\", \"Service and Parts\", \"Product\", \"Sales\", \"Service and Parts\", \"Product\", \"Service and Parts\", \"Service and Parts\", \"Service and Parts\", \"Service and Parts\", \"Service and Parts\", \"Service and Parts\", \"Service and Parts\", \"Service and Parts\", \"Product\", \"Service and Parts\", \"Service and Parts\", \"Service and Parts\", \"Service and Parts\", \"Service and Parts\", \"Service and Parts\", \"Product\", \"Service and Parts\", \"Service and Parts\", \"Service and Parts\", \"Product\", \"Sales\", \"Service and Parts\", \"Service and Parts\", \"Service and Parts\", \"Sales\", \"Service and Parts\", \"Sales\", \"Service and Parts\", \"Service and Parts\", \"Sales\", \"Product\", \"Sales\", \"Product\", \"Service and Parts\", \"Service and Parts\", \"Service and Parts\", \"Service and Parts\", \"Service and Parts\", \"Product\", \"Service and Parts\", \"Product\", \"Service and Parts\", \"Service and Parts\", \"Product\", \"Service and Parts\", \"Product\", \"Service and Parts\", \"Service and Parts\", \"Service and Parts\", \"Sales\", \"Service and Parts\", \"Product\", \"Service and Parts\", \"Product\", \"Service and Parts\", \"Service and Parts\", \"Service and Parts\", \"Service and Parts\", \"Product\", \"Service and Parts\", \"Service and Parts\", \"Service and Parts\", \"Service and Parts\", \"Service and Parts\", \"Service and Parts\", \"Product\", \"Product\", \"Sales\", \"Service and Parts\", \"Service and Parts\", \"Service and Parts\", \"Service and Parts\", \"Service and Parts\", \"Service and Parts\", \"Product\", \"Service and Parts\", \"Service and Parts\", \"Service and Parts\", \"Service and Parts\", \"Product\", \"Product\", \"Service and Parts\", \"Product\", \"Product\", \"Service and Parts\", \"Service and Parts\", \"Service and Parts\", \"Sales\", \"Service and Parts\", \"Service and Parts\", \"Service and Parts\", \"Service and Parts\", \"Service and Parts\", \"Product\", \"Product\", \"Sales\", \"Product\", \"Service and Parts\", \"Product\", \"Service and Parts\", \"Service and Parts\", \"Service and Parts\", \"Product\", \"Service and Parts\", \"Sales\", \"Service and Parts\", \"Product\", \"Product\", \"Service and Parts\", \"Service and Parts\", \"Service and Parts\", \"Product\", \"Service and Parts\", \"Service and Parts\", \"Product\", \"Service and Parts\", \"Product\", \"Service and Parts\", \"Service and Parts\", \"Product\", \"Sales\", \"Service and Parts\", \"Product\", \"Sales\", \"Service and Parts\", \"Service and Parts\", \"Service and Parts\", \"Service and Parts\", \"Service and Parts\", \"Product\", \"Service and Parts\", \"Service and Parts\", \"Service and Parts\", \"Service and Parts\", \"Service and Parts\", \"Product\", \"Service and Parts\", \"Service and Parts\", \"Service and Parts\", \"Product\", \"Product\", \"Service and Parts\", \"Service and Parts\", \"Service and Parts\", \"Service and Parts\", \"Service and Parts\", \"Service and Parts\", \"Service and Parts\", \"Product\", \"Sales\", \"Service and Parts\", \"Service and Parts\", \"Product\", \"Service and Parts\", \"Service and Parts\", \"Service and Parts\", \"Product\", \"Service and Parts\", \"Service and Parts\", \"Product\", \"Product\", \"Product\", \"Service and Parts\", \"Sales\", \"Service and Parts\", \"Sales\", \"Service and Parts\", \"Service and Parts\", \"Service and Parts\", \"Service and Parts\", \"Product\", \"Service and Parts\", \"Service and Parts\", \"Service and Parts\", \"Product\", \"Service and Parts\", \"Service and Parts\", \"Service and Parts\", \"Product\", \"Service and Parts\", \"Sales\", \"Product\", \"Service and Parts\", \"Service and Parts\", \"Product\", \"Service and Parts\", \"Product\", \"Service and Parts\", \"Service and Parts\", \"Service and Parts\", \"Product\", \"Product\", \"Service and Parts\", \"Service and Parts\", \"Product\", \"Service and Parts\", \"Product\", \"Sales\", \"Sales\", \"Service and Parts\", \"Product\", \"Service and Parts\", \"Product\", \"Product\", \"Service and Parts\", \"Sales\", \"Product\", \"Service and Parts\", \"Product\", \"Product\", \"Product\", \"Service and Parts\", \"Service and Parts\", \"Product\", \"Service and Parts\", \"Service and Parts\", \"Service and Parts\", \"Service and Parts\", \"Product\", \"Service and Parts\", \"Service and Parts\", \"Service and Parts\", \"Service and Parts\", \"Service and Parts\", \"Service and Parts\", \"Service and Parts\", \"Product\", \"Service and Parts\", \"Service and Parts\", \"Service and Parts\", \"Service and Parts\", \"Product\", \"Product\", \"Service and Parts\", \"Service and Parts\", \"Service and Parts\", \"Product\", \"Service and Parts\", \"Product\", \"Service and Parts\", \"Product\", \"Sales\", \"Service and Parts\", \"Product\", \"Service and Parts\", \"Service and Parts\", \"Service and Parts\", \"Product\", \"Sales\", \"Service and Parts\", \"Service and Parts\", \"Service and Parts\", \"Product\", \"Product\", \"Service and Parts\", \"Service and Parts\", \"Service and Parts\", \"Service and Parts\", \"Service and Parts\", \"Sales\", \"Service and Parts\", \"Service and Parts\", \"Service and Parts\", \"Service and Parts\", \"Product\", \"Service and Parts\", \"Service and Parts\", \"Service and Parts\", \"Product\", \"Service and Parts\", \"Service and Parts\", \"Product\", \"Service and Parts\", \"Sales\", \"Product\", \"Product\", \"Product\", \"Service and Parts\", \"Service and Parts\", \"Product\", \"Service and Parts\", \"Sales\", \"Service and Parts\", \"Product\", \"Service and Parts\", \"Service and Parts\", \"Service and Parts\", \"Sales\", \"Service and Parts\", \"Service and Parts\", \"Service and Parts\", \"Service and Parts\", \"Product\", \"Service and Parts\", \"Sales\", \"Service and Parts\", \"Product\", \"Product\", \"Service and Parts\", \"Product\", \"Product\", \"Service and Parts\", \"Product\", \"Product\", \"Service and Parts\", \"Product\", \"Service and Parts\", \"Service and Parts\", \"Service and Parts\", \"Service and Parts\", \"Service and Parts\", \"Service and Parts\", \"Product\", \"Service and Parts\", \"Service and Parts\", \"Service and Parts\", \"Product\", \"Sales\", \"Service and Parts\", \"Service and Parts\", \"Service and Parts\", \"Service and Parts\", \"Product\", \"Service and Parts\", \"Product\", \"Service and Parts\", \"Service and Parts\", \"Service and Parts\", \"Product\", \"Product\", \"Service and Parts\", \"Product\", \"Service and Parts\", \"Service and Parts\", \"Product\", \"Service and Parts\", \"Service and Parts\", \"Service and Parts\", \"Service and Parts\", \"Service and Parts\", \"Sales\", \"Product\", \"Service and Parts\", \"Service and Parts\", \"Service and Parts\", \"Service and Parts\", \"Product\", \"Service and Parts\", \"Service and Parts\", \"Service and Parts\", \"Service and Parts\", \"Product\", \"Product\", \"Product\", \"Service and Parts\", \"Service and Parts\", \"Product\", \"Service and Parts\", \"Product\", \"Service and Parts\", \"Service and Parts\", \"Service and Parts\", \"Product\", \"Product\", \"Service and Parts\", \"Service and Parts\", \"Product\", \"Service and Parts\", \"Service and Parts\", \"Sales\", \"Service and Parts\", \"Service and Parts\", \"Service and Parts\", \"Service and Parts\", \"Product\", \"Service and Parts\", \"Service and Parts\", \"Service and Parts\", \"Sales\", \"Service and Parts\", \"Service and Parts\", \"Product\", \"Service and Parts\", \"Product\", \"Service and Parts\", \"Product\", \"Service and Parts\", \"Sales\", \"Service and Parts\", \"Product\", \"Service and Parts\", \"Service and Parts\", \"Service and Parts\", \"Service and Parts\", \"Service and Parts\", \"Sales\", \"Service and Parts\", \"Service and Parts\", \"Service and Parts\", \"Service and Parts\", \"Sales\", \"Service and Parts\", \"Product\"], \"xaxis\": \"x\", \"yaxis\": \"y\"}],\n",
       "                        {\"barmode\": \"relative\", \"height\": 600, \"legend\": {\"tracegroupgap\": 0}, \"margin\": {\"t\": 60}, \"template\": {\"data\": {\"bar\": [{\"error_x\": {\"color\": \"#2a3f5f\"}, \"error_y\": {\"color\": \"#2a3f5f\"}, \"marker\": {\"line\": {\"color\": \"#E5ECF6\", \"width\": 0.5}}, \"type\": \"bar\"}], \"barpolar\": [{\"marker\": {\"line\": {\"color\": \"#E5ECF6\", \"width\": 0.5}}, \"type\": \"barpolar\"}], \"carpet\": [{\"aaxis\": {\"endlinecolor\": \"#2a3f5f\", \"gridcolor\": \"white\", \"linecolor\": \"white\", \"minorgridcolor\": \"white\", \"startlinecolor\": \"#2a3f5f\"}, \"baxis\": {\"endlinecolor\": \"#2a3f5f\", \"gridcolor\": \"white\", \"linecolor\": \"white\", \"minorgridcolor\": \"white\", \"startlinecolor\": \"#2a3f5f\"}, \"type\": \"carpet\"}], \"choropleth\": [{\"colorbar\": {\"outlinewidth\": 0, \"ticks\": \"\"}, \"type\": \"choropleth\"}], \"contour\": [{\"colorbar\": {\"outlinewidth\": 0, \"ticks\": \"\"}, \"colorscale\": [[0.0, \"#0d0887\"], [0.1111111111111111, \"#46039f\"], [0.2222222222222222, \"#7201a8\"], [0.3333333333333333, \"#9c179e\"], [0.4444444444444444, \"#bd3786\"], [0.5555555555555556, \"#d8576b\"], [0.6666666666666666, \"#ed7953\"], [0.7777777777777778, \"#fb9f3a\"], [0.8888888888888888, \"#fdca26\"], [1.0, \"#f0f921\"]], \"type\": \"contour\"}], \"contourcarpet\": [{\"colorbar\": {\"outlinewidth\": 0, \"ticks\": \"\"}, \"type\": \"contourcarpet\"}], \"heatmap\": [{\"colorbar\": {\"outlinewidth\": 0, \"ticks\": \"\"}, \"colorscale\": [[0.0, \"#0d0887\"], [0.1111111111111111, \"#46039f\"], [0.2222222222222222, \"#7201a8\"], [0.3333333333333333, \"#9c179e\"], [0.4444444444444444, \"#bd3786\"], [0.5555555555555556, \"#d8576b\"], [0.6666666666666666, \"#ed7953\"], [0.7777777777777778, \"#fb9f3a\"], [0.8888888888888888, \"#fdca26\"], [1.0, \"#f0f921\"]], \"type\": \"heatmap\"}], \"heatmapgl\": [{\"colorbar\": {\"outlinewidth\": 0, \"ticks\": \"\"}, \"colorscale\": [[0.0, \"#0d0887\"], [0.1111111111111111, \"#46039f\"], [0.2222222222222222, \"#7201a8\"], [0.3333333333333333, \"#9c179e\"], [0.4444444444444444, \"#bd3786\"], [0.5555555555555556, \"#d8576b\"], [0.6666666666666666, \"#ed7953\"], [0.7777777777777778, \"#fb9f3a\"], [0.8888888888888888, \"#fdca26\"], [1.0, \"#f0f921\"]], \"type\": \"heatmapgl\"}], \"histogram\": [{\"marker\": {\"colorbar\": {\"outlinewidth\": 0, \"ticks\": \"\"}}, \"type\": \"histogram\"}], \"histogram2d\": [{\"colorbar\": {\"outlinewidth\": 0, \"ticks\": \"\"}, \"colorscale\": [[0.0, \"#0d0887\"], [0.1111111111111111, \"#46039f\"], [0.2222222222222222, \"#7201a8\"], [0.3333333333333333, \"#9c179e\"], [0.4444444444444444, \"#bd3786\"], [0.5555555555555556, \"#d8576b\"], [0.6666666666666666, \"#ed7953\"], [0.7777777777777778, \"#fb9f3a\"], [0.8888888888888888, \"#fdca26\"], [1.0, \"#f0f921\"]], \"type\": \"histogram2d\"}], \"histogram2dcontour\": [{\"colorbar\": {\"outlinewidth\": 0, \"ticks\": \"\"}, \"colorscale\": [[0.0, \"#0d0887\"], [0.1111111111111111, \"#46039f\"], [0.2222222222222222, \"#7201a8\"], [0.3333333333333333, \"#9c179e\"], [0.4444444444444444, \"#bd3786\"], [0.5555555555555556, \"#d8576b\"], [0.6666666666666666, \"#ed7953\"], [0.7777777777777778, \"#fb9f3a\"], [0.8888888888888888, \"#fdca26\"], [1.0, \"#f0f921\"]], \"type\": \"histogram2dcontour\"}], \"mesh3d\": [{\"colorbar\": {\"outlinewidth\": 0, \"ticks\": \"\"}, \"type\": \"mesh3d\"}], \"parcoords\": [{\"line\": {\"colorbar\": {\"outlinewidth\": 0, \"ticks\": \"\"}}, \"type\": \"parcoords\"}], \"scatter\": [{\"marker\": {\"colorbar\": {\"outlinewidth\": 0, \"ticks\": \"\"}}, \"type\": \"scatter\"}], \"scatter3d\": [{\"line\": {\"colorbar\": {\"outlinewidth\": 0, \"ticks\": \"\"}}, \"marker\": {\"colorbar\": {\"outlinewidth\": 0, \"ticks\": \"\"}}, \"type\": \"scatter3d\"}], \"scattercarpet\": [{\"marker\": {\"colorbar\": {\"outlinewidth\": 0, \"ticks\": \"\"}}, \"type\": \"scattercarpet\"}], \"scattergeo\": [{\"marker\": {\"colorbar\": {\"outlinewidth\": 0, \"ticks\": \"\"}}, \"type\": \"scattergeo\"}], \"scattergl\": [{\"marker\": {\"colorbar\": {\"outlinewidth\": 0, \"ticks\": \"\"}}, \"type\": \"scattergl\"}], \"scattermapbox\": [{\"marker\": {\"colorbar\": {\"outlinewidth\": 0, \"ticks\": \"\"}}, \"type\": \"scattermapbox\"}], \"scatterpolar\": [{\"marker\": {\"colorbar\": {\"outlinewidth\": 0, \"ticks\": \"\"}}, \"type\": \"scatterpolar\"}], \"scatterpolargl\": [{\"marker\": {\"colorbar\": {\"outlinewidth\": 0, \"ticks\": \"\"}}, \"type\": \"scatterpolargl\"}], \"scatterternary\": [{\"marker\": {\"colorbar\": {\"outlinewidth\": 0, \"ticks\": \"\"}}, \"type\": \"scatterternary\"}], \"surface\": [{\"colorbar\": {\"outlinewidth\": 0, \"ticks\": \"\"}, \"colorscale\": [[0.0, \"#0d0887\"], [0.1111111111111111, \"#46039f\"], [0.2222222222222222, \"#7201a8\"], [0.3333333333333333, \"#9c179e\"], [0.4444444444444444, \"#bd3786\"], [0.5555555555555556, \"#d8576b\"], [0.6666666666666666, \"#ed7953\"], [0.7777777777777778, \"#fb9f3a\"], [0.8888888888888888, \"#fdca26\"], [1.0, \"#f0f921\"]], \"type\": \"surface\"}], \"table\": [{\"cells\": {\"fill\": {\"color\": \"#EBF0F8\"}, \"line\": {\"color\": \"white\"}}, \"header\": {\"fill\": {\"color\": \"#C8D4E3\"}, \"line\": {\"color\": \"white\"}}, \"type\": \"table\"}]}, \"layout\": {\"annotationdefaults\": {\"arrowcolor\": \"#2a3f5f\", \"arrowhead\": 0, \"arrowwidth\": 1}, \"colorscale\": {\"diverging\": [[0, \"#8e0152\"], [0.1, \"#c51b7d\"], [0.2, \"#de77ae\"], [0.3, \"#f1b6da\"], [0.4, \"#fde0ef\"], [0.5, \"#f7f7f7\"], [0.6, \"#e6f5d0\"], [0.7, \"#b8e186\"], [0.8, \"#7fbc41\"], [0.9, \"#4d9221\"], [1, \"#276419\"]], \"sequential\": [[0.0, \"#0d0887\"], [0.1111111111111111, \"#46039f\"], [0.2222222222222222, \"#7201a8\"], [0.3333333333333333, \"#9c179e\"], [0.4444444444444444, \"#bd3786\"], [0.5555555555555556, \"#d8576b\"], [0.6666666666666666, \"#ed7953\"], [0.7777777777777778, \"#fb9f3a\"], [0.8888888888888888, \"#fdca26\"], [1.0, \"#f0f921\"]], \"sequentialminus\": [[0.0, \"#0d0887\"], [0.1111111111111111, \"#46039f\"], [0.2222222222222222, \"#7201a8\"], [0.3333333333333333, \"#9c179e\"], [0.4444444444444444, \"#bd3786\"], [0.5555555555555556, \"#d8576b\"], [0.6666666666666666, \"#ed7953\"], [0.7777777777777778, \"#fb9f3a\"], [0.8888888888888888, \"#fdca26\"], [1.0, \"#f0f921\"]]}, \"colorway\": [\"#636efa\", \"#EF553B\", \"#00cc96\", \"#ab63fa\", \"#FFA15A\", \"#19d3f3\", \"#FF6692\", \"#B6E880\", \"#FF97FF\", \"#FECB52\"], \"font\": {\"color\": \"#2a3f5f\"}, \"geo\": {\"bgcolor\": \"white\", \"lakecolor\": \"white\", \"landcolor\": \"#E5ECF6\", \"showlakes\": true, \"showland\": true, \"subunitcolor\": \"white\"}, \"hoverlabel\": {\"align\": \"left\"}, \"hovermode\": \"closest\", \"mapbox\": {\"style\": \"light\"}, \"paper_bgcolor\": \"white\", \"plot_bgcolor\": \"#E5ECF6\", \"polar\": {\"angularaxis\": {\"gridcolor\": \"white\", \"linecolor\": \"white\", \"ticks\": \"\"}, \"bgcolor\": \"#E5ECF6\", \"radialaxis\": {\"gridcolor\": \"white\", \"linecolor\": \"white\", \"ticks\": \"\"}}, \"scene\": {\"xaxis\": {\"backgroundcolor\": \"#E5ECF6\", \"gridcolor\": \"white\", \"gridwidth\": 2, \"linecolor\": \"white\", \"showbackground\": true, \"ticks\": \"\", \"zerolinecolor\": \"white\"}, \"yaxis\": {\"backgroundcolor\": \"#E5ECF6\", \"gridcolor\": \"white\", \"gridwidth\": 2, \"linecolor\": \"white\", \"showbackground\": true, \"ticks\": \"\", \"zerolinecolor\": \"white\"}, \"zaxis\": {\"backgroundcolor\": \"#E5ECF6\", \"gridcolor\": \"white\", \"gridwidth\": 2, \"linecolor\": \"white\", \"showbackground\": true, \"ticks\": \"\", \"zerolinecolor\": \"white\"}}, \"shapedefaults\": {\"line\": {\"color\": \"#2a3f5f\"}}, \"ternary\": {\"aaxis\": {\"gridcolor\": \"white\", \"linecolor\": \"white\", \"ticks\": \"\"}, \"baxis\": {\"gridcolor\": \"white\", \"linecolor\": \"white\", \"ticks\": \"\"}, \"bgcolor\": \"#E5ECF6\", \"caxis\": {\"gridcolor\": \"white\", \"linecolor\": \"white\", \"ticks\": \"\"}}, \"title\": {\"x\": 0.05}, \"xaxis\": {\"automargin\": true, \"gridcolor\": \"white\", \"linecolor\": \"white\", \"ticks\": \"\", \"zerolinecolor\": \"white\", \"zerolinewidth\": 2}, \"yaxis\": {\"automargin\": true, \"gridcolor\": \"white\", \"linecolor\": \"white\", \"ticks\": \"\", \"zerolinecolor\": \"white\", \"zerolinewidth\": 2}}}, \"xaxis\": {\"anchor\": \"y\", \"domain\": [0.0, 0.98], \"title\": {\"text\": \"x\"}}, \"yaxis\": {\"anchor\": \"x\", \"domain\": [0.0, 1.0], \"title\": {\"text\": \"count\"}}},\n",
       "                        {\"responsive\": true}\n",
       "                    ).then(function(){\n",
       "                            \n",
       "var gd = document.getElementById('885a0a71-98ac-4824-a8b5-14a496189451');\n",
       "var x = new MutationObserver(function (mutations, observer) {{\n",
       "        var display = window.getComputedStyle(gd).display;\n",
       "        if (!display || display === 'none') {{\n",
       "            console.log([gd, 'removed!']);\n",
       "            Plotly.purge(gd);\n",
       "            observer.disconnect();\n",
       "        }}\n",
       "}});\n",
       "\n",
       "// Listen for the removal of the full notebook cells\n",
       "var notebookContainer = gd.closest('#notebook-container');\n",
       "if (notebookContainer) {{\n",
       "    x.observe(notebookContainer, {childList: true});\n",
       "}}\n",
       "\n",
       "// Listen for the clearing of the current output cell\n",
       "var outputEl = gd.closest('.output');\n",
       "if (outputEl) {{\n",
       "    x.observe(outputEl, {childList: true});\n",
       "}}\n",
       "\n",
       "                        })\n",
       "                };\n",
       "                });\n",
       "            </script>\n",
       "        </div>"
      ]
     },
     "metadata": {},
     "output_type": "display_data"
    }
   ],
   "source": [
    "import plotly.express as px\n",
    "tips = px.data.tips()\n",
    "fig = px.histogram(tips,x=complaint1[\"Area 1\"])\n",
    "fig.show()"
   ]
  },
  {
   "cell_type": "code",
   "execution_count": 164,
   "metadata": {},
   "outputs": [
    {
     "data": {
      "application/vnd.plotly.v1+json": {
       "config": {
        "plotlyServerURL": "https://plot.ly"
       },
       "data": [
        {
         "alignmentgroup": "True",
         "bingroup": "x",
         "hoverlabel": {
          "namelength": 0
         },
         "hovertemplate": "x=%{x}<br>count=%{y}",
         "legendgroup": "",
         "marker": {
          "color": "#636efa"
         },
         "name": "",
         "offsetgroup": "",
         "orientation": "v",
         "showlegend": false,
         "type": "histogram",
         "x": [
          "model1",
          "model10",
          "model3",
          "model1",
          "model1",
          "model1",
          "model3",
          "model1",
          "model1",
          "model6",
          "model1",
          "model1",
          "model1",
          "model3",
          "model11",
          "model1",
          "model2",
          "model3",
          "model1",
          "model1",
          "model1",
          "model6",
          "model11",
          "model3",
          "model1",
          "model1",
          "model2",
          "model1",
          "model4",
          "model1",
          "model1",
          "model1",
          "model1",
          "model1",
          "model2",
          "model1",
          "model3",
          "model3",
          "model1",
          "model1",
          "model1",
          "model1",
          "model1",
          "model1",
          "model3",
          "model3",
          "model1",
          "model1",
          "model1",
          "model1",
          "model9",
          "model4",
          "model1",
          "model6",
          "model3",
          "model1",
          "model6",
          "model1",
          "model6",
          "model1",
          "model2",
          "model1",
          "model1",
          "model3",
          "model11",
          "model3",
          "model1",
          "model1",
          "model3",
          "model1",
          "model1",
          "model3",
          "model6",
          "model2",
          "model5",
          "model1",
          "model1",
          "model1",
          "model1",
          "model1",
          "model1",
          "model1",
          "model1",
          "model1",
          "model1",
          "model1",
          "model6",
          "model1",
          "model12",
          "model3",
          "model8",
          "model1",
          "model4",
          "model6",
          "model1",
          "model1",
          "model1",
          "model1",
          "model3",
          "model1",
          "model3",
          "model1",
          "model1",
          "model11",
          "model3",
          "model1",
          "model1",
          "model3",
          "model3",
          "model4",
          "model1",
          "model1",
          "model4",
          "model4",
          "model1",
          "model4",
          "model1",
          "model1",
          "model1",
          "model3",
          "model6",
          "model1",
          "model1",
          "model4",
          "model1",
          "model3",
          "model1",
          "model1",
          "model2",
          "model1",
          "model1",
          "model4",
          "model3",
          "model1",
          "model1",
          "model1",
          "model1",
          "model3",
          "model3",
          "model3",
          "model1",
          "model3",
          "model1",
          "model1",
          "model1",
          "model1",
          "model1",
          "model1",
          "model3",
          "model1",
          "model3",
          "model1",
          "model1",
          "model12",
          "model1",
          "model1",
          "model3",
          "model1",
          "model6",
          "model3",
          "model6",
          "model1",
          "model3",
          "model3",
          "model1",
          "model3",
          "model3",
          "model1",
          "model1",
          "model1",
          "model4",
          "model1",
          "model3",
          "model3",
          "model1",
          "model2",
          "model3",
          "model1",
          "model1",
          "model3",
          "model1",
          "model3",
          "model3",
          "model3",
          "model11",
          "model3",
          "model11",
          "model1",
          "model1",
          "model1",
          "model11",
          "model1",
          "model3",
          "model3",
          "model1",
          "model1",
          "model1",
          "model1",
          "model1",
          "model3",
          "model1",
          "model3",
          "model1",
          "model4",
          "model2",
          "model3",
          "model3",
          "model1",
          "model3",
          "model3",
          "model3",
          "model3",
          "model1",
          "model1",
          "model1",
          "model1",
          "model3",
          "model3",
          "model1",
          "model3",
          "model1",
          "model1",
          "model1",
          "model1",
          "model1",
          "model4",
          "model1",
          "model3",
          "model1",
          "model3",
          "model2",
          "model3",
          "model1",
          "model3",
          "model1",
          "model12",
          "model3",
          "model1",
          "model1",
          "model3",
          "model11",
          "model4",
          "model1",
          "model2",
          "model3",
          "model4",
          "model1",
          "model1",
          "model6",
          "model6",
          "model3",
          "model1",
          "model1",
          "model12",
          "model3",
          "model1",
          "model1",
          "model1",
          "model1",
          "model1",
          "model1",
          "model3",
          "model12",
          "model5",
          "model1",
          "model3",
          "model1",
          "model1",
          "model2",
          "model1",
          "model1",
          "model1",
          "model1",
          "model3",
          "model2",
          "model1",
          "model4",
          "model3",
          "model1",
          "model3",
          "model1",
          "model6",
          "model1",
          "model3",
          "model1",
          "model1",
          "model11",
          "model3",
          "model1",
          "model2",
          "model3",
          "model1",
          "model1",
          "model3",
          "model3",
          "model3",
          "model1",
          "model1",
          "model3",
          "model1",
          "model1",
          "model4",
          "model3",
          "model1",
          "model1",
          "model3",
          "model1",
          "model1",
          "model3",
          "model6",
          "model3",
          "model1",
          "model1",
          "model1",
          "model1",
          "model1",
          "model1",
          "model3",
          "model11",
          "model1",
          "model1",
          "model1",
          "model3",
          "model1",
          "model1",
          "model1",
          "model2",
          "model1",
          "model1",
          "model1",
          "model6",
          "model1",
          "model3",
          "model3",
          "model3",
          "model1",
          "model6",
          "model3",
          "model9",
          "model1",
          "model1",
          "model1",
          "model3",
          "model1",
          "model1",
          "model2",
          "model1",
          "model2",
          "model1",
          "model1",
          "model1",
          "model1",
          "model1",
          "model1",
          "model3",
          "model1",
          "model1",
          "model1",
          "model1",
          "model1",
          "model1",
          "model3",
          "model4",
          "model1",
          "model1",
          "model11",
          "model2",
          "model3",
          "model4",
          "model12",
          "model4",
          "model11",
          "model1",
          "model2",
          "model3",
          "model1",
          "model3",
          "model3",
          "model1",
          "model1",
          "model1",
          "model1",
          "model1",
          "model3",
          "model1",
          "model1",
          "model3",
          "model3",
          "model1",
          "model6",
          "model4",
          "model3",
          "model4",
          "model1",
          "model6",
          "model1",
          "model1",
          "model1",
          "model4",
          "model1",
          "model6",
          "model1",
          "model12",
          "model1",
          "model1",
          "model1",
          "model1",
          "model1",
          "model1",
          "model1",
          "model3",
          "model1",
          "model3",
          "model1",
          "model1",
          "model3",
          "model1",
          "model1",
          "model1",
          "model3",
          "model2",
          "model1",
          "model1",
          "model3",
          "model4",
          "model1",
          "model1",
          "model1",
          "model3",
          "model1",
          "model1",
          "model4",
          "model1",
          "model2",
          "model1",
          "model3",
          "model1",
          "model1",
          "model6",
          "model1",
          "model3",
          "model3",
          "model1",
          "model3",
          "model1",
          "model1",
          "model3",
          "model3",
          "model4",
          "model1",
          "model3",
          "model3",
          "model1",
          "model1",
          "model4",
          "model1",
          "model4",
          "model1",
          "model1",
          "model1",
          "model1",
          "model3",
          "model4",
          "model2",
          "model1",
          "model1",
          "model1",
          "model3",
          "model2",
          "model1",
          "model3",
          "model1",
          "model1",
          "model4",
          "model1",
          "model1",
          "model1",
          "model3",
          "model3",
          "model3",
          "model2",
          "model4",
          "model4",
          "model1",
          "model1",
          "model1",
          "model1",
          "model2",
          "model1",
          "model4",
          "model3",
          "model4",
          "model1",
          "model3",
          "model1",
          "model1",
          "model1",
          "model1",
          "model1",
          "model1",
          "model3",
          "model4",
          "model3",
          "model4",
          "model1",
          "model12",
          "model1",
          "model3",
          "model3",
          "model1",
          "model1",
          "model1",
          "model1",
          "model1",
          "model1",
          "model3",
          "model1",
          "model3",
          "model1",
          "model1",
          "model1",
          "model3",
          "model2",
          "model3",
          "model1",
          "model1",
          "model1",
          "model1",
          "model4",
          "model1",
          "model3",
          "model3",
          "model4",
          "model1",
          "model3",
          "model3",
          "model3",
          "model3",
          "model1",
          "model6",
          "model1",
          "model3",
          "model1",
          "model1",
          "model4",
          "model2",
          "model1",
          "model1",
          "model12",
          "model1",
          "model3",
          "model1",
          "model1",
          "model3",
          "model1",
          "model3",
          "model1",
          "model3",
          "model1",
          "model1",
          "model3",
          "model3",
          "model1",
          "model11",
          "model6",
          "model3",
          "model1",
          "model3",
          "model3",
          "model11",
          "model6",
          "model6",
          "model3",
          "model3",
          "model1",
          "model3",
          "model1",
          "model1",
          "model3",
          "model1",
          "model1",
          "model4",
          "model2",
          "model1",
          "model3",
          "model4",
          "model1",
          "model3",
          "model3",
          "model1",
          "model1",
          "model1",
          "model1",
          "model8",
          "model1",
          "model1",
          "model4",
          "model1",
          "model1",
          "model4",
          "model1",
          "model4",
          "model2",
          "model3",
          "model1",
          "model1",
          "model3",
          "model1",
          "model1",
          "model3",
          "model1",
          "model1",
          "model3",
          "model1",
          "model1",
          "model3",
          "model1",
          "model4",
          "model3",
          "model1",
          "model1",
          "model3",
          "model3",
          "model1",
          "model1",
          "model2",
          "model3",
          "model1",
          "model4",
          "model1",
          "model1",
          "model1",
          "model1",
          "model1",
          "model1",
          "model1",
          "model3",
          "model1",
          "model1",
          "model3",
          "model1",
          "model1",
          "model3",
          "model1",
          "model3",
          "model1",
          "model4",
          "model1",
          "model3",
          "model1",
          "model3",
          "model2",
          "model5",
          "model3",
          "model11",
          "model1",
          "model3",
          "model4",
          "model3",
          "model1",
          "model1",
          "model3",
          "model1",
          "model1",
          "model1",
          "model3",
          "model2",
          "model3",
          "model4",
          "model1",
          "model3",
          "model1",
          "model3",
          "model1",
          "model1",
          "model1",
          "model1",
          "model1",
          "model1",
          "model3",
          "model3",
          "model3",
          "model3",
          "model4",
          "model3",
          "model2",
          "model1",
          "model1",
          "model6",
          "model2",
          "model3",
          "model1",
          "model1",
          "model1",
          "model1",
          "model3",
          "model3",
          "model1",
          "model2",
          "model6",
          "model1",
          "model1",
          "model1",
          "model3",
          "model11",
          "model3",
          "model1",
          "model3",
          "model3",
          "model4",
          "model1",
          "model1",
          "model1",
          "model1",
          "model1",
          "model1",
          "model1",
          "model1",
          "model1",
          "model3",
          "model1",
          "model4",
          "model1",
          "model4",
          "model1",
          "model1",
          "model1",
          "model1",
          "model1",
          "model3",
          "model1",
          "model1",
          "model12",
          "model3",
          "model1",
          "model1",
          "model3",
          "model1",
          "model1",
          "model6",
          "model1",
          "model1",
          "model1",
          "model3",
          "model1",
          "model1",
          "model1",
          "model3",
          "model1",
          "model8",
          "model1",
          "model1",
          "model1",
          "model1",
          "model1",
          "model2",
          "model1",
          "model2",
          "model1",
          "model2",
          "model1",
          "model3",
          "model2",
          "model3",
          "model1",
          "model6",
          "model3",
          "model3",
          "model1",
          "model1",
          "model1",
          "model4",
          "model3",
          "model2",
          "model4",
          "model1",
          "model3",
          "model1",
          "model2",
          "model1",
          "model3",
          "model1",
          "model3",
          "model1",
          "model1",
          "model4",
          "model3",
          "model1",
          "model6",
          "model1",
          "model3",
          "model1",
          "model11",
          "model3",
          "model3",
          "model3",
          "model3",
          "model4",
          "model1",
          "model3",
          "model4",
          "model1",
          "model3",
          "model1",
          "model1",
          "model6",
          "model1",
          "model11",
          "model1",
          "model3",
          "model1",
          "model3",
          "model1",
          "model1",
          "model1",
          "model1",
          "model1",
          "model1",
          "model4",
          "model3",
          "model1",
          "model3",
          "model1",
          "model2",
          "model1",
          "model3",
          "model1",
          "model1",
          "model1",
          "model1",
          "model1",
          "model1",
          "model1",
          "model1",
          "model3",
          "model1",
          "model1",
          "model1",
          "model1",
          "model4",
          "model1",
          "model1",
          "model3",
          "model1",
          "model3",
          "model3",
          "model1",
          "model1",
          "model1",
          "model4",
          "model6",
          "model1",
          "model3",
          "model1",
          "model2",
          "model1",
          "model1",
          "model3",
          "model1",
          "model1",
          "model3",
          "model12",
          "model3",
          "model1",
          "model1",
          "model1",
          "model1",
          "model1",
          "model1",
          "model3",
          "model1",
          "model1",
          "model3",
          "model1",
          "model4",
          "model1",
          "model4",
          "model1",
          "model2",
          "model1",
          "model1",
          "model1",
          "model3",
          "model3",
          "model6",
          "model3",
          "model1",
          "model3",
          "model11",
          "model1",
          "model1",
          "model11",
          "model1",
          "model3",
          "model2",
          "model3",
          "model2",
          "model1",
          "model1",
          "model1",
          "model1",
          "model3",
          "model1",
          "model3",
          "model1",
          "model1",
          "model4",
          "model1",
          "model1",
          "model1",
          "model1",
          "model3",
          "model1",
          "model1",
          "model1",
          "model1",
          "model1",
          "model1",
          "model12",
          "model1",
          "model6",
          "model1",
          "model1",
          "model3",
          "model1",
          "model3",
          "model1",
          "model1",
          "model6",
          "model6",
          "model1",
          "model2",
          "model1",
          "model3",
          "model4",
          "model9",
          "model1",
          "model1",
          "model3",
          "model3",
          "model4",
          "model1",
          "model1",
          "model12",
          "model1",
          "model3",
          "model6",
          "model4",
          "model1",
          "model1",
          "model6",
          "model1",
          "model1",
          "model3",
          "model1",
          "model1",
          "model1",
          "model4",
          "model1",
          "model1",
          "model1",
          "model3",
          "model3",
          "model4",
          "model1",
          "model3",
          "model3",
          "model12",
          "model2",
          "model11",
          "model1",
          "model1",
          "model1",
          "model1",
          "model1",
          "model1",
          "model1",
          "model2",
          "model1",
          "model3",
          "model2",
          "model3",
          "model3",
          "model1",
          "model1",
          "model3",
          "model1",
          "model6",
          "model3",
          "model1",
          "model1",
          "model1",
          "model4",
          "model1",
          "model3",
          "model1",
          "model1",
          "model11",
          "model3",
          "model1",
          "model1",
          "model1",
          "model2",
          "model3",
          "model12",
          "model4",
          "model3",
          "model10",
          "model1",
          "model4",
          "model1",
          "model6",
          "model1",
          "model3",
          "model1",
          "model1",
          "model3",
          "model1",
          "model2",
          "model3",
          "model3",
          "model3",
          "model1",
          "model3",
          "model3",
          "model4",
          "model1",
          "model3",
          "model6",
          "model1",
          "model1",
          "model1",
          "model1",
          "model1",
          "model1",
          "model4",
          "model1",
          "model1",
          "model3",
          "model3",
          "model1",
          "model3",
          "model8",
          "model1",
          "model2",
          "model4",
          "model1",
          "model3",
          "model3",
          "model1",
          "model2",
          "model1",
          "model1",
          "model1",
          "model3",
          "model1",
          "model2",
          "model1",
          "model1",
          "model1",
          "model1",
          "model1",
          "model4",
          "model2",
          "model3",
          "model3",
          "model2",
          "model3",
          "model1",
          "model1",
          "model1",
          "model3",
          "model1",
          "model12",
          "model1",
          "model1",
          "model1",
          "model9",
          "model3",
          "model6",
          "model2",
          "model3",
          "model1",
          "model4",
          "model3",
          "model1",
          "model1",
          "model1",
          "model1",
          "model6",
          "model3",
          "model1",
          "model1",
          "model1",
          "model1",
          "model1",
          "model1",
          "model11",
          "model1",
          "model2",
          "model3",
          "model1",
          "model2",
          "model1",
          "model1",
          "model1",
          "model1",
          "model4",
          "model3",
          "model2",
          "model1",
          "model2",
          "model3",
          "model3",
          "model1",
          "model1",
          "model4",
          "model1",
          "model1",
          "model1",
          "model1",
          "model4",
          "model6",
          "model1",
          "model1",
          "model3",
          "model1",
          "model6",
          "model2",
          "model1",
          "model4",
          "model1",
          "model6",
          "model3",
          "model1",
          "model1",
          "model1",
          "model1",
          "model3",
          "model1",
          "model6",
          "model12",
          "model1",
          "model4",
          "model1",
          "model3",
          "model3",
          "model1",
          "model3",
          "model3",
          "model4",
          "model1",
          "model1",
          "model1",
          "model1",
          "model1",
          "model3",
          "model6",
          "model1",
          "model1",
          "model6",
          "model1",
          "model1",
          "model2",
          "model3",
          "model1",
          "model1",
          "model1",
          "model1",
          "model3",
          "model1",
          "model1",
          "model3",
          "model3",
          "model1",
          "model3",
          "model1",
          "model3",
          "model3",
          "model2",
          "model1",
          "model1",
          "model1",
          "model3",
          "model3",
          "model1",
          "model3",
          "model2",
          "model1",
          "model6",
          "model1",
          "model1",
          "model3",
          "model2",
          "model1",
          "model1",
          "model3",
          "model1",
          "model2",
          "model1",
          "model1",
          "model4",
          "model1",
          "model1",
          "model3",
          "model1",
          "model1",
          "model3",
          "model1",
          "model1",
          "model1",
          "model2",
          "model1",
          "model2",
          "model1",
          "model3",
          "model3",
          "model1",
          "model1",
          "model4",
          "model1",
          "model2",
          "model1",
          "model1",
          "model2",
          "model4",
          "model1",
          "model1",
          "model4",
          "model6",
          "model3",
          "model1",
          "model3",
          "model3",
          "model1",
          "model1",
          "model4",
          "model1",
          "model1",
          "model1",
          "model1",
          "model1",
          "model4",
          "model1",
          "model1",
          "model3",
          "model3",
          "model3",
          "model6",
          "model4",
          "model6",
          "model1",
          "model1",
          "model3",
          "model1",
          "model1",
          "model1",
          "model3",
          "model1",
          "model1",
          "model3",
          "model1",
          "model6",
          "model1",
          "model3",
          "model4",
          "model1",
          "model3",
          "model1",
          "model1",
          "model3",
          "model4",
          "model1",
          "model12",
          "model1",
          "model1",
          "model1",
          "model4",
          "model1",
          "model3",
          "model1",
          "model4",
          "model2",
          "model1",
          "model1",
          "model2",
          "model3",
          "model3",
          "model1",
          "model2",
          "model3",
          "model1",
          "model3",
          "model1",
          "model2",
          "model1",
          "model1",
          "model3",
          "model1",
          "model1",
          "model1",
          "model2",
          "model11",
          "model3",
          "model3",
          "model3",
          "model3",
          "model1",
          "model1",
          "model1",
          "model3",
          "model1",
          "model3",
          "model1",
          "model12",
          "model6",
          "model1",
          "model1",
          "model1",
          "model4",
          "model1",
          "model3",
          "model2",
          "model1",
          "model3",
          "model3",
          "model3",
          "model1",
          "model1",
          "model3",
          "model2",
          "model1",
          "model3",
          "model1",
          "model3",
          "model1",
          "model4",
          "model1",
          "model1",
          "model3",
          "model3",
          "model1",
          "model1",
          "model2",
          "model3",
          "model1",
          "model3",
          "model1",
          "model3",
          "model1",
          "model1",
          "model3",
          "model1",
          "model1",
          "model3",
          "model6",
          "model1",
          "model1",
          "model1",
          "model1",
          "model3",
          "model1",
          "model2",
          "model1",
          "model4",
          "model2",
          "model3",
          "model1",
          "model3",
          "model1",
          "model3",
          "model4",
          "model1",
          "model3",
          "model3",
          "model1",
          "model1",
          "model3",
          "model1",
          "model1",
          "model1",
          "model3",
          "model1",
          "model3",
          "model4",
          "model1",
          "model3",
          "model1",
          "model1",
          "model1",
          "model1",
          "model1",
          "model3",
          "model1",
          "model1",
          "model1",
          "model3",
          "model1",
          "model1",
          "model3",
          "model1",
          "model2",
          "model3",
          "model11",
          "model3",
          "model3",
          "model1",
          "model1",
          "model1",
          "model1",
          "model1",
          "model1",
          "model3",
          "model1",
          "model1",
          "model3",
          "model1",
          "model1",
          "model1",
          "model1",
          "model1",
          "model1",
          "model4",
          "model4",
          "model3",
          "model4",
          "model3",
          "model2",
          "model1",
          "model3",
          "model2",
          "model1",
          "model1",
          "model3",
          "model3",
          "model1",
          "model11",
          "model3",
          "model3",
          "model1",
          "model2",
          "model2",
          "model3",
          "model2",
          "model4",
          "model1",
          "model1",
          "model1",
          "model1",
          "model5",
          "model3",
          "model2",
          "model1",
          "model1",
          "model1",
          "model4",
          "model1",
          "model1",
          "model13",
          "model1",
          "model1",
          "model1",
          "model5",
          "model3",
          "model2",
          "model1",
          "model12",
          "model1",
          "model1",
          "model3",
          "model1",
          "model1",
          "model1",
          "model4",
          "model1",
          "model3",
          "model3",
          "model6",
          "model1",
          "model1",
          "model3",
          "model12",
          "model1",
          "model4",
          "model2",
          "model1",
          "model1",
          "model4",
          "model1",
          "model6",
          "model1",
          "model3",
          "model4",
          "model1",
          "model4",
          "model1",
          "model1",
          "model1",
          "model1",
          "model4",
          "model1",
          "model1",
          "model4",
          "model1",
          "model1",
          "model1",
          "model1",
          "model3",
          "model3",
          "model10",
          "model1",
          "model3",
          "model6",
          "model4",
          "model1",
          "model1",
          "model3",
          "model3",
          "model3",
          "model3",
          "model1",
          "model3",
          "model2",
          "model1",
          "model1",
          "model6",
          "model1",
          "model1",
          "model1",
          "model4",
          "model1",
          "model1",
          "model1",
          "model6",
          "model1",
          "model2",
          "model4",
          "model3",
          "model1",
          "model12",
          "model3",
          "model2",
          "model3",
          "model4",
          "model1",
          "model3",
          "model3",
          "model1",
          "model3",
          "model3",
          "model1",
          "model1",
          "model1",
          "model3",
          "model1",
          "model11",
          "model1",
          "model1",
          "model1",
          "model1",
          "model3",
          "model3",
          "model1",
          "model1",
          "model3",
          "model1",
          "model4",
          "model12",
          "model4",
          "model3",
          "model4",
          "model3",
          "model1",
          "model12",
          "model1",
          "model6",
          "model1",
          "model1",
          "model1",
          "model12",
          "model1",
          "model3",
          "model3",
          "model1",
          "model1",
          "model3",
          "model1",
          "model1",
          "model12",
          "model1",
          "model2",
          "model3",
          "model4",
          "model3",
          "model3",
          "model3",
          "model3",
          "model1",
          "model3",
          "model1",
          "model11",
          "model2",
          "model1",
          "model1",
          "model1",
          "model1",
          "model1",
          "model1",
          "model1",
          "model11",
          "model1",
          "model3",
          "model1",
          "model4",
          "model1",
          "model1",
          "model3",
          "model6",
          "model1",
          "model1",
          "model1",
          "model1",
          "model1",
          "model1",
          "model1",
          "model1",
          "model1",
          "model3",
          "model1",
          "model3",
          "model1",
          "model1",
          "model3",
          "model3",
          "model1",
          "model3",
          "model2",
          "model6",
          "model12",
          "model1",
          "model1",
          "model1",
          "model3",
          "model1",
          "model1",
          "model1",
          "model3",
          "model1",
          "model3",
          "model1",
          "model1",
          "model1",
          "model1",
          "model4",
          "model1",
          "model1",
          "model1",
          "model1",
          "model12",
          "model1",
          "model1",
          "model1",
          "model1",
          "model1",
          "model3",
          "model1",
          "model3",
          "model4",
          "model1",
          "model11",
          "model1",
          "model3",
          "model1",
          "model3",
          "model2",
          "model1",
          "model4",
          "model1",
          "model3",
          "model3",
          "model1",
          "model1",
          "model1",
          "model3",
          "model3",
          "model4",
          "model3",
          "model1",
          "model6",
          "model1",
          "model1",
          "model1",
          "model3",
          "model3",
          "model1",
          "model3",
          "model1",
          "model3",
          "model4",
          "model1",
          "model1",
          "model1",
          "model3",
          "model1",
          "model1",
          "model1",
          "model1",
          "model1",
          "model4",
          "model1",
          "model1",
          "model4",
          "model12",
          "model3",
          "model1",
          "model1",
          "model1",
          "model9",
          "model2",
          "model1",
          "model1",
          "model3",
          "model1",
          "model2",
          "model3",
          "model3",
          "model1",
          "model1",
          "model1",
          "model2",
          "model4",
          "model11",
          "model3",
          "model1",
          "model1",
          "model6",
          "model1",
          "model1",
          "model12",
          "model3",
          "model4",
          "model1",
          "model6",
          "model1",
          "model3",
          "model1",
          "model1",
          "model1",
          "model3",
          "model1",
          "model1",
          "model1",
          "model4",
          "model1",
          "model6",
          "model3",
          "model1",
          "model4",
          "model4",
          "model3",
          "model4",
          "model6",
          "model1",
          "model1",
          "model1",
          "model1",
          "model3",
          "model4",
          "model6",
          "model1",
          "model3",
          "model4",
          "model3",
          "model1",
          "model4",
          "model4",
          "model1",
          "model4",
          "model4",
          "model4",
          "model1",
          "model4",
          "model1",
          "model3",
          "model1",
          "model2",
          "model1",
          "model1",
          "model1",
          "model1",
          "model1",
          "model1",
          "model1",
          "model2",
          "model3",
          "model1",
          "model12",
          "model1",
          "model1",
          "model1",
          "model3",
          "model3",
          "model1",
          "model3",
          "model1",
          "model11",
          "model1",
          "model4",
          "model1",
          "model4",
          "model3",
          "model3",
          "model3",
          "model3",
          "model2",
          "model3",
          "model4",
          "model4",
          "model1",
          "model3",
          "model3",
          "model1",
          "model1",
          "model1",
          "model4",
          "model3",
          "model1",
          "model1",
          "model3",
          "model3",
          "model1",
          "model1",
          "model1",
          "model3",
          "model3",
          "model3",
          "model1",
          "model1",
          "model1",
          "model1",
          "model3",
          "model1",
          "model3",
          "model1",
          "model1",
          "model1",
          "model1",
          "model1",
          "model3",
          "model1",
          "model1",
          "model1",
          "model2",
          "model1",
          "model6",
          "model1",
          "model1",
          "model1",
          "model3",
          "model1",
          "model6",
          "model1",
          "model1",
          "model4",
          "model1",
          "model3",
          "model1",
          "model1",
          "model11",
          "model4",
          "model1",
          "model1",
          "model1",
          "model4",
          "model4",
          "model1",
          "model1",
          "model1",
          "model2",
          "model12",
          "model1",
          "model3",
          "model1",
          "model1",
          "model1",
          "model1",
          "model3",
          "model1",
          "model1",
          "model2",
          "model4",
          "model4",
          "model3",
          "model1",
          "model12",
          "model2",
          "model1",
          "model1",
          "model3",
          "model1",
          "model3",
          "model1",
          "model3",
          "model3",
          "model10",
          "model1",
          "model3",
          "model1",
          "model1",
          "model1",
          "model1",
          "model6",
          "model1",
          "model1",
          "model2",
          "model1",
          "model3",
          "model6",
          "model3",
          "model1",
          "model1",
          "model3",
          "model6",
          "model4",
          "model1",
          "model1",
          "model1",
          "model1",
          "model4",
          "model1",
          "model1",
          "model1",
          "model3",
          "model1",
          "model1",
          "model1",
          "model1",
          "model3",
          "model2",
          "model1",
          "model3",
          "model1",
          "model1",
          "model1",
          "model1",
          "model2",
          "model4",
          "model4",
          "model2",
          "model1",
          "model1",
          "model1",
          "model3",
          "model1",
          "model1",
          "model3",
          "model1",
          "model3",
          "model6",
          "model3",
          "model1",
          "model3",
          "model1",
          "model3",
          "model1",
          "model1",
          "model1",
          "model4",
          "model11",
          "model1",
          "model1",
          "model2",
          "model1",
          "model1",
          "model4",
          "model3",
          "model4",
          "model1",
          "model2",
          "model1",
          "model1",
          "model3",
          "model1",
          "model3",
          "model1",
          "model1",
          "model12",
          "model1",
          "model1",
          "model3",
          "model1",
          "model4",
          "model12",
          "model1",
          "model1",
          "model1",
          "model4",
          "model1",
          "model3",
          "model4",
          "model1",
          "model3",
          "model1",
          "model1",
          "model1",
          "model3",
          "model1",
          "model1",
          "model1",
          "model3",
          "model3",
          "model1",
          "model4",
          "model3",
          "model1",
          "model1",
          "model1",
          "model1",
          "model2",
          "model1",
          "model3",
          "model3",
          "model1",
          "model7",
          "model1",
          "model1",
          "model1",
          "model1",
          "model3",
          "model1",
          "model1",
          "model6",
          "model3",
          "model3",
          "model1",
          "model2",
          "model1",
          "model1",
          "model1",
          "model1",
          "model4",
          "model3",
          "model1",
          "model4",
          "model1",
          "model1",
          "model4",
          "model3",
          "model1",
          "model1",
          "model1",
          "model1",
          "model1",
          "model1",
          "model3",
          "model1",
          "model3",
          "model1",
          "model1",
          "model4",
          "model3",
          "model3",
          "model1",
          "model4",
          "model3",
          "model1",
          "model1",
          "model1",
          "model1",
          "model1",
          "model1",
          "model1",
          "model12",
          "model1",
          "model1",
          "model6",
          "model1",
          "model1",
          "model1",
          "model1",
          "model6",
          "model1",
          "model1",
          "model1",
          "model11",
          "model1",
          "model1",
          "model3",
          "model7",
          "model1",
          "model3",
          "model1",
          "model2",
          "model1",
          "model1",
          "model4",
          "model4",
          "model3",
          "model12",
          "model1",
          "model7",
          "model3",
          "model4",
          "model1",
          "model1",
          "model1",
          "model4",
          "model1",
          "model1",
          "model11",
          "model3",
          "model3",
          "model1",
          "model1",
          "model1",
          "model12",
          "model2",
          "model1",
          "model1",
          "model1",
          "model12",
          "model1",
          "model4",
          "model1",
          "model1",
          "model3",
          "model1",
          "model1",
          "model11",
          "model1",
          "model3",
          "model3",
          "model1",
          "model3",
          "model1",
          "model4",
          "model4",
          "model3",
          "model1",
          "model11",
          "model1",
          "model2",
          "model1",
          "model1",
          "model3",
          "model1",
          "model2",
          "model1",
          "model1",
          "model3",
          "model1",
          "model1",
          "model2",
          "model1",
          "model1",
          "model1",
          "model3",
          "model1",
          "model1",
          "model3",
          "model4",
          "model1",
          "model1",
          "model4",
          "model1",
          "model1",
          "model1",
          "model11",
          "model1",
          "model4",
          "model1",
          "model1",
          "model3",
          "model4",
          "model1",
          "model1",
          "model1",
          "model5",
          "model2",
          "model1",
          "model12",
          "model1",
          "model1",
          "model3",
          "model3",
          "model3",
          "model11",
          "model1",
          "model1",
          "model3",
          "model6",
          "model1",
          "model1",
          "model1",
          "model12",
          "model1",
          "model2",
          "model1",
          "model1",
          "model1",
          "model12",
          "model3",
          "model3",
          "model1",
          "model3",
          "model4",
          "model2",
          "model1",
          "model4",
          "model2",
          "model1",
          "model11",
          "model1",
          "model1",
          "model1",
          "model1",
          "model1",
          "model12",
          "model4",
          "model7",
          "model3",
          "model3",
          "model1",
          "model1",
          "model2",
          "model1",
          "model3",
          "model3",
          "model1",
          "model1",
          "model3",
          "model3",
          "model1",
          "model1",
          "model1",
          "model1",
          "model1",
          "model3",
          "model4",
          "model3",
          "model1",
          "model4",
          "model3",
          "model3",
          "model3",
          "model3",
          "model4",
          "model1",
          "model4",
          "model1",
          "model1",
          "model7",
          "model1",
          "model4",
          "model1",
          "model4",
          "model3",
          "model3",
          "model4",
          "model1",
          "model3",
          "model4",
          "model3",
          "model3",
          "model1",
          "model3",
          "model1",
          "model1",
          "model3",
          "model12",
          "model1",
          "model3",
          "model1",
          "model1",
          "model6",
          "model1",
          "model1",
          "model1",
          "model1",
          "model1",
          "model3",
          "model1",
          "model1",
          "model12",
          "model4",
          "model1",
          "model1",
          "model3",
          "model3",
          "model1",
          "model1",
          "model1",
          "model1",
          "model3",
          "model1",
          "model4",
          "model4",
          "model1",
          "model1",
          "model1",
          "model2",
          "model2",
          "model3",
          "model4",
          "model1",
          "model2",
          "model11",
          "model4",
          "model3",
          "model1",
          "model1",
          "model1",
          "model3",
          "model1",
          "model3",
          "model1",
          "model1",
          "model1",
          "model3",
          "model1",
          "model3",
          "model2",
          "model1",
          "model3",
          "model1",
          "model1",
          "model1",
          "model2",
          "model12",
          "model3",
          "model3",
          "model1",
          "model4",
          "model3",
          "model1",
          "model1",
          "model1",
          "model2",
          "model2",
          "model3",
          "model3",
          "model1",
          "model1",
          "model11",
          "model1",
          "model1",
          "model1",
          "model7",
          "model3",
          "model1",
          "model1",
          "model1",
          "model1",
          "model1",
          "model1",
          "model3",
          "model1",
          "model3",
          "model1",
          "model1",
          "model4",
          "model4",
          "model2",
          "model1",
          "model1",
          "model1",
          "model1",
          "model3",
          "model1",
          "model1",
          "model1",
          "model1",
          "model4",
          "model3",
          "model4",
          "model1",
          "model3",
          "model1",
          "model1",
          "model11",
          "model2",
          "model1",
          "model1",
          "model1",
          "model3",
          "model6",
          "model11",
          "model1",
          "model1",
          "model3",
          "model1",
          "model3",
          "model4",
          "model1",
          "model4",
          "model3",
          "model2",
          "model1",
          "model1",
          "model4",
          "model1",
          "model3",
          "model4",
          "model1",
          "model3",
          "model3",
          "model3",
          "model1",
          "model3",
          "model3",
          "model4",
          "model1",
          "model3",
          "model3",
          "model1",
          "model11",
          "model1",
          "model1",
          "model3",
          "model2",
          "model6",
          "model3",
          "model4",
          "model3",
          "model1",
          "model1",
          "model1",
          "model1",
          "model1",
          "model1",
          "model3",
          "model1",
          "model12",
          "model4",
          "model11",
          "model1",
          "model1",
          "model1",
          "model4",
          "model1",
          "model1",
          "model12",
          "model1",
          "model4",
          "model3",
          "model1",
          "model4",
          "model1",
          "model1",
          "model3",
          "model1",
          "model1",
          "model1",
          "model6",
          "model1",
          "model3",
          "model1",
          "model1",
          "model3",
          "model1",
          "model3",
          "model1",
          "model3",
          "model7",
          "model2",
          "model1",
          "model2",
          "model1",
          "model11",
          "model3",
          "model4",
          "model1",
          "model1",
          "model1",
          "model1",
          "model1",
          "model6",
          "model1",
          "model3",
          "model6",
          "model4",
          "model3",
          "model1",
          "model1",
          "model6",
          "model2",
          "model12",
          "model1",
          "model11",
          "model1",
          "model1",
          "model1",
          "model6",
          "model1",
          "model1",
          "model6",
          "model4",
          "model1",
          "model1",
          "model1",
          "model1",
          "model3",
          "model1",
          "model1",
          "model7",
          "model1",
          "model1",
          "model1",
          "model3",
          "model1",
          "model4",
          "model1",
          "model11",
          "model12",
          "model1",
          "model1",
          "model4",
          "model4",
          "model3",
          "model3",
          "model1",
          "model4",
          "model3",
          "model1",
          "model1",
          "model1",
          "model1",
          "model6",
          "model1",
          "model1",
          "model10",
          "model1",
          "model6",
          "model1",
          "model1",
          "model1",
          "model1",
          "model3",
          "model1",
          "model1",
          "model3",
          "model1",
          "model1",
          "model1",
          "model1",
          "model1",
          "model3",
          "model3",
          "model1",
          "model1",
          "model3",
          "model3",
          "model4",
          "model3",
          "model1",
          "model4",
          "model1",
          "model1",
          "model1",
          "model3",
          "model1",
          "model1",
          "model1",
          "model12",
          "model1",
          "model1",
          "model3",
          "model12",
          "model6",
          "model1",
          "model1",
          "model1",
          "model3",
          "model1",
          "model3",
          "model4",
          "model3",
          "model3",
          "model1",
          "model3",
          "model4",
          "model1",
          "model1",
          "model3",
          "model7",
          "model4",
          "model1",
          "model1",
          "model1",
          "model1",
          "model1",
          "model1",
          "model4",
          "model6",
          "model1",
          "model10",
          "model3",
          "model1",
          "model11",
          "model3",
          "model1",
          "model1",
          "model1",
          "model1",
          "model4",
          "model1",
          "model3",
          "model1",
          "model1",
          "model3",
          "model1",
          "model1",
          "model1",
          "model4",
          "model8",
          "model1",
          "model4",
          "model1",
          "model7",
          "model1",
          "model1",
          "model1",
          "model1",
          "model1",
          "model1",
          "model3",
          "model1",
          "model3",
          "model3",
          "model1",
          "model1",
          "model3",
          "model3",
          "model1",
          "model2",
          "model11",
          "model1",
          "model3",
          "model1",
          "model2",
          "model1",
          "model1",
          "model12",
          "model1",
          "model3",
          "model1",
          "model3",
          "model2",
          "model1",
          "model1",
          "model3",
          "model1",
          "model3",
          "model1",
          "model1",
          "model3",
          "model3",
          "model3",
          "model1",
          "model1",
          "model3",
          "model1",
          "model1",
          "model1",
          "model3",
          "model1",
          "model3",
          "model3",
          "model1",
          "model1",
          "model3",
          "model1",
          "model2",
          "model1",
          "model1",
          "model4",
          "model3",
          "model4",
          "model3",
          "model1",
          "model3",
          "model1",
          "model2",
          "model1",
          "model7",
          "model1",
          "model3",
          "model1",
          "model1",
          "model3",
          "model1",
          "model1",
          "model11",
          "model3",
          "model1",
          "model3",
          "model1",
          "model1",
          "model1",
          "model3",
          "model4",
          "model1",
          "model3",
          "model6",
          "model1",
          "model1",
          "model3",
          "model1",
          "model1",
          "model1",
          "model1",
          "model1",
          "model1",
          "model4",
          "model1",
          "model4",
          "model1",
          "model6",
          "model1",
          "model1",
          "model5",
          "model1",
          "model2",
          "model7",
          "model1",
          "model3",
          "model1",
          "model1",
          "model3",
          "model2",
          "model1",
          "model3",
          "model1",
          "model1",
          "model4",
          "model1",
          "model1",
          "model1",
          "model2",
          "model1",
          "model6",
          "model3",
          "model1",
          "model3",
          "model1",
          "model1",
          "model3",
          "model3",
          "model3",
          "model3",
          "model3",
          "model1",
          "model1",
          "model4",
          "model1",
          "model1",
          "model1",
          "model3",
          "model1",
          "model1",
          "model1",
          "model1",
          "model4",
          "model1",
          "model3",
          "model1",
          "model1",
          "model1",
          "model1",
          "model4",
          "model1",
          "model3",
          "model3",
          "model4",
          "model1",
          "model1",
          "model1",
          "model4",
          "model3",
          "model1",
          "model1",
          "model1",
          "model1",
          "model1",
          "model5",
          "model3",
          "model1",
          "model1",
          "model7",
          "model1",
          "model4",
          "model1",
          "model1",
          "model1",
          "model1",
          "model4",
          "model3",
          "model3",
          "model3",
          "model4",
          "model1",
          "model6",
          "model3",
          "model1",
          "model3",
          "model3",
          "model1",
          "model1",
          "model3",
          "model2",
          "model1",
          "model1",
          "model1",
          "model6",
          "model1",
          "model1",
          "model1",
          "model1",
          "model6",
          "model1",
          "model7",
          "model3",
          "model3",
          "model1",
          "model1",
          "model1",
          "model1",
          "model1",
          "model1",
          "model2",
          "model7",
          "model1",
          "model7",
          "model7",
          "model1",
          "model3",
          "model1",
          "model1",
          "model1",
          "model1",
          "model7",
          "model2",
          "model3",
          "model1",
          "model1",
          "model1",
          "model3",
          "model1",
          "model3",
          "model1",
          "model1",
          "model1",
          "model1",
          "model6",
          "model1",
          "model3",
          "model5",
          "model1",
          "model3",
          "model1",
          "model1",
          "model11",
          "model7",
          "model1",
          "model1",
          "model1",
          "model1",
          "model1",
          "model2",
          "model2",
          "model1",
          "model3",
          "model2",
          "model3",
          "model7",
          "model6",
          "model7",
          "model1",
          "model1",
          "model1",
          "model3",
          "model1",
          "model1",
          "model3",
          "model6",
          "model6",
          "model1",
          "model7",
          "model1",
          "model6",
          "model1",
          "model3",
          "model1",
          "model1",
          "model6",
          "model2",
          "model1",
          "model3",
          "model4",
          "model1",
          "model3",
          "model4",
          "model3",
          "model3",
          "model3",
          "model1",
          "model4",
          "model4",
          "model3",
          "model3",
          "model2",
          "model1",
          "model4",
          "model4",
          "model1",
          "model1",
          "model1",
          "model1",
          "model1",
          "model1",
          "model2",
          "model1",
          "model3",
          "model3",
          "model1",
          "model4",
          "model1",
          "model3",
          "model3",
          "model1",
          "model3",
          "model1",
          "model1",
          "model1",
          "model3",
          "model3",
          "model1",
          "model1",
          "model1",
          "model11",
          "model12",
          "model3",
          "model3",
          "model2",
          "model1",
          "model1",
          "model1",
          "model3",
          "model1",
          "model1",
          "model1",
          "model2",
          "model3",
          "model1",
          "model1",
          "model4",
          "model4",
          "model3",
          "model1",
          "model1",
          "model1",
          "model4",
          "model2",
          "model1",
          "model3",
          "model1",
          "model4",
          "model4",
          "model1",
          "model1",
          "model1",
          "model1",
          "model1",
          "model1",
          "model3",
          "model1",
          "model1",
          "model6",
          "model3",
          "model1",
          "model1",
          "model3",
          "model1",
          "model1",
          "model2",
          "model2",
          "model1",
          "model4",
          "model1",
          "model3",
          "model3",
          "model1",
          "model1",
          "model1",
          "model3",
          "model1",
          "model1",
          "model3",
          "model1",
          "model3",
          "model1",
          "model2",
          "model3",
          "model1",
          "model3",
          "model11",
          "model1",
          "model3",
          "model1",
          "model3",
          "model1",
          "model3",
          "model4",
          "model4",
          "model5",
          "model1",
          "model1",
          "model1",
          "model4",
          "model11",
          "model1",
          "model3",
          "model1",
          "model3",
          "model1",
          "model1",
          "model4",
          "model3",
          "model1",
          "model4",
          "model1",
          "model1",
          "model1",
          "model11",
          "model1",
          "model3",
          "model2",
          "model7",
          "model1",
          "model1",
          "model1",
          "model4",
          "model1",
          "model1",
          "model3",
          "model1",
          "model6",
          "model1",
          "model1",
          "model3",
          "model1",
          "model3",
          "model1",
          "model1",
          "model1",
          "model1",
          "model1",
          "model6",
          "model1",
          "model2",
          "model1",
          "model9",
          "model3",
          "model3",
          "model4",
          "model1",
          "model3",
          "model1",
          "model4",
          "model9",
          "model1",
          "model1",
          "model1",
          "model1",
          "model1",
          "model7",
          "model4",
          "model1",
          "model1",
          "model1",
          "model3",
          "model4",
          "model1",
          "model1",
          "model3",
          "model1",
          "model3",
          "model3",
          "model4",
          "model1",
          "model1",
          "model3",
          "model7",
          "model6",
          "model1",
          "model3",
          "model1",
          "model1",
          "model5",
          "model3",
          "model4",
          "model1",
          "model1",
          "model1",
          "model1",
          "model3",
          "model1",
          "model3",
          "model2",
          "model1",
          "model3",
          "model1",
          "model1",
          "model3",
          "model3",
          "model3",
          "model1",
          "model1",
          "model6",
          "model1",
          "model1",
          "model1",
          "model3",
          "model1",
          "model1",
          "model3",
          "model1",
          "model1",
          "model1",
          "model1",
          "model7",
          "model1",
          "model3",
          "model1",
          "model1",
          "model3",
          "model3",
          "model11",
          "model11",
          "model3",
          "model1",
          "model6",
          "model1",
          "model1",
          "model3",
          "model9",
          "model3",
          "model1",
          "model1",
          "model3",
          "model3",
          "model1",
          "model1",
          "model3",
          "model3",
          "model1",
          "model2",
          "model7",
          "model3",
          "model3",
          "model1",
          "model3",
          "model1",
          "model6",
          "model7",
          "model7",
          "model1",
          "model1",
          "model10",
          "model2",
          "model3",
          "model1",
          "model1",
          "model2",
          "model1",
          "model1",
          "model1",
          "model1",
          "model3",
          "model2",
          "model3",
          "model1",
          "model1",
          "model1",
          "model6",
          "model3",
          "model1",
          "model1",
          "model4",
          "model1",
          "model1",
          "model1",
          "model1",
          "model1",
          "model3",
          "model1",
          "model1",
          "model2",
          "model1",
          "model3",
          "model1",
          "model7",
          "model3",
          "model1",
          "model1",
          "model1",
          "model1",
          "model1",
          "model11",
          "model1",
          "model3",
          "model3",
          "model7",
          "model3",
          "model1",
          "model1",
          "model1",
          "model3",
          "model1",
          "model4",
          "model4",
          "model3",
          "model1",
          "model1",
          "model1",
          "model3",
          "model1",
          "model6",
          "model3",
          "model4",
          "model1",
          "model3",
          "model1",
          "model3",
          "model3",
          "model3",
          "model1",
          "model3",
          "model3",
          "model1",
          "model1",
          "model5",
          "model1",
          "model1",
          "model1",
          "model3",
          "model1",
          "model1",
          "model2",
          "model1",
          "model3",
          "model4",
          "model1",
          "model1",
          "model3",
          "model3",
          "model2",
          "model1",
          "model1",
          "model4",
          "model1",
          "model1",
          "model1",
          "model3",
          "model1",
          "model1",
          "model1",
          "model1",
          "model7",
          "model1",
          "model1",
          "model1",
          "model1",
          "model1",
          "model1",
          "model3",
          "model1",
          "model4",
          "model5",
          "model1",
          "model1",
          "model1",
          "model1",
          "model1",
          "model1",
          "model1",
          "model1",
          "model3",
          "model1",
          "model4",
          "model2",
          "model3",
          "model1",
          "model3",
          "model1",
          "model1",
          "model1",
          "model1",
          "model1",
          "model3",
          "model3",
          "model3",
          "model1",
          "model1",
          "model1",
          "model3",
          "model2",
          "model1",
          "model1",
          "model6",
          "model3",
          "model1",
          "model1",
          "model12",
          "model3",
          "model1",
          "model3",
          "model4",
          "model3",
          "model1",
          "model1",
          "model1",
          "model3",
          "model1",
          "model7",
          "model1",
          "model9",
          "model1",
          "model1",
          "model1",
          "model7",
          "model5",
          "model1",
          "model1",
          "model1",
          "model3",
          "model1",
          "model4",
          "model7",
          "model2",
          "model1",
          "model3",
          "model3",
          "model1",
          "model1",
          "model1",
          "model6",
          "model3",
          "model3",
          "model3",
          "model1",
          "model3",
          "model1",
          "model4",
          "model1",
          "model1",
          "model1",
          "model4",
          "model1",
          "model2",
          "model1",
          "model1",
          "model3",
          "model1",
          "model1",
          "model1",
          "model1",
          "model1",
          "model4",
          "model1",
          "model1",
          "model1",
          "model1",
          "model1",
          "model1",
          "model3",
          "model1",
          "model1",
          "model1",
          "model1",
          "model2",
          "model1",
          "model2",
          "model3",
          "model1",
          "model1",
          "model1",
          "model4",
          "model4",
          "model7",
          "model4",
          "model1",
          "model1",
          "model1",
          "model1",
          "model2",
          "model1",
          "model3",
          "model1",
          "model3",
          "model4",
          "model2",
          "model1",
          "model3",
          "model1",
          "model1",
          "model7",
          "model2",
          "model1",
          "model1",
          "model1",
          "model1",
          "model2",
          "model3",
          "model3",
          "model9",
          "model1",
          "model1",
          "model3",
          "model7",
          "model1",
          "model1",
          "model1",
          "model4",
          "model3",
          "model1",
          "model1",
          "model3",
          "model3",
          "model12",
          "model1",
          "model1",
          "model1",
          "model3",
          "model9",
          "model1",
          "model3",
          "model1",
          "model1",
          "model6",
          "model3",
          "model3",
          "model3",
          "model7",
          "model4",
          "model3",
          "model1",
          "model1",
          "model3",
          "model1",
          "model1",
          "model1",
          "model6",
          "model1",
          "model1",
          "model6",
          "model1",
          "model1",
          "model1",
          "model1",
          "model1",
          "model1",
          "model3",
          "model1",
          "model1",
          "model3",
          "model1",
          "model4",
          "model1",
          "model1",
          "model1",
          "model1",
          "model4",
          "model3",
          "model2",
          "model1",
          "model1",
          "model1",
          "model3",
          "model1",
          "model6",
          "model1",
          "model1",
          "model1",
          "model1",
          "model1",
          "model1",
          "model1",
          "model1",
          "model3",
          "model3",
          "model3",
          "model1",
          "model1",
          "model3",
          "model1",
          "model1",
          "model1",
          "model3",
          "model6",
          "model2",
          "model1",
          "model1",
          "model1",
          "model1",
          "model1",
          "model1",
          "model4",
          "model6",
          "model3",
          "model1",
          "model3",
          "model3",
          "model1",
          "model3",
          "model1",
          "model3",
          "model1",
          "model1",
          "model1",
          "model1",
          "model12",
          "model1",
          "model1",
          "model3",
          "model1",
          "model12",
          "model1",
          "model1",
          "model3",
          "model6",
          "model1",
          "model1",
          "model1",
          "model3",
          "model1",
          "model1",
          "model1",
          "model2",
          "model3",
          "model1",
          "model3",
          "model1",
          "model3",
          "model1",
          "model1",
          "model3",
          "model4",
          "model1",
          "model3",
          "model3",
          "model7",
          "model1",
          "model1",
          "model3",
          "model4",
          "model3",
          "model3",
          "model1",
          "model3",
          "model3",
          "model1",
          "model1",
          "model4",
          "model4",
          "model3",
          "model3",
          "model3",
          "model2",
          "model1",
          "model1",
          "model1",
          "model2",
          "model4",
          "model2",
          "model1",
          "model1",
          "model1",
          "model1",
          "model1",
          "model7",
          "model1",
          "model3",
          "model3",
          "model1",
          "model1",
          "model3",
          "model4",
          "model8",
          "model3",
          "model1",
          "model1",
          "model1",
          "model1",
          "model1",
          "model1",
          "model1",
          "model1",
          "model1",
          "model3",
          "model3",
          "model3",
          "model4",
          "model1",
          "model6",
          "model1",
          "model4",
          "model1",
          "model1",
          "model1",
          "model1",
          "model3",
          "model3",
          "model3",
          "model1",
          "model1",
          "model1",
          "model3",
          "model1",
          "model1",
          "model3",
          "model3",
          "model1",
          "model1",
          "model2",
          "model1",
          "model3",
          "model6",
          "model3",
          "model3",
          "model4",
          "model3",
          "model6",
          "model1",
          "model1",
          "model3",
          "model3",
          "model3",
          "model1",
          "model1",
          "model1",
          "model1",
          "model1",
          "model1",
          "model1",
          "model3",
          "model3",
          "model2",
          "model1",
          "model6",
          "model1",
          "model1",
          "model3",
          "model3",
          "model1",
          "model1",
          "model1",
          "model1",
          "model1",
          "model1",
          "model1",
          "model1",
          "model1",
          "model3",
          "model1",
          "model1",
          "model1",
          "model1",
          "model1",
          "model1",
          "model1",
          "model1",
          "model12",
          "model1",
          "model1",
          "model3",
          "model1",
          "model2",
          "model3",
          "model6",
          "model1",
          "model3",
          "model3",
          "model6",
          "model1",
          "model1",
          "model3",
          "model1",
          "model1",
          "model1",
          "model1",
          "model1",
          "model1",
          "model1",
          "model1",
          "model7",
          "model1",
          "model4",
          "model1",
          "model1",
          "model4",
          "model1",
          "model12",
          "model1",
          "model1",
          "model4",
          "model7",
          "model3",
          "model1",
          "model1",
          "model1",
          "model3",
          "model1",
          "model4",
          "model1",
          "model2",
          "model1",
          "model1",
          "model1",
          "model2",
          "model1",
          "model1",
          "model1",
          "model1",
          "model1",
          "model1",
          "model1",
          "model6",
          "model1",
          "model1",
          "model1",
          "model3",
          "model1",
          "model1",
          "model6",
          "model1",
          "model3",
          "model2",
          "model11",
          "model12",
          "model3",
          "model1",
          "model1",
          "model1",
          "model1",
          "model1",
          "model2",
          "model1",
          "model3",
          "model1",
          "model2",
          "model2",
          "model1",
          "model4",
          "model1",
          "model3",
          "model1",
          "model3",
          "model6",
          "model6",
          "model3",
          "model6",
          "model1",
          "model1",
          "model1",
          "model3",
          "model2",
          "model3",
          "model8",
          "model3",
          "model1",
          "model12",
          "model3",
          "model1",
          "model3",
          "model3",
          "model3",
          "model1",
          "model6",
          "model2",
          "model1",
          "model3",
          "model1",
          "model1",
          "model3",
          "model1",
          "model4",
          "model3",
          "model1",
          "model6",
          "model3",
          "model2",
          "model3",
          "model1",
          "model1",
          "model1",
          "model1",
          "model3",
          "model1",
          "model3",
          "model4",
          "model3",
          "model10",
          "model6",
          "model1",
          "model3",
          "model3",
          "model2",
          "model1",
          "model1",
          "model1",
          "model1",
          "model3",
          "model3",
          "model1",
          "model3",
          "model3",
          "model3",
          "model4",
          "model1",
          "model1",
          "model3",
          "model3",
          "model1",
          "model3",
          "model1",
          "model3",
          "model4",
          "model1",
          "model4",
          "model12",
          "model1",
          "model4",
          "model4",
          "model2",
          "model1",
          "model6",
          "model1",
          "model3",
          "model3",
          "model1",
          "model3",
          "model7",
          "model8",
          "model1",
          "model6",
          "model3",
          "model1",
          "model1",
          "model4",
          "model6",
          "model7",
          "model1",
          "model1",
          "model2",
          "model3",
          "model1",
          "model3",
          "model3",
          "model4",
          "model6",
          "model3",
          "model1",
          "model1",
          "model1",
          "model11",
          "model3",
          "model3",
          "model2",
          "model1",
          "model3",
          "model4",
          "model4",
          "model1",
          "model1",
          "model4",
          "model1",
          "model3",
          "model1",
          "model1",
          "model4",
          "model3",
          "model3",
          "model1",
          "model11",
          "model1",
          "model1",
          "model1",
          "model2",
          "model1",
          "model2",
          "model1",
          "model3",
          "model1",
          "model1",
          "model1",
          "model3",
          "model3",
          "model1",
          "model3",
          "model1",
          "model3",
          "model1",
          "model1",
          "model3",
          "model3",
          "model4",
          "model1",
          "model6",
          "model3",
          "model3",
          "model1",
          "model1",
          "model6",
          "model6",
          "model1",
          "model1",
          "model3",
          "model1",
          "model1",
          "model3",
          "model1",
          "model1",
          "model1",
          "model7",
          "model3",
          "model3",
          "model4",
          "model1",
          "model1",
          "model3",
          "model1",
          "model6",
          "model3",
          "model3",
          "model1",
          "model1",
          "model2",
          "model3",
          "model11",
          "model1",
          "model1",
          "model1",
          "model1",
          "model7",
          "model1",
          "model4",
          "model4",
          "model1",
          "model1",
          "model4",
          "model1",
          "model3",
          "model6",
          "model3",
          "model4",
          "model3",
          "model3",
          "model1",
          "model1",
          "model1",
          "model1",
          "model3",
          "model1",
          "model6",
          "model1",
          "model1",
          "model3",
          "model1",
          "model2",
          "model11",
          "model3",
          "model1",
          "model3",
          "model11",
          "model1",
          "model1",
          "model3",
          "model1",
          "model1",
          "model3",
          "model1",
          "model3",
          "model3",
          "model1",
          "model1",
          "model1",
          "model3",
          "model3",
          "model1",
          "model1",
          "model1",
          "model2",
          "model1",
          "model4",
          "model1",
          "model1",
          "model1",
          "model1",
          "model1",
          "model2",
          "model3",
          "model3",
          "model1",
          "model1",
          "model1",
          "model2",
          "model11",
          "model1",
          "model3",
          "model3",
          "model1",
          "model4",
          "model1",
          "model1",
          "model3",
          "model1",
          "model1",
          "model1",
          "model1",
          "model4",
          "model3",
          "model3",
          "model3",
          "model1",
          "model9",
          "model3",
          "model3",
          "model1",
          "model1",
          "model2",
          "model3",
          "model1",
          "model1",
          "model1",
          "model1",
          "model1",
          "model3",
          "model1",
          "model11",
          "model2",
          "model1",
          "model3",
          "model4",
          "model1",
          "model1",
          "model1",
          "model1",
          "model1",
          "model1",
          "model6",
          "model1",
          "model1",
          "model2",
          "model6",
          "model1",
          "model1",
          "model1",
          "model1",
          "model4",
          "model2",
          "model1",
          "model3",
          "model1",
          "model4",
          "model4",
          "model1",
          "model4",
          "model3",
          "model1",
          "model3",
          "model13",
          "model1",
          "model11",
          "model3",
          "model12",
          "model3",
          "model12",
          "model11",
          "model1",
          "model1",
          "model4",
          "model3",
          "model2",
          "model1",
          "model1",
          "model2",
          "model7",
          "model6",
          "model1",
          "model1",
          "model4",
          "model1",
          "model6",
          "model1",
          "model1",
          "model3",
          "model1",
          "model4",
          "model1",
          "model3",
          "model1",
          "model1",
          "model2",
          "model1",
          "model1",
          "model1",
          "model3",
          "model1",
          "model1",
          "model1",
          "model1",
          "model3",
          "model2",
          "model5",
          "model1",
          "model3",
          "model3",
          "model6",
          "model3",
          "model3",
          "model1",
          "model2",
          "model1",
          "model4",
          "model1",
          "model12",
          "model3",
          "model1",
          "model1",
          "model1",
          "model3",
          "model6",
          "model4",
          "model7",
          "model1",
          "model3",
          "model1",
          "model3",
          "model3",
          "model1",
          "model4",
          "model1",
          "model4",
          "model1",
          "model1",
          "model1",
          "model7",
          "model1",
          "model1"
         ],
         "xaxis": "x",
         "yaxis": "y"
        }
       ],
       "layout": {
        "barmode": "relative",
        "height": 600,
        "legend": {
         "tracegroupgap": 0
        },
        "margin": {
         "t": 60
        },
        "template": {
         "data": {
          "bar": [
           {
            "error_x": {
             "color": "#2a3f5f"
            },
            "error_y": {
             "color": "#2a3f5f"
            },
            "marker": {
             "line": {
              "color": "#E5ECF6",
              "width": 0.5
             }
            },
            "type": "bar"
           }
          ],
          "barpolar": [
           {
            "marker": {
             "line": {
              "color": "#E5ECF6",
              "width": 0.5
             }
            },
            "type": "barpolar"
           }
          ],
          "carpet": [
           {
            "aaxis": {
             "endlinecolor": "#2a3f5f",
             "gridcolor": "white",
             "linecolor": "white",
             "minorgridcolor": "white",
             "startlinecolor": "#2a3f5f"
            },
            "baxis": {
             "endlinecolor": "#2a3f5f",
             "gridcolor": "white",
             "linecolor": "white",
             "minorgridcolor": "white",
             "startlinecolor": "#2a3f5f"
            },
            "type": "carpet"
           }
          ],
          "choropleth": [
           {
            "colorbar": {
             "outlinewidth": 0,
             "ticks": ""
            },
            "type": "choropleth"
           }
          ],
          "contour": [
           {
            "colorbar": {
             "outlinewidth": 0,
             "ticks": ""
            },
            "colorscale": [
             [
              0,
              "#0d0887"
             ],
             [
              0.1111111111111111,
              "#46039f"
             ],
             [
              0.2222222222222222,
              "#7201a8"
             ],
             [
              0.3333333333333333,
              "#9c179e"
             ],
             [
              0.4444444444444444,
              "#bd3786"
             ],
             [
              0.5555555555555556,
              "#d8576b"
             ],
             [
              0.6666666666666666,
              "#ed7953"
             ],
             [
              0.7777777777777778,
              "#fb9f3a"
             ],
             [
              0.8888888888888888,
              "#fdca26"
             ],
             [
              1,
              "#f0f921"
             ]
            ],
            "type": "contour"
           }
          ],
          "contourcarpet": [
           {
            "colorbar": {
             "outlinewidth": 0,
             "ticks": ""
            },
            "type": "contourcarpet"
           }
          ],
          "heatmap": [
           {
            "colorbar": {
             "outlinewidth": 0,
             "ticks": ""
            },
            "colorscale": [
             [
              0,
              "#0d0887"
             ],
             [
              0.1111111111111111,
              "#46039f"
             ],
             [
              0.2222222222222222,
              "#7201a8"
             ],
             [
              0.3333333333333333,
              "#9c179e"
             ],
             [
              0.4444444444444444,
              "#bd3786"
             ],
             [
              0.5555555555555556,
              "#d8576b"
             ],
             [
              0.6666666666666666,
              "#ed7953"
             ],
             [
              0.7777777777777778,
              "#fb9f3a"
             ],
             [
              0.8888888888888888,
              "#fdca26"
             ],
             [
              1,
              "#f0f921"
             ]
            ],
            "type": "heatmap"
           }
          ],
          "heatmapgl": [
           {
            "colorbar": {
             "outlinewidth": 0,
             "ticks": ""
            },
            "colorscale": [
             [
              0,
              "#0d0887"
             ],
             [
              0.1111111111111111,
              "#46039f"
             ],
             [
              0.2222222222222222,
              "#7201a8"
             ],
             [
              0.3333333333333333,
              "#9c179e"
             ],
             [
              0.4444444444444444,
              "#bd3786"
             ],
             [
              0.5555555555555556,
              "#d8576b"
             ],
             [
              0.6666666666666666,
              "#ed7953"
             ],
             [
              0.7777777777777778,
              "#fb9f3a"
             ],
             [
              0.8888888888888888,
              "#fdca26"
             ],
             [
              1,
              "#f0f921"
             ]
            ],
            "type": "heatmapgl"
           }
          ],
          "histogram": [
           {
            "marker": {
             "colorbar": {
              "outlinewidth": 0,
              "ticks": ""
             }
            },
            "type": "histogram"
           }
          ],
          "histogram2d": [
           {
            "colorbar": {
             "outlinewidth": 0,
             "ticks": ""
            },
            "colorscale": [
             [
              0,
              "#0d0887"
             ],
             [
              0.1111111111111111,
              "#46039f"
             ],
             [
              0.2222222222222222,
              "#7201a8"
             ],
             [
              0.3333333333333333,
              "#9c179e"
             ],
             [
              0.4444444444444444,
              "#bd3786"
             ],
             [
              0.5555555555555556,
              "#d8576b"
             ],
             [
              0.6666666666666666,
              "#ed7953"
             ],
             [
              0.7777777777777778,
              "#fb9f3a"
             ],
             [
              0.8888888888888888,
              "#fdca26"
             ],
             [
              1,
              "#f0f921"
             ]
            ],
            "type": "histogram2d"
           }
          ],
          "histogram2dcontour": [
           {
            "colorbar": {
             "outlinewidth": 0,
             "ticks": ""
            },
            "colorscale": [
             [
              0,
              "#0d0887"
             ],
             [
              0.1111111111111111,
              "#46039f"
             ],
             [
              0.2222222222222222,
              "#7201a8"
             ],
             [
              0.3333333333333333,
              "#9c179e"
             ],
             [
              0.4444444444444444,
              "#bd3786"
             ],
             [
              0.5555555555555556,
              "#d8576b"
             ],
             [
              0.6666666666666666,
              "#ed7953"
             ],
             [
              0.7777777777777778,
              "#fb9f3a"
             ],
             [
              0.8888888888888888,
              "#fdca26"
             ],
             [
              1,
              "#f0f921"
             ]
            ],
            "type": "histogram2dcontour"
           }
          ],
          "mesh3d": [
           {
            "colorbar": {
             "outlinewidth": 0,
             "ticks": ""
            },
            "type": "mesh3d"
           }
          ],
          "parcoords": [
           {
            "line": {
             "colorbar": {
              "outlinewidth": 0,
              "ticks": ""
             }
            },
            "type": "parcoords"
           }
          ],
          "scatter": [
           {
            "marker": {
             "colorbar": {
              "outlinewidth": 0,
              "ticks": ""
             }
            },
            "type": "scatter"
           }
          ],
          "scatter3d": [
           {
            "line": {
             "colorbar": {
              "outlinewidth": 0,
              "ticks": ""
             }
            },
            "marker": {
             "colorbar": {
              "outlinewidth": 0,
              "ticks": ""
             }
            },
            "type": "scatter3d"
           }
          ],
          "scattercarpet": [
           {
            "marker": {
             "colorbar": {
              "outlinewidth": 0,
              "ticks": ""
             }
            },
            "type": "scattercarpet"
           }
          ],
          "scattergeo": [
           {
            "marker": {
             "colorbar": {
              "outlinewidth": 0,
              "ticks": ""
             }
            },
            "type": "scattergeo"
           }
          ],
          "scattergl": [
           {
            "marker": {
             "colorbar": {
              "outlinewidth": 0,
              "ticks": ""
             }
            },
            "type": "scattergl"
           }
          ],
          "scattermapbox": [
           {
            "marker": {
             "colorbar": {
              "outlinewidth": 0,
              "ticks": ""
             }
            },
            "type": "scattermapbox"
           }
          ],
          "scatterpolar": [
           {
            "marker": {
             "colorbar": {
              "outlinewidth": 0,
              "ticks": ""
             }
            },
            "type": "scatterpolar"
           }
          ],
          "scatterpolargl": [
           {
            "marker": {
             "colorbar": {
              "outlinewidth": 0,
              "ticks": ""
             }
            },
            "type": "scatterpolargl"
           }
          ],
          "scatterternary": [
           {
            "marker": {
             "colorbar": {
              "outlinewidth": 0,
              "ticks": ""
             }
            },
            "type": "scatterternary"
           }
          ],
          "surface": [
           {
            "colorbar": {
             "outlinewidth": 0,
             "ticks": ""
            },
            "colorscale": [
             [
              0,
              "#0d0887"
             ],
             [
              0.1111111111111111,
              "#46039f"
             ],
             [
              0.2222222222222222,
              "#7201a8"
             ],
             [
              0.3333333333333333,
              "#9c179e"
             ],
             [
              0.4444444444444444,
              "#bd3786"
             ],
             [
              0.5555555555555556,
              "#d8576b"
             ],
             [
              0.6666666666666666,
              "#ed7953"
             ],
             [
              0.7777777777777778,
              "#fb9f3a"
             ],
             [
              0.8888888888888888,
              "#fdca26"
             ],
             [
              1,
              "#f0f921"
             ]
            ],
            "type": "surface"
           }
          ],
          "table": [
           {
            "cells": {
             "fill": {
              "color": "#EBF0F8"
             },
             "line": {
              "color": "white"
             }
            },
            "header": {
             "fill": {
              "color": "#C8D4E3"
             },
             "line": {
              "color": "white"
             }
            },
            "type": "table"
           }
          ]
         },
         "layout": {
          "annotationdefaults": {
           "arrowcolor": "#2a3f5f",
           "arrowhead": 0,
           "arrowwidth": 1
          },
          "colorscale": {
           "diverging": [
            [
             0,
             "#8e0152"
            ],
            [
             0.1,
             "#c51b7d"
            ],
            [
             0.2,
             "#de77ae"
            ],
            [
             0.3,
             "#f1b6da"
            ],
            [
             0.4,
             "#fde0ef"
            ],
            [
             0.5,
             "#f7f7f7"
            ],
            [
             0.6,
             "#e6f5d0"
            ],
            [
             0.7,
             "#b8e186"
            ],
            [
             0.8,
             "#7fbc41"
            ],
            [
             0.9,
             "#4d9221"
            ],
            [
             1,
             "#276419"
            ]
           ],
           "sequential": [
            [
             0,
             "#0d0887"
            ],
            [
             0.1111111111111111,
             "#46039f"
            ],
            [
             0.2222222222222222,
             "#7201a8"
            ],
            [
             0.3333333333333333,
             "#9c179e"
            ],
            [
             0.4444444444444444,
             "#bd3786"
            ],
            [
             0.5555555555555556,
             "#d8576b"
            ],
            [
             0.6666666666666666,
             "#ed7953"
            ],
            [
             0.7777777777777778,
             "#fb9f3a"
            ],
            [
             0.8888888888888888,
             "#fdca26"
            ],
            [
             1,
             "#f0f921"
            ]
           ],
           "sequentialminus": [
            [
             0,
             "#0d0887"
            ],
            [
             0.1111111111111111,
             "#46039f"
            ],
            [
             0.2222222222222222,
             "#7201a8"
            ],
            [
             0.3333333333333333,
             "#9c179e"
            ],
            [
             0.4444444444444444,
             "#bd3786"
            ],
            [
             0.5555555555555556,
             "#d8576b"
            ],
            [
             0.6666666666666666,
             "#ed7953"
            ],
            [
             0.7777777777777778,
             "#fb9f3a"
            ],
            [
             0.8888888888888888,
             "#fdca26"
            ],
            [
             1,
             "#f0f921"
            ]
           ]
          },
          "colorway": [
           "#636efa",
           "#EF553B",
           "#00cc96",
           "#ab63fa",
           "#FFA15A",
           "#19d3f3",
           "#FF6692",
           "#B6E880",
           "#FF97FF",
           "#FECB52"
          ],
          "font": {
           "color": "#2a3f5f"
          },
          "geo": {
           "bgcolor": "white",
           "lakecolor": "white",
           "landcolor": "#E5ECF6",
           "showlakes": true,
           "showland": true,
           "subunitcolor": "white"
          },
          "hoverlabel": {
           "align": "left"
          },
          "hovermode": "closest",
          "mapbox": {
           "style": "light"
          },
          "paper_bgcolor": "white",
          "plot_bgcolor": "#E5ECF6",
          "polar": {
           "angularaxis": {
            "gridcolor": "white",
            "linecolor": "white",
            "ticks": ""
           },
           "bgcolor": "#E5ECF6",
           "radialaxis": {
            "gridcolor": "white",
            "linecolor": "white",
            "ticks": ""
           }
          },
          "scene": {
           "xaxis": {
            "backgroundcolor": "#E5ECF6",
            "gridcolor": "white",
            "gridwidth": 2,
            "linecolor": "white",
            "showbackground": true,
            "ticks": "",
            "zerolinecolor": "white"
           },
           "yaxis": {
            "backgroundcolor": "#E5ECF6",
            "gridcolor": "white",
            "gridwidth": 2,
            "linecolor": "white",
            "showbackground": true,
            "ticks": "",
            "zerolinecolor": "white"
           },
           "zaxis": {
            "backgroundcolor": "#E5ECF6",
            "gridcolor": "white",
            "gridwidth": 2,
            "linecolor": "white",
            "showbackground": true,
            "ticks": "",
            "zerolinecolor": "white"
           }
          },
          "shapedefaults": {
           "line": {
            "color": "#2a3f5f"
           }
          },
          "ternary": {
           "aaxis": {
            "gridcolor": "white",
            "linecolor": "white",
            "ticks": ""
           },
           "baxis": {
            "gridcolor": "white",
            "linecolor": "white",
            "ticks": ""
           },
           "bgcolor": "#E5ECF6",
           "caxis": {
            "gridcolor": "white",
            "linecolor": "white",
            "ticks": ""
           }
          },
          "title": {
           "x": 0.05
          },
          "xaxis": {
           "automargin": true,
           "gridcolor": "white",
           "linecolor": "white",
           "ticks": "",
           "zerolinecolor": "white",
           "zerolinewidth": 2
          },
          "yaxis": {
           "automargin": true,
           "gridcolor": "white",
           "linecolor": "white",
           "ticks": "",
           "zerolinecolor": "white",
           "zerolinewidth": 2
          }
         }
        },
        "xaxis": {
         "anchor": "y",
         "domain": [
          0,
          0.98
         ],
         "title": {
          "text": "x"
         }
        },
        "yaxis": {
         "anchor": "x",
         "domain": [
          0,
          1
         ],
         "title": {
          "text": "count"
         }
        }
       }
      },
      "text/html": [
       "<div>\n",
       "        \n",
       "        \n",
       "            <div id=\"08bdfb9c-e531-49c9-9755-7f01a65c3baa\" class=\"plotly-graph-div\" style=\"height:600px; width:100%;\"></div>\n",
       "            <script type=\"text/javascript\">\n",
       "                require([\"plotly\"], function(Plotly) {\n",
       "                    window.PLOTLYENV=window.PLOTLYENV || {};\n",
       "                    \n",
       "                if (document.getElementById(\"08bdfb9c-e531-49c9-9755-7f01a65c3baa\")) {\n",
       "                    Plotly.newPlot(\n",
       "                        '08bdfb9c-e531-49c9-9755-7f01a65c3baa',\n",
       "                        [{\"alignmentgroup\": \"True\", \"bingroup\": \"x\", \"hoverlabel\": {\"namelength\": 0}, \"hovertemplate\": \"x=%{x}<br>count=%{y}\", \"legendgroup\": \"\", \"marker\": {\"color\": \"#636efa\"}, \"name\": \"\", \"offsetgroup\": \"\", \"orientation\": \"v\", \"showlegend\": false, \"type\": \"histogram\", \"x\": [\"model1\", \"model10\", \"model3\", \"model1\", \"model1\", \"model1\", \"model3\", \"model1\", \"model1\", \"model6\", \"model1\", \"model1\", \"model1\", \"model3\", \"model11\", \"model1\", \"model2\", \"model3\", \"model1\", \"model1\", \"model1\", \"model6\", \"model11\", \"model3\", \"model1\", \"model1\", \"model2\", \"model1\", \"model4\", \"model1\", \"model1\", \"model1\", \"model1\", \"model1\", \"model2\", \"model1\", \"model3\", \"model3\", \"model1\", \"model1\", \"model1\", \"model1\", \"model1\", \"model1\", \"model3\", \"model3\", \"model1\", \"model1\", \"model1\", \"model1\", \"model9\", \"model4\", \"model1\", \"model6\", \"model3\", \"model1\", \"model6\", \"model1\", \"model6\", \"model1\", \"model2\", \"model1\", \"model1\", \"model3\", \"model11\", \"model3\", \"model1\", \"model1\", \"model3\", \"model1\", \"model1\", \"model3\", \"model6\", \"model2\", \"model5\", \"model1\", \"model1\", \"model1\", \"model1\", \"model1\", \"model1\", \"model1\", \"model1\", \"model1\", \"model1\", \"model1\", \"model6\", \"model1\", \"model12\", \"model3\", \"model8\", \"model1\", \"model4\", \"model6\", \"model1\", \"model1\", \"model1\", \"model1\", \"model3\", \"model1\", \"model3\", \"model1\", \"model1\", \"model11\", \"model3\", \"model1\", \"model1\", \"model3\", \"model3\", \"model4\", \"model1\", \"model1\", \"model4\", \"model4\", \"model1\", \"model4\", \"model1\", \"model1\", \"model1\", \"model3\", \"model6\", \"model1\", \"model1\", \"model4\", \"model1\", \"model3\", \"model1\", \"model1\", \"model2\", \"model1\", \"model1\", \"model4\", \"model3\", \"model1\", \"model1\", \"model1\", \"model1\", \"model3\", \"model3\", \"model3\", \"model1\", \"model3\", \"model1\", \"model1\", \"model1\", \"model1\", \"model1\", \"model1\", \"model3\", \"model1\", \"model3\", \"model1\", \"model1\", \"model12\", \"model1\", \"model1\", \"model3\", \"model1\", \"model6\", \"model3\", \"model6\", \"model1\", \"model3\", \"model3\", \"model1\", \"model3\", \"model3\", \"model1\", \"model1\", \"model1\", \"model4\", \"model1\", \"model3\", \"model3\", \"model1\", \"model2\", \"model3\", \"model1\", \"model1\", \"model3\", \"model1\", \"model3\", \"model3\", \"model3\", \"model11\", \"model3\", \"model11\", \"model1\", \"model1\", \"model1\", \"model11\", \"model1\", \"model3\", \"model3\", \"model1\", \"model1\", \"model1\", \"model1\", \"model1\", \"model3\", \"model1\", \"model3\", \"model1\", \"model4\", \"model2\", \"model3\", \"model3\", \"model1\", \"model3\", \"model3\", \"model3\", \"model3\", \"model1\", \"model1\", \"model1\", \"model1\", \"model3\", \"model3\", \"model1\", \"model3\", \"model1\", \"model1\", \"model1\", \"model1\", \"model1\", \"model4\", \"model1\", \"model3\", \"model1\", \"model3\", \"model2\", \"model3\", \"model1\", \"model3\", \"model1\", \"model12\", \"model3\", \"model1\", \"model1\", \"model3\", \"model11\", \"model4\", \"model1\", \"model2\", \"model3\", \"model4\", \"model1\", \"model1\", \"model6\", \"model6\", \"model3\", \"model1\", \"model1\", \"model12\", \"model3\", \"model1\", \"model1\", \"model1\", \"model1\", \"model1\", \"model1\", \"model3\", \"model12\", \"model5\", \"model1\", \"model3\", \"model1\", \"model1\", \"model2\", \"model1\", \"model1\", \"model1\", \"model1\", \"model3\", \"model2\", \"model1\", \"model4\", \"model3\", \"model1\", \"model3\", \"model1\", \"model6\", \"model1\", \"model3\", \"model1\", \"model1\", \"model11\", \"model3\", \"model1\", \"model2\", \"model3\", \"model1\", \"model1\", \"model3\", \"model3\", \"model3\", \"model1\", \"model1\", \"model3\", \"model1\", \"model1\", \"model4\", \"model3\", \"model1\", \"model1\", \"model3\", \"model1\", \"model1\", \"model3\", \"model6\", \"model3\", \"model1\", \"model1\", \"model1\", \"model1\", \"model1\", \"model1\", \"model3\", \"model11\", \"model1\", \"model1\", \"model1\", \"model3\", \"model1\", \"model1\", \"model1\", \"model2\", \"model1\", \"model1\", \"model1\", \"model6\", \"model1\", \"model3\", \"model3\", \"model3\", \"model1\", \"model6\", \"model3\", \"model9\", \"model1\", \"model1\", \"model1\", \"model3\", \"model1\", \"model1\", \"model2\", \"model1\", \"model2\", \"model1\", \"model1\", \"model1\", \"model1\", \"model1\", \"model1\", \"model3\", \"model1\", \"model1\", \"model1\", \"model1\", \"model1\", \"model1\", \"model3\", \"model4\", \"model1\", \"model1\", \"model11\", \"model2\", \"model3\", \"model4\", \"model12\", \"model4\", \"model11\", \"model1\", \"model2\", \"model3\", \"model1\", \"model3\", \"model3\", \"model1\", \"model1\", \"model1\", \"model1\", \"model1\", \"model3\", \"model1\", \"model1\", \"model3\", \"model3\", \"model1\", \"model6\", \"model4\", \"model3\", \"model4\", \"model1\", \"model6\", \"model1\", \"model1\", \"model1\", \"model4\", \"model1\", \"model6\", \"model1\", \"model12\", \"model1\", \"model1\", \"model1\", \"model1\", \"model1\", \"model1\", \"model1\", \"model3\", \"model1\", \"model3\", \"model1\", \"model1\", \"model3\", \"model1\", \"model1\", \"model1\", \"model3\", \"model2\", \"model1\", \"model1\", \"model3\", \"model4\", \"model1\", \"model1\", \"model1\", \"model3\", \"model1\", \"model1\", \"model4\", \"model1\", \"model2\", \"model1\", \"model3\", \"model1\", \"model1\", \"model6\", \"model1\", \"model3\", \"model3\", \"model1\", \"model3\", \"model1\", \"model1\", \"model3\", \"model3\", \"model4\", \"model1\", \"model3\", \"model3\", \"model1\", \"model1\", \"model4\", \"model1\", \"model4\", \"model1\", \"model1\", \"model1\", \"model1\", \"model3\", \"model4\", \"model2\", \"model1\", \"model1\", \"model1\", \"model3\", \"model2\", \"model1\", \"model3\", \"model1\", \"model1\", \"model4\", \"model1\", \"model1\", \"model1\", \"model3\", \"model3\", \"model3\", \"model2\", \"model4\", \"model4\", \"model1\", \"model1\", \"model1\", \"model1\", \"model2\", \"model1\", \"model4\", \"model3\", \"model4\", \"model1\", \"model3\", \"model1\", \"model1\", \"model1\", \"model1\", \"model1\", \"model1\", \"model3\", \"model4\", \"model3\", \"model4\", \"model1\", \"model12\", \"model1\", \"model3\", \"model3\", \"model1\", \"model1\", \"model1\", \"model1\", \"model1\", \"model1\", \"model3\", \"model1\", \"model3\", \"model1\", \"model1\", \"model1\", \"model3\", \"model2\", \"model3\", \"model1\", \"model1\", \"model1\", \"model1\", \"model4\", \"model1\", \"model3\", \"model3\", \"model4\", \"model1\", \"model3\", \"model3\", \"model3\", \"model3\", \"model1\", \"model6\", \"model1\", \"model3\", \"model1\", \"model1\", \"model4\", \"model2\", \"model1\", \"model1\", \"model12\", \"model1\", \"model3\", \"model1\", \"model1\", \"model3\", \"model1\", \"model3\", \"model1\", \"model3\", \"model1\", \"model1\", \"model3\", \"model3\", \"model1\", \"model11\", \"model6\", \"model3\", \"model1\", \"model3\", \"model3\", \"model11\", \"model6\", \"model6\", \"model3\", \"model3\", \"model1\", \"model3\", \"model1\", \"model1\", \"model3\", \"model1\", \"model1\", \"model4\", \"model2\", \"model1\", \"model3\", \"model4\", \"model1\", \"model3\", \"model3\", \"model1\", \"model1\", \"model1\", \"model1\", \"model8\", \"model1\", \"model1\", \"model4\", \"model1\", \"model1\", \"model4\", \"model1\", \"model4\", \"model2\", \"model3\", \"model1\", \"model1\", \"model3\", \"model1\", \"model1\", \"model3\", \"model1\", \"model1\", \"model3\", \"model1\", \"model1\", \"model3\", \"model1\", \"model4\", \"model3\", \"model1\", \"model1\", \"model3\", \"model3\", \"model1\", \"model1\", \"model2\", \"model3\", \"model1\", \"model4\", \"model1\", \"model1\", \"model1\", \"model1\", \"model1\", \"model1\", \"model1\", \"model3\", \"model1\", \"model1\", \"model3\", \"model1\", \"model1\", \"model3\", \"model1\", \"model3\", \"model1\", \"model4\", \"model1\", \"model3\", \"model1\", \"model3\", \"model2\", \"model5\", \"model3\", \"model11\", \"model1\", \"model3\", \"model4\", \"model3\", \"model1\", \"model1\", \"model3\", \"model1\", \"model1\", \"model1\", \"model3\", \"model2\", \"model3\", \"model4\", \"model1\", \"model3\", \"model1\", \"model3\", \"model1\", \"model1\", \"model1\", \"model1\", \"model1\", \"model1\", \"model3\", \"model3\", \"model3\", \"model3\", \"model4\", \"model3\", \"model2\", \"model1\", \"model1\", \"model6\", \"model2\", \"model3\", \"model1\", \"model1\", \"model1\", \"model1\", \"model3\", \"model3\", \"model1\", \"model2\", \"model6\", \"model1\", \"model1\", \"model1\", \"model3\", \"model11\", \"model3\", \"model1\", \"model3\", \"model3\", \"model4\", \"model1\", \"model1\", \"model1\", \"model1\", \"model1\", \"model1\", \"model1\", \"model1\", \"model1\", \"model3\", \"model1\", \"model4\", \"model1\", \"model4\", \"model1\", \"model1\", \"model1\", \"model1\", \"model1\", \"model3\", \"model1\", \"model1\", \"model12\", \"model3\", \"model1\", \"model1\", \"model3\", \"model1\", \"model1\", \"model6\", \"model1\", \"model1\", \"model1\", \"model3\", \"model1\", \"model1\", \"model1\", \"model3\", \"model1\", \"model8\", \"model1\", \"model1\", \"model1\", \"model1\", \"model1\", \"model2\", \"model1\", \"model2\", \"model1\", \"model2\", \"model1\", \"model3\", \"model2\", \"model3\", \"model1\", \"model6\", \"model3\", \"model3\", \"model1\", \"model1\", \"model1\", \"model4\", \"model3\", \"model2\", \"model4\", \"model1\", \"model3\", \"model1\", \"model2\", \"model1\", \"model3\", \"model1\", \"model3\", \"model1\", \"model1\", \"model4\", \"model3\", \"model1\", \"model6\", \"model1\", \"model3\", \"model1\", \"model11\", \"model3\", \"model3\", \"model3\", \"model3\", \"model4\", \"model1\", \"model3\", \"model4\", \"model1\", \"model3\", \"model1\", \"model1\", \"model6\", \"model1\", \"model11\", \"model1\", \"model3\", \"model1\", \"model3\", \"model1\", \"model1\", \"model1\", \"model1\", \"model1\", \"model1\", \"model4\", \"model3\", \"model1\", \"model3\", \"model1\", \"model2\", \"model1\", \"model3\", \"model1\", \"model1\", \"model1\", \"model1\", \"model1\", \"model1\", \"model1\", \"model1\", \"model3\", \"model1\", \"model1\", \"model1\", \"model1\", \"model4\", \"model1\", \"model1\", \"model3\", \"model1\", \"model3\", \"model3\", \"model1\", \"model1\", \"model1\", \"model4\", \"model6\", \"model1\", \"model3\", \"model1\", \"model2\", \"model1\", \"model1\", \"model3\", \"model1\", \"model1\", \"model3\", \"model12\", \"model3\", \"model1\", \"model1\", \"model1\", \"model1\", \"model1\", \"model1\", \"model3\", \"model1\", \"model1\", \"model3\", \"model1\", \"model4\", \"model1\", \"model4\", \"model1\", \"model2\", \"model1\", \"model1\", \"model1\", \"model3\", \"model3\", \"model6\", \"model3\", \"model1\", \"model3\", \"model11\", \"model1\", \"model1\", \"model11\", \"model1\", \"model3\", \"model2\", \"model3\", \"model2\", \"model1\", \"model1\", \"model1\", \"model1\", \"model3\", \"model1\", \"model3\", \"model1\", \"model1\", \"model4\", \"model1\", \"model1\", \"model1\", \"model1\", \"model3\", \"model1\", \"model1\", \"model1\", \"model1\", \"model1\", \"model1\", \"model12\", \"model1\", \"model6\", \"model1\", \"model1\", \"model3\", \"model1\", \"model3\", \"model1\", \"model1\", \"model6\", \"model6\", \"model1\", \"model2\", \"model1\", \"model3\", \"model4\", \"model9\", \"model1\", \"model1\", \"model3\", \"model3\", \"model4\", \"model1\", \"model1\", \"model12\", \"model1\", \"model3\", \"model6\", \"model4\", \"model1\", \"model1\", \"model6\", \"model1\", \"model1\", \"model3\", \"model1\", \"model1\", \"model1\", \"model4\", \"model1\", \"model1\", \"model1\", \"model3\", \"model3\", \"model4\", \"model1\", \"model3\", \"model3\", \"model12\", \"model2\", \"model11\", \"model1\", \"model1\", \"model1\", \"model1\", \"model1\", \"model1\", \"model1\", \"model2\", \"model1\", \"model3\", \"model2\", \"model3\", \"model3\", \"model1\", \"model1\", \"model3\", \"model1\", \"model6\", \"model3\", \"model1\", \"model1\", \"model1\", \"model4\", \"model1\", \"model3\", \"model1\", \"model1\", \"model11\", \"model3\", \"model1\", \"model1\", \"model1\", \"model2\", \"model3\", \"model12\", \"model4\", \"model3\", \"model10\", \"model1\", \"model4\", \"model1\", \"model6\", \"model1\", \"model3\", \"model1\", \"model1\", \"model3\", \"model1\", \"model2\", \"model3\", \"model3\", \"model3\", \"model1\", \"model3\", \"model3\", \"model4\", \"model1\", \"model3\", \"model6\", \"model1\", \"model1\", \"model1\", \"model1\", \"model1\", \"model1\", \"model4\", \"model1\", \"model1\", \"model3\", \"model3\", \"model1\", \"model3\", \"model8\", \"model1\", \"model2\", \"model4\", \"model1\", \"model3\", \"model3\", \"model1\", \"model2\", \"model1\", \"model1\", \"model1\", \"model3\", \"model1\", \"model2\", \"model1\", \"model1\", \"model1\", \"model1\", \"model1\", \"model4\", \"model2\", \"model3\", \"model3\", \"model2\", \"model3\", \"model1\", \"model1\", \"model1\", \"model3\", \"model1\", \"model12\", \"model1\", \"model1\", \"model1\", \"model9\", \"model3\", \"model6\", \"model2\", \"model3\", \"model1\", \"model4\", \"model3\", \"model1\", \"model1\", \"model1\", \"model1\", \"model6\", \"model3\", \"model1\", \"model1\", \"model1\", \"model1\", \"model1\", \"model1\", \"model11\", \"model1\", \"model2\", \"model3\", \"model1\", \"model2\", \"model1\", \"model1\", \"model1\", \"model1\", \"model4\", \"model3\", \"model2\", \"model1\", \"model2\", \"model3\", \"model3\", \"model1\", \"model1\", \"model4\", \"model1\", \"model1\", \"model1\", \"model1\", \"model4\", \"model6\", \"model1\", \"model1\", \"model3\", \"model1\", \"model6\", \"model2\", \"model1\", \"model4\", \"model1\", \"model6\", \"model3\", \"model1\", \"model1\", \"model1\", \"model1\", \"model3\", \"model1\", \"model6\", \"model12\", \"model1\", \"model4\", \"model1\", \"model3\", \"model3\", \"model1\", \"model3\", \"model3\", \"model4\", \"model1\", \"model1\", \"model1\", \"model1\", \"model1\", \"model3\", \"model6\", \"model1\", \"model1\", \"model6\", \"model1\", \"model1\", \"model2\", \"model3\", \"model1\", \"model1\", \"model1\", \"model1\", \"model3\", \"model1\", \"model1\", \"model3\", \"model3\", \"model1\", \"model3\", \"model1\", \"model3\", \"model3\", \"model2\", \"model1\", \"model1\", \"model1\", \"model3\", \"model3\", \"model1\", \"model3\", \"model2\", \"model1\", \"model6\", \"model1\", \"model1\", \"model3\", \"model2\", \"model1\", \"model1\", \"model3\", \"model1\", \"model2\", \"model1\", \"model1\", \"model4\", \"model1\", \"model1\", \"model3\", \"model1\", \"model1\", \"model3\", \"model1\", \"model1\", \"model1\", \"model2\", \"model1\", \"model2\", \"model1\", \"model3\", \"model3\", \"model1\", \"model1\", \"model4\", \"model1\", \"model2\", \"model1\", \"model1\", \"model2\", \"model4\", \"model1\", \"model1\", \"model4\", \"model6\", \"model3\", \"model1\", \"model3\", \"model3\", \"model1\", \"model1\", \"model4\", \"model1\", \"model1\", \"model1\", \"model1\", \"model1\", \"model4\", \"model1\", \"model1\", \"model3\", \"model3\", \"model3\", \"model6\", \"model4\", \"model6\", \"model1\", \"model1\", \"model3\", \"model1\", \"model1\", \"model1\", \"model3\", \"model1\", \"model1\", \"model3\", \"model1\", \"model6\", \"model1\", \"model3\", \"model4\", \"model1\", \"model3\", \"model1\", \"model1\", \"model3\", \"model4\", \"model1\", \"model12\", \"model1\", \"model1\", \"model1\", \"model4\", \"model1\", \"model3\", \"model1\", \"model4\", \"model2\", \"model1\", \"model1\", \"model2\", \"model3\", \"model3\", \"model1\", \"model2\", \"model3\", \"model1\", \"model3\", \"model1\", \"model2\", \"model1\", \"model1\", \"model3\", \"model1\", \"model1\", \"model1\", \"model2\", \"model11\", \"model3\", \"model3\", \"model3\", \"model3\", \"model1\", \"model1\", \"model1\", \"model3\", \"model1\", \"model3\", \"model1\", \"model12\", \"model6\", \"model1\", \"model1\", \"model1\", \"model4\", \"model1\", \"model3\", \"model2\", \"model1\", \"model3\", \"model3\", \"model3\", \"model1\", \"model1\", \"model3\", \"model2\", \"model1\", \"model3\", \"model1\", \"model3\", \"model1\", \"model4\", \"model1\", \"model1\", \"model3\", \"model3\", \"model1\", \"model1\", \"model2\", \"model3\", \"model1\", \"model3\", \"model1\", \"model3\", \"model1\", \"model1\", \"model3\", \"model1\", \"model1\", \"model3\", \"model6\", \"model1\", \"model1\", \"model1\", \"model1\", \"model3\", \"model1\", \"model2\", \"model1\", \"model4\", \"model2\", \"model3\", \"model1\", \"model3\", \"model1\", \"model3\", \"model4\", \"model1\", \"model3\", \"model3\", \"model1\", \"model1\", \"model3\", \"model1\", \"model1\", \"model1\", \"model3\", \"model1\", \"model3\", \"model4\", \"model1\", \"model3\", \"model1\", \"model1\", \"model1\", \"model1\", \"model1\", \"model3\", \"model1\", \"model1\", \"model1\", \"model3\", \"model1\", \"model1\", \"model3\", \"model1\", \"model2\", \"model3\", \"model11\", \"model3\", \"model3\", \"model1\", \"model1\", \"model1\", \"model1\", \"model1\", \"model1\", \"model3\", \"model1\", \"model1\", \"model3\", \"model1\", \"model1\", \"model1\", \"model1\", \"model1\", \"model1\", \"model4\", \"model4\", \"model3\", \"model4\", \"model3\", \"model2\", \"model1\", \"model3\", \"model2\", \"model1\", \"model1\", \"model3\", \"model3\", \"model1\", \"model11\", \"model3\", \"model3\", \"model1\", \"model2\", \"model2\", \"model3\", \"model2\", \"model4\", \"model1\", \"model1\", \"model1\", \"model1\", \"model5\", \"model3\", \"model2\", \"model1\", \"model1\", \"model1\", \"model4\", \"model1\", \"model1\", \"model13\", \"model1\", \"model1\", \"model1\", \"model5\", \"model3\", \"model2\", \"model1\", \"model12\", \"model1\", \"model1\", \"model3\", \"model1\", \"model1\", \"model1\", \"model4\", \"model1\", \"model3\", \"model3\", \"model6\", \"model1\", \"model1\", \"model3\", \"model12\", \"model1\", \"model4\", \"model2\", \"model1\", \"model1\", \"model4\", \"model1\", \"model6\", \"model1\", \"model3\", \"model4\", \"model1\", \"model4\", \"model1\", \"model1\", \"model1\", \"model1\", \"model4\", \"model1\", \"model1\", \"model4\", \"model1\", \"model1\", \"model1\", \"model1\", \"model3\", \"model3\", \"model10\", \"model1\", \"model3\", \"model6\", \"model4\", \"model1\", \"model1\", \"model3\", \"model3\", \"model3\", \"model3\", \"model1\", \"model3\", \"model2\", \"model1\", \"model1\", \"model6\", \"model1\", \"model1\", \"model1\", \"model4\", \"model1\", \"model1\", \"model1\", \"model6\", \"model1\", \"model2\", \"model4\", \"model3\", \"model1\", \"model12\", \"model3\", \"model2\", \"model3\", \"model4\", \"model1\", \"model3\", \"model3\", \"model1\", \"model3\", \"model3\", \"model1\", \"model1\", \"model1\", \"model3\", \"model1\", \"model11\", \"model1\", \"model1\", \"model1\", \"model1\", \"model3\", \"model3\", \"model1\", \"model1\", \"model3\", \"model1\", \"model4\", \"model12\", \"model4\", \"model3\", \"model4\", \"model3\", \"model1\", \"model12\", \"model1\", \"model6\", \"model1\", \"model1\", \"model1\", \"model12\", \"model1\", \"model3\", \"model3\", \"model1\", \"model1\", \"model3\", \"model1\", \"model1\", \"model12\", \"model1\", \"model2\", \"model3\", \"model4\", \"model3\", \"model3\", \"model3\", \"model3\", \"model1\", \"model3\", \"model1\", \"model11\", \"model2\", \"model1\", \"model1\", \"model1\", \"model1\", \"model1\", \"model1\", \"model1\", \"model11\", \"model1\", \"model3\", \"model1\", \"model4\", \"model1\", \"model1\", \"model3\", \"model6\", \"model1\", \"model1\", \"model1\", \"model1\", \"model1\", \"model1\", \"model1\", \"model1\", \"model1\", \"model3\", \"model1\", \"model3\", \"model1\", \"model1\", \"model3\", \"model3\", \"model1\", \"model3\", \"model2\", \"model6\", \"model12\", \"model1\", \"model1\", \"model1\", \"model3\", \"model1\", \"model1\", \"model1\", \"model3\", \"model1\", \"model3\", \"model1\", \"model1\", \"model1\", \"model1\", \"model4\", \"model1\", \"model1\", \"model1\", \"model1\", \"model12\", \"model1\", \"model1\", \"model1\", \"model1\", \"model1\", \"model3\", \"model1\", \"model3\", \"model4\", \"model1\", \"model11\", \"model1\", \"model3\", \"model1\", \"model3\", \"model2\", \"model1\", \"model4\", \"model1\", \"model3\", \"model3\", \"model1\", \"model1\", \"model1\", \"model3\", \"model3\", \"model4\", \"model3\", \"model1\", \"model6\", \"model1\", \"model1\", \"model1\", \"model3\", \"model3\", \"model1\", \"model3\", \"model1\", \"model3\", \"model4\", \"model1\", \"model1\", \"model1\", \"model3\", \"model1\", \"model1\", \"model1\", \"model1\", \"model1\", \"model4\", \"model1\", \"model1\", \"model4\", \"model12\", \"model3\", \"model1\", \"model1\", \"model1\", \"model9\", \"model2\", \"model1\", \"model1\", \"model3\", \"model1\", \"model2\", \"model3\", \"model3\", \"model1\", \"model1\", \"model1\", \"model2\", \"model4\", \"model11\", \"model3\", \"model1\", \"model1\", \"model6\", \"model1\", \"model1\", \"model12\", \"model3\", \"model4\", \"model1\", \"model6\", \"model1\", \"model3\", \"model1\", \"model1\", \"model1\", \"model3\", \"model1\", \"model1\", \"model1\", \"model4\", \"model1\", \"model6\", \"model3\", \"model1\", \"model4\", \"model4\", \"model3\", \"model4\", \"model6\", \"model1\", \"model1\", \"model1\", \"model1\", \"model3\", \"model4\", \"model6\", \"model1\", \"model3\", \"model4\", \"model3\", \"model1\", \"model4\", \"model4\", \"model1\", \"model4\", \"model4\", \"model4\", \"model1\", \"model4\", \"model1\", \"model3\", \"model1\", \"model2\", \"model1\", \"model1\", \"model1\", \"model1\", \"model1\", \"model1\", \"model1\", \"model2\", \"model3\", \"model1\", \"model12\", \"model1\", \"model1\", \"model1\", \"model3\", \"model3\", \"model1\", \"model3\", \"model1\", \"model11\", \"model1\", \"model4\", \"model1\", \"model4\", \"model3\", \"model3\", \"model3\", \"model3\", \"model2\", \"model3\", \"model4\", \"model4\", \"model1\", \"model3\", \"model3\", \"model1\", \"model1\", \"model1\", \"model4\", \"model3\", \"model1\", \"model1\", \"model3\", \"model3\", \"model1\", \"model1\", \"model1\", \"model3\", \"model3\", \"model3\", \"model1\", \"model1\", \"model1\", \"model1\", \"model3\", \"model1\", \"model3\", \"model1\", \"model1\", \"model1\", \"model1\", \"model1\", \"model3\", \"model1\", \"model1\", \"model1\", \"model2\", \"model1\", \"model6\", \"model1\", \"model1\", \"model1\", \"model3\", \"model1\", \"model6\", \"model1\", \"model1\", \"model4\", \"model1\", \"model3\", \"model1\", \"model1\", \"model11\", \"model4\", \"model1\", \"model1\", \"model1\", \"model4\", \"model4\", \"model1\", \"model1\", \"model1\", \"model2\", \"model12\", \"model1\", \"model3\", \"model1\", \"model1\", \"model1\", \"model1\", \"model3\", \"model1\", \"model1\", \"model2\", \"model4\", \"model4\", \"model3\", \"model1\", \"model12\", \"model2\", \"model1\", \"model1\", \"model3\", \"model1\", \"model3\", \"model1\", \"model3\", \"model3\", \"model10\", \"model1\", \"model3\", \"model1\", \"model1\", \"model1\", \"model1\", \"model6\", \"model1\", \"model1\", \"model2\", \"model1\", \"model3\", \"model6\", \"model3\", \"model1\", \"model1\", \"model3\", \"model6\", \"model4\", \"model1\", \"model1\", \"model1\", \"model1\", \"model4\", \"model1\", \"model1\", \"model1\", \"model3\", \"model1\", \"model1\", \"model1\", \"model1\", \"model3\", \"model2\", \"model1\", \"model3\", \"model1\", \"model1\", \"model1\", \"model1\", \"model2\", \"model4\", \"model4\", \"model2\", \"model1\", \"model1\", \"model1\", \"model3\", \"model1\", \"model1\", \"model3\", \"model1\", \"model3\", \"model6\", \"model3\", \"model1\", \"model3\", \"model1\", \"model3\", \"model1\", \"model1\", \"model1\", \"model4\", \"model11\", \"model1\", \"model1\", \"model2\", \"model1\", \"model1\", \"model4\", \"model3\", \"model4\", \"model1\", \"model2\", \"model1\", \"model1\", \"model3\", \"model1\", \"model3\", \"model1\", \"model1\", \"model12\", \"model1\", \"model1\", \"model3\", \"model1\", \"model4\", \"model12\", \"model1\", \"model1\", \"model1\", \"model4\", \"model1\", \"model3\", \"model4\", \"model1\", \"model3\", \"model1\", \"model1\", \"model1\", \"model3\", \"model1\", \"model1\", \"model1\", \"model3\", \"model3\", \"model1\", \"model4\", \"model3\", \"model1\", \"model1\", \"model1\", \"model1\", \"model2\", \"model1\", \"model3\", \"model3\", \"model1\", \"model7\", \"model1\", \"model1\", \"model1\", \"model1\", \"model3\", \"model1\", \"model1\", \"model6\", \"model3\", \"model3\", \"model1\", \"model2\", \"model1\", \"model1\", \"model1\", \"model1\", \"model4\", \"model3\", \"model1\", \"model4\", \"model1\", \"model1\", \"model4\", \"model3\", \"model1\", \"model1\", \"model1\", \"model1\", \"model1\", \"model1\", \"model3\", \"model1\", \"model3\", \"model1\", \"model1\", \"model4\", \"model3\", \"model3\", \"model1\", \"model4\", \"model3\", \"model1\", \"model1\", \"model1\", \"model1\", \"model1\", \"model1\", \"model1\", \"model12\", \"model1\", \"model1\", \"model6\", \"model1\", \"model1\", \"model1\", \"model1\", \"model6\", \"model1\", \"model1\", \"model1\", \"model11\", \"model1\", \"model1\", \"model3\", \"model7\", \"model1\", \"model3\", \"model1\", \"model2\", \"model1\", \"model1\", \"model4\", \"model4\", \"model3\", \"model12\", \"model1\", \"model7\", \"model3\", \"model4\", \"model1\", \"model1\", \"model1\", \"model4\", \"model1\", \"model1\", \"model11\", \"model3\", \"model3\", \"model1\", \"model1\", \"model1\", \"model12\", \"model2\", \"model1\", \"model1\", \"model1\", \"model12\", \"model1\", \"model4\", \"model1\", \"model1\", \"model3\", \"model1\", \"model1\", \"model11\", \"model1\", \"model3\", \"model3\", \"model1\", \"model3\", \"model1\", \"model4\", \"model4\", \"model3\", \"model1\", \"model11\", \"model1\", \"model2\", \"model1\", \"model1\", \"model3\", \"model1\", \"model2\", \"model1\", \"model1\", \"model3\", \"model1\", \"model1\", \"model2\", \"model1\", \"model1\", \"model1\", \"model3\", \"model1\", \"model1\", \"model3\", \"model4\", \"model1\", \"model1\", \"model4\", \"model1\", \"model1\", \"model1\", \"model11\", \"model1\", \"model4\", \"model1\", \"model1\", \"model3\", \"model4\", \"model1\", \"model1\", \"model1\", \"model5\", \"model2\", \"model1\", \"model12\", \"model1\", \"model1\", \"model3\", \"model3\", \"model3\", \"model11\", \"model1\", \"model1\", \"model3\", \"model6\", \"model1\", \"model1\", \"model1\", \"model12\", \"model1\", \"model2\", \"model1\", \"model1\", \"model1\", \"model12\", \"model3\", \"model3\", \"model1\", \"model3\", \"model4\", \"model2\", \"model1\", \"model4\", \"model2\", \"model1\", \"model11\", \"model1\", \"model1\", \"model1\", \"model1\", \"model1\", \"model12\", \"model4\", \"model7\", \"model3\", \"model3\", \"model1\", \"model1\", \"model2\", \"model1\", \"model3\", \"model3\", \"model1\", \"model1\", \"model3\", \"model3\", \"model1\", \"model1\", \"model1\", \"model1\", \"model1\", \"model3\", \"model4\", \"model3\", \"model1\", \"model4\", \"model3\", \"model3\", \"model3\", \"model3\", \"model4\", \"model1\", \"model4\", \"model1\", \"model1\", \"model7\", \"model1\", \"model4\", \"model1\", \"model4\", \"model3\", \"model3\", \"model4\", \"model1\", \"model3\", \"model4\", \"model3\", \"model3\", \"model1\", \"model3\", \"model1\", \"model1\", \"model3\", \"model12\", \"model1\", \"model3\", \"model1\", \"model1\", \"model6\", \"model1\", \"model1\", \"model1\", \"model1\", \"model1\", \"model3\", \"model1\", \"model1\", \"model12\", \"model4\", \"model1\", \"model1\", \"model3\", \"model3\", \"model1\", \"model1\", \"model1\", \"model1\", \"model3\", \"model1\", \"model4\", \"model4\", \"model1\", \"model1\", \"model1\", \"model2\", \"model2\", \"model3\", \"model4\", \"model1\", \"model2\", \"model11\", \"model4\", \"model3\", \"model1\", \"model1\", \"model1\", \"model3\", \"model1\", \"model3\", \"model1\", \"model1\", \"model1\", \"model3\", \"model1\", \"model3\", \"model2\", \"model1\", \"model3\", \"model1\", \"model1\", \"model1\", \"model2\", \"model12\", \"model3\", \"model3\", \"model1\", \"model4\", \"model3\", \"model1\", \"model1\", \"model1\", \"model2\", \"model2\", \"model3\", \"model3\", \"model1\", \"model1\", \"model11\", \"model1\", \"model1\", \"model1\", \"model7\", \"model3\", \"model1\", \"model1\", \"model1\", \"model1\", \"model1\", \"model1\", \"model3\", \"model1\", \"model3\", \"model1\", \"model1\", \"model4\", \"model4\", \"model2\", \"model1\", \"model1\", \"model1\", \"model1\", \"model3\", \"model1\", \"model1\", \"model1\", \"model1\", \"model4\", \"model3\", \"model4\", \"model1\", \"model3\", \"model1\", \"model1\", \"model11\", \"model2\", \"model1\", \"model1\", \"model1\", \"model3\", \"model6\", \"model11\", \"model1\", \"model1\", \"model3\", \"model1\", \"model3\", \"model4\", \"model1\", \"model4\", \"model3\", \"model2\", \"model1\", \"model1\", \"model4\", \"model1\", \"model3\", \"model4\", \"model1\", \"model3\", \"model3\", \"model3\", \"model1\", \"model3\", \"model3\", \"model4\", \"model1\", \"model3\", \"model3\", \"model1\", \"model11\", \"model1\", \"model1\", \"model3\", \"model2\", \"model6\", \"model3\", \"model4\", \"model3\", \"model1\", \"model1\", \"model1\", \"model1\", \"model1\", \"model1\", \"model3\", \"model1\", \"model12\", \"model4\", \"model11\", \"model1\", \"model1\", \"model1\", \"model4\", \"model1\", \"model1\", \"model12\", \"model1\", \"model4\", \"model3\", \"model1\", \"model4\", \"model1\", \"model1\", \"model3\", \"model1\", \"model1\", \"model1\", \"model6\", \"model1\", \"model3\", \"model1\", \"model1\", \"model3\", \"model1\", \"model3\", \"model1\", \"model3\", \"model7\", \"model2\", \"model1\", \"model2\", \"model1\", \"model11\", \"model3\", \"model4\", \"model1\", \"model1\", \"model1\", \"model1\", \"model1\", \"model6\", \"model1\", \"model3\", \"model6\", \"model4\", \"model3\", \"model1\", \"model1\", \"model6\", \"model2\", \"model12\", \"model1\", \"model11\", \"model1\", \"model1\", \"model1\", \"model6\", \"model1\", \"model1\", \"model6\", \"model4\", \"model1\", \"model1\", \"model1\", \"model1\", \"model3\", \"model1\", \"model1\", \"model7\", \"model1\", \"model1\", \"model1\", \"model3\", \"model1\", \"model4\", \"model1\", \"model11\", \"model12\", \"model1\", \"model1\", \"model4\", \"model4\", \"model3\", \"model3\", \"model1\", \"model4\", \"model3\", \"model1\", \"model1\", \"model1\", \"model1\", \"model6\", \"model1\", \"model1\", \"model10\", \"model1\", \"model6\", \"model1\", \"model1\", \"model1\", \"model1\", \"model3\", \"model1\", \"model1\", \"model3\", \"model1\", \"model1\", \"model1\", \"model1\", \"model1\", \"model3\", \"model3\", \"model1\", \"model1\", \"model3\", \"model3\", \"model4\", \"model3\", \"model1\", \"model4\", \"model1\", \"model1\", \"model1\", \"model3\", \"model1\", \"model1\", \"model1\", \"model12\", \"model1\", \"model1\", \"model3\", \"model12\", \"model6\", \"model1\", \"model1\", \"model1\", \"model3\", \"model1\", \"model3\", \"model4\", \"model3\", \"model3\", \"model1\", \"model3\", \"model4\", \"model1\", \"model1\", \"model3\", \"model7\", \"model4\", \"model1\", \"model1\", \"model1\", \"model1\", \"model1\", \"model1\", \"model4\", \"model6\", \"model1\", \"model10\", \"model3\", \"model1\", \"model11\", \"model3\", \"model1\", \"model1\", \"model1\", \"model1\", \"model4\", \"model1\", \"model3\", \"model1\", \"model1\", \"model3\", \"model1\", \"model1\", \"model1\", \"model4\", \"model8\", \"model1\", \"model4\", \"model1\", \"model7\", \"model1\", \"model1\", \"model1\", \"model1\", \"model1\", \"model1\", \"model3\", \"model1\", \"model3\", \"model3\", \"model1\", \"model1\", \"model3\", \"model3\", \"model1\", \"model2\", \"model11\", \"model1\", \"model3\", \"model1\", \"model2\", \"model1\", \"model1\", \"model12\", \"model1\", \"model3\", \"model1\", \"model3\", \"model2\", \"model1\", \"model1\", \"model3\", \"model1\", \"model3\", \"model1\", \"model1\", \"model3\", \"model3\", \"model3\", \"model1\", \"model1\", \"model3\", \"model1\", \"model1\", \"model1\", \"model3\", \"model1\", \"model3\", \"model3\", \"model1\", \"model1\", \"model3\", \"model1\", \"model2\", \"model1\", \"model1\", \"model4\", \"model3\", \"model4\", \"model3\", \"model1\", \"model3\", \"model1\", \"model2\", \"model1\", \"model7\", \"model1\", \"model3\", \"model1\", \"model1\", \"model3\", \"model1\", \"model1\", \"model11\", \"model3\", \"model1\", \"model3\", \"model1\", \"model1\", \"model1\", \"model3\", \"model4\", \"model1\", \"model3\", \"model6\", \"model1\", \"model1\", \"model3\", \"model1\", \"model1\", \"model1\", \"model1\", \"model1\", \"model1\", \"model4\", \"model1\", \"model4\", \"model1\", \"model6\", \"model1\", \"model1\", \"model5\", \"model1\", \"model2\", \"model7\", \"model1\", \"model3\", \"model1\", \"model1\", \"model3\", \"model2\", \"model1\", \"model3\", \"model1\", \"model1\", \"model4\", \"model1\", \"model1\", \"model1\", \"model2\", \"model1\", \"model6\", \"model3\", \"model1\", \"model3\", \"model1\", \"model1\", \"model3\", \"model3\", \"model3\", \"model3\", \"model3\", \"model1\", \"model1\", \"model4\", \"model1\", \"model1\", \"model1\", \"model3\", \"model1\", \"model1\", \"model1\", \"model1\", \"model4\", \"model1\", \"model3\", \"model1\", \"model1\", \"model1\", \"model1\", \"model4\", \"model1\", \"model3\", \"model3\", \"model4\", \"model1\", \"model1\", \"model1\", \"model4\", \"model3\", \"model1\", \"model1\", \"model1\", \"model1\", \"model1\", \"model5\", \"model3\", \"model1\", \"model1\", \"model7\", \"model1\", \"model4\", \"model1\", \"model1\", \"model1\", \"model1\", \"model4\", \"model3\", \"model3\", \"model3\", \"model4\", \"model1\", \"model6\", \"model3\", \"model1\", \"model3\", \"model3\", \"model1\", \"model1\", \"model3\", \"model2\", \"model1\", \"model1\", \"model1\", \"model6\", \"model1\", \"model1\", \"model1\", \"model1\", \"model6\", \"model1\", \"model7\", \"model3\", \"model3\", \"model1\", \"model1\", \"model1\", \"model1\", \"model1\", \"model1\", \"model2\", \"model7\", \"model1\", \"model7\", \"model7\", \"model1\", \"model3\", \"model1\", \"model1\", \"model1\", \"model1\", \"model7\", \"model2\", \"model3\", \"model1\", \"model1\", \"model1\", \"model3\", \"model1\", \"model3\", \"model1\", \"model1\", \"model1\", \"model1\", \"model6\", \"model1\", \"model3\", \"model5\", \"model1\", \"model3\", \"model1\", \"model1\", \"model11\", \"model7\", \"model1\", \"model1\", \"model1\", \"model1\", \"model1\", \"model2\", \"model2\", \"model1\", \"model3\", \"model2\", \"model3\", \"model7\", \"model6\", \"model7\", \"model1\", \"model1\", \"model1\", \"model3\", \"model1\", \"model1\", \"model3\", \"model6\", \"model6\", \"model1\", \"model7\", \"model1\", \"model6\", \"model1\", \"model3\", \"model1\", \"model1\", \"model6\", \"model2\", \"model1\", \"model3\", \"model4\", \"model1\", \"model3\", \"model4\", \"model3\", \"model3\", \"model3\", \"model1\", \"model4\", \"model4\", \"model3\", \"model3\", \"model2\", \"model1\", \"model4\", \"model4\", \"model1\", \"model1\", \"model1\", \"model1\", \"model1\", \"model1\", \"model2\", \"model1\", \"model3\", \"model3\", \"model1\", \"model4\", \"model1\", \"model3\", \"model3\", \"model1\", \"model3\", \"model1\", \"model1\", \"model1\", \"model3\", \"model3\", \"model1\", \"model1\", \"model1\", \"model11\", \"model12\", \"model3\", \"model3\", \"model2\", \"model1\", \"model1\", \"model1\", \"model3\", \"model1\", \"model1\", \"model1\", \"model2\", \"model3\", \"model1\", \"model1\", \"model4\", \"model4\", \"model3\", \"model1\", \"model1\", \"model1\", \"model4\", \"model2\", \"model1\", \"model3\", \"model1\", \"model4\", \"model4\", \"model1\", \"model1\", \"model1\", \"model1\", \"model1\", \"model1\", \"model3\", \"model1\", \"model1\", \"model6\", \"model3\", \"model1\", \"model1\", \"model3\", \"model1\", \"model1\", \"model2\", \"model2\", \"model1\", \"model4\", \"model1\", \"model3\", \"model3\", \"model1\", \"model1\", \"model1\", \"model3\", \"model1\", \"model1\", \"model3\", \"model1\", \"model3\", \"model1\", \"model2\", \"model3\", \"model1\", \"model3\", \"model11\", \"model1\", \"model3\", \"model1\", \"model3\", \"model1\", \"model3\", \"model4\", \"model4\", \"model5\", \"model1\", \"model1\", \"model1\", \"model4\", \"model11\", \"model1\", \"model3\", \"model1\", \"model3\", \"model1\", \"model1\", \"model4\", \"model3\", \"model1\", \"model4\", \"model1\", \"model1\", \"model1\", \"model11\", \"model1\", \"model3\", \"model2\", \"model7\", \"model1\", \"model1\", \"model1\", \"model4\", \"model1\", \"model1\", \"model3\", \"model1\", \"model6\", \"model1\", \"model1\", \"model3\", \"model1\", \"model3\", \"model1\", \"model1\", \"model1\", \"model1\", \"model1\", \"model6\", \"model1\", \"model2\", \"model1\", \"model9\", \"model3\", \"model3\", \"model4\", \"model1\", \"model3\", \"model1\", \"model4\", \"model9\", \"model1\", \"model1\", \"model1\", \"model1\", \"model1\", \"model7\", \"model4\", \"model1\", \"model1\", \"model1\", \"model3\", \"model4\", \"model1\", \"model1\", \"model3\", \"model1\", \"model3\", \"model3\", \"model4\", \"model1\", \"model1\", \"model3\", \"model7\", \"model6\", \"model1\", \"model3\", \"model1\", \"model1\", \"model5\", \"model3\", \"model4\", \"model1\", \"model1\", \"model1\", \"model1\", \"model3\", \"model1\", \"model3\", \"model2\", \"model1\", \"model3\", \"model1\", \"model1\", \"model3\", \"model3\", \"model3\", \"model1\", \"model1\", \"model6\", \"model1\", \"model1\", \"model1\", \"model3\", \"model1\", \"model1\", \"model3\", \"model1\", \"model1\", \"model1\", \"model1\", \"model7\", \"model1\", \"model3\", \"model1\", \"model1\", \"model3\", \"model3\", \"model11\", \"model11\", \"model3\", \"model1\", \"model6\", \"model1\", \"model1\", \"model3\", \"model9\", \"model3\", \"model1\", \"model1\", \"model3\", \"model3\", \"model1\", \"model1\", \"model3\", \"model3\", \"model1\", \"model2\", \"model7\", \"model3\", \"model3\", \"model1\", \"model3\", \"model1\", \"model6\", \"model7\", \"model7\", \"model1\", \"model1\", \"model10\", \"model2\", \"model3\", \"model1\", \"model1\", \"model2\", \"model1\", \"model1\", \"model1\", \"model1\", \"model3\", \"model2\", \"model3\", \"model1\", \"model1\", \"model1\", \"model6\", \"model3\", \"model1\", \"model1\", \"model4\", \"model1\", \"model1\", \"model1\", \"model1\", \"model1\", \"model3\", \"model1\", \"model1\", \"model2\", \"model1\", \"model3\", \"model1\", \"model7\", \"model3\", \"model1\", \"model1\", \"model1\", \"model1\", \"model1\", \"model11\", \"model1\", \"model3\", \"model3\", \"model7\", \"model3\", \"model1\", \"model1\", \"model1\", \"model3\", \"model1\", \"model4\", \"model4\", \"model3\", \"model1\", \"model1\", \"model1\", \"model3\", \"model1\", \"model6\", \"model3\", \"model4\", \"model1\", \"model3\", \"model1\", \"model3\", \"model3\", \"model3\", \"model1\", \"model3\", \"model3\", \"model1\", \"model1\", \"model5\", \"model1\", \"model1\", \"model1\", \"model3\", \"model1\", \"model1\", \"model2\", \"model1\", \"model3\", \"model4\", \"model1\", \"model1\", \"model3\", \"model3\", \"model2\", \"model1\", \"model1\", \"model4\", \"model1\", \"model1\", \"model1\", \"model3\", \"model1\", \"model1\", \"model1\", \"model1\", \"model7\", \"model1\", \"model1\", \"model1\", \"model1\", \"model1\", \"model1\", \"model3\", \"model1\", \"model4\", \"model5\", \"model1\", \"model1\", \"model1\", \"model1\", \"model1\", \"model1\", \"model1\", \"model1\", \"model3\", \"model1\", \"model4\", \"model2\", \"model3\", \"model1\", \"model3\", \"model1\", \"model1\", \"model1\", \"model1\", \"model1\", \"model3\", \"model3\", \"model3\", \"model1\", \"model1\", \"model1\", \"model3\", \"model2\", \"model1\", \"model1\", \"model6\", \"model3\", \"model1\", \"model1\", \"model12\", \"model3\", \"model1\", \"model3\", \"model4\", \"model3\", \"model1\", \"model1\", \"model1\", \"model3\", \"model1\", \"model7\", \"model1\", \"model9\", \"model1\", \"model1\", \"model1\", \"model7\", \"model5\", \"model1\", \"model1\", \"model1\", \"model3\", \"model1\", \"model4\", \"model7\", \"model2\", \"model1\", \"model3\", \"model3\", \"model1\", \"model1\", \"model1\", \"model6\", \"model3\", \"model3\", \"model3\", \"model1\", \"model3\", \"model1\", \"model4\", \"model1\", \"model1\", \"model1\", \"model4\", \"model1\", \"model2\", \"model1\", \"model1\", \"model3\", \"model1\", \"model1\", \"model1\", \"model1\", \"model1\", \"model4\", \"model1\", \"model1\", \"model1\", \"model1\", \"model1\", \"model1\", \"model3\", \"model1\", \"model1\", \"model1\", \"model1\", \"model2\", \"model1\", \"model2\", \"model3\", \"model1\", \"model1\", \"model1\", \"model4\", \"model4\", \"model7\", \"model4\", \"model1\", \"model1\", \"model1\", \"model1\", \"model2\", \"model1\", \"model3\", \"model1\", \"model3\", \"model4\", \"model2\", \"model1\", \"model3\", \"model1\", \"model1\", \"model7\", \"model2\", \"model1\", \"model1\", \"model1\", \"model1\", \"model2\", \"model3\", \"model3\", \"model9\", \"model1\", \"model1\", \"model3\", \"model7\", \"model1\", \"model1\", \"model1\", \"model4\", \"model3\", \"model1\", \"model1\", \"model3\", \"model3\", \"model12\", \"model1\", \"model1\", \"model1\", \"model3\", \"model9\", \"model1\", \"model3\", \"model1\", \"model1\", \"model6\", \"model3\", \"model3\", \"model3\", \"model7\", \"model4\", \"model3\", \"model1\", \"model1\", \"model3\", \"model1\", \"model1\", \"model1\", \"model6\", \"model1\", \"model1\", \"model6\", \"model1\", \"model1\", \"model1\", \"model1\", \"model1\", \"model1\", \"model3\", \"model1\", \"model1\", \"model3\", \"model1\", \"model4\", \"model1\", \"model1\", \"model1\", \"model1\", \"model4\", \"model3\", \"model2\", \"model1\", \"model1\", \"model1\", \"model3\", \"model1\", \"model6\", \"model1\", \"model1\", \"model1\", \"model1\", \"model1\", \"model1\", \"model1\", \"model1\", \"model3\", \"model3\", \"model3\", \"model1\", \"model1\", \"model3\", \"model1\", \"model1\", \"model1\", \"model3\", \"model6\", \"model2\", \"model1\", \"model1\", \"model1\", \"model1\", \"model1\", \"model1\", \"model4\", \"model6\", \"model3\", \"model1\", \"model3\", \"model3\", \"model1\", \"model3\", \"model1\", \"model3\", \"model1\", \"model1\", \"model1\", \"model1\", \"model12\", \"model1\", \"model1\", \"model3\", \"model1\", \"model12\", \"model1\", \"model1\", \"model3\", \"model6\", \"model1\", \"model1\", \"model1\", \"model3\", \"model1\", \"model1\", \"model1\", \"model2\", \"model3\", \"model1\", \"model3\", \"model1\", \"model3\", \"model1\", \"model1\", \"model3\", \"model4\", \"model1\", \"model3\", \"model3\", \"model7\", \"model1\", \"model1\", \"model3\", \"model4\", \"model3\", \"model3\", \"model1\", \"model3\", \"model3\", \"model1\", \"model1\", \"model4\", \"model4\", \"model3\", \"model3\", \"model3\", \"model2\", \"model1\", \"model1\", \"model1\", \"model2\", \"model4\", \"model2\", \"model1\", \"model1\", \"model1\", \"model1\", \"model1\", \"model7\", \"model1\", \"model3\", \"model3\", \"model1\", \"model1\", \"model3\", \"model4\", \"model8\", \"model3\", \"model1\", \"model1\", \"model1\", \"model1\", \"model1\", \"model1\", \"model1\", \"model1\", \"model1\", \"model3\", \"model3\", \"model3\", \"model4\", \"model1\", \"model6\", \"model1\", \"model4\", \"model1\", \"model1\", \"model1\", \"model1\", \"model3\", \"model3\", \"model3\", \"model1\", \"model1\", \"model1\", \"model3\", \"model1\", \"model1\", \"model3\", \"model3\", \"model1\", \"model1\", \"model2\", \"model1\", \"model3\", \"model6\", \"model3\", \"model3\", \"model4\", \"model3\", \"model6\", \"model1\", \"model1\", \"model3\", \"model3\", \"model3\", \"model1\", \"model1\", \"model1\", \"model1\", \"model1\", \"model1\", \"model1\", \"model3\", \"model3\", \"model2\", \"model1\", \"model6\", \"model1\", \"model1\", \"model3\", \"model3\", \"model1\", \"model1\", \"model1\", \"model1\", \"model1\", \"model1\", \"model1\", \"model1\", \"model1\", \"model3\", \"model1\", \"model1\", \"model1\", \"model1\", \"model1\", \"model1\", \"model1\", \"model1\", \"model12\", \"model1\", \"model1\", \"model3\", \"model1\", \"model2\", \"model3\", \"model6\", \"model1\", \"model3\", \"model3\", \"model6\", \"model1\", \"model1\", \"model3\", \"model1\", \"model1\", \"model1\", \"model1\", \"model1\", \"model1\", \"model1\", \"model1\", \"model7\", \"model1\", \"model4\", \"model1\", \"model1\", \"model4\", \"model1\", \"model12\", \"model1\", \"model1\", \"model4\", \"model7\", \"model3\", \"model1\", \"model1\", \"model1\", \"model3\", \"model1\", \"model4\", \"model1\", \"model2\", \"model1\", \"model1\", \"model1\", \"model2\", \"model1\", \"model1\", \"model1\", \"model1\", \"model1\", \"model1\", \"model1\", \"model6\", \"model1\", \"model1\", \"model1\", \"model3\", \"model1\", \"model1\", \"model6\", \"model1\", \"model3\", \"model2\", \"model11\", \"model12\", \"model3\", \"model1\", \"model1\", \"model1\", \"model1\", \"model1\", \"model2\", \"model1\", \"model3\", \"model1\", \"model2\", \"model2\", \"model1\", \"model4\", \"model1\", \"model3\", \"model1\", \"model3\", \"model6\", \"model6\", \"model3\", \"model6\", \"model1\", \"model1\", \"model1\", \"model3\", \"model2\", \"model3\", \"model8\", \"model3\", \"model1\", \"model12\", \"model3\", \"model1\", \"model3\", \"model3\", \"model3\", \"model1\", \"model6\", \"model2\", \"model1\", \"model3\", \"model1\", \"model1\", \"model3\", \"model1\", \"model4\", \"model3\", \"model1\", \"model6\", \"model3\", \"model2\", \"model3\", \"model1\", \"model1\", \"model1\", \"model1\", \"model3\", \"model1\", \"model3\", \"model4\", \"model3\", \"model10\", \"model6\", \"model1\", \"model3\", \"model3\", \"model2\", \"model1\", \"model1\", \"model1\", \"model1\", \"model3\", \"model3\", \"model1\", \"model3\", \"model3\", \"model3\", \"model4\", \"model1\", \"model1\", \"model3\", \"model3\", \"model1\", \"model3\", \"model1\", \"model3\", \"model4\", \"model1\", \"model4\", \"model12\", \"model1\", \"model4\", \"model4\", \"model2\", \"model1\", \"model6\", \"model1\", \"model3\", \"model3\", \"model1\", \"model3\", \"model7\", \"model8\", \"model1\", \"model6\", \"model3\", \"model1\", \"model1\", \"model4\", \"model6\", \"model7\", \"model1\", \"model1\", \"model2\", \"model3\", \"model1\", \"model3\", \"model3\", \"model4\", \"model6\", \"model3\", \"model1\", \"model1\", \"model1\", \"model11\", \"model3\", \"model3\", \"model2\", \"model1\", \"model3\", \"model4\", \"model4\", \"model1\", \"model1\", \"model4\", \"model1\", \"model3\", \"model1\", \"model1\", \"model4\", \"model3\", \"model3\", \"model1\", \"model11\", \"model1\", \"model1\", \"model1\", \"model2\", \"model1\", \"model2\", \"model1\", \"model3\", \"model1\", \"model1\", \"model1\", \"model3\", \"model3\", \"model1\", \"model3\", \"model1\", \"model3\", \"model1\", \"model1\", \"model3\", \"model3\", \"model4\", \"model1\", \"model6\", \"model3\", \"model3\", \"model1\", \"model1\", \"model6\", \"model6\", \"model1\", \"model1\", \"model3\", \"model1\", \"model1\", \"model3\", \"model1\", \"model1\", \"model1\", \"model7\", \"model3\", \"model3\", \"model4\", \"model1\", \"model1\", \"model3\", \"model1\", \"model6\", \"model3\", \"model3\", \"model1\", \"model1\", \"model2\", \"model3\", \"model11\", \"model1\", \"model1\", \"model1\", \"model1\", \"model7\", \"model1\", \"model4\", \"model4\", \"model1\", \"model1\", \"model4\", \"model1\", \"model3\", \"model6\", \"model3\", \"model4\", \"model3\", \"model3\", \"model1\", \"model1\", \"model1\", \"model1\", \"model3\", \"model1\", \"model6\", \"model1\", \"model1\", \"model3\", \"model1\", \"model2\", \"model11\", \"model3\", \"model1\", \"model3\", \"model11\", \"model1\", \"model1\", \"model3\", \"model1\", \"model1\", \"model3\", \"model1\", \"model3\", \"model3\", \"model1\", \"model1\", \"model1\", \"model3\", \"model3\", \"model1\", \"model1\", \"model1\", \"model2\", \"model1\", \"model4\", \"model1\", \"model1\", \"model1\", \"model1\", \"model1\", \"model2\", \"model3\", \"model3\", \"model1\", \"model1\", \"model1\", \"model2\", \"model11\", \"model1\", \"model3\", \"model3\", \"model1\", \"model4\", \"model1\", \"model1\", \"model3\", \"model1\", \"model1\", \"model1\", \"model1\", \"model4\", \"model3\", \"model3\", \"model3\", \"model1\", \"model9\", \"model3\", \"model3\", \"model1\", \"model1\", \"model2\", \"model3\", \"model1\", \"model1\", \"model1\", \"model1\", \"model1\", \"model3\", \"model1\", \"model11\", \"model2\", \"model1\", \"model3\", \"model4\", \"model1\", \"model1\", \"model1\", \"model1\", \"model1\", \"model1\", \"model6\", \"model1\", \"model1\", \"model2\", \"model6\", \"model1\", \"model1\", \"model1\", \"model1\", \"model4\", \"model2\", \"model1\", \"model3\", \"model1\", \"model4\", \"model4\", \"model1\", \"model4\", \"model3\", \"model1\", \"model3\", \"model13\", \"model1\", \"model11\", \"model3\", \"model12\", \"model3\", \"model12\", \"model11\", \"model1\", \"model1\", \"model4\", \"model3\", \"model2\", \"model1\", \"model1\", \"model2\", \"model7\", \"model6\", \"model1\", \"model1\", \"model4\", \"model1\", \"model6\", \"model1\", \"model1\", \"model3\", \"model1\", \"model4\", \"model1\", \"model3\", \"model1\", \"model1\", \"model2\", \"model1\", \"model1\", \"model1\", \"model3\", \"model1\", \"model1\", \"model1\", \"model1\", \"model3\", \"model2\", \"model5\", \"model1\", \"model3\", \"model3\", \"model6\", \"model3\", \"model3\", \"model1\", \"model2\", \"model1\", \"model4\", \"model1\", \"model12\", \"model3\", \"model1\", \"model1\", \"model1\", \"model3\", \"model6\", \"model4\", \"model7\", \"model1\", \"model3\", \"model1\", \"model3\", \"model3\", \"model1\", \"model4\", \"model1\", \"model4\", \"model1\", \"model1\", \"model1\", \"model7\", \"model1\", \"model1\"], \"xaxis\": \"x\", \"yaxis\": \"y\"}],\n",
       "                        {\"barmode\": \"relative\", \"height\": 600, \"legend\": {\"tracegroupgap\": 0}, \"margin\": {\"t\": 60}, \"template\": {\"data\": {\"bar\": [{\"error_x\": {\"color\": \"#2a3f5f\"}, \"error_y\": {\"color\": \"#2a3f5f\"}, \"marker\": {\"line\": {\"color\": \"#E5ECF6\", \"width\": 0.5}}, \"type\": \"bar\"}], \"barpolar\": [{\"marker\": {\"line\": {\"color\": \"#E5ECF6\", \"width\": 0.5}}, \"type\": \"barpolar\"}], \"carpet\": [{\"aaxis\": {\"endlinecolor\": \"#2a3f5f\", \"gridcolor\": \"white\", \"linecolor\": \"white\", \"minorgridcolor\": \"white\", \"startlinecolor\": \"#2a3f5f\"}, \"baxis\": {\"endlinecolor\": \"#2a3f5f\", \"gridcolor\": \"white\", \"linecolor\": \"white\", \"minorgridcolor\": \"white\", \"startlinecolor\": \"#2a3f5f\"}, \"type\": \"carpet\"}], \"choropleth\": [{\"colorbar\": {\"outlinewidth\": 0, \"ticks\": \"\"}, \"type\": \"choropleth\"}], \"contour\": [{\"colorbar\": {\"outlinewidth\": 0, \"ticks\": \"\"}, \"colorscale\": [[0.0, \"#0d0887\"], [0.1111111111111111, \"#46039f\"], [0.2222222222222222, \"#7201a8\"], [0.3333333333333333, \"#9c179e\"], [0.4444444444444444, \"#bd3786\"], [0.5555555555555556, \"#d8576b\"], [0.6666666666666666, \"#ed7953\"], [0.7777777777777778, \"#fb9f3a\"], [0.8888888888888888, \"#fdca26\"], [1.0, \"#f0f921\"]], \"type\": \"contour\"}], \"contourcarpet\": [{\"colorbar\": {\"outlinewidth\": 0, \"ticks\": \"\"}, \"type\": \"contourcarpet\"}], \"heatmap\": [{\"colorbar\": {\"outlinewidth\": 0, \"ticks\": \"\"}, \"colorscale\": [[0.0, \"#0d0887\"], [0.1111111111111111, \"#46039f\"], [0.2222222222222222, \"#7201a8\"], [0.3333333333333333, \"#9c179e\"], [0.4444444444444444, \"#bd3786\"], [0.5555555555555556, \"#d8576b\"], [0.6666666666666666, \"#ed7953\"], [0.7777777777777778, \"#fb9f3a\"], [0.8888888888888888, \"#fdca26\"], [1.0, \"#f0f921\"]], \"type\": \"heatmap\"}], \"heatmapgl\": [{\"colorbar\": {\"outlinewidth\": 0, \"ticks\": \"\"}, \"colorscale\": [[0.0, \"#0d0887\"], [0.1111111111111111, \"#46039f\"], [0.2222222222222222, \"#7201a8\"], [0.3333333333333333, \"#9c179e\"], [0.4444444444444444, \"#bd3786\"], [0.5555555555555556, \"#d8576b\"], [0.6666666666666666, \"#ed7953\"], [0.7777777777777778, \"#fb9f3a\"], [0.8888888888888888, \"#fdca26\"], [1.0, \"#f0f921\"]], \"type\": \"heatmapgl\"}], \"histogram\": [{\"marker\": {\"colorbar\": {\"outlinewidth\": 0, \"ticks\": \"\"}}, \"type\": \"histogram\"}], \"histogram2d\": [{\"colorbar\": {\"outlinewidth\": 0, \"ticks\": \"\"}, \"colorscale\": [[0.0, \"#0d0887\"], [0.1111111111111111, \"#46039f\"], [0.2222222222222222, \"#7201a8\"], [0.3333333333333333, \"#9c179e\"], [0.4444444444444444, \"#bd3786\"], [0.5555555555555556, \"#d8576b\"], [0.6666666666666666, \"#ed7953\"], [0.7777777777777778, \"#fb9f3a\"], [0.8888888888888888, \"#fdca26\"], [1.0, \"#f0f921\"]], \"type\": \"histogram2d\"}], \"histogram2dcontour\": [{\"colorbar\": {\"outlinewidth\": 0, \"ticks\": \"\"}, \"colorscale\": [[0.0, \"#0d0887\"], [0.1111111111111111, \"#46039f\"], [0.2222222222222222, \"#7201a8\"], [0.3333333333333333, \"#9c179e\"], [0.4444444444444444, \"#bd3786\"], [0.5555555555555556, \"#d8576b\"], [0.6666666666666666, \"#ed7953\"], [0.7777777777777778, \"#fb9f3a\"], [0.8888888888888888, \"#fdca26\"], [1.0, \"#f0f921\"]], \"type\": \"histogram2dcontour\"}], \"mesh3d\": [{\"colorbar\": {\"outlinewidth\": 0, \"ticks\": \"\"}, \"type\": \"mesh3d\"}], \"parcoords\": [{\"line\": {\"colorbar\": {\"outlinewidth\": 0, \"ticks\": \"\"}}, \"type\": \"parcoords\"}], \"scatter\": [{\"marker\": {\"colorbar\": {\"outlinewidth\": 0, \"ticks\": \"\"}}, \"type\": \"scatter\"}], \"scatter3d\": [{\"line\": {\"colorbar\": {\"outlinewidth\": 0, \"ticks\": \"\"}}, \"marker\": {\"colorbar\": {\"outlinewidth\": 0, \"ticks\": \"\"}}, \"type\": \"scatter3d\"}], \"scattercarpet\": [{\"marker\": {\"colorbar\": {\"outlinewidth\": 0, \"ticks\": \"\"}}, \"type\": \"scattercarpet\"}], \"scattergeo\": [{\"marker\": {\"colorbar\": {\"outlinewidth\": 0, \"ticks\": \"\"}}, \"type\": \"scattergeo\"}], \"scattergl\": [{\"marker\": {\"colorbar\": {\"outlinewidth\": 0, \"ticks\": \"\"}}, \"type\": \"scattergl\"}], \"scattermapbox\": [{\"marker\": {\"colorbar\": {\"outlinewidth\": 0, \"ticks\": \"\"}}, \"type\": \"scattermapbox\"}], \"scatterpolar\": [{\"marker\": {\"colorbar\": {\"outlinewidth\": 0, \"ticks\": \"\"}}, \"type\": \"scatterpolar\"}], \"scatterpolargl\": [{\"marker\": {\"colorbar\": {\"outlinewidth\": 0, \"ticks\": \"\"}}, \"type\": \"scatterpolargl\"}], \"scatterternary\": [{\"marker\": {\"colorbar\": {\"outlinewidth\": 0, \"ticks\": \"\"}}, \"type\": \"scatterternary\"}], \"surface\": [{\"colorbar\": {\"outlinewidth\": 0, \"ticks\": \"\"}, \"colorscale\": [[0.0, \"#0d0887\"], [0.1111111111111111, \"#46039f\"], [0.2222222222222222, \"#7201a8\"], [0.3333333333333333, \"#9c179e\"], [0.4444444444444444, \"#bd3786\"], [0.5555555555555556, \"#d8576b\"], [0.6666666666666666, \"#ed7953\"], [0.7777777777777778, \"#fb9f3a\"], [0.8888888888888888, \"#fdca26\"], [1.0, \"#f0f921\"]], \"type\": \"surface\"}], \"table\": [{\"cells\": {\"fill\": {\"color\": \"#EBF0F8\"}, \"line\": {\"color\": \"white\"}}, \"header\": {\"fill\": {\"color\": \"#C8D4E3\"}, \"line\": {\"color\": \"white\"}}, \"type\": \"table\"}]}, \"layout\": {\"annotationdefaults\": {\"arrowcolor\": \"#2a3f5f\", \"arrowhead\": 0, \"arrowwidth\": 1}, \"colorscale\": {\"diverging\": [[0, \"#8e0152\"], [0.1, \"#c51b7d\"], [0.2, \"#de77ae\"], [0.3, \"#f1b6da\"], [0.4, \"#fde0ef\"], [0.5, \"#f7f7f7\"], [0.6, \"#e6f5d0\"], [0.7, \"#b8e186\"], [0.8, \"#7fbc41\"], [0.9, \"#4d9221\"], [1, \"#276419\"]], \"sequential\": [[0.0, \"#0d0887\"], [0.1111111111111111, \"#46039f\"], [0.2222222222222222, \"#7201a8\"], [0.3333333333333333, \"#9c179e\"], [0.4444444444444444, \"#bd3786\"], [0.5555555555555556, \"#d8576b\"], [0.6666666666666666, \"#ed7953\"], [0.7777777777777778, \"#fb9f3a\"], [0.8888888888888888, \"#fdca26\"], [1.0, \"#f0f921\"]], \"sequentialminus\": [[0.0, \"#0d0887\"], [0.1111111111111111, \"#46039f\"], [0.2222222222222222, \"#7201a8\"], [0.3333333333333333, \"#9c179e\"], [0.4444444444444444, \"#bd3786\"], [0.5555555555555556, \"#d8576b\"], [0.6666666666666666, \"#ed7953\"], [0.7777777777777778, \"#fb9f3a\"], [0.8888888888888888, \"#fdca26\"], [1.0, \"#f0f921\"]]}, \"colorway\": [\"#636efa\", \"#EF553B\", \"#00cc96\", \"#ab63fa\", \"#FFA15A\", \"#19d3f3\", \"#FF6692\", \"#B6E880\", \"#FF97FF\", \"#FECB52\"], \"font\": {\"color\": \"#2a3f5f\"}, \"geo\": {\"bgcolor\": \"white\", \"lakecolor\": \"white\", \"landcolor\": \"#E5ECF6\", \"showlakes\": true, \"showland\": true, \"subunitcolor\": \"white\"}, \"hoverlabel\": {\"align\": \"left\"}, \"hovermode\": \"closest\", \"mapbox\": {\"style\": \"light\"}, \"paper_bgcolor\": \"white\", \"plot_bgcolor\": \"#E5ECF6\", \"polar\": {\"angularaxis\": {\"gridcolor\": \"white\", \"linecolor\": \"white\", \"ticks\": \"\"}, \"bgcolor\": \"#E5ECF6\", \"radialaxis\": {\"gridcolor\": \"white\", \"linecolor\": \"white\", \"ticks\": \"\"}}, \"scene\": {\"xaxis\": {\"backgroundcolor\": \"#E5ECF6\", \"gridcolor\": \"white\", \"gridwidth\": 2, \"linecolor\": \"white\", \"showbackground\": true, \"ticks\": \"\", \"zerolinecolor\": \"white\"}, \"yaxis\": {\"backgroundcolor\": \"#E5ECF6\", \"gridcolor\": \"white\", \"gridwidth\": 2, \"linecolor\": \"white\", \"showbackground\": true, \"ticks\": \"\", \"zerolinecolor\": \"white\"}, \"zaxis\": {\"backgroundcolor\": \"#E5ECF6\", \"gridcolor\": \"white\", \"gridwidth\": 2, \"linecolor\": \"white\", \"showbackground\": true, \"ticks\": \"\", \"zerolinecolor\": \"white\"}}, \"shapedefaults\": {\"line\": {\"color\": \"#2a3f5f\"}}, \"ternary\": {\"aaxis\": {\"gridcolor\": \"white\", \"linecolor\": \"white\", \"ticks\": \"\"}, \"baxis\": {\"gridcolor\": \"white\", \"linecolor\": \"white\", \"ticks\": \"\"}, \"bgcolor\": \"#E5ECF6\", \"caxis\": {\"gridcolor\": \"white\", \"linecolor\": \"white\", \"ticks\": \"\"}}, \"title\": {\"x\": 0.05}, \"xaxis\": {\"automargin\": true, \"gridcolor\": \"white\", \"linecolor\": \"white\", \"ticks\": \"\", \"zerolinecolor\": \"white\", \"zerolinewidth\": 2}, \"yaxis\": {\"automargin\": true, \"gridcolor\": \"white\", \"linecolor\": \"white\", \"ticks\": \"\", \"zerolinecolor\": \"white\", \"zerolinewidth\": 2}}}, \"xaxis\": {\"anchor\": \"y\", \"domain\": [0.0, 0.98], \"title\": {\"text\": \"x\"}}, \"yaxis\": {\"anchor\": \"x\", \"domain\": [0.0, 1.0], \"title\": {\"text\": \"count\"}}},\n",
       "                        {\"responsive\": true}\n",
       "                    ).then(function(){\n",
       "                            \n",
       "var gd = document.getElementById('08bdfb9c-e531-49c9-9755-7f01a65c3baa');\n",
       "var x = new MutationObserver(function (mutations, observer) {{\n",
       "        var display = window.getComputedStyle(gd).display;\n",
       "        if (!display || display === 'none') {{\n",
       "            console.log([gd, 'removed!']);\n",
       "            Plotly.purge(gd);\n",
       "            observer.disconnect();\n",
       "        }}\n",
       "}});\n",
       "\n",
       "// Listen for the removal of the full notebook cells\n",
       "var notebookContainer = gd.closest('#notebook-container');\n",
       "if (notebookContainer) {{\n",
       "    x.observe(notebookContainer, {childList: true});\n",
       "}}\n",
       "\n",
       "// Listen for the clearing of the current output cell\n",
       "var outputEl = gd.closest('.output');\n",
       "if (outputEl) {{\n",
       "    x.observe(outputEl, {childList: true});\n",
       "}}\n",
       "\n",
       "                        })\n",
       "                };\n",
       "                });\n",
       "            </script>\n",
       "        </div>"
      ]
     },
     "metadata": {},
     "output_type": "display_data"
    }
   ],
   "source": [
    "fig = px.histogram(tips, x=complaint1[\"Model\"])\n",
    "fig.show()"
   ]
  },
  {
   "cell_type": "code",
   "execution_count": 165,
   "metadata": {},
   "outputs": [
    {
     "data": {
      "text/plain": [
       "<seaborn.axisgrid.FacetGrid at 0x20e2a763860>"
      ]
     },
     "execution_count": 165,
     "metadata": {},
     "output_type": "execute_result"
    },
    {
     "data": {
      "text/plain": [
       "<Figure size 720x1440 with 0 Axes>"
      ]
     },
     "metadata": {},
     "output_type": "display_data"
    },
    {
     "data": {
      "image/png": "[encoded data removed]",
      "text/plain": [
       "<Figure size 360x360 with 1 Axes>"
      ]
     },
     "metadata": {
      "needs_background": "light"
     },
     "output_type": "display_data"
    }
   ],
   "source": [
    "plt.figure(figsize=(10,20))\n",
    "sea.relplot(x='Area 1',y='Model',data = complaint1)"
   ]
  },
  {
   "cell_type": "markdown",
   "metadata": {},
   "source": [
    "# Model Implementation"
   ]
  },
  {
   "cell_type": "markdown",
   "metadata": {},
   "source": [
    "### Encoding - complaint 1 (independant variables alone)"
   ]
  },
  {
   "cell_type": "code",
   "execution_count": 166,
   "metadata": {},
   "outputs": [],
   "source": [
    "from sklearn.preprocessing import LabelEncoder\n",
    "le = LabelEncoder()"
   ]
  },
  {
   "cell_type": "code",
   "execution_count": 167,
   "metadata": {},
   "outputs": [],
   "source": [
    "le.fit(complaint1[['Model']])\n",
    "complaint1['Model'] = le.transform(complaint1[['Model']])"
   ]
  },
  {
   "cell_type": "code",
   "execution_count": 168,
   "metadata": {},
   "outputs": [],
   "source": [
    "le.fit(complaint1[['Complaint Source']])\n",
    "complaint1['Complaint Source'] = le.transform(complaint1[['Complaint Source']])"
   ]
  },
  {
   "cell_type": "code",
   "execution_count": 169,
   "metadata": {},
   "outputs": [],
   "source": [
    "le.fit(complaint1[['Product Component 1']])\n",
    "complaint1['Product Component 1'] = le.transform(complaint1[['Product Component 1']])"
   ]
  },
  {
   "cell_type": "markdown",
   "metadata": {},
   "source": [
    "### Declare Dependant &  Independant Variables "
   ]
  },
  {
   "cell_type": "code",
   "execution_count": 170,
   "metadata": {},
   "outputs": [],
   "source": [
    "x1 = complaint1[['Model','Complaint Source','Product Component 1']]\n",
    "y1 = complaint1[['Area 1']]"
   ]
  },
  {
   "cell_type": "markdown",
   "metadata": {},
   "source": [
    "## Logistic Regression"
   ]
  },
  {
   "cell_type": "code",
   "execution_count": 171,
   "metadata": {},
   "outputs": [],
   "source": [
    "from sklearn.linear_model import LogisticRegression\n",
    "from sklearn.model_selection import train_test_split"
   ]
  },
  {
   "cell_type": "code",
   "execution_count": 172,
   "metadata": {},
   "outputs": [],
   "source": [
    "x1train,x1test,y1train,y1test = train_test_split(x1,y1,test_size = 0.3)"
   ]
  },
  {
   "cell_type": "code",
   "execution_count": 173,
   "metadata": {},
   "outputs": [],
   "source": [
    "lr = LogisticRegression()"
   ]
  },
  {
   "cell_type": "code",
   "execution_count": 174,
   "metadata": {},
   "outputs": [],
   "source": [
    "a4 = lr.fit(x1train,y1train)\n",
    "b4 = lr.fit(x1test,y1test)"
   ]
  },
  {
   "cell_type": "code",
   "execution_count": 175,
   "metadata": {},
   "outputs": [],
   "source": [
    "y1pred=a4.predict(x1test)"
   ]
  },
  {
   "cell_type": "code",
   "execution_count": 176,
   "metadata": {},
   "outputs": [
    {
     "data": {
      "text/plain": [
       "0.6995983935742972"
      ]
     },
     "execution_count": 176,
     "metadata": {},
     "output_type": "execute_result"
    }
   ],
   "source": [
    "from sklearn.metrics import accuracy_score\n",
    "accuracy_score(y1test,y1pred)"
   ]
  },
  {
   "cell_type": "markdown",
   "metadata": {},
   "source": [
    "### Cross Validation - LR1"
   ]
  },
  {
   "cell_type": "code",
   "execution_count": 177,
   "metadata": {},
   "outputs": [],
   "source": [
    "from sklearn.model_selection import cross_val_score\n",
    "from sklearn.model_selection import StratifiedKFold"
   ]
  },
  {
   "cell_type": "code",
   "execution_count": 178,
   "metadata": {},
   "outputs": [],
   "source": [
    "st_fld = StratifiedKFold(n_splits=5)"
   ]
  },
  {
   "cell_type": "code",
   "execution_count": 179,
   "metadata": {},
   "outputs": [
    {
     "data": {
      "text/plain": [
       "array([0.71359807, 0.70517449, 0.70481928, 0.70205066, 0.70566948])"
      ]
     },
     "execution_count": 179,
     "metadata": {},
     "output_type": "execute_result"
    }
   ],
   "source": [
    "lr1 = cross_val_score(lr,x1,y1,cv=st_fld)\n",
    "lr1"
   ]
  },
  {
   "cell_type": "code",
   "execution_count": 180,
   "metadata": {},
   "outputs": [
    {
     "data": {
      "text/plain": [
       "(0.7062623970076086, 0.007754665913132841)"
      ]
     },
     "execution_count": 180,
     "metadata": {},
     "output_type": "execute_result"
    }
   ],
   "source": [
    "(lr1.mean(),lr1.std()*2)"
   ]
  },
  {
   "cell_type": "markdown",
   "metadata": {},
   "source": [
    "## SVM"
   ]
  },
  {
   "cell_type": "markdown",
   "metadata": {},
   "source": [
    "### Encoding dependant variable"
   ]
  },
  {
   "cell_type": "code",
   "execution_count": 181,
   "metadata": {},
   "outputs": [],
   "source": [
    "le.fit(complaint1[['Area 1']])\n",
    "complaint1['Area 1'] = le.transform(complaint1[['Area 1']])"
   ]
  },
  {
   "cell_type": "markdown",
   "metadata": {},
   "source": [
    "### Declare Dependant &  Independant Variables "
   ]
  },
  {
   "cell_type": "code",
   "execution_count": 182,
   "metadata": {},
   "outputs": [],
   "source": [
    "x1 = complaint1[['Model','Complaint Source','Product Component 1']]\n",
    "y1 = complaint1[['Area 1']]"
   ]
  },
  {
   "cell_type": "code",
   "execution_count": 183,
   "metadata": {},
   "outputs": [],
   "source": [
    "x1train,x1test,y1train,y1test = train_test_split(x1,y1,test_size=0.3)"
   ]
  },
  {
   "cell_type": "code",
   "execution_count": 184,
   "metadata": {},
   "outputs": [],
   "source": [
    "from sklearn.svm import SVC\n",
    "from sklearn.metrics import classification_report,confusion_matrix,accuracy_score"
   ]
  },
  {
   "cell_type": "code",
   "execution_count": 185,
   "metadata": {},
   "outputs": [],
   "source": [
    "svcclassifier = SVC(kernel='linear')"
   ]
  },
  {
   "cell_type": "code",
   "execution_count": 186,
   "metadata": {},
   "outputs": [
    {
     "data": {
      "text/plain": [
       "SVC(C=1.0, cache_size=200, class_weight=None, coef0=0.0,\n",
       "  decision_function_shape='ovr', degree=3, gamma='auto', kernel='linear',\n",
       "  max_iter=-1, probability=False, random_state=None, shrinking=True,\n",
       "  tol=0.001, verbose=False)"
      ]
     },
     "execution_count": 186,
     "metadata": {},
     "output_type": "execute_result"
    }
   ],
   "source": [
    "svcclassifier.fit(x1train,y1train)"
   ]
  },
  {
   "cell_type": "code",
   "execution_count": 187,
   "metadata": {},
   "outputs": [],
   "source": [
    "y11pred = svcclassifier.predict(x1test)"
   ]
  },
  {
   "cell_type": "code",
   "execution_count": 188,
   "metadata": {},
   "outputs": [
    {
     "data": {
      "text/plain": [
       "array([[ 18,   0, 250],\n",
       "       [  5,   0, 107],\n",
       "       [  9,   0, 856]], dtype=int64)"
      ]
     },
     "execution_count": 188,
     "metadata": {},
     "output_type": "execute_result"
    }
   ],
   "source": [
    "confusion_matrix(y1test,y11pred)"
   ]
  },
  {
   "cell_type": "code",
   "execution_count": 189,
   "metadata": {},
   "outputs": [
    {
     "data": {
      "text/plain": [
       "0.702008032128514"
      ]
     },
     "execution_count": 189,
     "metadata": {},
     "output_type": "execute_result"
    }
   ],
   "source": [
    "ac_sc11=accuracy_score(y1test,y11pred)\n",
    "ac_sc11"
   ]
  },
  {
   "cell_type": "code",
   "execution_count": 190,
   "metadata": {},
   "outputs": [
    {
     "name": "stdout",
     "output_type": "stream",
     "text": [
      "             precision    recall  f1-score   support\n",
      "\n",
      "          0       0.56      0.07      0.12       268\n",
      "          1       0.00      0.00      0.00       112\n",
      "          2       0.71      0.99      0.82       865\n",
      "\n",
      "avg / total       0.61      0.70      0.60      1245\n",
      "\n"
     ]
    }
   ],
   "source": [
    "print(classification_report(y1test,y11pred))"
   ]
  },
  {
   "cell_type": "markdown",
   "metadata": {},
   "source": [
    "### Cross Validation - svm1"
   ]
  },
  {
   "cell_type": "code",
   "execution_count": 191,
   "metadata": {},
   "outputs": [
    {
     "data": {
      "text/plain": [
       "array([0.71600481, 0.70637786, 0.70481928, 0.70325694, 0.7092883 ])"
      ]
     },
     "execution_count": 191,
     "metadata": {},
     "output_type": "execute_result"
    }
   ],
   "source": [
    "cv11 = cross_val_score(svcclassifier,x1,y1,cv=st_fld)\n",
    "cv11"
   ]
  },
  {
   "cell_type": "code",
   "execution_count": 192,
   "metadata": {},
   "outputs": [
    {
     "data": {
      "text/plain": [
       "0.7079494367623477"
      ]
     },
     "execution_count": 192,
     "metadata": {},
     "output_type": "execute_result"
    }
   ],
   "source": [
    "cv11.mean()"
   ]
  },
  {
   "cell_type": "markdown",
   "metadata": {},
   "source": [
    "## Decision Tree"
   ]
  },
  {
   "cell_type": "code",
   "execution_count": 193,
   "metadata": {},
   "outputs": [],
   "source": [
    "from sklearn.tree import DecisionTreeClassifier,export_graphviz\n",
    "from sklearn.model_selection import train_test_split\n",
    "from sklearn.metrics import classification_report,confusion_matrix,accuracy_score"
   ]
  },
  {
   "cell_type": "code",
   "execution_count": 194,
   "metadata": {},
   "outputs": [],
   "source": [
    "dt = DecisionTreeClassifier()"
   ]
  },
  {
   "cell_type": "code",
   "execution_count": 195,
   "metadata": {},
   "outputs": [],
   "source": [
    "a1 = dt.fit(x1train,y1train)\n",
    "b1 = dt.fit(x1test,y1test)"
   ]
  },
  {
   "cell_type": "code",
   "execution_count": 196,
   "metadata": {},
   "outputs": [],
   "source": [
    "y1pred = a1.predict(x1test)"
   ]
  },
  {
   "cell_type": "code",
   "execution_count": 197,
   "metadata": {},
   "outputs": [
    {
     "data": {
      "text/plain": [
       "0.9959839357429718"
      ]
     },
     "execution_count": 197,
     "metadata": {},
     "output_type": "execute_result"
    }
   ],
   "source": [
    "ac_sc1 = accuracy_score(y1test,y1pred)\n",
    "ac_sc1"
   ]
  },
  {
   "cell_type": "code",
   "execution_count": 198,
   "metadata": {},
   "outputs": [
    {
     "data": {
      "text/html": [
       "<div>\n",
       "<style scoped>\n",
       "    .dataframe tbody tr th:only-of-type {\n",
       "        vertical-align: middle;\n",
       "    }\n",
       "\n",
       "    .dataframe tbody tr th {\n",
       "        vertical-align: top;\n",
       "    }\n",
       "\n",
       "    .dataframe thead th {\n",
       "        text-align: right;\n",
       "    }\n",
       "</style>\n",
       "<table border=\"1\" class=\"dataframe\">\n",
       "  <thead>\n",
       "    <tr style=\"text-align: right;\">\n",
       "      <th></th>\n",
       "      <th>Predicted Product</th>\n",
       "      <th>Predicted Sales</th>\n",
       "      <th>Predicted Service</th>\n",
       "    </tr>\n",
       "  </thead>\n",
       "  <tbody>\n",
       "    <tr>\n",
       "      <th>True Product</th>\n",
       "      <td>268</td>\n",
       "      <td>0</td>\n",
       "      <td>0</td>\n",
       "    </tr>\n",
       "    <tr>\n",
       "      <th>True Sales</th>\n",
       "      <td>0</td>\n",
       "      <td>108</td>\n",
       "      <td>4</td>\n",
       "    </tr>\n",
       "    <tr>\n",
       "      <th>True Service</th>\n",
       "      <td>0</td>\n",
       "      <td>1</td>\n",
       "      <td>864</td>\n",
       "    </tr>\n",
       "  </tbody>\n",
       "</table>\n",
       "</div>"
      ],
      "text/plain": [
       "              Predicted Product  Predicted Sales  Predicted Service\n",
       "True Product                268                0                  0\n",
       "True Sales                    0              108                  4\n",
       "True Service                  0                1                864"
      ]
     },
     "execution_count": 198,
     "metadata": {},
     "output_type": "execute_result"
    }
   ],
   "source": [
    "pd.DataFrame(confusion_matrix(y1test,y1pred),columns = ['Predicted Product','Predicted Sales','Predicted Service'],index=['True Product','True Sales','True Service'])"
   ]
  },
  {
   "cell_type": "code",
   "execution_count": 199,
   "metadata": {},
   "outputs": [],
   "source": [
    "graph = export_graphviz(dt,out_file=\"complaint1_tree.dot\",feature_names = ['Complaint Source','Model','Product Phenemenon'],rounded=True,precision=0)"
   ]
  },
  {
   "cell_type": "markdown",
   "metadata": {},
   "source": [
    "### Cross Validation - DT1"
   ]
  },
  {
   "cell_type": "code",
   "execution_count": 200,
   "metadata": {},
   "outputs": [
    {
     "data": {
      "text/plain": [
       "array([0.98916968, 0.98796631, 0.98554217, 0.98914355, 0.98552473])"
      ]
     },
     "execution_count": 200,
     "metadata": {},
     "output_type": "execute_result"
    }
   ],
   "source": [
    "cv1 = cross_val_score(dt,x1,y1,cv=st_fld)\n",
    "cv1"
   ]
  },
  {
   "cell_type": "code",
   "execution_count": 201,
   "metadata": {},
   "outputs": [
    {
     "data": {
      "text/plain": [
       "0.9874692848901889"
      ]
     },
     "execution_count": 201,
     "metadata": {},
     "output_type": "execute_result"
    }
   ],
   "source": [
    "cv1.mean()"
   ]
  },
  {
   "cell_type": "markdown",
   "metadata": {},
   "source": [
    "# COMPLAINT 2"
   ]
  },
  {
   "cell_type": "code",
   "execution_count": 202,
   "metadata": {},
   "outputs": [
    {
     "name": "stdout",
     "output_type": "stream",
     "text": [
      "<class 'pandas.core.frame.DataFrame'>\n",
      "RangeIndex: 4150 entries, 0 to 4149\n",
      "Data columns (total 14 columns):\n",
      "Model                    4150 non-null object\n",
      "Complaint Related To     4150 non-null object\n",
      "Complaint Type           4150 non-null object\n",
      "Complaint Source         4150 non-null object\n",
      "Complaint Mode           4150 non-null object\n",
      "Category 2               784 non-null object\n",
      "Area 2                   784 non-null object\n",
      "Contact Details 2        784 non-null object\n",
      "Product Component 2      784 non-null object\n",
      " Product Phenomenon 2    167 non-null object\n",
      "Request 2                784 non-null object\n",
      "Action 2                 771 non-null object\n",
      "No Assistance 2          771 non-null object\n",
      "Resolution Days          4150 non-null float64\n",
      "dtypes: float64(1), object(13)\n",
      "memory usage: 454.0+ KB\n"
     ]
    }
   ],
   "source": [
    "complaint2 = cd.iloc[:,13:21]\n",
    "complaint2 = pd.concat([cd_info,complaint2,cd_info1],axis=1)\n",
    "complaint2.info()"
   ]
  },
  {
   "cell_type": "code",
   "execution_count": 203,
   "metadata": {},
   "outputs": [
    {
     "data": {
      "text/plain": [
       "3366"
      ]
     },
     "execution_count": 203,
     "metadata": {},
     "output_type": "execute_result"
    }
   ],
   "source": [
    "complaint2['Category 2'].isnull().values.sum()"
   ]
  },
  {
   "cell_type": "markdown",
   "metadata": {},
   "source": [
    "##### Only Complaints filed are considered ommiting other values that are not required."
   ]
  },
  {
   "cell_type": "code",
   "execution_count": 204,
   "metadata": {},
   "outputs": [
    {
     "name": "stdout",
     "output_type": "stream",
     "text": [
      "<class 'pandas.core.frame.DataFrame'>\n",
      "Int64Index: 784 entries, 15 to 4149\n",
      "Data columns (total 14 columns):\n",
      "Model                    784 non-null object\n",
      "Complaint Related To     784 non-null object\n",
      "Complaint Type           784 non-null object\n",
      "Complaint Source         784 non-null object\n",
      "Complaint Mode           784 non-null object\n",
      "Category 2               784 non-null object\n",
      "Area 2                   784 non-null object\n",
      "Contact Details 2        784 non-null object\n",
      "Product Component 2      784 non-null object\n",
      " Product Phenomenon 2    167 non-null object\n",
      "Request 2                784 non-null object\n",
      "Action 2                 771 non-null object\n",
      "No Assistance 2          771 non-null object\n",
      "Resolution Days          784 non-null float64\n",
      "dtypes: float64(1), object(13)\n",
      "memory usage: 91.9+ KB\n"
     ]
    }
   ],
   "source": [
    "complaint2 = complaint2[~complaint2['Category 2'].isna()]\n",
    "complaint2.info()"
   ]
  },
  {
   "cell_type": "code",
   "execution_count": 205,
   "metadata": {},
   "outputs": [
    {
     "data": {
      "application/vnd.plotly.v1+json": {
       "config": {
        "plotlyServerURL": "https://plot.ly"
       },
       "data": [
        {
         "alignmentgroup": "True",
         "bingroup": "x",
         "hoverlabel": {
          "namelength": 0
         },
         "hovertemplate": "x=%{x}<br>count=%{y}",
         "legendgroup": "",
         "marker": {
          "color": "#636efa"
         },
         "name": "",
         "offsetgroup": "",
         "orientation": "v",
         "showlegend": false,
         "type": "histogram",
         "x": [
          "Service and Parts",
          "Service and Parts",
          "Service and Parts",
          "Service and Parts",
          "Service and Parts",
          "Product",
          "Service and Parts",
          "Product",
          "Service and Parts",
          "Service and Parts",
          "Product",
          "Product",
          "Service and Parts",
          "Service and Parts",
          "Service and Parts",
          "Product",
          "Service and Parts",
          "Product",
          "Product",
          "Service and Parts",
          "Service and Parts",
          "Service and Parts",
          "Service and Parts",
          "Service and Parts",
          "Sales",
          "Product",
          "Product",
          "Service and Parts",
          "Product",
          "Product",
          "Service and Parts",
          "Product",
          "Service and Parts",
          "Sales",
          "Product",
          "Product",
          "Service and Parts",
          "Service and Parts",
          "Service and Parts",
          "Product",
          "Service and Parts",
          "Product",
          "Service and Parts",
          "Service and Parts",
          "Service and Parts",
          "Product",
          "Service and Parts",
          "Service and Parts",
          "Service and Parts",
          "Sales",
          "Product",
          "Service and Parts",
          "Product",
          "Product",
          "Service and Parts",
          "Service and Parts",
          "Service and Parts",
          "Product",
          "Service and Parts",
          "Product",
          "Product",
          "Service and Parts",
          "Service and Parts",
          "Service and Parts",
          "Service and Parts",
          "Service and Parts",
          "Service and Parts",
          "Service and Parts",
          "Service and Parts",
          "Service and Parts",
          "Service and Parts",
          "Service and Parts",
          "Service and Parts",
          "Service and Parts",
          "Sales",
          "Sales",
          "Service and Parts",
          "Product",
          "Product",
          "Sales",
          "Service and Parts",
          "Product",
          "Service and Parts",
          "Service and Parts",
          "Service and Parts",
          "Service and Parts",
          "Product",
          "Service and Parts",
          "Service and Parts",
          "Service and Parts",
          "Service and Parts",
          "Service and Parts",
          "Service and Parts",
          "Service and Parts",
          "Service and Parts",
          "Service and Parts",
          "Service and Parts",
          "Service and Parts",
          "Sales",
          "Service and Parts",
          "Service and Parts",
          "Service and Parts",
          "Sales",
          "Product",
          "Service and Parts",
          "Service and Parts",
          "Product",
          "Service and Parts",
          "Service and Parts",
          "Service and Parts",
          "Service and Parts",
          "Service and Parts",
          "Product",
          "Product",
          "Service and Parts",
          "Service and Parts",
          "Service and Parts",
          "Service and Parts",
          "Product",
          "Service and Parts",
          "Service and Parts",
          "Service and Parts",
          "Product",
          "Product",
          "Product",
          "Service and Parts",
          "Service and Parts",
          "Service and Parts",
          "Service and Parts",
          "Service and Parts",
          "Service and Parts",
          "Service and Parts",
          "Service and Parts",
          "Service and Parts",
          "Service and Parts",
          "Service and Parts",
          "Service and Parts",
          "Product",
          "Service and Parts",
          "Service and Parts",
          "Service and Parts",
          "Service and Parts",
          "Sales",
          "Service and Parts",
          "Service and Parts",
          "Product",
          "Service and Parts",
          "Service and Parts",
          "Service and Parts",
          "Service and Parts",
          "Product",
          "Service and Parts",
          "Service and Parts",
          "Service and Parts",
          "Service and Parts",
          "Product",
          "Service and Parts",
          "Product",
          "Service and Parts",
          "Service and Parts",
          "Service and Parts",
          "Service and Parts",
          "Service and Parts",
          "Service and Parts",
          "Service and Parts",
          "Service and Parts",
          "Service and Parts",
          "Product",
          "Service and Parts",
          "Service and Parts",
          "Service and Parts",
          "Service and Parts",
          "Product",
          "Service and Parts",
          "Service and Parts",
          "Service and Parts",
          "Service and Parts",
          "Service and Parts",
          "Service and Parts",
          "Service and Parts",
          "Sales",
          "Sales",
          "Service and Parts",
          "Service and Parts",
          "Service and Parts",
          "Service and Parts",
          "Service and Parts",
          "Product",
          "Product",
          "Product",
          "Service and Parts",
          "Service and Parts",
          "Service and Parts",
          "Service and Parts",
          "Sales",
          "Sales",
          "Service and Parts",
          "Service and Parts",
          "Service and Parts",
          "Service and Parts",
          "Service and Parts",
          "Service and Parts",
          "Service and Parts",
          "Product",
          "Service and Parts",
          "Product",
          "Sales",
          "Service and Parts",
          "Service and Parts",
          "Sales",
          "Product",
          "Service and Parts",
          "Product",
          "Service and Parts",
          "Service and Parts",
          "Service and Parts",
          "Service and Parts",
          "Service and Parts",
          "Service and Parts",
          "Service and Parts",
          "Service and Parts",
          "Service and Parts",
          "Service and Parts",
          "Sales",
          "Service and Parts",
          "Service and Parts",
          "Sales",
          "Product",
          "Service and Parts",
          "Service and Parts",
          "Product",
          "Product",
          "Product",
          "Service and Parts",
          "Service and Parts",
          "Service and Parts",
          "Service and Parts",
          "Service and Parts",
          "Service and Parts",
          "Service and Parts",
          "Product",
          "Sales",
          "Product",
          "Product",
          "Product",
          "Service and Parts",
          "Service and Parts",
          "Service and Parts",
          "Product",
          "Product",
          "Service and Parts",
          "Service and Parts",
          "Service and Parts",
          "Service and Parts",
          "Product",
          "Service and Parts",
          "Sales",
          "Service and Parts",
          "Sales",
          "Service and Parts",
          "Service and Parts",
          "Product",
          "Service and Parts",
          "Service and Parts",
          "Service and Parts",
          "Service and Parts",
          "Service and Parts",
          "Service and Parts",
          "Service and Parts",
          "Service and Parts",
          "Service and Parts",
          "Service and Parts",
          "Service and Parts",
          "Product",
          "Service and Parts",
          "Service and Parts",
          "Product",
          "Service and Parts",
          "Service and Parts",
          "Product",
          "Service and Parts",
          "Product",
          "Service and Parts",
          "Service and Parts",
          "Service and Parts",
          "Service and Parts",
          "Product",
          "Service and Parts",
          "Service and Parts",
          "Service and Parts",
          "Service and Parts",
          "Service and Parts",
          "Service and Parts",
          "Service and Parts",
          "Sales",
          "Product",
          "Service and Parts",
          "Service and Parts",
          "Service and Parts",
          "Service and Parts",
          "Service and Parts",
          "Service and Parts",
          "Service and Parts",
          "Product",
          "Service and Parts",
          "Service and Parts",
          "Service and Parts",
          "Product",
          "Sales",
          "Product",
          "Service and Parts",
          "Sales",
          "Service and Parts",
          "Sales",
          "Service and Parts",
          "Product",
          "Product",
          "Sales",
          "Service and Parts",
          "Service and Parts",
          "Service and Parts",
          "Sales",
          "Service and Parts",
          "Service and Parts",
          "Service and Parts",
          "Product",
          "Service and Parts",
          "Service and Parts",
          "Service and Parts",
          "Service and Parts",
          "Service and Parts",
          "Service and Parts",
          "Service and Parts",
          "Product",
          "Service and Parts",
          "Product",
          "Product",
          "Service and Parts",
          "Product",
          "Product",
          "Service and Parts",
          "Product",
          "Product",
          "Product",
          "Service and Parts",
          "Service and Parts",
          "Service and Parts",
          "Service and Parts",
          "Product",
          "Sales",
          "Service and Parts",
          "Product",
          "Product",
          "Service and Parts",
          "Service and Parts",
          "Product",
          "Product",
          "Service and Parts",
          "Service and Parts",
          "Product",
          "Service and Parts",
          "Service and Parts",
          "Service and Parts",
          "Service and Parts",
          "Service and Parts",
          "Service and Parts",
          "Service and Parts",
          "Sales",
          "Service and Parts",
          "Product",
          "Product",
          "Service and Parts",
          "Service and Parts",
          "Product",
          "Service and Parts",
          "Service and Parts",
          "Service and Parts",
          "Service and Parts",
          "Product",
          "Service and Parts",
          "Service and Parts",
          "Service and Parts",
          "Service and Parts",
          "Service and Parts",
          "Product",
          "Service and Parts",
          "Service and Parts",
          "Service and Parts",
          "Service and Parts",
          "Product",
          "Service and Parts",
          "Service and Parts",
          "Service and Parts",
          "Service and Parts",
          "Service and Parts",
          "Service and Parts",
          "Product",
          "Sales",
          "Service and Parts",
          "Service and Parts",
          "Product",
          "Product",
          "Service and Parts",
          "Service and Parts",
          "Product",
          "Product",
          "Sales",
          "Service and Parts",
          "Sales",
          "Service and Parts",
          "Service and Parts",
          "Product",
          "Service and Parts",
          "Sales",
          "Service and Parts",
          "Service and Parts",
          "Service and Parts",
          "Service and Parts",
          "Service and Parts",
          "Sales",
          "Product",
          "Service and Parts",
          "Service and Parts",
          "Service and Parts",
          "Product",
          "Product",
          "Service and Parts",
          "Service and Parts",
          "Service and Parts",
          "Service and Parts",
          "Service and Parts",
          "Service and Parts",
          "Service and Parts",
          "Product",
          "Service and Parts",
          "Service and Parts",
          "Service and Parts",
          "Service and Parts",
          "Service and Parts",
          "Service and Parts",
          "Service and Parts",
          "Product",
          "Service and Parts",
          "Service and Parts",
          "Service and Parts",
          "Service and Parts",
          "Service and Parts",
          "Service and Parts",
          "Service and Parts",
          "Product",
          "Service and Parts",
          "Service and Parts",
          "Service and Parts",
          "Service and Parts",
          "Service and Parts",
          "Product",
          "Service and Parts",
          "Service and Parts",
          "Service and Parts",
          "Service and Parts",
          "Product",
          "Product",
          "Service and Parts",
          "Product",
          "Product",
          "Service and Parts",
          "Service and Parts",
          "Service and Parts",
          "Service and Parts",
          "Service and Parts",
          "Product",
          "Service and Parts",
          "Product",
          "Product",
          "Service and Parts",
          "Service and Parts",
          "Product",
          "Service and Parts",
          "Service and Parts",
          "Service and Parts",
          "Service and Parts",
          "Product",
          "Service and Parts",
          "Service and Parts",
          "Sales",
          "Service and Parts",
          "Service and Parts",
          "Product",
          "Service and Parts",
          "Product",
          "Product",
          "Service and Parts",
          "Sales",
          "Service and Parts",
          "Product",
          "Product",
          "Service and Parts",
          "Service and Parts",
          "Service and Parts",
          "Service and Parts",
          "Service and Parts",
          "Service and Parts",
          "Service and Parts",
          "Service and Parts",
          "Product",
          "Service and Parts",
          "Service and Parts",
          "Service and Parts",
          "Service and Parts",
          "Product",
          "Product",
          "Service and Parts",
          "Service and Parts",
          "Service and Parts",
          "Service and Parts",
          "Service and Parts",
          "Service and Parts",
          "Service and Parts",
          "Service and Parts",
          "Service and Parts",
          "Product",
          "Service and Parts",
          "Sales",
          "Sales",
          "Sales",
          "Service and Parts",
          "Service and Parts",
          "Product",
          "Service and Parts",
          "Service and Parts",
          "Product",
          "Service and Parts",
          "Product",
          "Product",
          "Service and Parts",
          "Product",
          "Product",
          "Service and Parts",
          "Service and Parts",
          "Product",
          "Service and Parts",
          "Service and Parts",
          "Product",
          "Service and Parts",
          "Service and Parts",
          "Service and Parts",
          "Service and Parts",
          "Service and Parts",
          "Service and Parts",
          "Service and Parts",
          "Service and Parts",
          "Service and Parts",
          "Service and Parts",
          "Product",
          "Service and Parts",
          "Service and Parts",
          "Service and Parts",
          "Product",
          "Product",
          "Service and Parts",
          "Service and Parts",
          "Service and Parts",
          "Product",
          "Product",
          "Service and Parts",
          "Service and Parts",
          "Service and Parts",
          "Service and Parts",
          "Service and Parts",
          "Product",
          "Service and Parts",
          "Sales",
          "Service and Parts",
          "Product",
          "Service and Parts",
          "Service and Parts",
          "Service and Parts",
          "Service and Parts",
          "Service and Parts",
          "Product",
          "Service and Parts",
          "Product",
          "Service and Parts",
          "Sales",
          "Service and Parts",
          "Service and Parts",
          "Service and Parts",
          "Service and Parts",
          "Product",
          "Service and Parts",
          "Service and Parts",
          "Service and Parts",
          "Service and Parts",
          "Service and Parts",
          "Service and Parts",
          "Product",
          "Product",
          "Service and Parts",
          "Service and Parts",
          "Sales",
          "Service and Parts",
          "Service and Parts",
          "Service and Parts",
          "Service and Parts",
          "Service and Parts",
          "Service and Parts",
          "Service and Parts",
          "Service and Parts",
          "Service and Parts",
          "Product",
          "Service and Parts",
          "Sales",
          "Product",
          "Service and Parts",
          "Service and Parts",
          "Product",
          "Service and Parts",
          "Service and Parts",
          "Service and Parts",
          "Service and Parts",
          "Product",
          "Service and Parts",
          "Service and Parts",
          "Service and Parts",
          "Service and Parts",
          "Service and Parts",
          "Service and Parts",
          "Service and Parts",
          "Service and Parts",
          "Service and Parts",
          "Service and Parts",
          "Service and Parts",
          "Service and Parts",
          "Service and Parts",
          "Product",
          "Sales",
          "Service and Parts",
          "Service and Parts",
          "Service and Parts",
          "Service and Parts",
          "Service and Parts",
          "Sales",
          "Sales",
          "Service and Parts",
          "Service and Parts",
          "Service and Parts",
          "Product",
          "Product",
          "Service and Parts",
          "Service and Parts",
          "Service and Parts",
          "Product",
          "Product",
          "Product",
          "Service and Parts",
          "Service and Parts",
          "Service and Parts",
          "Service and Parts",
          "Service and Parts",
          "Service and Parts",
          "Service and Parts",
          "Service and Parts",
          "Service and Parts",
          "Product",
          "Product",
          "Service and Parts",
          "Service and Parts",
          "Service and Parts",
          "Product",
          "Service and Parts",
          "Service and Parts",
          "Service and Parts",
          "Service and Parts",
          "Service and Parts",
          "Service and Parts",
          "Product",
          "Service and Parts",
          "Service and Parts",
          "Sales",
          "Service and Parts",
          "Service and Parts",
          "Service and Parts",
          "Service and Parts",
          "Service and Parts",
          "Service and Parts",
          "Product",
          "Service and Parts",
          "Service and Parts",
          "Service and Parts",
          "Service and Parts",
          "Service and Parts",
          "Service and Parts",
          "Service and Parts",
          "Service and Parts",
          "Sales",
          "Product",
          "Service and Parts",
          "Service and Parts",
          "Service and Parts",
          "Service and Parts",
          "Service and Parts",
          "Service and Parts",
          "Service and Parts",
          "Service and Parts",
          "Service and Parts",
          "Service and Parts",
          "Service and Parts",
          "Service and Parts",
          "Sales",
          "Sales",
          "Service and Parts",
          "Service and Parts",
          "Service and Parts",
          "Service and Parts",
          "Service and Parts",
          "Service and Parts",
          "Sales",
          "Product",
          "Service and Parts",
          "Product",
          "Service and Parts",
          "Service and Parts",
          "Service and Parts",
          "Service and Parts",
          "Product",
          "Service and Parts",
          "Service and Parts",
          "Product",
          "Service and Parts",
          "Service and Parts",
          "Service and Parts",
          "Service and Parts",
          "Service and Parts",
          "Product",
          "Service and Parts",
          "Service and Parts",
          "Service and Parts",
          "Service and Parts",
          "Service and Parts",
          "Service and Parts",
          "Service and Parts",
          "Service and Parts",
          "Service and Parts",
          "Service and Parts",
          "Service and Parts",
          "Service and Parts",
          "Service and Parts",
          "Service and Parts",
          "Service and Parts",
          "Service and Parts",
          "Service and Parts",
          "Service and Parts",
          "Service and Parts",
          "Service and Parts",
          "Service and Parts",
          "Sales",
          "Service and Parts",
          "Service and Parts",
          "Service and Parts",
          "Service and Parts",
          "Service and Parts",
          "Service and Parts",
          "Service and Parts",
          "Service and Parts",
          "Product",
          "Service and Parts",
          "Service and Parts",
          "Service and Parts",
          "Service and Parts",
          "Product",
          "Sales",
          "Service and Parts",
          "Service and Parts",
          "Service and Parts",
          "Service and Parts",
          "Service and Parts",
          "Service and Parts",
          "Service and Parts",
          "Service and Parts",
          "Service and Parts",
          "Service and Parts",
          "Service and Parts",
          "Sales",
          "Service and Parts"
         ],
         "xaxis": "x",
         "yaxis": "y"
        }
       ],
       "layout": {
        "barmode": "relative",
        "height": 600,
        "legend": {
         "tracegroupgap": 0
        },
        "margin": {
         "t": 60
        },
        "template": {
         "data": {
          "bar": [
           {
            "error_x": {
             "color": "#2a3f5f"
            },
            "error_y": {
             "color": "#2a3f5f"
            },
            "marker": {
             "line": {
              "color": "#E5ECF6",
              "width": 0.5
             }
            },
            "type": "bar"
           }
          ],
          "barpolar": [
           {
            "marker": {
             "line": {
              "color": "#E5ECF6",
              "width": 0.5
             }
            },
            "type": "barpolar"
           }
          ],
          "carpet": [
           {
            "aaxis": {
             "endlinecolor": "#2a3f5f",
             "gridcolor": "white",
             "linecolor": "white",
             "minorgridcolor": "white",
             "startlinecolor": "#2a3f5f"
            },
            "baxis": {
             "endlinecolor": "#2a3f5f",
             "gridcolor": "white",
             "linecolor": "white",
             "minorgridcolor": "white",
             "startlinecolor": "#2a3f5f"
            },
            "type": "carpet"
           }
          ],
          "choropleth": [
           {
            "colorbar": {
             "outlinewidth": 0,
             "ticks": ""
            },
            "type": "choropleth"
           }
          ],
          "contour": [
           {
            "colorbar": {
             "outlinewidth": 0,
             "ticks": ""
            },
            "colorscale": [
             [
              0,
              "#0d0887"
             ],
             [
              0.1111111111111111,
              "#46039f"
             ],
             [
              0.2222222222222222,
              "#7201a8"
             ],
             [
              0.3333333333333333,
              "#9c179e"
             ],
             [
              0.4444444444444444,
              "#bd3786"
             ],
             [
              0.5555555555555556,
              "#d8576b"
             ],
             [
              0.6666666666666666,
              "#ed7953"
             ],
             [
              0.7777777777777778,
              "#fb9f3a"
             ],
             [
              0.8888888888888888,
              "#fdca26"
             ],
             [
              1,
              "#f0f921"
             ]
            ],
            "type": "contour"
           }
          ],
          "contourcarpet": [
           {
            "colorbar": {
             "outlinewidth": 0,
             "ticks": ""
            },
            "type": "contourcarpet"
           }
          ],
          "heatmap": [
           {
            "colorbar": {
             "outlinewidth": 0,
             "ticks": ""
            },
            "colorscale": [
             [
              0,
              "#0d0887"
             ],
             [
              0.1111111111111111,
              "#46039f"
             ],
             [
              0.2222222222222222,
              "#7201a8"
             ],
             [
              0.3333333333333333,
              "#9c179e"
             ],
             [
              0.4444444444444444,
              "#bd3786"
             ],
             [
              0.5555555555555556,
              "#d8576b"
             ],
             [
              0.6666666666666666,
              "#ed7953"
             ],
             [
              0.7777777777777778,
              "#fb9f3a"
             ],
             [
              0.8888888888888888,
              "#fdca26"
             ],
             [
              1,
              "#f0f921"
             ]
            ],
            "type": "heatmap"
           }
          ],
          "heatmapgl": [
           {
            "colorbar": {
             "outlinewidth": 0,
             "ticks": ""
            },
            "colorscale": [
             [
              0,
              "#0d0887"
             ],
             [
              0.1111111111111111,
              "#46039f"
             ],
             [
              0.2222222222222222,
              "#7201a8"
             ],
             [
              0.3333333333333333,
              "#9c179e"
             ],
             [
              0.4444444444444444,
              "#bd3786"
             ],
             [
              0.5555555555555556,
              "#d8576b"
             ],
             [
              0.6666666666666666,
              "#ed7953"
             ],
             [
              0.7777777777777778,
              "#fb9f3a"
             ],
             [
              0.8888888888888888,
              "#fdca26"
             ],
             [
              1,
              "#f0f921"
             ]
            ],
            "type": "heatmapgl"
           }
          ],
          "histogram": [
           {
            "marker": {
             "colorbar": {
              "outlinewidth": 0,
              "ticks": ""
             }
            },
            "type": "histogram"
           }
          ],
          "histogram2d": [
           {
            "colorbar": {
             "outlinewidth": 0,
             "ticks": ""
            },
            "colorscale": [
             [
              0,
              "#0d0887"
             ],
             [
              0.1111111111111111,
              "#46039f"
             ],
             [
              0.2222222222222222,
              "#7201a8"
             ],
             [
              0.3333333333333333,
              "#9c179e"
             ],
             [
              0.4444444444444444,
              "#bd3786"
             ],
             [
              0.5555555555555556,
              "#d8576b"
             ],
             [
              0.6666666666666666,
              "#ed7953"
             ],
             [
              0.7777777777777778,
              "#fb9f3a"
             ],
             [
              0.8888888888888888,
              "#fdca26"
             ],
             [
              1,
              "#f0f921"
             ]
            ],
            "type": "histogram2d"
           }
          ],
          "histogram2dcontour": [
           {
            "colorbar": {
             "outlinewidth": 0,
             "ticks": ""
            },
            "colorscale": [
             [
              0,
              "#0d0887"
             ],
             [
              0.1111111111111111,
              "#46039f"
             ],
             [
              0.2222222222222222,
              "#7201a8"
             ],
             [
              0.3333333333333333,
              "#9c179e"
             ],
             [
              0.4444444444444444,
              "#bd3786"
             ],
             [
              0.5555555555555556,
              "#d8576b"
             ],
             [
              0.6666666666666666,
              "#ed7953"
             ],
             [
              0.7777777777777778,
              "#fb9f3a"
             ],
             [
              0.8888888888888888,
              "#fdca26"
             ],
             [
              1,
              "#f0f921"
             ]
            ],
            "type": "histogram2dcontour"
           }
          ],
          "mesh3d": [
           {
            "colorbar": {
             "outlinewidth": 0,
             "ticks": ""
            },
            "type": "mesh3d"
           }
          ],
          "parcoords": [
           {
            "line": {
             "colorbar": {
              "outlinewidth": 0,
              "ticks": ""
             }
            },
            "type": "parcoords"
           }
          ],
          "scatter": [
           {
            "marker": {
             "colorbar": {
              "outlinewidth": 0,
              "ticks": ""
             }
            },
            "type": "scatter"
           }
          ],
          "scatter3d": [
           {
            "line": {
             "colorbar": {
              "outlinewidth": 0,
              "ticks": ""
             }
            },
            "marker": {
             "colorbar": {
              "outlinewidth": 0,
              "ticks": ""
             }
            },
            "type": "scatter3d"
           }
          ],
          "scattercarpet": [
           {
            "marker": {
             "colorbar": {
              "outlinewidth": 0,
              "ticks": ""
             }
            },
            "type": "scattercarpet"
           }
          ],
          "scattergeo": [
           {
            "marker": {
             "colorbar": {
              "outlinewidth": 0,
              "ticks": ""
             }
            },
            "type": "scattergeo"
           }
          ],
          "scattergl": [
           {
            "marker": {
             "colorbar": {
              "outlinewidth": 0,
              "ticks": ""
             }
            },
            "type": "scattergl"
           }
          ],
          "scattermapbox": [
           {
            "marker": {
             "colorbar": {
              "outlinewidth": 0,
              "ticks": ""
             }
            },
            "type": "scattermapbox"
           }
          ],
          "scatterpolar": [
           {
            "marker": {
             "colorbar": {
              "outlinewidth": 0,
              "ticks": ""
             }
            },
            "type": "scatterpolar"
           }
          ],
          "scatterpolargl": [
           {
            "marker": {
             "colorbar": {
              "outlinewidth": 0,
              "ticks": ""
             }
            },
            "type": "scatterpolargl"
           }
          ],
          "scatterternary": [
           {
            "marker": {
             "colorbar": {
              "outlinewidth": 0,
              "ticks": ""
             }
            },
            "type": "scatterternary"
           }
          ],
          "surface": [
           {
            "colorbar": {
             "outlinewidth": 0,
             "ticks": ""
            },
            "colorscale": [
             [
              0,
              "#0d0887"
             ],
             [
              0.1111111111111111,
              "#46039f"
             ],
             [
              0.2222222222222222,
              "#7201a8"
             ],
             [
              0.3333333333333333,
              "#9c179e"
             ],
             [
              0.4444444444444444,
              "#bd3786"
             ],
             [
              0.5555555555555556,
              "#d8576b"
             ],
             [
              0.6666666666666666,
              "#ed7953"
             ],
             [
              0.7777777777777778,
              "#fb9f3a"
             ],
             [
              0.8888888888888888,
              "#fdca26"
             ],
             [
              1,
              "#f0f921"
             ]
            ],
            "type": "surface"
           }
          ],
          "table": [
           {
            "cells": {
             "fill": {
              "color": "#EBF0F8"
             },
             "line": {
              "color": "white"
             }
            },
            "header": {
             "fill": {
              "color": "#C8D4E3"
             },
             "line": {
              "color": "white"
             }
            },
            "type": "table"
           }
          ]
         },
         "layout": {
          "annotationdefaults": {
           "arrowcolor": "#2a3f5f",
           "arrowhead": 0,
           "arrowwidth": 1
          },
          "colorscale": {
           "diverging": [
            [
             0,
             "#8e0152"
            ],
            [
             0.1,
             "#c51b7d"
            ],
            [
             0.2,
             "#de77ae"
            ],
            [
             0.3,
             "#f1b6da"
            ],
            [
             0.4,
             "#fde0ef"
            ],
            [
             0.5,
             "#f7f7f7"
            ],
            [
             0.6,
             "#e6f5d0"
            ],
            [
             0.7,
             "#b8e186"
            ],
            [
             0.8,
             "#7fbc41"
            ],
            [
             0.9,
             "#4d9221"
            ],
            [
             1,
             "#276419"
            ]
           ],
           "sequential": [
            [
             0,
             "#0d0887"
            ],
            [
             0.1111111111111111,
             "#46039f"
            ],
            [
             0.2222222222222222,
             "#7201a8"
            ],
            [
             0.3333333333333333,
             "#9c179e"
            ],
            [
             0.4444444444444444,
             "#bd3786"
            ],
            [
             0.5555555555555556,
             "#d8576b"
            ],
            [
             0.6666666666666666,
             "#ed7953"
            ],
            [
             0.7777777777777778,
             "#fb9f3a"
            ],
            [
             0.8888888888888888,
             "#fdca26"
            ],
            [
             1,
             "#f0f921"
            ]
           ],
           "sequentialminus": [
            [
             0,
             "#0d0887"
            ],
            [
             0.1111111111111111,
             "#46039f"
            ],
            [
             0.2222222222222222,
             "#7201a8"
            ],
            [
             0.3333333333333333,
             "#9c179e"
            ],
            [
             0.4444444444444444,
             "#bd3786"
            ],
            [
             0.5555555555555556,
             "#d8576b"
            ],
            [
             0.6666666666666666,
             "#ed7953"
            ],
            [
             0.7777777777777778,
             "#fb9f3a"
            ],
            [
             0.8888888888888888,
             "#fdca26"
            ],
            [
             1,
             "#f0f921"
            ]
           ]
          },
          "colorway": [
           "#636efa",
           "#EF553B",
           "#00cc96",
           "#ab63fa",
           "#FFA15A",
           "#19d3f3",
           "#FF6692",
           "#B6E880",
           "#FF97FF",
           "#FECB52"
          ],
          "font": {
           "color": "#2a3f5f"
          },
          "geo": {
           "bgcolor": "white",
           "lakecolor": "white",
           "landcolor": "#E5ECF6",
           "showlakes": true,
           "showland": true,
           "subunitcolor": "white"
          },
          "hoverlabel": {
           "align": "left"
          },
          "hovermode": "closest",
          "mapbox": {
           "style": "light"
          },
          "paper_bgcolor": "white",
          "plot_bgcolor": "#E5ECF6",
          "polar": {
           "angularaxis": {
            "gridcolor": "white",
            "linecolor": "white",
            "ticks": ""
           },
           "bgcolor": "#E5ECF6",
           "radialaxis": {
            "gridcolor": "white",
            "linecolor": "white",
            "ticks": ""
           }
          },
          "scene": {
           "xaxis": {
            "backgroundcolor": "#E5ECF6",
            "gridcolor": "white",
            "gridwidth": 2,
            "linecolor": "white",
            "showbackground": true,
            "ticks": "",
            "zerolinecolor": "white"
           },
           "yaxis": {
            "backgroundcolor": "#E5ECF6",
            "gridcolor": "white",
            "gridwidth": 2,
            "linecolor": "white",
            "showbackground": true,
            "ticks": "",
            "zerolinecolor": "white"
           },
           "zaxis": {
            "backgroundcolor": "#E5ECF6",
            "gridcolor": "white",
            "gridwidth": 2,
            "linecolor": "white",
            "showbackground": true,
            "ticks": "",
            "zerolinecolor": "white"
           }
          },
          "shapedefaults": {
           "line": {
            "color": "#2a3f5f"
           }
          },
          "ternary": {
           "aaxis": {
            "gridcolor": "white",
            "linecolor": "white",
            "ticks": ""
           },
           "baxis": {
            "gridcolor": "white",
            "linecolor": "white",
            "ticks": ""
           },
           "bgcolor": "#E5ECF6",
           "caxis": {
            "gridcolor": "white",
            "linecolor": "white",
            "ticks": ""
           }
          },
          "title": {
           "x": 0.05
          },
          "xaxis": {
           "automargin": true,
           "gridcolor": "white",
           "linecolor": "white",
           "ticks": "",
           "zerolinecolor": "white",
           "zerolinewidth": 2
          },
          "yaxis": {
           "automargin": true,
           "gridcolor": "white",
           "linecolor": "white",
           "ticks": "",
           "zerolinecolor": "white",
           "zerolinewidth": 2
          }
         }
        },
        "xaxis": {
         "anchor": "y",
         "domain": [
          0,
          0.98
         ],
         "title": {
          "text": "x"
         }
        },
        "yaxis": {
         "anchor": "x",
         "domain": [
          0,
          1
         ],
         "title": {
          "text": "count"
         }
        }
       }
      },
      "text/html": [
       "<div>\n",
       "        \n",
       "        \n",
       "            <div id=\"f924b655-52c4-4c4f-9374-9f7050cbc579\" class=\"plotly-graph-div\" style=\"height:600px; width:100%;\"></div>\n",
       "            <script type=\"text/javascript\">\n",
       "                require([\"plotly\"], function(Plotly) {\n",
       "                    window.PLOTLYENV=window.PLOTLYENV || {};\n",
       "                    \n",
       "                if (document.getElementById(\"f924b655-52c4-4c4f-9374-9f7050cbc579\")) {\n",
       "                    Plotly.newPlot(\n",
       "                        'f924b655-52c4-4c4f-9374-9f7050cbc579',\n",
       "                        [{\"alignmentgroup\": \"True\", \"bingroup\": \"x\", \"hoverlabel\": {\"namelength\": 0}, \"hovertemplate\": \"x=%{x}<br>count=%{y}\", \"legendgroup\": \"\", \"marker\": {\"color\": \"#636efa\"}, \"name\": \"\", \"offsetgroup\": \"\", \"orientation\": \"v\", \"showlegend\": false, \"type\": \"histogram\", \"x\": [\"Service and Parts\", \"Service and Parts\", \"Service and Parts\", \"Service and Parts\", \"Service and Parts\", \"Product\", \"Service and Parts\", \"Product\", \"Service and Parts\", \"Service and Parts\", \"Product\", \"Product\", \"Service and Parts\", \"Service and Parts\", \"Service and Parts\", \"Product\", \"Service and Parts\", \"Product\", \"Product\", \"Service and Parts\", \"Service and Parts\", \"Service and Parts\", \"Service and Parts\", \"Service and Parts\", \"Sales\", \"Product\", \"Product\", \"Service and Parts\", \"Product\", \"Product\", \"Service and Parts\", \"Product\", \"Service and Parts\", \"Sales\", \"Product\", \"Product\", \"Service and Parts\", \"Service and Parts\", \"Service and Parts\", \"Product\", \"Service and Parts\", \"Product\", \"Service and Parts\", \"Service and Parts\", \"Service and Parts\", \"Product\", \"Service and Parts\", \"Service and Parts\", \"Service and Parts\", \"Sales\", \"Product\", \"Service and Parts\", \"Product\", \"Product\", \"Service and Parts\", \"Service and Parts\", \"Service and Parts\", \"Product\", \"Service and Parts\", \"Product\", \"Product\", \"Service and Parts\", \"Service and Parts\", \"Service and Parts\", \"Service and Parts\", \"Service and Parts\", \"Service and Parts\", \"Service and Parts\", \"Service and Parts\", \"Service and Parts\", \"Service and Parts\", \"Service and Parts\", \"Service and Parts\", \"Service and Parts\", \"Sales\", \"Sales\", \"Service and Parts\", \"Product\", \"Product\", \"Sales\", \"Service and Parts\", \"Product\", \"Service and Parts\", \"Service and Parts\", \"Service and Parts\", \"Service and Parts\", \"Product\", \"Service and Parts\", \"Service and Parts\", \"Service and Parts\", \"Service and Parts\", \"Service and Parts\", \"Service and Parts\", \"Service and Parts\", \"Service and Parts\", \"Service and Parts\", \"Service and Parts\", \"Service and Parts\", \"Sales\", \"Service and Parts\", \"Service and Parts\", \"Service and Parts\", \"Sales\", \"Product\", \"Service and Parts\", \"Service and Parts\", \"Product\", \"Service and Parts\", \"Service and Parts\", \"Service and Parts\", \"Service and Parts\", \"Service and Parts\", \"Product\", \"Product\", \"Service and Parts\", \"Service and Parts\", \"Service and Parts\", \"Service and Parts\", \"Product\", \"Service and Parts\", \"Service and Parts\", \"Service and Parts\", \"Product\", \"Product\", \"Product\", \"Service and Parts\", \"Service and Parts\", \"Service and Parts\", \"Service and Parts\", \"Service and Parts\", \"Service and Parts\", \"Service and Parts\", \"Service and Parts\", \"Service and Parts\", \"Service and Parts\", \"Service and Parts\", \"Service and Parts\", \"Product\", \"Service and Parts\", \"Service and Parts\", \"Service and Parts\", \"Service and Parts\", \"Sales\", \"Service and Parts\", \"Service and Parts\", \"Product\", \"Service and Parts\", \"Service and Parts\", \"Service and Parts\", \"Service and Parts\", \"Product\", \"Service and Parts\", \"Service and Parts\", \"Service and Parts\", \"Service and Parts\", \"Product\", \"Service and Parts\", \"Product\", \"Service and Parts\", \"Service and Parts\", \"Service and Parts\", \"Service and Parts\", \"Service and Parts\", \"Service and Parts\", \"Service and Parts\", \"Service and Parts\", \"Service and Parts\", \"Product\", \"Service and Parts\", \"Service and Parts\", \"Service and Parts\", \"Service and Parts\", \"Product\", \"Service and Parts\", \"Service and Parts\", \"Service and Parts\", \"Service and Parts\", \"Service and Parts\", \"Service and Parts\", \"Service and Parts\", \"Sales\", \"Sales\", \"Service and Parts\", \"Service and Parts\", \"Service and Parts\", \"Service and Parts\", \"Service and Parts\", \"Product\", \"Product\", \"Product\", \"Service and Parts\", \"Service and Parts\", \"Service and Parts\", \"Service and Parts\", \"Sales\", \"Sales\", \"Service and Parts\", \"Service and Parts\", \"Service and Parts\", \"Service and Parts\", \"Service and Parts\", \"Service and Parts\", \"Service and Parts\", \"Product\", \"Service and Parts\", \"Product\", \"Sales\", \"Service and Parts\", \"Service and Parts\", \"Sales\", \"Product\", \"Service and Parts\", \"Product\", \"Service and Parts\", \"Service and Parts\", \"Service and Parts\", \"Service and Parts\", \"Service and Parts\", \"Service and Parts\", \"Service and Parts\", \"Service and Parts\", \"Service and Parts\", \"Service and Parts\", \"Sales\", \"Service and Parts\", \"Service and Parts\", \"Sales\", \"Product\", \"Service and Parts\", \"Service and Parts\", \"Product\", \"Product\", \"Product\", \"Service and Parts\", \"Service and Parts\", \"Service and Parts\", \"Service and Parts\", \"Service and Parts\", \"Service and Parts\", \"Service and Parts\", \"Product\", \"Sales\", \"Product\", \"Product\", \"Product\", \"Service and Parts\", \"Service and Parts\", \"Service and Parts\", \"Product\", \"Product\", \"Service and Parts\", \"Service and Parts\", \"Service and Parts\", \"Service and Parts\", \"Product\", \"Service and Parts\", \"Sales\", \"Service and Parts\", \"Sales\", \"Service and Parts\", \"Service and Parts\", \"Product\", \"Service and Parts\", \"Service and Parts\", \"Service and Parts\", \"Service and Parts\", \"Service and Parts\", \"Service and Parts\", \"Service and Parts\", \"Service and Parts\", \"Service and Parts\", \"Service and Parts\", \"Service and Parts\", \"Product\", \"Service and Parts\", \"Service and Parts\", \"Product\", \"Service and Parts\", \"Service and Parts\", \"Product\", \"Service and Parts\", \"Product\", \"Service and Parts\", \"Service and Parts\", \"Service and Parts\", \"Service and Parts\", \"Product\", \"Service and Parts\", \"Service and Parts\", \"Service and Parts\", \"Service and Parts\", \"Service and Parts\", \"Service and Parts\", \"Service and Parts\", \"Sales\", \"Product\", \"Service and Parts\", \"Service and Parts\", \"Service and Parts\", \"Service and Parts\", \"Service and Parts\", \"Service and Parts\", \"Service and Parts\", \"Product\", \"Service and Parts\", \"Service and Parts\", \"Service and Parts\", \"Product\", \"Sales\", \"Product\", \"Service and Parts\", \"Sales\", \"Service and Parts\", \"Sales\", \"Service and Parts\", \"Product\", \"Product\", \"Sales\", \"Service and Parts\", \"Service and Parts\", \"Service and Parts\", \"Sales\", \"Service and Parts\", \"Service and Parts\", \"Service and Parts\", \"Product\", \"Service and Parts\", \"Service and Parts\", \"Service and Parts\", \"Service and Parts\", \"Service and Parts\", \"Service and Parts\", \"Service and Parts\", \"Product\", \"Service and Parts\", \"Product\", \"Product\", \"Service and Parts\", \"Product\", \"Product\", \"Service and Parts\", \"Product\", \"Product\", \"Product\", \"Service and Parts\", \"Service and Parts\", \"Service and Parts\", \"Service and Parts\", \"Product\", \"Sales\", \"Service and Parts\", \"Product\", \"Product\", \"Service and Parts\", \"Service and Parts\", \"Product\", \"Product\", \"Service and Parts\", \"Service and Parts\", \"Product\", \"Service and Parts\", \"Service and Parts\", \"Service and Parts\", \"Service and Parts\", \"Service and Parts\", \"Service and Parts\", \"Service and Parts\", \"Sales\", \"Service and Parts\", \"Product\", \"Product\", \"Service and Parts\", \"Service and Parts\", \"Product\", \"Service and Parts\", \"Service and Parts\", \"Service and Parts\", \"Service and Parts\", \"Product\", \"Service and Parts\", \"Service and Parts\", \"Service and Parts\", \"Service and Parts\", \"Service and Parts\", \"Product\", \"Service and Parts\", \"Service and Parts\", \"Service and Parts\", \"Service and Parts\", \"Product\", \"Service and Parts\", \"Service and Parts\", \"Service and Parts\", \"Service and Parts\", \"Service and Parts\", \"Service and Parts\", \"Product\", \"Sales\", \"Service and Parts\", \"Service and Parts\", \"Product\", \"Product\", \"Service and Parts\", \"Service and Parts\", \"Product\", \"Product\", \"Sales\", \"Service and Parts\", \"Sales\", \"Service and Parts\", \"Service and Parts\", \"Product\", \"Service and Parts\", \"Sales\", \"Service and Parts\", \"Service and Parts\", \"Service and Parts\", \"Service and Parts\", \"Service and Parts\", \"Sales\", \"Product\", \"Service and Parts\", \"Service and Parts\", \"Service and Parts\", \"Product\", \"Product\", \"Service and Parts\", \"Service and Parts\", \"Service and Parts\", \"Service and Parts\", \"Service and Parts\", \"Service and Parts\", \"Service and Parts\", \"Product\", \"Service and Parts\", \"Service and Parts\", \"Service and Parts\", \"Service and Parts\", \"Service and Parts\", \"Service and Parts\", \"Service and Parts\", \"Product\", \"Service and Parts\", \"Service and Parts\", \"Service and Parts\", \"Service and Parts\", \"Service and Parts\", \"Service and Parts\", \"Service and Parts\", \"Product\", \"Service and Parts\", \"Service and Parts\", \"Service and Parts\", \"Service and Parts\", \"Service and Parts\", \"Product\", \"Service and Parts\", \"Service and Parts\", \"Service and Parts\", \"Service and Parts\", \"Product\", \"Product\", \"Service and Parts\", \"Product\", \"Product\", \"Service and Parts\", \"Service and Parts\", \"Service and Parts\", \"Service and Parts\", \"Service and Parts\", \"Product\", \"Service and Parts\", \"Product\", \"Product\", \"Service and Parts\", \"Service and Parts\", \"Product\", \"Service and Parts\", \"Service and Parts\", \"Service and Parts\", \"Service and Parts\", \"Product\", \"Service and Parts\", \"Service and Parts\", \"Sales\", \"Service and Parts\", \"Service and Parts\", \"Product\", \"Service and Parts\", \"Product\", \"Product\", \"Service and Parts\", \"Sales\", \"Service and Parts\", \"Product\", \"Product\", \"Service and Parts\", \"Service and Parts\", \"Service and Parts\", \"Service and Parts\", \"Service and Parts\", \"Service and Parts\", \"Service and Parts\", \"Service and Parts\", \"Product\", \"Service and Parts\", \"Service and Parts\", \"Service and Parts\", \"Service and Parts\", \"Product\", \"Product\", \"Service and Parts\", \"Service and Parts\", \"Service and Parts\", \"Service and Parts\", \"Service and Parts\", \"Service and Parts\", \"Service and Parts\", \"Service and Parts\", \"Service and Parts\", \"Product\", \"Service and Parts\", \"Sales\", \"Sales\", \"Sales\", \"Service and Parts\", \"Service and Parts\", \"Product\", \"Service and Parts\", \"Service and Parts\", \"Product\", \"Service and Parts\", \"Product\", \"Product\", \"Service and Parts\", \"Product\", \"Product\", \"Service and Parts\", \"Service and Parts\", \"Product\", \"Service and Parts\", \"Service and Parts\", \"Product\", \"Service and Parts\", \"Service and Parts\", \"Service and Parts\", \"Service and Parts\", \"Service and Parts\", \"Service and Parts\", \"Service and Parts\", \"Service and Parts\", \"Service and Parts\", \"Service and Parts\", \"Product\", \"Service and Parts\", \"Service and Parts\", \"Service and Parts\", \"Product\", \"Product\", \"Service and Parts\", \"Service and Parts\", \"Service and Parts\", \"Product\", \"Product\", \"Service and Parts\", \"Service and Parts\", \"Service and Parts\", \"Service and Parts\", \"Service and Parts\", \"Product\", \"Service and Parts\", \"Sales\", \"Service and Parts\", \"Product\", \"Service and Parts\", \"Service and Parts\", \"Service and Parts\", \"Service and Parts\", \"Service and Parts\", \"Product\", \"Service and Parts\", \"Product\", \"Service and Parts\", \"Sales\", \"Service and Parts\", \"Service and Parts\", \"Service and Parts\", \"Service and Parts\", \"Product\", \"Service and Parts\", \"Service and Parts\", \"Service and Parts\", \"Service and Parts\", \"Service and Parts\", \"Service and Parts\", \"Product\", \"Product\", \"Service and Parts\", \"Service and Parts\", \"Sales\", \"Service and Parts\", \"Service and Parts\", \"Service and Parts\", \"Service and Parts\", \"Service and Parts\", \"Service and Parts\", \"Service and Parts\", \"Service and Parts\", \"Service and Parts\", \"Product\", \"Service and Parts\", \"Sales\", \"Product\", \"Service and Parts\", \"Service and Parts\", \"Product\", \"Service and Parts\", \"Service and Parts\", \"Service and Parts\", \"Service and Parts\", \"Product\", \"Service and Parts\", \"Service and Parts\", \"Service and Parts\", \"Service and Parts\", \"Service and Parts\", \"Service and Parts\", \"Service and Parts\", \"Service and Parts\", \"Service and Parts\", \"Service and Parts\", \"Service and Parts\", \"Service and Parts\", \"Service and Parts\", \"Product\", \"Sales\", \"Service and Parts\", \"Service and Parts\", \"Service and Parts\", \"Service and Parts\", \"Service and Parts\", \"Sales\", \"Sales\", \"Service and Parts\", \"Service and Parts\", \"Service and Parts\", \"Product\", \"Product\", \"Service and Parts\", \"Service and Parts\", \"Service and Parts\", \"Product\", \"Product\", \"Product\", \"Service and Parts\", \"Service and Parts\", \"Service and Parts\", \"Service and Parts\", \"Service and Parts\", \"Service and Parts\", \"Service and Parts\", \"Service and Parts\", \"Service and Parts\", \"Product\", \"Product\", \"Service and Parts\", \"Service and Parts\", \"Service and Parts\", \"Product\", \"Service and Parts\", \"Service and Parts\", \"Service and Parts\", \"Service and Parts\", \"Service and Parts\", \"Service and Parts\", \"Product\", \"Service and Parts\", \"Service and Parts\", \"Sales\", \"Service and Parts\", \"Service and Parts\", \"Service and Parts\", \"Service and Parts\", \"Service and Parts\", \"Service and Parts\", \"Product\", \"Service and Parts\", \"Service and Parts\", \"Service and Parts\", \"Service and Parts\", \"Service and Parts\", \"Service and Parts\", \"Service and Parts\", \"Service and Parts\", \"Sales\", \"Product\", \"Service and Parts\", \"Service and Parts\", \"Service and Parts\", \"Service and Parts\", \"Service and Parts\", \"Service and Parts\", \"Service and Parts\", \"Service and Parts\", \"Service and Parts\", \"Service and Parts\", \"Service and Parts\", \"Service and Parts\", \"Sales\", \"Sales\", \"Service and Parts\", \"Service and Parts\", \"Service and Parts\", \"Service and Parts\", \"Service and Parts\", \"Service and Parts\", \"Sales\", \"Product\", \"Service and Parts\", \"Product\", \"Service and Parts\", \"Service and Parts\", \"Service and Parts\", \"Service and Parts\", \"Product\", \"Service and Parts\", \"Service and Parts\", \"Product\", \"Service and Parts\", \"Service and Parts\", \"Service and Parts\", \"Service and Parts\", \"Service and Parts\", \"Product\", \"Service and Parts\", \"Service and Parts\", \"Service and Parts\", \"Service and Parts\", \"Service and Parts\", \"Service and Parts\", \"Service and Parts\", \"Service and Parts\", \"Service and Parts\", \"Service and Parts\", \"Service and Parts\", \"Service and Parts\", \"Service and Parts\", \"Service and Parts\", \"Service and Parts\", \"Service and Parts\", \"Service and Parts\", \"Service and Parts\", \"Service and Parts\", \"Service and Parts\", \"Service and Parts\", \"Sales\", \"Service and Parts\", \"Service and Parts\", \"Service and Parts\", \"Service and Parts\", \"Service and Parts\", \"Service and Parts\", \"Service and Parts\", \"Service and Parts\", \"Product\", \"Service and Parts\", \"Service and Parts\", \"Service and Parts\", \"Service and Parts\", \"Product\", \"Sales\", \"Service and Parts\", \"Service and Parts\", \"Service and Parts\", \"Service and Parts\", \"Service and Parts\", \"Service and Parts\", \"Service and Parts\", \"Service and Parts\", \"Service and Parts\", \"Service and Parts\", \"Service and Parts\", \"Sales\", \"Service and Parts\"], \"xaxis\": \"x\", \"yaxis\": \"y\"}],\n",
       "                        {\"barmode\": \"relative\", \"height\": 600, \"legend\": {\"tracegroupgap\": 0}, \"margin\": {\"t\": 60}, \"template\": {\"data\": {\"bar\": [{\"error_x\": {\"color\": \"#2a3f5f\"}, \"error_y\": {\"color\": \"#2a3f5f\"}, \"marker\": {\"line\": {\"color\": \"#E5ECF6\", \"width\": 0.5}}, \"type\": \"bar\"}], \"barpolar\": [{\"marker\": {\"line\": {\"color\": \"#E5ECF6\", \"width\": 0.5}}, \"type\": \"barpolar\"}], \"carpet\": [{\"aaxis\": {\"endlinecolor\": \"#2a3f5f\", \"gridcolor\": \"white\", \"linecolor\": \"white\", \"minorgridcolor\": \"white\", \"startlinecolor\": \"#2a3f5f\"}, \"baxis\": {\"endlinecolor\": \"#2a3f5f\", \"gridcolor\": \"white\", \"linecolor\": \"white\", \"minorgridcolor\": \"white\", \"startlinecolor\": \"#2a3f5f\"}, \"type\": \"carpet\"}], \"choropleth\": [{\"colorbar\": {\"outlinewidth\": 0, \"ticks\": \"\"}, \"type\": \"choropleth\"}], \"contour\": [{\"colorbar\": {\"outlinewidth\": 0, \"ticks\": \"\"}, \"colorscale\": [[0.0, \"#0d0887\"], [0.1111111111111111, \"#46039f\"], [0.2222222222222222, \"#7201a8\"], [0.3333333333333333, \"#9c179e\"], [0.4444444444444444, \"#bd3786\"], [0.5555555555555556, \"#d8576b\"], [0.6666666666666666, \"#ed7953\"], [0.7777777777777778, \"#fb9f3a\"], [0.8888888888888888, \"#fdca26\"], [1.0, \"#f0f921\"]], \"type\": \"contour\"}], \"contourcarpet\": [{\"colorbar\": {\"outlinewidth\": 0, \"ticks\": \"\"}, \"type\": \"contourcarpet\"}], \"heatmap\": [{\"colorbar\": {\"outlinewidth\": 0, \"ticks\": \"\"}, \"colorscale\": [[0.0, \"#0d0887\"], [0.1111111111111111, \"#46039f\"], [0.2222222222222222, \"#7201a8\"], [0.3333333333333333, \"#9c179e\"], [0.4444444444444444, \"#bd3786\"], [0.5555555555555556, \"#d8576b\"], [0.6666666666666666, \"#ed7953\"], [0.7777777777777778, \"#fb9f3a\"], [0.8888888888888888, \"#fdca26\"], [1.0, \"#f0f921\"]], \"type\": \"heatmap\"}], \"heatmapgl\": [{\"colorbar\": {\"outlinewidth\": 0, \"ticks\": \"\"}, \"colorscale\": [[0.0, \"#0d0887\"], [0.1111111111111111, \"#46039f\"], [0.2222222222222222, \"#7201a8\"], [0.3333333333333333, \"#9c179e\"], [0.4444444444444444, \"#bd3786\"], [0.5555555555555556, \"#d8576b\"], [0.6666666666666666, \"#ed7953\"], [0.7777777777777778, \"#fb9f3a\"], [0.8888888888888888, \"#fdca26\"], [1.0, \"#f0f921\"]], \"type\": \"heatmapgl\"}], \"histogram\": [{\"marker\": {\"colorbar\": {\"outlinewidth\": 0, \"ticks\": \"\"}}, \"type\": \"histogram\"}], \"histogram2d\": [{\"colorbar\": {\"outlinewidth\": 0, \"ticks\": \"\"}, \"colorscale\": [[0.0, \"#0d0887\"], [0.1111111111111111, \"#46039f\"], [0.2222222222222222, \"#7201a8\"], [0.3333333333333333, \"#9c179e\"], [0.4444444444444444, \"#bd3786\"], [0.5555555555555556, \"#d8576b\"], [0.6666666666666666, \"#ed7953\"], [0.7777777777777778, \"#fb9f3a\"], [0.8888888888888888, \"#fdca26\"], [1.0, \"#f0f921\"]], \"type\": \"histogram2d\"}], \"histogram2dcontour\": [{\"colorbar\": {\"outlinewidth\": 0, \"ticks\": \"\"}, \"colorscale\": [[0.0, \"#0d0887\"], [0.1111111111111111, \"#46039f\"], [0.2222222222222222, \"#7201a8\"], [0.3333333333333333, \"#9c179e\"], [0.4444444444444444, \"#bd3786\"], [0.5555555555555556, \"#d8576b\"], [0.6666666666666666, \"#ed7953\"], [0.7777777777777778, \"#fb9f3a\"], [0.8888888888888888, \"#fdca26\"], [1.0, \"#f0f921\"]], \"type\": \"histogram2dcontour\"}], \"mesh3d\": [{\"colorbar\": {\"outlinewidth\": 0, \"ticks\": \"\"}, \"type\": \"mesh3d\"}], \"parcoords\": [{\"line\": {\"colorbar\": {\"outlinewidth\": 0, \"ticks\": \"\"}}, \"type\": \"parcoords\"}], \"scatter\": [{\"marker\": {\"colorbar\": {\"outlinewidth\": 0, \"ticks\": \"\"}}, \"type\": \"scatter\"}], \"scatter3d\": [{\"line\": {\"colorbar\": {\"outlinewidth\": 0, \"ticks\": \"\"}}, \"marker\": {\"colorbar\": {\"outlinewidth\": 0, \"ticks\": \"\"}}, \"type\": \"scatter3d\"}], \"scattercarpet\": [{\"marker\": {\"colorbar\": {\"outlinewidth\": 0, \"ticks\": \"\"}}, \"type\": \"scattercarpet\"}], \"scattergeo\": [{\"marker\": {\"colorbar\": {\"outlinewidth\": 0, \"ticks\": \"\"}}, \"type\": \"scattergeo\"}], \"scattergl\": [{\"marker\": {\"colorbar\": {\"outlinewidth\": 0, \"ticks\": \"\"}}, \"type\": \"scattergl\"}], \"scattermapbox\": [{\"marker\": {\"colorbar\": {\"outlinewidth\": 0, \"ticks\": \"\"}}, \"type\": \"scattermapbox\"}], \"scatterpolar\": [{\"marker\": {\"colorbar\": {\"outlinewidth\": 0, \"ticks\": \"\"}}, \"type\": \"scatterpolar\"}], \"scatterpolargl\": [{\"marker\": {\"colorbar\": {\"outlinewidth\": 0, \"ticks\": \"\"}}, \"type\": \"scatterpolargl\"}], \"scatterternary\": [{\"marker\": {\"colorbar\": {\"outlinewidth\": 0, \"ticks\": \"\"}}, \"type\": \"scatterternary\"}], \"surface\": [{\"colorbar\": {\"outlinewidth\": 0, \"ticks\": \"\"}, \"colorscale\": [[0.0, \"#0d0887\"], [0.1111111111111111, \"#46039f\"], [0.2222222222222222, \"#7201a8\"], [0.3333333333333333, \"#9c179e\"], [0.4444444444444444, \"#bd3786\"], [0.5555555555555556, \"#d8576b\"], [0.6666666666666666, \"#ed7953\"], [0.7777777777777778, \"#fb9f3a\"], [0.8888888888888888, \"#fdca26\"], [1.0, \"#f0f921\"]], \"type\": \"surface\"}], \"table\": [{\"cells\": {\"fill\": {\"color\": \"#EBF0F8\"}, \"line\": {\"color\": \"white\"}}, \"header\": {\"fill\": {\"color\": \"#C8D4E3\"}, \"line\": {\"color\": \"white\"}}, \"type\": \"table\"}]}, \"layout\": {\"annotationdefaults\": {\"arrowcolor\": \"#2a3f5f\", \"arrowhead\": 0, \"arrowwidth\": 1}, \"colorscale\": {\"diverging\": [[0, \"#8e0152\"], [0.1, \"#c51b7d\"], [0.2, \"#de77ae\"], [0.3, \"#f1b6da\"], [0.4, \"#fde0ef\"], [0.5, \"#f7f7f7\"], [0.6, \"#e6f5d0\"], [0.7, \"#b8e186\"], [0.8, \"#7fbc41\"], [0.9, \"#4d9221\"], [1, \"#276419\"]], \"sequential\": [[0.0, \"#0d0887\"], [0.1111111111111111, \"#46039f\"], [0.2222222222222222, \"#7201a8\"], [0.3333333333333333, \"#9c179e\"], [0.4444444444444444, \"#bd3786\"], [0.5555555555555556, \"#d8576b\"], [0.6666666666666666, \"#ed7953\"], [0.7777777777777778, \"#fb9f3a\"], [0.8888888888888888, \"#fdca26\"], [1.0, \"#f0f921\"]], \"sequentialminus\": [[0.0, \"#0d0887\"], [0.1111111111111111, \"#46039f\"], [0.2222222222222222, \"#7201a8\"], [0.3333333333333333, \"#9c179e\"], [0.4444444444444444, \"#bd3786\"], [0.5555555555555556, \"#d8576b\"], [0.6666666666666666, \"#ed7953\"], [0.7777777777777778, \"#fb9f3a\"], [0.8888888888888888, \"#fdca26\"], [1.0, \"#f0f921\"]]}, \"colorway\": [\"#636efa\", \"#EF553B\", \"#00cc96\", \"#ab63fa\", \"#FFA15A\", \"#19d3f3\", \"#FF6692\", \"#B6E880\", \"#FF97FF\", \"#FECB52\"], \"font\": {\"color\": \"#2a3f5f\"}, \"geo\": {\"bgcolor\": \"white\", \"lakecolor\": \"white\", \"landcolor\": \"#E5ECF6\", \"showlakes\": true, \"showland\": true, \"subunitcolor\": \"white\"}, \"hoverlabel\": {\"align\": \"left\"}, \"hovermode\": \"closest\", \"mapbox\": {\"style\": \"light\"}, \"paper_bgcolor\": \"white\", \"plot_bgcolor\": \"#E5ECF6\", \"polar\": {\"angularaxis\": {\"gridcolor\": \"white\", \"linecolor\": \"white\", \"ticks\": \"\"}, \"bgcolor\": \"#E5ECF6\", \"radialaxis\": {\"gridcolor\": \"white\", \"linecolor\": \"white\", \"ticks\": \"\"}}, \"scene\": {\"xaxis\": {\"backgroundcolor\": \"#E5ECF6\", \"gridcolor\": \"white\", \"gridwidth\": 2, \"linecolor\": \"white\", \"showbackground\": true, \"ticks\": \"\", \"zerolinecolor\": \"white\"}, \"yaxis\": {\"backgroundcolor\": \"#E5ECF6\", \"gridcolor\": \"white\", \"gridwidth\": 2, \"linecolor\": \"white\", \"showbackground\": true, \"ticks\": \"\", \"zerolinecolor\": \"white\"}, \"zaxis\": {\"backgroundcolor\": \"#E5ECF6\", \"gridcolor\": \"white\", \"gridwidth\": 2, \"linecolor\": \"white\", \"showbackground\": true, \"ticks\": \"\", \"zerolinecolor\": \"white\"}}, \"shapedefaults\": {\"line\": {\"color\": \"#2a3f5f\"}}, \"ternary\": {\"aaxis\": {\"gridcolor\": \"white\", \"linecolor\": \"white\", \"ticks\": \"\"}, \"baxis\": {\"gridcolor\": \"white\", \"linecolor\": \"white\", \"ticks\": \"\"}, \"bgcolor\": \"#E5ECF6\", \"caxis\": {\"gridcolor\": \"white\", \"linecolor\": \"white\", \"ticks\": \"\"}}, \"title\": {\"x\": 0.05}, \"xaxis\": {\"automargin\": true, \"gridcolor\": \"white\", \"linecolor\": \"white\", \"ticks\": \"\", \"zerolinecolor\": \"white\", \"zerolinewidth\": 2}, \"yaxis\": {\"automargin\": true, \"gridcolor\": \"white\", \"linecolor\": \"white\", \"ticks\": \"\", \"zerolinecolor\": \"white\", \"zerolinewidth\": 2}}}, \"xaxis\": {\"anchor\": \"y\", \"domain\": [0.0, 0.98], \"title\": {\"text\": \"x\"}}, \"yaxis\": {\"anchor\": \"x\", \"domain\": [0.0, 1.0], \"title\": {\"text\": \"count\"}}},\n",
       "                        {\"responsive\": true}\n",
       "                    ).then(function(){\n",
       "                            \n",
       "var gd = document.getElementById('f924b655-52c4-4c4f-9374-9f7050cbc579');\n",
       "var x = new MutationObserver(function (mutations, observer) {{\n",
       "        var display = window.getComputedStyle(gd).display;\n",
       "        if (!display || display === 'none') {{\n",
       "            console.log([gd, 'removed!']);\n",
       "            Plotly.purge(gd);\n",
       "            observer.disconnect();\n",
       "        }}\n",
       "}});\n",
       "\n",
       "// Listen for the removal of the full notebook cells\n",
       "var notebookContainer = gd.closest('#notebook-container');\n",
       "if (notebookContainer) {{\n",
       "    x.observe(notebookContainer, {childList: true});\n",
       "}}\n",
       "\n",
       "// Listen for the clearing of the current output cell\n",
       "var outputEl = gd.closest('.output');\n",
       "if (outputEl) {{\n",
       "    x.observe(outputEl, {childList: true});\n",
       "}}\n",
       "\n",
       "                        })\n",
       "                };\n",
       "                });\n",
       "            </script>\n",
       "        </div>"
      ]
     },
     "metadata": {},
     "output_type": "display_data"
    }
   ],
   "source": [
    "fig = px.histogram(tips, x=complaint2[\"Area 2\"])\n",
    "fig.show()"
   ]
  },
  {
   "cell_type": "code",
   "execution_count": 206,
   "metadata": {},
   "outputs": [
    {
     "data": {
      "application/vnd.plotly.v1+json": {
       "config": {
        "plotlyServerURL": "https://plot.ly"
       },
       "data": [
        {
         "alignmentgroup": "True",
         "bingroup": "x",
         "hoverlabel": {
          "namelength": 0
         },
         "hovertemplate": "x=%{x}<br>count=%{y}",
         "legendgroup": "",
         "marker": {
          "color": "#636efa"
         },
         "name": "",
         "offsetgroup": "",
         "orientation": "v",
         "showlegend": false,
         "type": "histogram",
         "x": [
          "model1",
          "model1",
          "model6",
          "model1",
          "model2",
          "model1",
          "model1",
          "model3",
          "model1",
          "model6",
          "model2",
          "model3",
          "model11",
          "model5",
          "model1",
          "model1",
          "model1",
          "model1",
          "model8",
          "model1",
          "model1",
          "model3",
          "model4",
          "model4",
          "model6",
          "model1",
          "model1",
          "model3",
          "model1",
          "model1",
          "model3",
          "model1",
          "model1",
          "model3",
          "model1",
          "model3",
          "model3",
          "model3",
          "model3",
          "model1",
          "model3",
          "model1",
          "model1",
          "model3",
          "model1",
          "model3",
          "model1",
          "model11",
          "model1",
          "model1",
          "model1",
          "model1",
          "model6",
          "model3",
          "model1",
          "model1",
          "model6",
          "model1",
          "model11",
          "model1",
          "model2",
          "model1",
          "model3",
          "model3",
          "model1",
          "model1",
          "model1",
          "model1",
          "model3",
          "model1",
          "model1",
          "model1",
          "model1",
          "model11",
          "model4",
          "model4",
          "model2",
          "model1",
          "model1",
          "model1",
          "model1",
          "model6",
          "model1",
          "model1",
          "model1",
          "model3",
          "model1",
          "model1",
          "model1",
          "model3",
          "model1",
          "model1",
          "model1",
          "model4",
          "model1",
          "model1",
          "model1",
          "model3",
          "model1",
          "model1",
          "model2",
          "model1",
          "model12",
          "model1",
          "model3",
          "model1",
          "model1",
          "model6",
          "model1",
          "model2",
          "model1",
          "model1",
          "model1",
          "model1",
          "model1",
          "model1",
          "model3",
          "model1",
          "model1",
          "model3",
          "model3",
          "model1",
          "model2",
          "model4",
          "model1",
          "model1",
          "model1",
          "model3",
          "model6",
          "model1",
          "model3",
          "model1",
          "model4",
          "model1",
          "model1",
          "model1",
          "model1",
          "model1",
          "model1",
          "model3",
          "model1",
          "model2",
          "model3",
          "model1",
          "model2",
          "model3",
          "model4",
          "model1",
          "model1",
          "model3",
          "model3",
          "model1",
          "model3",
          "model1",
          "model3",
          "model3",
          "model1",
          "model1",
          "model1",
          "model3",
          "model4",
          "model1",
          "model1",
          "model1",
          "model3",
          "model1",
          "model1",
          "model1",
          "model1",
          "model1",
          "model1",
          "model1",
          "model1",
          "model1",
          "model1",
          "model6",
          "model6",
          "model3",
          "model4",
          "model1",
          "model3",
          "model12",
          "model11",
          "model1",
          "model1",
          "model1",
          "model2",
          "model2",
          "model3",
          "model1",
          "model1",
          "model3",
          "model4",
          "model11",
          "model3",
          "model4",
          "model1",
          "model1",
          "model1",
          "model1",
          "model1",
          "model1",
          "model1",
          "model1",
          "model1",
          "model1",
          "model2",
          "model1",
          "model1",
          "model1",
          "model1",
          "model1",
          "model1",
          "model1",
          "model6",
          "model1",
          "model3",
          "model1",
          "model3",
          "model2",
          "model1",
          "model1",
          "model1",
          "model1",
          "model3",
          "model1",
          "model1",
          "model4",
          "model1",
          "model1",
          "model1",
          "model3",
          "model1",
          "model1",
          "model1",
          "model2",
          "model2",
          "model3",
          "model1",
          "model3",
          "model3",
          "model3",
          "model1",
          "model3",
          "model1",
          "model1",
          "model1",
          "model3",
          "model4",
          "model1",
          "model3",
          "model1",
          "model1",
          "model3",
          "model1",
          "model1",
          "model3",
          "model1",
          "model1",
          "model1",
          "model1",
          "model5",
          "model3",
          "model1",
          "model1",
          "model2",
          "model1",
          "model3",
          "model3",
          "model3",
          "model1",
          "model3",
          "model1",
          "model1",
          "model1",
          "model4",
          "model2",
          "model1",
          "model4",
          "model3",
          "model1",
          "model3",
          "model1",
          "model3",
          "model4",
          "model1",
          "model3",
          "model6",
          "model1",
          "model1",
          "model1",
          "model1",
          "model3",
          "model1",
          "model1",
          "model1",
          "model1",
          "model1",
          "model1",
          "model1",
          "model1",
          "model11",
          "model1",
          "model3",
          "model3",
          "model1",
          "model3",
          "model1",
          "model4",
          "model12",
          "model3",
          "model1",
          "model1",
          "model3",
          "model1",
          "model6",
          "model4",
          "model3",
          "model6",
          "model1",
          "model3",
          "model4",
          "model2",
          "model12",
          "model1",
          "model3",
          "model1",
          "model3",
          "model3",
          "model3",
          "model1",
          "model1",
          "model6",
          "model1",
          "model1",
          "model1",
          "model4",
          "model1",
          "model12",
          "model1",
          "model1",
          "model12",
          "model1",
          "model3",
          "model1",
          "model1",
          "model1",
          "model1",
          "model3",
          "model1",
          "model1",
          "model4",
          "model2",
          "model3",
          "model6",
          "model3",
          "model1",
          "model1",
          "model1",
          "model1",
          "model1",
          "model12",
          "model4",
          "model1",
          "model1",
          "model1",
          "model1",
          "model7",
          "model1",
          "model4",
          "model4",
          "model3",
          "model1",
          "model1",
          "model1",
          "model6",
          "model1",
          "model1",
          "model6",
          "model3",
          "model4",
          "model1",
          "model1",
          "model1",
          "model2",
          "model3",
          "model11",
          "model1",
          "model4",
          "model2",
          "model1",
          "model1",
          "model3",
          "model1",
          "model11",
          "model4",
          "model1",
          "model12",
          "model1",
          "model12",
          "model1",
          "model1",
          "model3",
          "model3",
          "model1",
          "model1",
          "model1",
          "model1",
          "model1",
          "model4",
          "model4",
          "model1",
          "model4",
          "model1",
          "model1",
          "model4",
          "model4",
          "model3",
          "model3",
          "model1",
          "model1",
          "model12",
          "model1",
          "model3",
          "model6",
          "model1",
          "model3",
          "model1",
          "model3",
          "model1",
          "model4",
          "model1",
          "model3",
          "model2",
          "model1",
          "model3",
          "model3",
          "model1",
          "model3",
          "model1",
          "model2",
          "model1",
          "model1",
          "model1",
          "model1",
          "model1",
          "model4",
          "model1",
          "model1",
          "model1",
          "model1",
          "model3",
          "model1",
          "model11",
          "model1",
          "model1",
          "model1",
          "model3",
          "model1",
          "model1",
          "model6",
          "model1",
          "model1",
          "model6",
          "model12",
          "model4",
          "model1",
          "model1",
          "model3",
          "model1",
          "model6",
          "model1",
          "model3",
          "model1",
          "model1",
          "model1",
          "model1",
          "model1",
          "model1",
          "model3",
          "model1",
          "model3",
          "model3",
          "model4",
          "model7",
          "model4",
          "model1",
          "model1",
          "model1",
          "model3",
          "model1",
          "model3",
          "model1",
          "model1",
          "model1",
          "model1",
          "model1",
          "model3",
          "model1",
          "model7",
          "model3",
          "model3",
          "model1",
          "model1",
          "model4",
          "model1",
          "model2",
          "model1",
          "model3",
          "model1",
          "model1",
          "model6",
          "model3",
          "model1",
          "model3",
          "model1",
          "model4",
          "model1",
          "model4",
          "model3",
          "model6",
          "model1",
          "model7",
          "model3",
          "model7",
          "model2",
          "model1",
          "model3",
          "model1",
          "model2",
          "model1",
          "model4",
          "model3",
          "model3",
          "model1",
          "model3",
          "model3",
          "model1",
          "model12",
          "model3",
          "model1",
          "model1",
          "model4",
          "model4",
          "model1",
          "model1",
          "model1",
          "model3",
          "model2",
          "model3",
          "model1",
          "model2",
          "model3",
          "model1",
          "model3",
          "model5",
          "model4",
          "model3",
          "model1",
          "model1",
          "model1",
          "model1",
          "model3",
          "model3",
          "model9",
          "model3",
          "model1",
          "model3",
          "model1",
          "model1",
          "model3",
          "model7",
          "model1",
          "model3",
          "model4",
          "model1",
          "model1",
          "model3",
          "model3",
          "model6",
          "model1",
          "model3",
          "model1",
          "model9",
          "model3",
          "model3",
          "model3",
          "model1",
          "model3",
          "model6",
          "model1",
          "model2",
          "model1",
          "model1",
          "model1",
          "model6",
          "model1",
          "model1",
          "model1",
          "model1",
          "model2",
          "model3",
          "model1",
          "model3",
          "model3",
          "model1",
          "model3",
          "model4",
          "model3",
          "model3",
          "model1",
          "model1",
          "model1",
          "model3",
          "model4",
          "model5",
          "model1",
          "model3",
          "model4",
          "model1",
          "model1",
          "model3",
          "model3",
          "model3",
          "model6",
          "model3",
          "model1",
          "model4",
          "model1",
          "model1",
          "model1",
          "model1",
          "model4",
          "model1",
          "model2",
          "model3",
          "model1",
          "model1",
          "model1",
          "model9",
          "model3",
          "model3",
          "model3",
          "model1",
          "model1",
          "model1",
          "model1",
          "model1",
          "model1",
          "model4",
          "model3",
          "model1",
          "model6",
          "model1",
          "model1",
          "model1",
          "model1",
          "model3",
          "model3",
          "model1",
          "model3",
          "model12",
          "model3",
          "model3",
          "model3",
          "model1",
          "model4",
          "model3",
          "model1",
          "model2",
          "model1",
          "model1",
          "model7",
          "model1",
          "model1",
          "model1",
          "model3",
          "model3",
          "model3",
          "model3",
          "model1",
          "model3",
          "model1",
          "model1",
          "model6",
          "model1",
          "model3",
          "model1",
          "model1",
          "model1",
          "model6",
          "model1",
          "model1",
          "model1",
          "model1",
          "model1",
          "model1",
          "model4",
          "model1",
          "model1",
          "model1",
          "model1",
          "model1",
          "model2",
          "model1",
          "model1",
          "model3",
          "model3",
          "model3",
          "model3",
          "model1",
          "model1",
          "model1",
          "model3",
          "model1",
          "model2",
          "model1",
          "model4",
          "model3",
          "model3",
          "model1",
          "model1",
          "model3",
          "model3",
          "model3",
          "model3",
          "model3",
          "model4",
          "model6",
          "model1",
          "model1",
          "model1",
          "model4",
          "model3",
          "model1",
          "model1",
          "model1",
          "model1",
          "model4",
          "model1",
          "model3",
          "model1",
          "model1",
          "model1",
          "model3",
          "model1",
          "model7",
          "model3",
          "model1",
          "model1",
          "model1",
          "model4",
          "model4",
          "model4",
          "model3",
          "model3",
          "model1",
          "model2",
          "model1",
          "model3",
          "model1",
          "model1",
          "model1",
          "model1",
          "model1",
          "model1",
          "model4",
          "model13",
          "model12",
          "model3",
          "model7",
          "model4",
          "model6",
          "model1",
          "model1",
          "model1",
          "model3",
          "model1",
          "model3",
          "model1",
          "model3",
          "model6",
          "model7",
          "model1"
         ],
         "xaxis": "x",
         "yaxis": "y"
        }
       ],
       "layout": {
        "barmode": "relative",
        "height": 600,
        "legend": {
         "tracegroupgap": 0
        },
        "margin": {
         "t": 60
        },
        "template": {
         "data": {
          "bar": [
           {
            "error_x": {
             "color": "#2a3f5f"
            },
            "error_y": {
             "color": "#2a3f5f"
            },
            "marker": {
             "line": {
              "color": "#E5ECF6",
              "width": 0.5
             }
            },
            "type": "bar"
           }
          ],
          "barpolar": [
           {
            "marker": {
             "line": {
              "color": "#E5ECF6",
              "width": 0.5
             }
            },
            "type": "barpolar"
           }
          ],
          "carpet": [
           {
            "aaxis": {
             "endlinecolor": "#2a3f5f",
             "gridcolor": "white",
             "linecolor": "white",
             "minorgridcolor": "white",
             "startlinecolor": "#2a3f5f"
            },
            "baxis": {
             "endlinecolor": "#2a3f5f",
             "gridcolor": "white",
             "linecolor": "white",
             "minorgridcolor": "white",
             "startlinecolor": "#2a3f5f"
            },
            "type": "carpet"
           }
          ],
          "choropleth": [
           {
            "colorbar": {
             "outlinewidth": 0,
             "ticks": ""
            },
            "type": "choropleth"
           }
          ],
          "contour": [
           {
            "colorbar": {
             "outlinewidth": 0,
             "ticks": ""
            },
            "colorscale": [
             [
              0,
              "#0d0887"
             ],
             [
              0.1111111111111111,
              "#46039f"
             ],
             [
              0.2222222222222222,
              "#7201a8"
             ],
             [
              0.3333333333333333,
              "#9c179e"
             ],
             [
              0.4444444444444444,
              "#bd3786"
             ],
             [
              0.5555555555555556,
              "#d8576b"
             ],
             [
              0.6666666666666666,
              "#ed7953"
             ],
             [
              0.7777777777777778,
              "#fb9f3a"
             ],
             [
              0.8888888888888888,
              "#fdca26"
             ],
             [
              1,
              "#f0f921"
             ]
            ],
            "type": "contour"
           }
          ],
          "contourcarpet": [
           {
            "colorbar": {
             "outlinewidth": 0,
             "ticks": ""
            },
            "type": "contourcarpet"
           }
          ],
          "heatmap": [
           {
            "colorbar": {
             "outlinewidth": 0,
             "ticks": ""
            },
            "colorscale": [
             [
              0,
              "#0d0887"
             ],
             [
              0.1111111111111111,
              "#46039f"
             ],
             [
              0.2222222222222222,
              "#7201a8"
             ],
             [
              0.3333333333333333,
              "#9c179e"
             ],
             [
              0.4444444444444444,
              "#bd3786"
             ],
             [
              0.5555555555555556,
              "#d8576b"
             ],
             [
              0.6666666666666666,
              "#ed7953"
             ],
             [
              0.7777777777777778,
              "#fb9f3a"
             ],
             [
              0.8888888888888888,
              "#fdca26"
             ],
             [
              1,
              "#f0f921"
             ]
            ],
            "type": "heatmap"
           }
          ],
          "heatmapgl": [
           {
            "colorbar": {
             "outlinewidth": 0,
             "ticks": ""
            },
            "colorscale": [
             [
              0,
              "#0d0887"
             ],
             [
              0.1111111111111111,
              "#46039f"
             ],
             [
              0.2222222222222222,
              "#7201a8"
             ],
             [
              0.3333333333333333,
              "#9c179e"
             ],
             [
              0.4444444444444444,
              "#bd3786"
             ],
             [
              0.5555555555555556,
              "#d8576b"
             ],
             [
              0.6666666666666666,
              "#ed7953"
             ],
             [
              0.7777777777777778,
              "#fb9f3a"
             ],
             [
              0.8888888888888888,
              "#fdca26"
             ],
             [
              1,
              "#f0f921"
             ]
            ],
            "type": "heatmapgl"
           }
          ],
          "histogram": [
           {
            "marker": {
             "colorbar": {
              "outlinewidth": 0,
              "ticks": ""
             }
            },
            "type": "histogram"
           }
          ],
          "histogram2d": [
           {
            "colorbar": {
             "outlinewidth": 0,
             "ticks": ""
            },
            "colorscale": [
             [
              0,
              "#0d0887"
             ],
             [
              0.1111111111111111,
              "#46039f"
             ],
             [
              0.2222222222222222,
              "#7201a8"
             ],
             [
              0.3333333333333333,
              "#9c179e"
             ],
             [
              0.4444444444444444,
              "#bd3786"
             ],
             [
              0.5555555555555556,
              "#d8576b"
             ],
             [
              0.6666666666666666,
              "#ed7953"
             ],
             [
              0.7777777777777778,
              "#fb9f3a"
             ],
             [
              0.8888888888888888,
              "#fdca26"
             ],
             [
              1,
              "#f0f921"
             ]
            ],
            "type": "histogram2d"
           }
          ],
          "histogram2dcontour": [
           {
            "colorbar": {
             "outlinewidth": 0,
             "ticks": ""
            },
            "colorscale": [
             [
              0,
              "#0d0887"
             ],
             [
              0.1111111111111111,
              "#46039f"
             ],
             [
              0.2222222222222222,
              "#7201a8"
             ],
             [
              0.3333333333333333,
              "#9c179e"
             ],
             [
              0.4444444444444444,
              "#bd3786"
             ],
             [
              0.5555555555555556,
              "#d8576b"
             ],
             [
              0.6666666666666666,
              "#ed7953"
             ],
             [
              0.7777777777777778,
              "#fb9f3a"
             ],
             [
              0.8888888888888888,
              "#fdca26"
             ],
             [
              1,
              "#f0f921"
             ]
            ],
            "type": "histogram2dcontour"
           }
          ],
          "mesh3d": [
           {
            "colorbar": {
             "outlinewidth": 0,
             "ticks": ""
            },
            "type": "mesh3d"
           }
          ],
          "parcoords": [
           {
            "line": {
             "colorbar": {
              "outlinewidth": 0,
              "ticks": ""
             }
            },
            "type": "parcoords"
           }
          ],
          "scatter": [
           {
            "marker": {
             "colorbar": {
              "outlinewidth": 0,
              "ticks": ""
             }
            },
            "type": "scatter"
           }
          ],
          "scatter3d": [
           {
            "line": {
             "colorbar": {
              "outlinewidth": 0,
              "ticks": ""
             }
            },
            "marker": {
             "colorbar": {
              "outlinewidth": 0,
              "ticks": ""
             }
            },
            "type": "scatter3d"
           }
          ],
          "scattercarpet": [
           {
            "marker": {
             "colorbar": {
              "outlinewidth": 0,
              "ticks": ""
             }
            },
            "type": "scattercarpet"
           }
          ],
          "scattergeo": [
           {
            "marker": {
             "colorbar": {
              "outlinewidth": 0,
              "ticks": ""
             }
            },
            "type": "scattergeo"
           }
          ],
          "scattergl": [
           {
            "marker": {
             "colorbar": {
              "outlinewidth": 0,
              "ticks": ""
             }
            },
            "type": "scattergl"
           }
          ],
          "scattermapbox": [
           {
            "marker": {
             "colorbar": {
              "outlinewidth": 0,
              "ticks": ""
             }
            },
            "type": "scattermapbox"
           }
          ],
          "scatterpolar": [
           {
            "marker": {
             "colorbar": {
              "outlinewidth": 0,
              "ticks": ""
             }
            },
            "type": "scatterpolar"
           }
          ],
          "scatterpolargl": [
           {
            "marker": {
             "colorbar": {
              "outlinewidth": 0,
              "ticks": ""
             }
            },
            "type": "scatterpolargl"
           }
          ],
          "scatterternary": [
           {
            "marker": {
             "colorbar": {
              "outlinewidth": 0,
              "ticks": ""
             }
            },
            "type": "scatterternary"
           }
          ],
          "surface": [
           {
            "colorbar": {
             "outlinewidth": 0,
             "ticks": ""
            },
            "colorscale": [
             [
              0,
              "#0d0887"
             ],
             [
              0.1111111111111111,
              "#46039f"
             ],
             [
              0.2222222222222222,
              "#7201a8"
             ],
             [
              0.3333333333333333,
              "#9c179e"
             ],
             [
              0.4444444444444444,
              "#bd3786"
             ],
             [
              0.5555555555555556,
              "#d8576b"
             ],
             [
              0.6666666666666666,
              "#ed7953"
             ],
             [
              0.7777777777777778,
              "#fb9f3a"
             ],
             [
              0.8888888888888888,
              "#fdca26"
             ],
             [
              1,
              "#f0f921"
             ]
            ],
            "type": "surface"
           }
          ],
          "table": [
           {
            "cells": {
             "fill": {
              "color": "#EBF0F8"
             },
             "line": {
              "color": "white"
             }
            },
            "header": {
             "fill": {
              "color": "#C8D4E3"
             },
             "line": {
              "color": "white"
             }
            },
            "type": "table"
           }
          ]
         },
         "layout": {
          "annotationdefaults": {
           "arrowcolor": "#2a3f5f",
           "arrowhead": 0,
           "arrowwidth": 1
          },
          "colorscale": {
           "diverging": [
            [
             0,
             "#8e0152"
            ],
            [
             0.1,
             "#c51b7d"
            ],
            [
             0.2,
             "#de77ae"
            ],
            [
             0.3,
             "#f1b6da"
            ],
            [
             0.4,
             "#fde0ef"
            ],
            [
             0.5,
             "#f7f7f7"
            ],
            [
             0.6,
             "#e6f5d0"
            ],
            [
             0.7,
             "#b8e186"
            ],
            [
             0.8,
             "#7fbc41"
            ],
            [
             0.9,
             "#4d9221"
            ],
            [
             1,
             "#276419"
            ]
           ],
           "sequential": [
            [
             0,
             "#0d0887"
            ],
            [
             0.1111111111111111,
             "#46039f"
            ],
            [
             0.2222222222222222,
             "#7201a8"
            ],
            [
             0.3333333333333333,
             "#9c179e"
            ],
            [
             0.4444444444444444,
             "#bd3786"
            ],
            [
             0.5555555555555556,
             "#d8576b"
            ],
            [
             0.6666666666666666,
             "#ed7953"
            ],
            [
             0.7777777777777778,
             "#fb9f3a"
            ],
            [
             0.8888888888888888,
             "#fdca26"
            ],
            [
             1,
             "#f0f921"
            ]
           ],
           "sequentialminus": [
            [
             0,
             "#0d0887"
            ],
            [
             0.1111111111111111,
             "#46039f"
            ],
            [
             0.2222222222222222,
             "#7201a8"
            ],
            [
             0.3333333333333333,
             "#9c179e"
            ],
            [
             0.4444444444444444,
             "#bd3786"
            ],
            [
             0.5555555555555556,
             "#d8576b"
            ],
            [
             0.6666666666666666,
             "#ed7953"
            ],
            [
             0.7777777777777778,
             "#fb9f3a"
            ],
            [
             0.8888888888888888,
             "#fdca26"
            ],
            [
             1,
             "#f0f921"
            ]
           ]
          },
          "colorway": [
           "#636efa",
           "#EF553B",
           "#00cc96",
           "#ab63fa",
           "#FFA15A",
           "#19d3f3",
           "#FF6692",
           "#B6E880",
           "#FF97FF",
           "#FECB52"
          ],
          "font": {
           "color": "#2a3f5f"
          },
          "geo": {
           "bgcolor": "white",
           "lakecolor": "white",
           "landcolor": "#E5ECF6",
           "showlakes": true,
           "showland": true,
           "subunitcolor": "white"
          },
          "hoverlabel": {
           "align": "left"
          },
          "hovermode": "closest",
          "mapbox": {
           "style": "light"
          },
          "paper_bgcolor": "white",
          "plot_bgcolor": "#E5ECF6",
          "polar": {
           "angularaxis": {
            "gridcolor": "white",
            "linecolor": "white",
            "ticks": ""
           },
           "bgcolor": "#E5ECF6",
           "radialaxis": {
            "gridcolor": "white",
            "linecolor": "white",
            "ticks": ""
           }
          },
          "scene": {
           "xaxis": {
            "backgroundcolor": "#E5ECF6",
            "gridcolor": "white",
            "gridwidth": 2,
            "linecolor": "white",
            "showbackground": true,
            "ticks": "",
            "zerolinecolor": "white"
           },
           "yaxis": {
            "backgroundcolor": "#E5ECF6",
            "gridcolor": "white",
            "gridwidth": 2,
            "linecolor": "white",
            "showbackground": true,
            "ticks": "",
            "zerolinecolor": "white"
           },
           "zaxis": {
            "backgroundcolor": "#E5ECF6",
            "gridcolor": "white",
            "gridwidth": 2,
            "linecolor": "white",
            "showbackground": true,
            "ticks": "",
            "zerolinecolor": "white"
           }
          },
          "shapedefaults": {
           "line": {
            "color": "#2a3f5f"
           }
          },
          "ternary": {
           "aaxis": {
            "gridcolor": "white",
            "linecolor": "white",
            "ticks": ""
           },
           "baxis": {
            "gridcolor": "white",
            "linecolor": "white",
            "ticks": ""
           },
           "bgcolor": "#E5ECF6",
           "caxis": {
            "gridcolor": "white",
            "linecolor": "white",
            "ticks": ""
           }
          },
          "title": {
           "x": 0.05
          },
          "xaxis": {
           "automargin": true,
           "gridcolor": "white",
           "linecolor": "white",
           "ticks": "",
           "zerolinecolor": "white",
           "zerolinewidth": 2
          },
          "yaxis": {
           "automargin": true,
           "gridcolor": "white",
           "linecolor": "white",
           "ticks": "",
           "zerolinecolor": "white",
           "zerolinewidth": 2
          }
         }
        },
        "xaxis": {
         "anchor": "y",
         "domain": [
          0,
          0.98
         ],
         "title": {
          "text": "x"
         }
        },
        "yaxis": {
         "anchor": "x",
         "domain": [
          0,
          1
         ],
         "title": {
          "text": "count"
         }
        }
       }
      },
      "text/html": [
       "<div>\n",
       "        \n",
       "        \n",
       "            <div id=\"09c7c990-d950-4aa0-b3bd-d02f5fdae4e8\" class=\"plotly-graph-div\" style=\"height:600px; width:100%;\"></div>\n",
       "            <script type=\"text/javascript\">\n",
       "                require([\"plotly\"], function(Plotly) {\n",
       "                    window.PLOTLYENV=window.PLOTLYENV || {};\n",
       "                    \n",
       "                if (document.getElementById(\"09c7c990-d950-4aa0-b3bd-d02f5fdae4e8\")) {\n",
       "                    Plotly.newPlot(\n",
       "                        '09c7c990-d950-4aa0-b3bd-d02f5fdae4e8',\n",
       "                        [{\"alignmentgroup\": \"True\", \"bingroup\": \"x\", \"hoverlabel\": {\"namelength\": 0}, \"hovertemplate\": \"x=%{x}<br>count=%{y}\", \"legendgroup\": \"\", \"marker\": {\"color\": \"#636efa\"}, \"name\": \"\", \"offsetgroup\": \"\", \"orientation\": \"v\", \"showlegend\": false, \"type\": \"histogram\", \"x\": [\"model1\", \"model1\", \"model6\", \"model1\", \"model2\", \"model1\", \"model1\", \"model3\", \"model1\", \"model6\", \"model2\", \"model3\", \"model11\", \"model5\", \"model1\", \"model1\", \"model1\", \"model1\", \"model8\", \"model1\", \"model1\", \"model3\", \"model4\", \"model4\", \"model6\", \"model1\", \"model1\", \"model3\", \"model1\", \"model1\", \"model3\", \"model1\", \"model1\", \"model3\", \"model1\", \"model3\", \"model3\", \"model3\", \"model3\", \"model1\", \"model3\", \"model1\", \"model1\", \"model3\", \"model1\", \"model3\", \"model1\", \"model11\", \"model1\", \"model1\", \"model1\", \"model1\", \"model6\", \"model3\", \"model1\", \"model1\", \"model6\", \"model1\", \"model11\", \"model1\", \"model2\", \"model1\", \"model3\", \"model3\", \"model1\", \"model1\", \"model1\", \"model1\", \"model3\", \"model1\", \"model1\", \"model1\", \"model1\", \"model11\", \"model4\", \"model4\", \"model2\", \"model1\", \"model1\", \"model1\", \"model1\", \"model6\", \"model1\", \"model1\", \"model1\", \"model3\", \"model1\", \"model1\", \"model1\", \"model3\", \"model1\", \"model1\", \"model1\", \"model4\", \"model1\", \"model1\", \"model1\", \"model3\", \"model1\", \"model1\", \"model2\", \"model1\", \"model12\", \"model1\", \"model3\", \"model1\", \"model1\", \"model6\", \"model1\", \"model2\", \"model1\", \"model1\", \"model1\", \"model1\", \"model1\", \"model1\", \"model3\", \"model1\", \"model1\", \"model3\", \"model3\", \"model1\", \"model2\", \"model4\", \"model1\", \"model1\", \"model1\", \"model3\", \"model6\", \"model1\", \"model3\", \"model1\", \"model4\", \"model1\", \"model1\", \"model1\", \"model1\", \"model1\", \"model1\", \"model3\", \"model1\", \"model2\", \"model3\", \"model1\", \"model2\", \"model3\", \"model4\", \"model1\", \"model1\", \"model3\", \"model3\", \"model1\", \"model3\", \"model1\", \"model3\", \"model3\", \"model1\", \"model1\", \"model1\", \"model3\", \"model4\", \"model1\", \"model1\", \"model1\", \"model3\", \"model1\", \"model1\", \"model1\", \"model1\", \"model1\", \"model1\", \"model1\", \"model1\", \"model1\", \"model1\", \"model6\", \"model6\", \"model3\", \"model4\", \"model1\", \"model3\", \"model12\", \"model11\", \"model1\", \"model1\", \"model1\", \"model2\", \"model2\", \"model3\", \"model1\", \"model1\", \"model3\", \"model4\", \"model11\", \"model3\", \"model4\", \"model1\", \"model1\", \"model1\", \"model1\", \"model1\", \"model1\", \"model1\", \"model1\", \"model1\", \"model1\", \"model2\", \"model1\", \"model1\", \"model1\", \"model1\", \"model1\", \"model1\", \"model1\", \"model6\", \"model1\", \"model3\", \"model1\", \"model3\", \"model2\", \"model1\", \"model1\", \"model1\", \"model1\", \"model3\", \"model1\", \"model1\", \"model4\", \"model1\", \"model1\", \"model1\", \"model3\", \"model1\", \"model1\", \"model1\", \"model2\", \"model2\", \"model3\", \"model1\", \"model3\", \"model3\", \"model3\", \"model1\", \"model3\", \"model1\", \"model1\", \"model1\", \"model3\", \"model4\", \"model1\", \"model3\", \"model1\", \"model1\", \"model3\", \"model1\", \"model1\", \"model3\", \"model1\", \"model1\", \"model1\", \"model1\", \"model5\", \"model3\", \"model1\", \"model1\", \"model2\", \"model1\", \"model3\", \"model3\", \"model3\", \"model1\", \"model3\", \"model1\", \"model1\", \"model1\", \"model4\", \"model2\", \"model1\", \"model4\", \"model3\", \"model1\", \"model3\", \"model1\", \"model3\", \"model4\", \"model1\", \"model3\", \"model6\", \"model1\", \"model1\", \"model1\", \"model1\", \"model3\", \"model1\", \"model1\", \"model1\", \"model1\", \"model1\", \"model1\", \"model1\", \"model1\", \"model11\", \"model1\", \"model3\", \"model3\", \"model1\", \"model3\", \"model1\", \"model4\", \"model12\", \"model3\", \"model1\", \"model1\", \"model3\", \"model1\", \"model6\", \"model4\", \"model3\", \"model6\", \"model1\", \"model3\", \"model4\", \"model2\", \"model12\", \"model1\", \"model3\", \"model1\", \"model3\", \"model3\", \"model3\", \"model1\", \"model1\", \"model6\", \"model1\", \"model1\", \"model1\", \"model4\", \"model1\", \"model12\", \"model1\", \"model1\", \"model12\", \"model1\", \"model3\", \"model1\", \"model1\", \"model1\", \"model1\", \"model3\", \"model1\", \"model1\", \"model4\", \"model2\", \"model3\", \"model6\", \"model3\", \"model1\", \"model1\", \"model1\", \"model1\", \"model1\", \"model12\", \"model4\", \"model1\", \"model1\", \"model1\", \"model1\", \"model7\", \"model1\", \"model4\", \"model4\", \"model3\", \"model1\", \"model1\", \"model1\", \"model6\", \"model1\", \"model1\", \"model6\", \"model3\", \"model4\", \"model1\", \"model1\", \"model1\", \"model2\", \"model3\", \"model11\", \"model1\", \"model4\", \"model2\", \"model1\", \"model1\", \"model3\", \"model1\", \"model11\", \"model4\", \"model1\", \"model12\", \"model1\", \"model12\", \"model1\", \"model1\", \"model3\", \"model3\", \"model1\", \"model1\", \"model1\", \"model1\", \"model1\", \"model4\", \"model4\", \"model1\", \"model4\", \"model1\", \"model1\", \"model4\", \"model4\", \"model3\", \"model3\", \"model1\", \"model1\", \"model12\", \"model1\", \"model3\", \"model6\", \"model1\", \"model3\", \"model1\", \"model3\", \"model1\", \"model4\", \"model1\", \"model3\", \"model2\", \"model1\", \"model3\", \"model3\", \"model1\", \"model3\", \"model1\", \"model2\", \"model1\", \"model1\", \"model1\", \"model1\", \"model1\", \"model4\", \"model1\", \"model1\", \"model1\", \"model1\", \"model3\", \"model1\", \"model11\", \"model1\", \"model1\", \"model1\", \"model3\", \"model1\", \"model1\", \"model6\", \"model1\", \"model1\", \"model6\", \"model12\", \"model4\", \"model1\", \"model1\", \"model3\", \"model1\", \"model6\", \"model1\", \"model3\", \"model1\", \"model1\", \"model1\", \"model1\", \"model1\", \"model1\", \"model3\", \"model1\", \"model3\", \"model3\", \"model4\", \"model7\", \"model4\", \"model1\", \"model1\", \"model1\", \"model3\", \"model1\", \"model3\", \"model1\", \"model1\", \"model1\", \"model1\", \"model1\", \"model3\", \"model1\", \"model7\", \"model3\", \"model3\", \"model1\", \"model1\", \"model4\", \"model1\", \"model2\", \"model1\", \"model3\", \"model1\", \"model1\", \"model6\", \"model3\", \"model1\", \"model3\", \"model1\", \"model4\", \"model1\", \"model4\", \"model3\", \"model6\", \"model1\", \"model7\", \"model3\", \"model7\", \"model2\", \"model1\", \"model3\", \"model1\", \"model2\", \"model1\", \"model4\", \"model3\", \"model3\", \"model1\", \"model3\", \"model3\", \"model1\", \"model12\", \"model3\", \"model1\", \"model1\", \"model4\", \"model4\", \"model1\", \"model1\", \"model1\", \"model3\", \"model2\", \"model3\", \"model1\", \"model2\", \"model3\", \"model1\", \"model3\", \"model5\", \"model4\", \"model3\", \"model1\", \"model1\", \"model1\", \"model1\", \"model3\", \"model3\", \"model9\", \"model3\", \"model1\", \"model3\", \"model1\", \"model1\", \"model3\", \"model7\", \"model1\", \"model3\", \"model4\", \"model1\", \"model1\", \"model3\", \"model3\", \"model6\", \"model1\", \"model3\", \"model1\", \"model9\", \"model3\", \"model3\", \"model3\", \"model1\", \"model3\", \"model6\", \"model1\", \"model2\", \"model1\", \"model1\", \"model1\", \"model6\", \"model1\", \"model1\", \"model1\", \"model1\", \"model2\", \"model3\", \"model1\", \"model3\", \"model3\", \"model1\", \"model3\", \"model4\", \"model3\", \"model3\", \"model1\", \"model1\", \"model1\", \"model3\", \"model4\", \"model5\", \"model1\", \"model3\", \"model4\", \"model1\", \"model1\", \"model3\", \"model3\", \"model3\", \"model6\", \"model3\", \"model1\", \"model4\", \"model1\", \"model1\", \"model1\", \"model1\", \"model4\", \"model1\", \"model2\", \"model3\", \"model1\", \"model1\", \"model1\", \"model9\", \"model3\", \"model3\", \"model3\", \"model1\", \"model1\", \"model1\", \"model1\", \"model1\", \"model1\", \"model4\", \"model3\", \"model1\", \"model6\", \"model1\", \"model1\", \"model1\", \"model1\", \"model3\", \"model3\", \"model1\", \"model3\", \"model12\", \"model3\", \"model3\", \"model3\", \"model1\", \"model4\", \"model3\", \"model1\", \"model2\", \"model1\", \"model1\", \"model7\", \"model1\", \"model1\", \"model1\", \"model3\", \"model3\", \"model3\", \"model3\", \"model1\", \"model3\", \"model1\", \"model1\", \"model6\", \"model1\", \"model3\", \"model1\", \"model1\", \"model1\", \"model6\", \"model1\", \"model1\", \"model1\", \"model1\", \"model1\", \"model1\", \"model4\", \"model1\", \"model1\", \"model1\", \"model1\", \"model1\", \"model2\", \"model1\", \"model1\", \"model3\", \"model3\", \"model3\", \"model3\", \"model1\", \"model1\", \"model1\", \"model3\", \"model1\", \"model2\", \"model1\", \"model4\", \"model3\", \"model3\", \"model1\", \"model1\", \"model3\", \"model3\", \"model3\", \"model3\", \"model3\", \"model4\", \"model6\", \"model1\", \"model1\", \"model1\", \"model4\", \"model3\", \"model1\", \"model1\", \"model1\", \"model1\", \"model4\", \"model1\", \"model3\", \"model1\", \"model1\", \"model1\", \"model3\", \"model1\", \"model7\", \"model3\", \"model1\", \"model1\", \"model1\", \"model4\", \"model4\", \"model4\", \"model3\", \"model3\", \"model1\", \"model2\", \"model1\", \"model3\", \"model1\", \"model1\", \"model1\", \"model1\", \"model1\", \"model1\", \"model4\", \"model13\", \"model12\", \"model3\", \"model7\", \"model4\", \"model6\", \"model1\", \"model1\", \"model1\", \"model3\", \"model1\", \"model3\", \"model1\", \"model3\", \"model6\", \"model7\", \"model1\"], \"xaxis\": \"x\", \"yaxis\": \"y\"}],\n",
       "                        {\"barmode\": \"relative\", \"height\": 600, \"legend\": {\"tracegroupgap\": 0}, \"margin\": {\"t\": 60}, \"template\": {\"data\": {\"bar\": [{\"error_x\": {\"color\": \"#2a3f5f\"}, \"error_y\": {\"color\": \"#2a3f5f\"}, \"marker\": {\"line\": {\"color\": \"#E5ECF6\", \"width\": 0.5}}, \"type\": \"bar\"}], \"barpolar\": [{\"marker\": {\"line\": {\"color\": \"#E5ECF6\", \"width\": 0.5}}, \"type\": \"barpolar\"}], \"carpet\": [{\"aaxis\": {\"endlinecolor\": \"#2a3f5f\", \"gridcolor\": \"white\", \"linecolor\": \"white\", \"minorgridcolor\": \"white\", \"startlinecolor\": \"#2a3f5f\"}, \"baxis\": {\"endlinecolor\": \"#2a3f5f\", \"gridcolor\": \"white\", \"linecolor\": \"white\", \"minorgridcolor\": \"white\", \"startlinecolor\": \"#2a3f5f\"}, \"type\": \"carpet\"}], \"choropleth\": [{\"colorbar\": {\"outlinewidth\": 0, \"ticks\": \"\"}, \"type\": \"choropleth\"}], \"contour\": [{\"colorbar\": {\"outlinewidth\": 0, \"ticks\": \"\"}, \"colorscale\": [[0.0, \"#0d0887\"], [0.1111111111111111, \"#46039f\"], [0.2222222222222222, \"#7201a8\"], [0.3333333333333333, \"#9c179e\"], [0.4444444444444444, \"#bd3786\"], [0.5555555555555556, \"#d8576b\"], [0.6666666666666666, \"#ed7953\"], [0.7777777777777778, \"#fb9f3a\"], [0.8888888888888888, \"#fdca26\"], [1.0, \"#f0f921\"]], \"type\": \"contour\"}], \"contourcarpet\": [{\"colorbar\": {\"outlinewidth\": 0, \"ticks\": \"\"}, \"type\": \"contourcarpet\"}], \"heatmap\": [{\"colorbar\": {\"outlinewidth\": 0, \"ticks\": \"\"}, \"colorscale\": [[0.0, \"#0d0887\"], [0.1111111111111111, \"#46039f\"], [0.2222222222222222, \"#7201a8\"], [0.3333333333333333, \"#9c179e\"], [0.4444444444444444, \"#bd3786\"], [0.5555555555555556, \"#d8576b\"], [0.6666666666666666, \"#ed7953\"], [0.7777777777777778, \"#fb9f3a\"], [0.8888888888888888, \"#fdca26\"], [1.0, \"#f0f921\"]], \"type\": \"heatmap\"}], \"heatmapgl\": [{\"colorbar\": {\"outlinewidth\": 0, \"ticks\": \"\"}, \"colorscale\": [[0.0, \"#0d0887\"], [0.1111111111111111, \"#46039f\"], [0.2222222222222222, \"#7201a8\"], [0.3333333333333333, \"#9c179e\"], [0.4444444444444444, \"#bd3786\"], [0.5555555555555556, \"#d8576b\"], [0.6666666666666666, \"#ed7953\"], [0.7777777777777778, \"#fb9f3a\"], [0.8888888888888888, \"#fdca26\"], [1.0, \"#f0f921\"]], \"type\": \"heatmapgl\"}], \"histogram\": [{\"marker\": {\"colorbar\": {\"outlinewidth\": 0, \"ticks\": \"\"}}, \"type\": \"histogram\"}], \"histogram2d\": [{\"colorbar\": {\"outlinewidth\": 0, \"ticks\": \"\"}, \"colorscale\": [[0.0, \"#0d0887\"], [0.1111111111111111, \"#46039f\"], [0.2222222222222222, \"#7201a8\"], [0.3333333333333333, \"#9c179e\"], [0.4444444444444444, \"#bd3786\"], [0.5555555555555556, \"#d8576b\"], [0.6666666666666666, \"#ed7953\"], [0.7777777777777778, \"#fb9f3a\"], [0.8888888888888888, \"#fdca26\"], [1.0, \"#f0f921\"]], \"type\": \"histogram2d\"}], \"histogram2dcontour\": [{\"colorbar\": {\"outlinewidth\": 0, \"ticks\": \"\"}, \"colorscale\": [[0.0, \"#0d0887\"], [0.1111111111111111, \"#46039f\"], [0.2222222222222222, \"#7201a8\"], [0.3333333333333333, \"#9c179e\"], [0.4444444444444444, \"#bd3786\"], [0.5555555555555556, \"#d8576b\"], [0.6666666666666666, \"#ed7953\"], [0.7777777777777778, \"#fb9f3a\"], [0.8888888888888888, \"#fdca26\"], [1.0, \"#f0f921\"]], \"type\": \"histogram2dcontour\"}], \"mesh3d\": [{\"colorbar\": {\"outlinewidth\": 0, \"ticks\": \"\"}, \"type\": \"mesh3d\"}], \"parcoords\": [{\"line\": {\"colorbar\": {\"outlinewidth\": 0, \"ticks\": \"\"}}, \"type\": \"parcoords\"}], \"scatter\": [{\"marker\": {\"colorbar\": {\"outlinewidth\": 0, \"ticks\": \"\"}}, \"type\": \"scatter\"}], \"scatter3d\": [{\"line\": {\"colorbar\": {\"outlinewidth\": 0, \"ticks\": \"\"}}, \"marker\": {\"colorbar\": {\"outlinewidth\": 0, \"ticks\": \"\"}}, \"type\": \"scatter3d\"}], \"scattercarpet\": [{\"marker\": {\"colorbar\": {\"outlinewidth\": 0, \"ticks\": \"\"}}, \"type\": \"scattercarpet\"}], \"scattergeo\": [{\"marker\": {\"colorbar\": {\"outlinewidth\": 0, \"ticks\": \"\"}}, \"type\": \"scattergeo\"}], \"scattergl\": [{\"marker\": {\"colorbar\": {\"outlinewidth\": 0, \"ticks\": \"\"}}, \"type\": \"scattergl\"}], \"scattermapbox\": [{\"marker\": {\"colorbar\": {\"outlinewidth\": 0, \"ticks\": \"\"}}, \"type\": \"scattermapbox\"}], \"scatterpolar\": [{\"marker\": {\"colorbar\": {\"outlinewidth\": 0, \"ticks\": \"\"}}, \"type\": \"scatterpolar\"}], \"scatterpolargl\": [{\"marker\": {\"colorbar\": {\"outlinewidth\": 0, \"ticks\": \"\"}}, \"type\": \"scatterpolargl\"}], \"scatterternary\": [{\"marker\": {\"colorbar\": {\"outlinewidth\": 0, \"ticks\": \"\"}}, \"type\": \"scatterternary\"}], \"surface\": [{\"colorbar\": {\"outlinewidth\": 0, \"ticks\": \"\"}, \"colorscale\": [[0.0, \"#0d0887\"], [0.1111111111111111, \"#46039f\"], [0.2222222222222222, \"#7201a8\"], [0.3333333333333333, \"#9c179e\"], [0.4444444444444444, \"#bd3786\"], [0.5555555555555556, \"#d8576b\"], [0.6666666666666666, \"#ed7953\"], [0.7777777777777778, \"#fb9f3a\"], [0.8888888888888888, \"#fdca26\"], [1.0, \"#f0f921\"]], \"type\": \"surface\"}], \"table\": [{\"cells\": {\"fill\": {\"color\": \"#EBF0F8\"}, \"line\": {\"color\": \"white\"}}, \"header\": {\"fill\": {\"color\": \"#C8D4E3\"}, \"line\": {\"color\": \"white\"}}, \"type\": \"table\"}]}, \"layout\": {\"annotationdefaults\": {\"arrowcolor\": \"#2a3f5f\", \"arrowhead\": 0, \"arrowwidth\": 1}, \"colorscale\": {\"diverging\": [[0, \"#8e0152\"], [0.1, \"#c51b7d\"], [0.2, \"#de77ae\"], [0.3, \"#f1b6da\"], [0.4, \"#fde0ef\"], [0.5, \"#f7f7f7\"], [0.6, \"#e6f5d0\"], [0.7, \"#b8e186\"], [0.8, \"#7fbc41\"], [0.9, \"#4d9221\"], [1, \"#276419\"]], \"sequential\": [[0.0, \"#0d0887\"], [0.1111111111111111, \"#46039f\"], [0.2222222222222222, \"#7201a8\"], [0.3333333333333333, \"#9c179e\"], [0.4444444444444444, \"#bd3786\"], [0.5555555555555556, \"#d8576b\"], [0.6666666666666666, \"#ed7953\"], [0.7777777777777778, \"#fb9f3a\"], [0.8888888888888888, \"#fdca26\"], [1.0, \"#f0f921\"]], \"sequentialminus\": [[0.0, \"#0d0887\"], [0.1111111111111111, \"#46039f\"], [0.2222222222222222, \"#7201a8\"], [0.3333333333333333, \"#9c179e\"], [0.4444444444444444, \"#bd3786\"], [0.5555555555555556, \"#d8576b\"], [0.6666666666666666, \"#ed7953\"], [0.7777777777777778, \"#fb9f3a\"], [0.8888888888888888, \"#fdca26\"], [1.0, \"#f0f921\"]]}, \"colorway\": [\"#636efa\", \"#EF553B\", \"#00cc96\", \"#ab63fa\", \"#FFA15A\", \"#19d3f3\", \"#FF6692\", \"#B6E880\", \"#FF97FF\", \"#FECB52\"], \"font\": {\"color\": \"#2a3f5f\"}, \"geo\": {\"bgcolor\": \"white\", \"lakecolor\": \"white\", \"landcolor\": \"#E5ECF6\", \"showlakes\": true, \"showland\": true, \"subunitcolor\": \"white\"}, \"hoverlabel\": {\"align\": \"left\"}, \"hovermode\": \"closest\", \"mapbox\": {\"style\": \"light\"}, \"paper_bgcolor\": \"white\", \"plot_bgcolor\": \"#E5ECF6\", \"polar\": {\"angularaxis\": {\"gridcolor\": \"white\", \"linecolor\": \"white\", \"ticks\": \"\"}, \"bgcolor\": \"#E5ECF6\", \"radialaxis\": {\"gridcolor\": \"white\", \"linecolor\": \"white\", \"ticks\": \"\"}}, \"scene\": {\"xaxis\": {\"backgroundcolor\": \"#E5ECF6\", \"gridcolor\": \"white\", \"gridwidth\": 2, \"linecolor\": \"white\", \"showbackground\": true, \"ticks\": \"\", \"zerolinecolor\": \"white\"}, \"yaxis\": {\"backgroundcolor\": \"#E5ECF6\", \"gridcolor\": \"white\", \"gridwidth\": 2, \"linecolor\": \"white\", \"showbackground\": true, \"ticks\": \"\", \"zerolinecolor\": \"white\"}, \"zaxis\": {\"backgroundcolor\": \"#E5ECF6\", \"gridcolor\": \"white\", \"gridwidth\": 2, \"linecolor\": \"white\", \"showbackground\": true, \"ticks\": \"\", \"zerolinecolor\": \"white\"}}, \"shapedefaults\": {\"line\": {\"color\": \"#2a3f5f\"}}, \"ternary\": {\"aaxis\": {\"gridcolor\": \"white\", \"linecolor\": \"white\", \"ticks\": \"\"}, \"baxis\": {\"gridcolor\": \"white\", \"linecolor\": \"white\", \"ticks\": \"\"}, \"bgcolor\": \"#E5ECF6\", \"caxis\": {\"gridcolor\": \"white\", \"linecolor\": \"white\", \"ticks\": \"\"}}, \"title\": {\"x\": 0.05}, \"xaxis\": {\"automargin\": true, \"gridcolor\": \"white\", \"linecolor\": \"white\", \"ticks\": \"\", \"zerolinecolor\": \"white\", \"zerolinewidth\": 2}, \"yaxis\": {\"automargin\": true, \"gridcolor\": \"white\", \"linecolor\": \"white\", \"ticks\": \"\", \"zerolinecolor\": \"white\", \"zerolinewidth\": 2}}}, \"xaxis\": {\"anchor\": \"y\", \"domain\": [0.0, 0.98], \"title\": {\"text\": \"x\"}}, \"yaxis\": {\"anchor\": \"x\", \"domain\": [0.0, 1.0], \"title\": {\"text\": \"count\"}}},\n",
       "                        {\"responsive\": true}\n",
       "                    ).then(function(){\n",
       "                            \n",
       "var gd = document.getElementById('09c7c990-d950-4aa0-b3bd-d02f5fdae4e8');\n",
       "var x = new MutationObserver(function (mutations, observer) {{\n",
       "        var display = window.getComputedStyle(gd).display;\n",
       "        if (!display || display === 'none') {{\n",
       "            console.log([gd, 'removed!']);\n",
       "            Plotly.purge(gd);\n",
       "            observer.disconnect();\n",
       "        }}\n",
       "}});\n",
       "\n",
       "// Listen for the removal of the full notebook cells\n",
       "var notebookContainer = gd.closest('#notebook-container');\n",
       "if (notebookContainer) {{\n",
       "    x.observe(notebookContainer, {childList: true});\n",
       "}}\n",
       "\n",
       "// Listen for the clearing of the current output cell\n",
       "var outputEl = gd.closest('.output');\n",
       "if (outputEl) {{\n",
       "    x.observe(outputEl, {childList: true});\n",
       "}}\n",
       "\n",
       "                        })\n",
       "                };\n",
       "                });\n",
       "            </script>\n",
       "        </div>"
      ]
     },
     "metadata": {},
     "output_type": "display_data"
    }
   ],
   "source": [
    "fig = px.histogram(tips, x=complaint2[\"Model\"])\n",
    "fig.show()"
   ]
  },
  {
   "cell_type": "code",
   "execution_count": 207,
   "metadata": {},
   "outputs": [
    {
     "data": {
      "text/plain": [
       "<seaborn.axisgrid.FacetGrid at 0x20e2d313828>"
      ]
     },
     "execution_count": 207,
     "metadata": {},
     "output_type": "execute_result"
    },
    {
     "data": {
      "image/png": "[encoded data removed]",
      "text/plain": [
       "<Figure size 360x360 with 1 Axes>"
      ]
     },
     "metadata": {
      "needs_background": "light"
     },
     "output_type": "display_data"
    }
   ],
   "source": [
    "sea.relplot(x='Area 2',y='Model',data = complaint2)"
   ]
  },
  {
   "cell_type": "markdown",
   "metadata": {},
   "source": [
    "### Encoding - complaint 2 (independant variables alone)"
   ]
  },
  {
   "cell_type": "code",
   "execution_count": 208,
   "metadata": {},
   "outputs": [],
   "source": [
    "le.fit(complaint2[['Model']])\n",
    "complaint2['Model'] = le.transform(complaint2[['Model']])"
   ]
  },
  {
   "cell_type": "code",
   "execution_count": 209,
   "metadata": {},
   "outputs": [],
   "source": [
    "le.fit(complaint2[['Complaint Source']])\n",
    "complaint2['Complaint Source'] = le.transform(complaint2[['Complaint Source']])"
   ]
  },
  {
   "cell_type": "code",
   "execution_count": 210,
   "metadata": {},
   "outputs": [],
   "source": [
    "le.fit(complaint2[['Product Component 2']])\n",
    "complaint2['Product Component 2'] = le.transform(complaint2[['Product Component 2']])"
   ]
  },
  {
   "cell_type": "markdown",
   "metadata": {},
   "source": [
    "### Declare Dependant &  Independant Variables "
   ]
  },
  {
   "cell_type": "code",
   "execution_count": 211,
   "metadata": {},
   "outputs": [],
   "source": [
    "x2 = complaint2[['Model','Complaint Source','Product Component 2']]\n",
    "y2 = complaint2[['Area 2']]"
   ]
  },
  {
   "cell_type": "code",
   "execution_count": 212,
   "metadata": {},
   "outputs": [],
   "source": [
    "x2train,x2test,y2train,y2test = train_test_split(x2,y2,test_size=0.3)"
   ]
  },
  {
   "cell_type": "markdown",
   "metadata": {},
   "source": [
    "## Logistic Regression"
   ]
  },
  {
   "cell_type": "code",
   "execution_count": 213,
   "metadata": {},
   "outputs": [],
   "source": [
    "a5 = lr.fit(x2train,y2train)\n",
    "b5 = lr.fit(x2test,y2test)"
   ]
  },
  {
   "cell_type": "code",
   "execution_count": 214,
   "metadata": {},
   "outputs": [],
   "source": [
    "y2pred=a5.predict(x2test)"
   ]
  },
  {
   "cell_type": "code",
   "execution_count": 215,
   "metadata": {},
   "outputs": [
    {
     "data": {
      "text/plain": [
       "0.711864406779661"
      ]
     },
     "execution_count": 215,
     "metadata": {},
     "output_type": "execute_result"
    }
   ],
   "source": [
    "accuracy_score(y2test,y2pred)"
   ]
  },
  {
   "cell_type": "markdown",
   "metadata": {},
   "source": [
    "### Cross Validation - LR2"
   ]
  },
  {
   "cell_type": "code",
   "execution_count": 216,
   "metadata": {},
   "outputs": [
    {
     "data": {
      "text/plain": [
       "array([0.70886076, 0.71518987, 0.71974522, 0.72435897, 0.72258065])"
      ]
     },
     "execution_count": 216,
     "metadata": {},
     "output_type": "execute_result"
    }
   ],
   "source": [
    "lr2 = cross_val_score(lr,x2,y2,cv=st_fld)\n",
    "lr2"
   ]
  },
  {
   "cell_type": "code",
   "execution_count": 217,
   "metadata": {},
   "outputs": [
    {
     "data": {
      "text/plain": [
       "0.7181470950723188"
      ]
     },
     "execution_count": 217,
     "metadata": {},
     "output_type": "execute_result"
    }
   ],
   "source": [
    "lr2.mean()"
   ]
  },
  {
   "cell_type": "markdown",
   "metadata": {},
   "source": [
    "### Encoding independant variable"
   ]
  },
  {
   "cell_type": "code",
   "execution_count": 218,
   "metadata": {},
   "outputs": [],
   "source": [
    "le.fit(complaint2[['Area 2']])\n",
    "complaint2['Area 2'] = le.transform(complaint2[['Area 2']])"
   ]
  },
  {
   "cell_type": "code",
   "execution_count": 219,
   "metadata": {},
   "outputs": [],
   "source": [
    "x2 = complaint2[['Model','Complaint Source','Product Component 2']]\n",
    "y2 = complaint2[['Area 2']]"
   ]
  },
  {
   "cell_type": "code",
   "execution_count": 220,
   "metadata": {},
   "outputs": [],
   "source": [
    "x2train,x2test,y2train,y2test = train_test_split(x2,y2,test_size=0.3)"
   ]
  },
  {
   "cell_type": "markdown",
   "metadata": {},
   "source": [
    "## SVM"
   ]
  },
  {
   "cell_type": "code",
   "execution_count": 221,
   "metadata": {},
   "outputs": [
    {
     "data": {
      "text/plain": [
       "SVC(C=1.0, cache_size=200, class_weight=None, coef0=0.0,\n",
       "  decision_function_shape='ovr', degree=3, gamma='auto', kernel='linear',\n",
       "  max_iter=-1, probability=False, random_state=None, shrinking=True,\n",
       "  tol=0.001, verbose=False)"
      ]
     },
     "execution_count": 221,
     "metadata": {},
     "output_type": "execute_result"
    }
   ],
   "source": [
    "svcclassifier.fit(x2train,y2train)"
   ]
  },
  {
   "cell_type": "code",
   "execution_count": 222,
   "metadata": {},
   "outputs": [],
   "source": [
    "y22pred = svcclassifier.predict(x2test)"
   ]
  },
  {
   "cell_type": "code",
   "execution_count": 223,
   "metadata": {},
   "outputs": [
    {
     "data": {
      "text/plain": [
       "array([[  0,   0,  50],\n",
       "       [  0,   0,  15],\n",
       "       [  0,   0, 171]], dtype=int64)"
      ]
     },
     "execution_count": 223,
     "metadata": {},
     "output_type": "execute_result"
    }
   ],
   "source": [
    "confusion_matrix(y2test,y22pred)"
   ]
  },
  {
   "cell_type": "code",
   "execution_count": 224,
   "metadata": {},
   "outputs": [
    {
     "data": {
      "text/plain": [
       "0.7245762711864406"
      ]
     },
     "execution_count": 224,
     "metadata": {},
     "output_type": "execute_result"
    }
   ],
   "source": [
    "ac_sc22=accuracy_score(y2test,y22pred)\n",
    "ac_sc22"
   ]
  },
  {
   "cell_type": "code",
   "execution_count": 225,
   "metadata": {},
   "outputs": [
    {
     "name": "stdout",
     "output_type": "stream",
     "text": [
      "             precision    recall  f1-score   support\n",
      "\n",
      "          0       0.00      0.00      0.00        50\n",
      "          1       0.00      0.00      0.00        15\n",
      "          2       0.72      1.00      0.84       171\n",
      "\n",
      "avg / total       0.53      0.72      0.61       236\n",
      "\n"
     ]
    }
   ],
   "source": [
    "print(classification_report(y2test,y22pred))"
   ]
  },
  {
   "cell_type": "markdown",
   "metadata": {},
   "source": [
    "### Cross Validation - SVM2"
   ]
  },
  {
   "cell_type": "code",
   "execution_count": 226,
   "metadata": {},
   "outputs": [
    {
     "data": {
      "text/plain": [
       "array([0.71518987, 0.71518987, 0.71974522, 0.72435897, 0.72258065])"
      ]
     },
     "execution_count": 226,
     "metadata": {},
     "output_type": "execute_result"
    }
   ],
   "source": [
    "cv22 = cross_val_score(svcclassifier,x2,y2,cv=st_fld)\n",
    "cv22"
   ]
  },
  {
   "cell_type": "code",
   "execution_count": 227,
   "metadata": {},
   "outputs": [
    {
     "data": {
      "text/plain": [
       "0.7194129178571289"
      ]
     },
     "execution_count": 227,
     "metadata": {},
     "output_type": "execute_result"
    }
   ],
   "source": [
    "cv22.mean()"
   ]
  },
  {
   "cell_type": "markdown",
   "metadata": {},
   "source": [
    "## Decision Tree"
   ]
  },
  {
   "cell_type": "code",
   "execution_count": 228,
   "metadata": {},
   "outputs": [],
   "source": [
    "a2 = dt.fit(x2train,y2train)\n",
    "b2 = dt.fit(x2test,y2test)"
   ]
  },
  {
   "cell_type": "code",
   "execution_count": 229,
   "metadata": {},
   "outputs": [],
   "source": [
    "y2pred = a2.predict(x2test)"
   ]
  },
  {
   "cell_type": "code",
   "execution_count": 230,
   "metadata": {},
   "outputs": [
    {
     "data": {
      "text/plain": [
       "0.9915254237288136"
      ]
     },
     "execution_count": 230,
     "metadata": {},
     "output_type": "execute_result"
    }
   ],
   "source": [
    "ac_sc2 = accuracy_score(y2test,y2pred)\n",
    "ac_sc2"
   ]
  },
  {
   "cell_type": "code",
   "execution_count": 231,
   "metadata": {},
   "outputs": [
    {
     "data": {
      "text/html": [
       "<div>\n",
       "<style scoped>\n",
       "    .dataframe tbody tr th:only-of-type {\n",
       "        vertical-align: middle;\n",
       "    }\n",
       "\n",
       "    .dataframe tbody tr th {\n",
       "        vertical-align: top;\n",
       "    }\n",
       "\n",
       "    .dataframe thead th {\n",
       "        text-align: right;\n",
       "    }\n",
       "</style>\n",
       "<table border=\"1\" class=\"dataframe\">\n",
       "  <thead>\n",
       "    <tr style=\"text-align: right;\">\n",
       "      <th></th>\n",
       "      <th>Predicted Product</th>\n",
       "      <th>Predicted Sales</th>\n",
       "      <th>Predicted Service</th>\n",
       "    </tr>\n",
       "  </thead>\n",
       "  <tbody>\n",
       "    <tr>\n",
       "      <th>True Product</th>\n",
       "      <td>50</td>\n",
       "      <td>0</td>\n",
       "      <td>0</td>\n",
       "    </tr>\n",
       "    <tr>\n",
       "      <th>True Sales</th>\n",
       "      <td>0</td>\n",
       "      <td>14</td>\n",
       "      <td>1</td>\n",
       "    </tr>\n",
       "    <tr>\n",
       "      <th>True Service</th>\n",
       "      <td>0</td>\n",
       "      <td>1</td>\n",
       "      <td>170</td>\n",
       "    </tr>\n",
       "  </tbody>\n",
       "</table>\n",
       "</div>"
      ],
      "text/plain": [
       "              Predicted Product  Predicted Sales  Predicted Service\n",
       "True Product                 50                0                  0\n",
       "True Sales                    0               14                  1\n",
       "True Service                  0                1                170"
      ]
     },
     "execution_count": 231,
     "metadata": {},
     "output_type": "execute_result"
    }
   ],
   "source": [
    "pd.DataFrame(confusion_matrix(y2test,y2pred),columns = ['Predicted Product','Predicted Sales','Predicted Service'],index=['True Product','True Sales','True Service'])"
   ]
  },
  {
   "cell_type": "code",
   "execution_count": 232,
   "metadata": {},
   "outputs": [],
   "source": [
    "graph = export_graphviz(dt,out_file=\"complaint2_tree.dot\",feature_names = ['Complaint Source','Model','Product Component'],rounded=True,precision=0)"
   ]
  },
  {
   "cell_type": "markdown",
   "metadata": {},
   "source": [
    "### Cross Validation - DT2"
   ]
  },
  {
   "cell_type": "code",
   "execution_count": 233,
   "metadata": {},
   "outputs": [
    {
     "data": {
      "text/plain": [
       "array([0.96202532, 0.97468354, 0.98089172, 0.96794872, 0.93548387])"
      ]
     },
     "execution_count": 233,
     "metadata": {},
     "output_type": "execute_result"
    }
   ],
   "source": [
    "cv2 = cross_val_score(dt,x2,y2,cv=st_fld)\n",
    "cv2"
   ]
  },
  {
   "cell_type": "code",
   "execution_count": 234,
   "metadata": {},
   "outputs": [
    {
     "data": {
      "text/plain": [
       "0.9642066338842353"
      ]
     },
     "execution_count": 234,
     "metadata": {},
     "output_type": "execute_result"
    }
   ],
   "source": [
    "cv2.mean()"
   ]
  },
  {
   "cell_type": "markdown",
   "metadata": {},
   "source": [
    "# COMPLAINT 3"
   ]
  },
  {
   "cell_type": "code",
   "execution_count": 235,
   "metadata": {},
   "outputs": [
    {
     "name": "stdout",
     "output_type": "stream",
     "text": [
      "<class 'pandas.core.frame.DataFrame'>\n",
      "RangeIndex: 4150 entries, 0 to 4149\n",
      "Data columns (total 14 columns):\n",
      "Model                    4150 non-null object\n",
      "Complaint Related To     4150 non-null object\n",
      "Complaint Type           4150 non-null object\n",
      "Complaint Source         4150 non-null object\n",
      "Complaint Mode           4150 non-null object\n",
      "Category 3               107 non-null object\n",
      "Area 3                   107 non-null object\n",
      "Contact Details 3        107 non-null object\n",
      "Product Component 3      107 non-null object\n",
      " Product Phenomenon 3    18 non-null object\n",
      "Request 3                107 non-null object\n",
      "Action 3                 105 non-null object\n",
      "No Assistance 3          105 non-null object\n",
      "Resolution Days          4150 non-null float64\n",
      "dtypes: float64(1), object(13)\n",
      "memory usage: 454.0+ KB\n"
     ]
    }
   ],
   "source": [
    "complaint3 = cb.iloc[:,21:29]\n",
    "complaint3 = pd.concat([cb_info,complaint3,cb_info1],axis=1)\n",
    "complaint3.info()"
   ]
  },
  {
   "cell_type": "markdown",
   "metadata": {},
   "source": [
    "##### Only Complaints filed are considered ommiting other values that are not required."
   ]
  },
  {
   "cell_type": "code",
   "execution_count": 236,
   "metadata": {},
   "outputs": [
    {
     "name": "stdout",
     "output_type": "stream",
     "text": [
      "<class 'pandas.core.frame.DataFrame'>\n",
      "Int64Index: 107 entries, 41 to 4149\n",
      "Data columns (total 14 columns):\n",
      "Model                    107 non-null object\n",
      "Complaint Related To     107 non-null object\n",
      "Complaint Type           107 non-null object\n",
      "Complaint Source         107 non-null object\n",
      "Complaint Mode           107 non-null object\n",
      "Category 3               107 non-null object\n",
      "Area 3                   107 non-null object\n",
      "Contact Details 3        107 non-null object\n",
      "Product Component 3      107 non-null object\n",
      " Product Phenomenon 3    18 non-null object\n",
      "Request 3                107 non-null object\n",
      "Action 3                 105 non-null object\n",
      "No Assistance 3          105 non-null object\n",
      "Resolution Days          107 non-null float64\n",
      "dtypes: float64(1), object(13)\n",
      "memory usage: 12.5+ KB\n"
     ]
    }
   ],
   "source": [
    "complaint3 = complaint3[~complaint3['Category 3'].isna()]\n",
    "complaint3.info()"
   ]
  },
  {
   "cell_type": "code",
   "execution_count": 237,
   "metadata": {},
   "outputs": [
    {
     "data": {
      "text/plain": [
       "model1     56\n",
       "model3     27\n",
       "model4     11\n",
       "model6      8\n",
       "model2      3\n",
       "model12     2\n",
       "Name: Model, dtype: int64"
      ]
     },
     "execution_count": 237,
     "metadata": {},
     "output_type": "execute_result"
    }
   ],
   "source": [
    "complaint3[\"Model\"].value_counts()"
   ]
  },
  {
   "cell_type": "code",
   "execution_count": 238,
   "metadata": {},
   "outputs": [
    {
     "data": {
      "application/vnd.plotly.v1+json": {
       "config": {
        "plotlyServerURL": "https://plot.ly"
       },
       "data": [
        {
         "alignmentgroup": "True",
         "bingroup": "x",
         "hoverlabel": {
          "namelength": 0
         },
         "hovertemplate": "x=%{x}<br>count=%{y}",
         "legendgroup": "",
         "marker": {
          "color": "#636efa"
         },
         "name": "",
         "offsetgroup": "",
         "orientation": "v",
         "showlegend": false,
         "type": "histogram",
         "x": [
          "Product",
          "Service and Parts",
          "Service and Parts",
          "Product",
          "Service and Parts",
          "Service and Parts",
          "Sales",
          "Product",
          "Service and Parts",
          "Product",
          "Service and Parts",
          "Service and Parts",
          "Service and Parts",
          "Service and Parts",
          "Sales",
          "Service and Parts",
          "Service and Parts",
          "Service and Parts",
          "Service and Parts",
          "Service and Parts",
          "Service and Parts",
          "Service and Parts",
          "Service and Parts",
          "Service and Parts",
          "Service and Parts",
          "Sales",
          "Product",
          "Service and Parts",
          "Product",
          "Service and Parts",
          "Service and Parts",
          "Service and Parts",
          "Service and Parts",
          "Service and Parts",
          "Service and Parts",
          "Service and Parts",
          "Service and Parts",
          "Service and Parts",
          "Service and Parts",
          "Service and Parts",
          "Service and Parts",
          "Service and Parts",
          "Service and Parts",
          "Service and Parts",
          "Service and Parts",
          "Service and Parts",
          "Service and Parts",
          "Service and Parts",
          "Service and Parts",
          "Sales",
          "Service and Parts",
          "Service and Parts",
          "Service and Parts",
          "Service and Parts",
          "Service and Parts",
          "Service and Parts",
          "Service and Parts",
          "Service and Parts",
          "Service and Parts",
          "Service and Parts",
          "Product",
          "Service and Parts",
          "Product",
          "Product",
          "Product",
          "Service and Parts",
          "Service and Parts",
          "Service and Parts",
          "Service and Parts",
          "Service and Parts",
          "Service and Parts",
          "Product",
          "Service and Parts",
          "Product",
          "Service and Parts",
          "Product",
          "Service and Parts",
          "Product",
          "Service and Parts",
          "Product",
          "Service and Parts",
          "Service and Parts",
          "Service and Parts",
          "Product",
          "Service and Parts",
          "Service and Parts",
          "Service and Parts",
          "Service and Parts",
          "Service and Parts",
          "Product",
          "Service and Parts",
          "Product",
          "Sales",
          "Service and Parts",
          "Service and Parts",
          "Service and Parts",
          "Service and Parts",
          "Service and Parts",
          "Service and Parts",
          "Service and Parts",
          "Service and Parts",
          "Service and Parts",
          "Sales",
          "Service and Parts",
          "Service and Parts",
          "Service and Parts",
          "Service and Parts"
         ],
         "xaxis": "x",
         "yaxis": "y"
        }
       ],
       "layout": {
        "barmode": "relative",
        "height": 600,
        "legend": {
         "tracegroupgap": 0
        },
        "margin": {
         "t": 60
        },
        "template": {
         "data": {
          "bar": [
           {
            "error_x": {
             "color": "#2a3f5f"
            },
            "error_y": {
             "color": "#2a3f5f"
            },
            "marker": {
             "line": {
              "color": "#E5ECF6",
              "width": 0.5
             }
            },
            "type": "bar"
           }
          ],
          "barpolar": [
           {
            "marker": {
             "line": {
              "color": "#E5ECF6",
              "width": 0.5
             }
            },
            "type": "barpolar"
           }
          ],
          "carpet": [
           {
            "aaxis": {
             "endlinecolor": "#2a3f5f",
             "gridcolor": "white",
             "linecolor": "white",
             "minorgridcolor": "white",
             "startlinecolor": "#2a3f5f"
            },
            "baxis": {
             "endlinecolor": "#2a3f5f",
             "gridcolor": "white",
             "linecolor": "white",
             "minorgridcolor": "white",
             "startlinecolor": "#2a3f5f"
            },
            "type": "carpet"
           }
          ],
          "choropleth": [
           {
            "colorbar": {
             "outlinewidth": 0,
             "ticks": ""
            },
            "type": "choropleth"
           }
          ],
          "contour": [
           {
            "colorbar": {
             "outlinewidth": 0,
             "ticks": ""
            },
            "colorscale": [
             [
              0,
              "#0d0887"
             ],
             [
              0.1111111111111111,
              "#46039f"
             ],
             [
              0.2222222222222222,
              "#7201a8"
             ],
             [
              0.3333333333333333,
              "#9c179e"
             ],
             [
              0.4444444444444444,
              "#bd3786"
             ],
             [
              0.5555555555555556,
              "#d8576b"
             ],
             [
              0.6666666666666666,
              "#ed7953"
             ],
             [
              0.7777777777777778,
              "#fb9f3a"
             ],
             [
              0.8888888888888888,
              "#fdca26"
             ],
             [
              1,
              "#f0f921"
             ]
            ],
            "type": "contour"
           }
          ],
          "contourcarpet": [
           {
            "colorbar": {
             "outlinewidth": 0,
             "ticks": ""
            },
            "type": "contourcarpet"
           }
          ],
          "heatmap": [
           {
            "colorbar": {
             "outlinewidth": 0,
             "ticks": ""
            },
            "colorscale": [
             [
              0,
              "#0d0887"
             ],
             [
              0.1111111111111111,
              "#46039f"
             ],
             [
              0.2222222222222222,
              "#7201a8"
             ],
             [
              0.3333333333333333,
              "#9c179e"
             ],
             [
              0.4444444444444444,
              "#bd3786"
             ],
             [
              0.5555555555555556,
              "#d8576b"
             ],
             [
              0.6666666666666666,
              "#ed7953"
             ],
             [
              0.7777777777777778,
              "#fb9f3a"
             ],
             [
              0.8888888888888888,
              "#fdca26"
             ],
             [
              1,
              "#f0f921"
             ]
            ],
            "type": "heatmap"
           }
          ],
          "heatmapgl": [
           {
            "colorbar": {
             "outlinewidth": 0,
             "ticks": ""
            },
            "colorscale": [
             [
              0,
              "#0d0887"
             ],
             [
              0.1111111111111111,
              "#46039f"
             ],
             [
              0.2222222222222222,
              "#7201a8"
             ],
             [
              0.3333333333333333,
              "#9c179e"
             ],
             [
              0.4444444444444444,
              "#bd3786"
             ],
             [
              0.5555555555555556,
              "#d8576b"
             ],
             [
              0.6666666666666666,
              "#ed7953"
             ],
             [
              0.7777777777777778,
              "#fb9f3a"
             ],
             [
              0.8888888888888888,
              "#fdca26"
             ],
             [
              1,
              "#f0f921"
             ]
            ],
            "type": "heatmapgl"
           }
          ],
          "histogram": [
           {
            "marker": {
             "colorbar": {
              "outlinewidth": 0,
              "ticks": ""
             }
            },
            "type": "histogram"
           }
          ],
          "histogram2d": [
           {
            "colorbar": {
             "outlinewidth": 0,
             "ticks": ""
            },
            "colorscale": [
             [
              0,
              "#0d0887"
             ],
             [
              0.1111111111111111,
              "#46039f"
             ],
             [
              0.2222222222222222,
              "#7201a8"
             ],
             [
              0.3333333333333333,
              "#9c179e"
             ],
             [
              0.4444444444444444,
              "#bd3786"
             ],
             [
              0.5555555555555556,
              "#d8576b"
             ],
             [
              0.6666666666666666,
              "#ed7953"
             ],
             [
              0.7777777777777778,
              "#fb9f3a"
             ],
             [
              0.8888888888888888,
              "#fdca26"
             ],
             [
              1,
              "#f0f921"
             ]
            ],
            "type": "histogram2d"
           }
          ],
          "histogram2dcontour": [
           {
            "colorbar": {
             "outlinewidth": 0,
             "ticks": ""
            },
            "colorscale": [
             [
              0,
              "#0d0887"
             ],
             [
              0.1111111111111111,
              "#46039f"
             ],
             [
              0.2222222222222222,
              "#7201a8"
             ],
             [
              0.3333333333333333,
              "#9c179e"
             ],
             [
              0.4444444444444444,
              "#bd3786"
             ],
             [
              0.5555555555555556,
              "#d8576b"
             ],
             [
              0.6666666666666666,
              "#ed7953"
             ],
             [
              0.7777777777777778,
              "#fb9f3a"
             ],
             [
              0.8888888888888888,
              "#fdca26"
             ],
             [
              1,
              "#f0f921"
             ]
            ],
            "type": "histogram2dcontour"
           }
          ],
          "mesh3d": [
           {
            "colorbar": {
             "outlinewidth": 0,
             "ticks": ""
            },
            "type": "mesh3d"
           }
          ],
          "parcoords": [
           {
            "line": {
             "colorbar": {
              "outlinewidth": 0,
              "ticks": ""
             }
            },
            "type": "parcoords"
           }
          ],
          "scatter": [
           {
            "marker": {
             "colorbar": {
              "outlinewidth": 0,
              "ticks": ""
             }
            },
            "type": "scatter"
           }
          ],
          "scatter3d": [
           {
            "line": {
             "colorbar": {
              "outlinewidth": 0,
              "ticks": ""
             }
            },
            "marker": {
             "colorbar": {
              "outlinewidth": 0,
              "ticks": ""
             }
            },
            "type": "scatter3d"
           }
          ],
          "scattercarpet": [
           {
            "marker": {
             "colorbar": {
              "outlinewidth": 0,
              "ticks": ""
             }
            },
            "type": "scattercarpet"
           }
          ],
          "scattergeo": [
           {
            "marker": {
             "colorbar": {
              "outlinewidth": 0,
              "ticks": ""
             }
            },
            "type": "scattergeo"
           }
          ],
          "scattergl": [
           {
            "marker": {
             "colorbar": {
              "outlinewidth": 0,
              "ticks": ""
             }
            },
            "type": "scattergl"
           }
          ],
          "scattermapbox": [
           {
            "marker": {
             "colorbar": {
              "outlinewidth": 0,
              "ticks": ""
             }
            },
            "type": "scattermapbox"
           }
          ],
          "scatterpolar": [
           {
            "marker": {
             "colorbar": {
              "outlinewidth": 0,
              "ticks": ""
             }
            },
            "type": "scatterpolar"
           }
          ],
          "scatterpolargl": [
           {
            "marker": {
             "colorbar": {
              "outlinewidth": 0,
              "ticks": ""
             }
            },
            "type": "scatterpolargl"
           }
          ],
          "scatterternary": [
           {
            "marker": {
             "colorbar": {
              "outlinewidth": 0,
              "ticks": ""
             }
            },
            "type": "scatterternary"
           }
          ],
          "surface": [
           {
            "colorbar": {
             "outlinewidth": 0,
             "ticks": ""
            },
            "colorscale": [
             [
              0,
              "#0d0887"
             ],
             [
              0.1111111111111111,
              "#46039f"
             ],
             [
              0.2222222222222222,
              "#7201a8"
             ],
             [
              0.3333333333333333,
              "#9c179e"
             ],
             [
              0.4444444444444444,
              "#bd3786"
             ],
             [
              0.5555555555555556,
              "#d8576b"
             ],
             [
              0.6666666666666666,
              "#ed7953"
             ],
             [
              0.7777777777777778,
              "#fb9f3a"
             ],
             [
              0.8888888888888888,
              "#fdca26"
             ],
             [
              1,
              "#f0f921"
             ]
            ],
            "type": "surface"
           }
          ],
          "table": [
           {
            "cells": {
             "fill": {
              "color": "#EBF0F8"
             },
             "line": {
              "color": "white"
             }
            },
            "header": {
             "fill": {
              "color": "#C8D4E3"
             },
             "line": {
              "color": "white"
             }
            },
            "type": "table"
           }
          ]
         },
         "layout": {
          "annotationdefaults": {
           "arrowcolor": "#2a3f5f",
           "arrowhead": 0,
           "arrowwidth": 1
          },
          "colorscale": {
           "diverging": [
            [
             0,
             "#8e0152"
            ],
            [
             0.1,
             "#c51b7d"
            ],
            [
             0.2,
             "#de77ae"
            ],
            [
             0.3,
             "#f1b6da"
            ],
            [
             0.4,
             "#fde0ef"
            ],
            [
             0.5,
             "#f7f7f7"
            ],
            [
             0.6,
             "#e6f5d0"
            ],
            [
             0.7,
             "#b8e186"
            ],
            [
             0.8,
             "#7fbc41"
            ],
            [
             0.9,
             "#4d9221"
            ],
            [
             1,
             "#276419"
            ]
           ],
           "sequential": [
            [
             0,
             "#0d0887"
            ],
            [
             0.1111111111111111,
             "#46039f"
            ],
            [
             0.2222222222222222,
             "#7201a8"
            ],
            [
             0.3333333333333333,
             "#9c179e"
            ],
            [
             0.4444444444444444,
             "#bd3786"
            ],
            [
             0.5555555555555556,
             "#d8576b"
            ],
            [
             0.6666666666666666,
             "#ed7953"
            ],
            [
             0.7777777777777778,
             "#fb9f3a"
            ],
            [
             0.8888888888888888,
             "#fdca26"
            ],
            [
             1,
             "#f0f921"
            ]
           ],
           "sequentialminus": [
            [
             0,
             "#0d0887"
            ],
            [
             0.1111111111111111,
             "#46039f"
            ],
            [
             0.2222222222222222,
             "#7201a8"
            ],
            [
             0.3333333333333333,
             "#9c179e"
            ],
            [
             0.4444444444444444,
             "#bd3786"
            ],
            [
             0.5555555555555556,
             "#d8576b"
            ],
            [
             0.6666666666666666,
             "#ed7953"
            ],
            [
             0.7777777777777778,
             "#fb9f3a"
            ],
            [
             0.8888888888888888,
             "#fdca26"
            ],
            [
             1,
             "#f0f921"
            ]
           ]
          },
          "colorway": [
           "#636efa",
           "#EF553B",
           "#00cc96",
           "#ab63fa",
           "#FFA15A",
           "#19d3f3",
           "#FF6692",
           "#B6E880",
           "#FF97FF",
           "#FECB52"
          ],
          "font": {
           "color": "#2a3f5f"
          },
          "geo": {
           "bgcolor": "white",
           "lakecolor": "white",
           "landcolor": "#E5ECF6",
           "showlakes": true,
           "showland": true,
           "subunitcolor": "white"
          },
          "hoverlabel": {
           "align": "left"
          },
          "hovermode": "closest",
          "mapbox": {
           "style": "light"
          },
          "paper_bgcolor": "white",
          "plot_bgcolor": "#E5ECF6",
          "polar": {
           "angularaxis": {
            "gridcolor": "white",
            "linecolor": "white",
            "ticks": ""
           },
           "bgcolor": "#E5ECF6",
           "radialaxis": {
            "gridcolor": "white",
            "linecolor": "white",
            "ticks": ""
           }
          },
          "scene": {
           "xaxis": {
            "backgroundcolor": "#E5ECF6",
            "gridcolor": "white",
            "gridwidth": 2,
            "linecolor": "white",
            "showbackground": true,
            "ticks": "",
            "zerolinecolor": "white"
           },
           "yaxis": {
            "backgroundcolor": "#E5ECF6",
            "gridcolor": "white",
            "gridwidth": 2,
            "linecolor": "white",
            "showbackground": true,
            "ticks": "",
            "zerolinecolor": "white"
           },
           "zaxis": {
            "backgroundcolor": "#E5ECF6",
            "gridcolor": "white",
            "gridwidth": 2,
            "linecolor": "white",
            "showbackground": true,
            "ticks": "",
            "zerolinecolor": "white"
           }
          },
          "shapedefaults": {
           "line": {
            "color": "#2a3f5f"
           }
          },
          "ternary": {
           "aaxis": {
            "gridcolor": "white",
            "linecolor": "white",
            "ticks": ""
           },
           "baxis": {
            "gridcolor": "white",
            "linecolor": "white",
            "ticks": ""
           },
           "bgcolor": "#E5ECF6",
           "caxis": {
            "gridcolor": "white",
            "linecolor": "white",
            "ticks": ""
           }
          },
          "title": {
           "x": 0.05
          },
          "xaxis": {
           "automargin": true,
           "gridcolor": "white",
           "linecolor": "white",
           "ticks": "",
           "zerolinecolor": "white",
           "zerolinewidth": 2
          },
          "yaxis": {
           "automargin": true,
           "gridcolor": "white",
           "linecolor": "white",
           "ticks": "",
           "zerolinecolor": "white",
           "zerolinewidth": 2
          }
         }
        },
        "xaxis": {
         "anchor": "y",
         "domain": [
          0,
          0.98
         ],
         "title": {
          "text": "x"
         }
        },
        "yaxis": {
         "anchor": "x",
         "domain": [
          0,
          1
         ],
         "title": {
          "text": "count"
         }
        }
       }
      },
      "text/html": [
       "<div>\n",
       "        \n",
       "        \n",
       "            <div id=\"18bbe186-3b25-4727-a809-de67742d5131\" class=\"plotly-graph-div\" style=\"height:600px; width:100%;\"></div>\n",
       "            <script type=\"text/javascript\">\n",
       "                require([\"plotly\"], function(Plotly) {\n",
       "                    window.PLOTLYENV=window.PLOTLYENV || {};\n",
       "                    \n",
       "                if (document.getElementById(\"18bbe186-3b25-4727-a809-de67742d5131\")) {\n",
       "                    Plotly.newPlot(\n",
       "                        '18bbe186-3b25-4727-a809-de67742d5131',\n",
       "                        [{\"alignmentgroup\": \"True\", \"bingroup\": \"x\", \"hoverlabel\": {\"namelength\": 0}, \"hovertemplate\": \"x=%{x}<br>count=%{y}\", \"legendgroup\": \"\", \"marker\": {\"color\": \"#636efa\"}, \"name\": \"\", \"offsetgroup\": \"\", \"orientation\": \"v\", \"showlegend\": false, \"type\": \"histogram\", \"x\": [\"Product\", \"Service and Parts\", \"Service and Parts\", \"Product\", \"Service and Parts\", \"Service and Parts\", \"Sales\", \"Product\", \"Service and Parts\", \"Product\", \"Service and Parts\", \"Service and Parts\", \"Service and Parts\", \"Service and Parts\", \"Sales\", \"Service and Parts\", \"Service and Parts\", \"Service and Parts\", \"Service and Parts\", \"Service and Parts\", \"Service and Parts\", \"Service and Parts\", \"Service and Parts\", \"Service and Parts\", \"Service and Parts\", \"Sales\", \"Product\", \"Service and Parts\", \"Product\", \"Service and Parts\", \"Service and Parts\", \"Service and Parts\", \"Service and Parts\", \"Service and Parts\", \"Service and Parts\", \"Service and Parts\", \"Service and Parts\", \"Service and Parts\", \"Service and Parts\", \"Service and Parts\", \"Service and Parts\", \"Service and Parts\", \"Service and Parts\", \"Service and Parts\", \"Service and Parts\", \"Service and Parts\", \"Service and Parts\", \"Service and Parts\", \"Service and Parts\", \"Sales\", \"Service and Parts\", \"Service and Parts\", \"Service and Parts\", \"Service and Parts\", \"Service and Parts\", \"Service and Parts\", \"Service and Parts\", \"Service and Parts\", \"Service and Parts\", \"Service and Parts\", \"Product\", \"Service and Parts\", \"Product\", \"Product\", \"Product\", \"Service and Parts\", \"Service and Parts\", \"Service and Parts\", \"Service and Parts\", \"Service and Parts\", \"Service and Parts\", \"Product\", \"Service and Parts\", \"Product\", \"Service and Parts\", \"Product\", \"Service and Parts\", \"Product\", \"Service and Parts\", \"Product\", \"Service and Parts\", \"Service and Parts\", \"Service and Parts\", \"Product\", \"Service and Parts\", \"Service and Parts\", \"Service and Parts\", \"Service and Parts\", \"Service and Parts\", \"Product\", \"Service and Parts\", \"Product\", \"Sales\", \"Service and Parts\", \"Service and Parts\", \"Service and Parts\", \"Service and Parts\", \"Service and Parts\", \"Service and Parts\", \"Service and Parts\", \"Service and Parts\", \"Service and Parts\", \"Sales\", \"Service and Parts\", \"Service and Parts\", \"Service and Parts\", \"Service and Parts\"], \"xaxis\": \"x\", \"yaxis\": \"y\"}],\n",
       "                        {\"barmode\": \"relative\", \"height\": 600, \"legend\": {\"tracegroupgap\": 0}, \"margin\": {\"t\": 60}, \"template\": {\"data\": {\"bar\": [{\"error_x\": {\"color\": \"#2a3f5f\"}, \"error_y\": {\"color\": \"#2a3f5f\"}, \"marker\": {\"line\": {\"color\": \"#E5ECF6\", \"width\": 0.5}}, \"type\": \"bar\"}], \"barpolar\": [{\"marker\": {\"line\": {\"color\": \"#E5ECF6\", \"width\": 0.5}}, \"type\": \"barpolar\"}], \"carpet\": [{\"aaxis\": {\"endlinecolor\": \"#2a3f5f\", \"gridcolor\": \"white\", \"linecolor\": \"white\", \"minorgridcolor\": \"white\", \"startlinecolor\": \"#2a3f5f\"}, \"baxis\": {\"endlinecolor\": \"#2a3f5f\", \"gridcolor\": \"white\", \"linecolor\": \"white\", \"minorgridcolor\": \"white\", \"startlinecolor\": \"#2a3f5f\"}, \"type\": \"carpet\"}], \"choropleth\": [{\"colorbar\": {\"outlinewidth\": 0, \"ticks\": \"\"}, \"type\": \"choropleth\"}], \"contour\": [{\"colorbar\": {\"outlinewidth\": 0, \"ticks\": \"\"}, \"colorscale\": [[0.0, \"#0d0887\"], [0.1111111111111111, \"#46039f\"], [0.2222222222222222, \"#7201a8\"], [0.3333333333333333, \"#9c179e\"], [0.4444444444444444, \"#bd3786\"], [0.5555555555555556, \"#d8576b\"], [0.6666666666666666, \"#ed7953\"], [0.7777777777777778, \"#fb9f3a\"], [0.8888888888888888, \"#fdca26\"], [1.0, \"#f0f921\"]], \"type\": \"contour\"}], \"contourcarpet\": [{\"colorbar\": {\"outlinewidth\": 0, \"ticks\": \"\"}, \"type\": \"contourcarpet\"}], \"heatmap\": [{\"colorbar\": {\"outlinewidth\": 0, \"ticks\": \"\"}, \"colorscale\": [[0.0, \"#0d0887\"], [0.1111111111111111, \"#46039f\"], [0.2222222222222222, \"#7201a8\"], [0.3333333333333333, \"#9c179e\"], [0.4444444444444444, \"#bd3786\"], [0.5555555555555556, \"#d8576b\"], [0.6666666666666666, \"#ed7953\"], [0.7777777777777778, \"#fb9f3a\"], [0.8888888888888888, \"#fdca26\"], [1.0, \"#f0f921\"]], \"type\": \"heatmap\"}], \"heatmapgl\": [{\"colorbar\": {\"outlinewidth\": 0, \"ticks\": \"\"}, \"colorscale\": [[0.0, \"#0d0887\"], [0.1111111111111111, \"#46039f\"], [0.2222222222222222, \"#7201a8\"], [0.3333333333333333, \"#9c179e\"], [0.4444444444444444, \"#bd3786\"], [0.5555555555555556, \"#d8576b\"], [0.6666666666666666, \"#ed7953\"], [0.7777777777777778, \"#fb9f3a\"], [0.8888888888888888, \"#fdca26\"], [1.0, \"#f0f921\"]], \"type\": \"heatmapgl\"}], \"histogram\": [{\"marker\": {\"colorbar\": {\"outlinewidth\": 0, \"ticks\": \"\"}}, \"type\": \"histogram\"}], \"histogram2d\": [{\"colorbar\": {\"outlinewidth\": 0, \"ticks\": \"\"}, \"colorscale\": [[0.0, \"#0d0887\"], [0.1111111111111111, \"#46039f\"], [0.2222222222222222, \"#7201a8\"], [0.3333333333333333, \"#9c179e\"], [0.4444444444444444, \"#bd3786\"], [0.5555555555555556, \"#d8576b\"], [0.6666666666666666, \"#ed7953\"], [0.7777777777777778, \"#fb9f3a\"], [0.8888888888888888, \"#fdca26\"], [1.0, \"#f0f921\"]], \"type\": \"histogram2d\"}], \"histogram2dcontour\": [{\"colorbar\": {\"outlinewidth\": 0, \"ticks\": \"\"}, \"colorscale\": [[0.0, \"#0d0887\"], [0.1111111111111111, \"#46039f\"], [0.2222222222222222, \"#7201a8\"], [0.3333333333333333, \"#9c179e\"], [0.4444444444444444, \"#bd3786\"], [0.5555555555555556, \"#d8576b\"], [0.6666666666666666, \"#ed7953\"], [0.7777777777777778, \"#fb9f3a\"], [0.8888888888888888, \"#fdca26\"], [1.0, \"#f0f921\"]], \"type\": \"histogram2dcontour\"}], \"mesh3d\": [{\"colorbar\": {\"outlinewidth\": 0, \"ticks\": \"\"}, \"type\": \"mesh3d\"}], \"parcoords\": [{\"line\": {\"colorbar\": {\"outlinewidth\": 0, \"ticks\": \"\"}}, \"type\": \"parcoords\"}], \"scatter\": [{\"marker\": {\"colorbar\": {\"outlinewidth\": 0, \"ticks\": \"\"}}, \"type\": \"scatter\"}], \"scatter3d\": [{\"line\": {\"colorbar\": {\"outlinewidth\": 0, \"ticks\": \"\"}}, \"marker\": {\"colorbar\": {\"outlinewidth\": 0, \"ticks\": \"\"}}, \"type\": \"scatter3d\"}], \"scattercarpet\": [{\"marker\": {\"colorbar\": {\"outlinewidth\": 0, \"ticks\": \"\"}}, \"type\": \"scattercarpet\"}], \"scattergeo\": [{\"marker\": {\"colorbar\": {\"outlinewidth\": 0, \"ticks\": \"\"}}, \"type\": \"scattergeo\"}], \"scattergl\": [{\"marker\": {\"colorbar\": {\"outlinewidth\": 0, \"ticks\": \"\"}}, \"type\": \"scattergl\"}], \"scattermapbox\": [{\"marker\": {\"colorbar\": {\"outlinewidth\": 0, \"ticks\": \"\"}}, \"type\": \"scattermapbox\"}], \"scatterpolar\": [{\"marker\": {\"colorbar\": {\"outlinewidth\": 0, \"ticks\": \"\"}}, \"type\": \"scatterpolar\"}], \"scatterpolargl\": [{\"marker\": {\"colorbar\": {\"outlinewidth\": 0, \"ticks\": \"\"}}, \"type\": \"scatterpolargl\"}], \"scatterternary\": [{\"marker\": {\"colorbar\": {\"outlinewidth\": 0, \"ticks\": \"\"}}, \"type\": \"scatterternary\"}], \"surface\": [{\"colorbar\": {\"outlinewidth\": 0, \"ticks\": \"\"}, \"colorscale\": [[0.0, \"#0d0887\"], [0.1111111111111111, \"#46039f\"], [0.2222222222222222, \"#7201a8\"], [0.3333333333333333, \"#9c179e\"], [0.4444444444444444, \"#bd3786\"], [0.5555555555555556, \"#d8576b\"], [0.6666666666666666, \"#ed7953\"], [0.7777777777777778, \"#fb9f3a\"], [0.8888888888888888, \"#fdca26\"], [1.0, \"#f0f921\"]], \"type\": \"surface\"}], \"table\": [{\"cells\": {\"fill\": {\"color\": \"#EBF0F8\"}, \"line\": {\"color\": \"white\"}}, \"header\": {\"fill\": {\"color\": \"#C8D4E3\"}, \"line\": {\"color\": \"white\"}}, \"type\": \"table\"}]}, \"layout\": {\"annotationdefaults\": {\"arrowcolor\": \"#2a3f5f\", \"arrowhead\": 0, \"arrowwidth\": 1}, \"colorscale\": {\"diverging\": [[0, \"#8e0152\"], [0.1, \"#c51b7d\"], [0.2, \"#de77ae\"], [0.3, \"#f1b6da\"], [0.4, \"#fde0ef\"], [0.5, \"#f7f7f7\"], [0.6, \"#e6f5d0\"], [0.7, \"#b8e186\"], [0.8, \"#7fbc41\"], [0.9, \"#4d9221\"], [1, \"#276419\"]], \"sequential\": [[0.0, \"#0d0887\"], [0.1111111111111111, \"#46039f\"], [0.2222222222222222, \"#7201a8\"], [0.3333333333333333, \"#9c179e\"], [0.4444444444444444, \"#bd3786\"], [0.5555555555555556, \"#d8576b\"], [0.6666666666666666, \"#ed7953\"], [0.7777777777777778, \"#fb9f3a\"], [0.8888888888888888, \"#fdca26\"], [1.0, \"#f0f921\"]], \"sequentialminus\": [[0.0, \"#0d0887\"], [0.1111111111111111, \"#46039f\"], [0.2222222222222222, \"#7201a8\"], [0.3333333333333333, \"#9c179e\"], [0.4444444444444444, \"#bd3786\"], [0.5555555555555556, \"#d8576b\"], [0.6666666666666666, \"#ed7953\"], [0.7777777777777778, \"#fb9f3a\"], [0.8888888888888888, \"#fdca26\"], [1.0, \"#f0f921\"]]}, \"colorway\": [\"#636efa\", \"#EF553B\", \"#00cc96\", \"#ab63fa\", \"#FFA15A\", \"#19d3f3\", \"#FF6692\", \"#B6E880\", \"#FF97FF\", \"#FECB52\"], \"font\": {\"color\": \"#2a3f5f\"}, \"geo\": {\"bgcolor\": \"white\", \"lakecolor\": \"white\", \"landcolor\": \"#E5ECF6\", \"showlakes\": true, \"showland\": true, \"subunitcolor\": \"white\"}, \"hoverlabel\": {\"align\": \"left\"}, \"hovermode\": \"closest\", \"mapbox\": {\"style\": \"light\"}, \"paper_bgcolor\": \"white\", \"plot_bgcolor\": \"#E5ECF6\", \"polar\": {\"angularaxis\": {\"gridcolor\": \"white\", \"linecolor\": \"white\", \"ticks\": \"\"}, \"bgcolor\": \"#E5ECF6\", \"radialaxis\": {\"gridcolor\": \"white\", \"linecolor\": \"white\", \"ticks\": \"\"}}, \"scene\": {\"xaxis\": {\"backgroundcolor\": \"#E5ECF6\", \"gridcolor\": \"white\", \"gridwidth\": 2, \"linecolor\": \"white\", \"showbackground\": true, \"ticks\": \"\", \"zerolinecolor\": \"white\"}, \"yaxis\": {\"backgroundcolor\": \"#E5ECF6\", \"gridcolor\": \"white\", \"gridwidth\": 2, \"linecolor\": \"white\", \"showbackground\": true, \"ticks\": \"\", \"zerolinecolor\": \"white\"}, \"zaxis\": {\"backgroundcolor\": \"#E5ECF6\", \"gridcolor\": \"white\", \"gridwidth\": 2, \"linecolor\": \"white\", \"showbackground\": true, \"ticks\": \"\", \"zerolinecolor\": \"white\"}}, \"shapedefaults\": {\"line\": {\"color\": \"#2a3f5f\"}}, \"ternary\": {\"aaxis\": {\"gridcolor\": \"white\", \"linecolor\": \"white\", \"ticks\": \"\"}, \"baxis\": {\"gridcolor\": \"white\", \"linecolor\": \"white\", \"ticks\": \"\"}, \"bgcolor\": \"#E5ECF6\", \"caxis\": {\"gridcolor\": \"white\", \"linecolor\": \"white\", \"ticks\": \"\"}}, \"title\": {\"x\": 0.05}, \"xaxis\": {\"automargin\": true, \"gridcolor\": \"white\", \"linecolor\": \"white\", \"ticks\": \"\", \"zerolinecolor\": \"white\", \"zerolinewidth\": 2}, \"yaxis\": {\"automargin\": true, \"gridcolor\": \"white\", \"linecolor\": \"white\", \"ticks\": \"\", \"zerolinecolor\": \"white\", \"zerolinewidth\": 2}}}, \"xaxis\": {\"anchor\": \"y\", \"domain\": [0.0, 0.98], \"title\": {\"text\": \"x\"}}, \"yaxis\": {\"anchor\": \"x\", \"domain\": [0.0, 1.0], \"title\": {\"text\": \"count\"}}},\n",
       "                        {\"responsive\": true}\n",
       "                    ).then(function(){\n",
       "                            \n",
       "var gd = document.getElementById('18bbe186-3b25-4727-a809-de67742d5131');\n",
       "var x = new MutationObserver(function (mutations, observer) {{\n",
       "        var display = window.getComputedStyle(gd).display;\n",
       "        if (!display || display === 'none') {{\n",
       "            console.log([gd, 'removed!']);\n",
       "            Plotly.purge(gd);\n",
       "            observer.disconnect();\n",
       "        }}\n",
       "}});\n",
       "\n",
       "// Listen for the removal of the full notebook cells\n",
       "var notebookContainer = gd.closest('#notebook-container');\n",
       "if (notebookContainer) {{\n",
       "    x.observe(notebookContainer, {childList: true});\n",
       "}}\n",
       "\n",
       "// Listen for the clearing of the current output cell\n",
       "var outputEl = gd.closest('.output');\n",
       "if (outputEl) {{\n",
       "    x.observe(outputEl, {childList: true});\n",
       "}}\n",
       "\n",
       "                        })\n",
       "                };\n",
       "                });\n",
       "            </script>\n",
       "        </div>"
      ]
     },
     "metadata": {},
     "output_type": "display_data"
    }
   ],
   "source": [
    "fig = px.histogram(tips, x=complaint3[\"Area 3\"])\n",
    "fig.show()"
   ]
  },
  {
   "cell_type": "code",
   "execution_count": 239,
   "metadata": {},
   "outputs": [
    {
     "data": {
      "application/vnd.plotly.v1+json": {
       "config": {
        "plotlyServerURL": "https://plot.ly"
       },
       "data": [
        {
         "alignmentgroup": "True",
         "bingroup": "x",
         "hoverlabel": {
          "namelength": 0
         },
         "hovertemplate": "x=%{x}<br>count=%{y}",
         "legendgroup": "",
         "marker": {
          "color": "#636efa"
         },
         "name": "",
         "offsetgroup": "",
         "orientation": "v",
         "showlegend": false,
         "type": "histogram",
         "x": [
          "model1",
          "model3",
          "model1",
          "model1",
          "model1",
          "model3",
          "model1",
          "model1",
          "model6",
          "model3",
          "model1",
          "model1",
          "model1",
          "model1",
          "model1",
          "model4",
          "model1",
          "model1",
          "model3",
          "model3",
          "model1",
          "model1",
          "model1",
          "model4",
          "model3",
          "model1",
          "model3",
          "model2",
          "model3",
          "model1",
          "model3",
          "model1",
          "model1",
          "model1",
          "model3",
          "model1",
          "model6",
          "model12",
          "model3",
          "model3",
          "model1",
          "model12",
          "model1",
          "model1",
          "model3",
          "model4",
          "model3",
          "model1",
          "model1",
          "model1",
          "model4",
          "model4",
          "model1",
          "model4",
          "model1",
          "model1",
          "model1",
          "model1",
          "model6",
          "model1",
          "model1",
          "model1",
          "model3",
          "model3",
          "model1",
          "model6",
          "model2",
          "model1",
          "model1",
          "model3",
          "model1",
          "model1",
          "model4",
          "model3",
          "model6",
          "model3",
          "model6",
          "model1",
          "model3",
          "model1",
          "model4",
          "model1",
          "model3",
          "model1",
          "model1",
          "model3",
          "model1",
          "model1",
          "model1",
          "model1",
          "model1",
          "model1",
          "model3",
          "model1",
          "model2",
          "model3",
          "model3",
          "model4",
          "model6",
          "model1",
          "model1",
          "model4",
          "model3",
          "model4",
          "model6",
          "model3",
          "model1"
         ],
         "xaxis": "x",
         "yaxis": "y"
        }
       ],
       "layout": {
        "barmode": "relative",
        "height": 600,
        "legend": {
         "tracegroupgap": 0
        },
        "margin": {
         "t": 60
        },
        "template": {
         "data": {
          "bar": [
           {
            "error_x": {
             "color": "#2a3f5f"
            },
            "error_y": {
             "color": "#2a3f5f"
            },
            "marker": {
             "line": {
              "color": "#E5ECF6",
              "width": 0.5
             }
            },
            "type": "bar"
           }
          ],
          "barpolar": [
           {
            "marker": {
             "line": {
              "color": "#E5ECF6",
              "width": 0.5
             }
            },
            "type": "barpolar"
           }
          ],
          "carpet": [
           {
            "aaxis": {
             "endlinecolor": "#2a3f5f",
             "gridcolor": "white",
             "linecolor": "white",
             "minorgridcolor": "white",
             "startlinecolor": "#2a3f5f"
            },
            "baxis": {
             "endlinecolor": "#2a3f5f",
             "gridcolor": "white",
             "linecolor": "white",
             "minorgridcolor": "white",
             "startlinecolor": "#2a3f5f"
            },
            "type": "carpet"
           }
          ],
          "choropleth": [
           {
            "colorbar": {
             "outlinewidth": 0,
             "ticks": ""
            },
            "type": "choropleth"
           }
          ],
          "contour": [
           {
            "colorbar": {
             "outlinewidth": 0,
             "ticks": ""
            },
            "colorscale": [
             [
              0,
              "#0d0887"
             ],
             [
              0.1111111111111111,
              "#46039f"
             ],
             [
              0.2222222222222222,
              "#7201a8"
             ],
             [
              0.3333333333333333,
              "#9c179e"
             ],
             [
              0.4444444444444444,
              "#bd3786"
             ],
             [
              0.5555555555555556,
              "#d8576b"
             ],
             [
              0.6666666666666666,
              "#ed7953"
             ],
             [
              0.7777777777777778,
              "#fb9f3a"
             ],
             [
              0.8888888888888888,
              "#fdca26"
             ],
             [
              1,
              "#f0f921"
             ]
            ],
            "type": "contour"
           }
          ],
          "contourcarpet": [
           {
            "colorbar": {
             "outlinewidth": 0,
             "ticks": ""
            },
            "type": "contourcarpet"
           }
          ],
          "heatmap": [
           {
            "colorbar": {
             "outlinewidth": 0,
             "ticks": ""
            },
            "colorscale": [
             [
              0,
              "#0d0887"
             ],
             [
              0.1111111111111111,
              "#46039f"
             ],
             [
              0.2222222222222222,
              "#7201a8"
             ],
             [
              0.3333333333333333,
              "#9c179e"
             ],
             [
              0.4444444444444444,
              "#bd3786"
             ],
             [
              0.5555555555555556,
              "#d8576b"
             ],
             [
              0.6666666666666666,
              "#ed7953"
             ],
             [
              0.7777777777777778,
              "#fb9f3a"
             ],
             [
              0.8888888888888888,
              "#fdca26"
             ],
             [
              1,
              "#f0f921"
             ]
            ],
            "type": "heatmap"
           }
          ],
          "heatmapgl": [
           {
            "colorbar": {
             "outlinewidth": 0,
             "ticks": ""
            },
            "colorscale": [
             [
              0,
              "#0d0887"
             ],
             [
              0.1111111111111111,
              "#46039f"
             ],
             [
              0.2222222222222222,
              "#7201a8"
             ],
             [
              0.3333333333333333,
              "#9c179e"
             ],
             [
              0.4444444444444444,
              "#bd3786"
             ],
             [
              0.5555555555555556,
              "#d8576b"
             ],
             [
              0.6666666666666666,
              "#ed7953"
             ],
             [
              0.7777777777777778,
              "#fb9f3a"
             ],
             [
              0.8888888888888888,
              "#fdca26"
             ],
             [
              1,
              "#f0f921"
             ]
            ],
            "type": "heatmapgl"
           }
          ],
          "histogram": [
           {
            "marker": {
             "colorbar": {
              "outlinewidth": 0,
              "ticks": ""
             }
            },
            "type": "histogram"
           }
          ],
          "histogram2d": [
           {
            "colorbar": {
             "outlinewidth": 0,
             "ticks": ""
            },
            "colorscale": [
             [
              0,
              "#0d0887"
             ],
             [
              0.1111111111111111,
              "#46039f"
             ],
             [
              0.2222222222222222,
              "#7201a8"
             ],
             [
              0.3333333333333333,
              "#9c179e"
             ],
             [
              0.4444444444444444,
              "#bd3786"
             ],
             [
              0.5555555555555556,
              "#d8576b"
             ],
             [
              0.6666666666666666,
              "#ed7953"
             ],
             [
              0.7777777777777778,
              "#fb9f3a"
             ],
             [
              0.8888888888888888,
              "#fdca26"
             ],
             [
              1,
              "#f0f921"
             ]
            ],
            "type": "histogram2d"
           }
          ],
          "histogram2dcontour": [
           {
            "colorbar": {
             "outlinewidth": 0,
             "ticks": ""
            },
            "colorscale": [
             [
              0,
              "#0d0887"
             ],
             [
              0.1111111111111111,
              "#46039f"
             ],
             [
              0.2222222222222222,
              "#7201a8"
             ],
             [
              0.3333333333333333,
              "#9c179e"
             ],
             [
              0.4444444444444444,
              "#bd3786"
             ],
             [
              0.5555555555555556,
              "#d8576b"
             ],
             [
              0.6666666666666666,
              "#ed7953"
             ],
             [
              0.7777777777777778,
              "#fb9f3a"
             ],
             [
              0.8888888888888888,
              "#fdca26"
             ],
             [
              1,
              "#f0f921"
             ]
            ],
            "type": "histogram2dcontour"
           }
          ],
          "mesh3d": [
           {
            "colorbar": {
             "outlinewidth": 0,
             "ticks": ""
            },
            "type": "mesh3d"
           }
          ],
          "parcoords": [
           {
            "line": {
             "colorbar": {
              "outlinewidth": 0,
              "ticks": ""
             }
            },
            "type": "parcoords"
           }
          ],
          "scatter": [
           {
            "marker": {
             "colorbar": {
              "outlinewidth": 0,
              "ticks": ""
             }
            },
            "type": "scatter"
           }
          ],
          "scatter3d": [
           {
            "line": {
             "colorbar": {
              "outlinewidth": 0,
              "ticks": ""
             }
            },
            "marker": {
             "colorbar": {
              "outlinewidth": 0,
              "ticks": ""
             }
            },
            "type": "scatter3d"
           }
          ],
          "scattercarpet": [
           {
            "marker": {
             "colorbar": {
              "outlinewidth": 0,
              "ticks": ""
             }
            },
            "type": "scattercarpet"
           }
          ],
          "scattergeo": [
           {
            "marker": {
             "colorbar": {
              "outlinewidth": 0,
              "ticks": ""
             }
            },
            "type": "scattergeo"
           }
          ],
          "scattergl": [
           {
            "marker": {
             "colorbar": {
              "outlinewidth": 0,
              "ticks": ""
             }
            },
            "type": "scattergl"
           }
          ],
          "scattermapbox": [
           {
            "marker": {
             "colorbar": {
              "outlinewidth": 0,
              "ticks": ""
             }
            },
            "type": "scattermapbox"
           }
          ],
          "scatterpolar": [
           {
            "marker": {
             "colorbar": {
              "outlinewidth": 0,
              "ticks": ""
             }
            },
            "type": "scatterpolar"
           }
          ],
          "scatterpolargl": [
           {
            "marker": {
             "colorbar": {
              "outlinewidth": 0,
              "ticks": ""
             }
            },
            "type": "scatterpolargl"
           }
          ],
          "scatterternary": [
           {
            "marker": {
             "colorbar": {
              "outlinewidth": 0,
              "ticks": ""
             }
            },
            "type": "scatterternary"
           }
          ],
          "surface": [
           {
            "colorbar": {
             "outlinewidth": 0,
             "ticks": ""
            },
            "colorscale": [
             [
              0,
              "#0d0887"
             ],
             [
              0.1111111111111111,
              "#46039f"
             ],
             [
              0.2222222222222222,
              "#7201a8"
             ],
             [
              0.3333333333333333,
              "#9c179e"
             ],
             [
              0.4444444444444444,
              "#bd3786"
             ],
             [
              0.5555555555555556,
              "#d8576b"
             ],
             [
              0.6666666666666666,
              "#ed7953"
             ],
             [
              0.7777777777777778,
              "#fb9f3a"
             ],
             [
              0.8888888888888888,
              "#fdca26"
             ],
             [
              1,
              "#f0f921"
             ]
            ],
            "type": "surface"
           }
          ],
          "table": [
           {
            "cells": {
             "fill": {
              "color": "#EBF0F8"
             },
             "line": {
              "color": "white"
             }
            },
            "header": {
             "fill": {
              "color": "#C8D4E3"
             },
             "line": {
              "color": "white"
             }
            },
            "type": "table"
           }
          ]
         },
         "layout": {
          "annotationdefaults": {
           "arrowcolor": "#2a3f5f",
           "arrowhead": 0,
           "arrowwidth": 1
          },
          "colorscale": {
           "diverging": [
            [
             0,
             "#8e0152"
            ],
            [
             0.1,
             "#c51b7d"
            ],
            [
             0.2,
             "#de77ae"
            ],
            [
             0.3,
             "#f1b6da"
            ],
            [
             0.4,
             "#fde0ef"
            ],
            [
             0.5,
             "#f7f7f7"
            ],
            [
             0.6,
             "#e6f5d0"
            ],
            [
             0.7,
             "#b8e186"
            ],
            [
             0.8,
             "#7fbc41"
            ],
            [
             0.9,
             "#4d9221"
            ],
            [
             1,
             "#276419"
            ]
           ],
           "sequential": [
            [
             0,
             "#0d0887"
            ],
            [
             0.1111111111111111,
             "#46039f"
            ],
            [
             0.2222222222222222,
             "#7201a8"
            ],
            [
             0.3333333333333333,
             "#9c179e"
            ],
            [
             0.4444444444444444,
             "#bd3786"
            ],
            [
             0.5555555555555556,
             "#d8576b"
            ],
            [
             0.6666666666666666,
             "#ed7953"
            ],
            [
             0.7777777777777778,
             "#fb9f3a"
            ],
            [
             0.8888888888888888,
             "#fdca26"
            ],
            [
             1,
             "#f0f921"
            ]
           ],
           "sequentialminus": [
            [
             0,
             "#0d0887"
            ],
            [
             0.1111111111111111,
             "#46039f"
            ],
            [
             0.2222222222222222,
             "#7201a8"
            ],
            [
             0.3333333333333333,
             "#9c179e"
            ],
            [
             0.4444444444444444,
             "#bd3786"
            ],
            [
             0.5555555555555556,
             "#d8576b"
            ],
            [
             0.6666666666666666,
             "#ed7953"
            ],
            [
             0.7777777777777778,
             "#fb9f3a"
            ],
            [
             0.8888888888888888,
             "#fdca26"
            ],
            [
             1,
             "#f0f921"
            ]
           ]
          },
          "colorway": [
           "#636efa",
           "#EF553B",
           "#00cc96",
           "#ab63fa",
           "#FFA15A",
           "#19d3f3",
           "#FF6692",
           "#B6E880",
           "#FF97FF",
           "#FECB52"
          ],
          "font": {
           "color": "#2a3f5f"
          },
          "geo": {
           "bgcolor": "white",
           "lakecolor": "white",
           "landcolor": "#E5ECF6",
           "showlakes": true,
           "showland": true,
           "subunitcolor": "white"
          },
          "hoverlabel": {
           "align": "left"
          },
          "hovermode": "closest",
          "mapbox": {
           "style": "light"
          },
          "paper_bgcolor": "white",
          "plot_bgcolor": "#E5ECF6",
          "polar": {
           "angularaxis": {
            "gridcolor": "white",
            "linecolor": "white",
            "ticks": ""
           },
           "bgcolor": "#E5ECF6",
           "radialaxis": {
            "gridcolor": "white",
            "linecolor": "white",
            "ticks": ""
           }
          },
          "scene": {
           "xaxis": {
            "backgroundcolor": "#E5ECF6",
            "gridcolor": "white",
            "gridwidth": 2,
            "linecolor": "white",
            "showbackground": true,
            "ticks": "",
            "zerolinecolor": "white"
           },
           "yaxis": {
            "backgroundcolor": "#E5ECF6",
            "gridcolor": "white",
            "gridwidth": 2,
            "linecolor": "white",
            "showbackground": true,
            "ticks": "",
            "zerolinecolor": "white"
           },
           "zaxis": {
            "backgroundcolor": "#E5ECF6",
            "gridcolor": "white",
            "gridwidth": 2,
            "linecolor": "white",
            "showbackground": true,
            "ticks": "",
            "zerolinecolor": "white"
           }
          },
          "shapedefaults": {
           "line": {
            "color": "#2a3f5f"
           }
          },
          "ternary": {
           "aaxis": {
            "gridcolor": "white",
            "linecolor": "white",
            "ticks": ""
           },
           "baxis": {
            "gridcolor": "white",
            "linecolor": "white",
            "ticks": ""
           },
           "bgcolor": "#E5ECF6",
           "caxis": {
            "gridcolor": "white",
            "linecolor": "white",
            "ticks": ""
           }
          },
          "title": {
           "x": 0.05
          },
          "xaxis": {
           "automargin": true,
           "gridcolor": "white",
           "linecolor": "white",
           "ticks": "",
           "zerolinecolor": "white",
           "zerolinewidth": 2
          },
          "yaxis": {
           "automargin": true,
           "gridcolor": "white",
           "linecolor": "white",
           "ticks": "",
           "zerolinecolor": "white",
           "zerolinewidth": 2
          }
         }
        },
        "xaxis": {
         "anchor": "y",
         "domain": [
          0,
          0.98
         ],
         "title": {
          "text": "x"
         }
        },
        "yaxis": {
         "anchor": "x",
         "domain": [
          0,
          1
         ],
         "title": {
          "text": "count"
         }
        }
       }
      },
      "text/html": [
       "<div>\n",
       "        \n",
       "        \n",
       "            <div id=\"ff3787af-0e7c-416c-80ef-928aac3dcb96\" class=\"plotly-graph-div\" style=\"height:600px; width:100%;\"></div>\n",
       "            <script type=\"text/javascript\">\n",
       "                require([\"plotly\"], function(Plotly) {\n",
       "                    window.PLOTLYENV=window.PLOTLYENV || {};\n",
       "                    \n",
       "                if (document.getElementById(\"ff3787af-0e7c-416c-80ef-928aac3dcb96\")) {\n",
       "                    Plotly.newPlot(\n",
       "                        'ff3787af-0e7c-416c-80ef-928aac3dcb96',\n",
       "                        [{\"alignmentgroup\": \"True\", \"bingroup\": \"x\", \"hoverlabel\": {\"namelength\": 0}, \"hovertemplate\": \"x=%{x}<br>count=%{y}\", \"legendgroup\": \"\", \"marker\": {\"color\": \"#636efa\"}, \"name\": \"\", \"offsetgroup\": \"\", \"orientation\": \"v\", \"showlegend\": false, \"type\": \"histogram\", \"x\": [\"model1\", \"model3\", \"model1\", \"model1\", \"model1\", \"model3\", \"model1\", \"model1\", \"model6\", \"model3\", \"model1\", \"model1\", \"model1\", \"model1\", \"model1\", \"model4\", \"model1\", \"model1\", \"model3\", \"model3\", \"model1\", \"model1\", \"model1\", \"model4\", \"model3\", \"model1\", \"model3\", \"model2\", \"model3\", \"model1\", \"model3\", \"model1\", \"model1\", \"model1\", \"model3\", \"model1\", \"model6\", \"model12\", \"model3\", \"model3\", \"model1\", \"model12\", \"model1\", \"model1\", \"model3\", \"model4\", \"model3\", \"model1\", \"model1\", \"model1\", \"model4\", \"model4\", \"model1\", \"model4\", \"model1\", \"model1\", \"model1\", \"model1\", \"model6\", \"model1\", \"model1\", \"model1\", \"model3\", \"model3\", \"model1\", \"model6\", \"model2\", \"model1\", \"model1\", \"model3\", \"model1\", \"model1\", \"model4\", \"model3\", \"model6\", \"model3\", \"model6\", \"model1\", \"model3\", \"model1\", \"model4\", \"model1\", \"model3\", \"model1\", \"model1\", \"model3\", \"model1\", \"model1\", \"model1\", \"model1\", \"model1\", \"model1\", \"model3\", \"model1\", \"model2\", \"model3\", \"model3\", \"model4\", \"model6\", \"model1\", \"model1\", \"model4\", \"model3\", \"model4\", \"model6\", \"model3\", \"model1\"], \"xaxis\": \"x\", \"yaxis\": \"y\"}],\n",
       "                        {\"barmode\": \"relative\", \"height\": 600, \"legend\": {\"tracegroupgap\": 0}, \"margin\": {\"t\": 60}, \"template\": {\"data\": {\"bar\": [{\"error_x\": {\"color\": \"#2a3f5f\"}, \"error_y\": {\"color\": \"#2a3f5f\"}, \"marker\": {\"line\": {\"color\": \"#E5ECF6\", \"width\": 0.5}}, \"type\": \"bar\"}], \"barpolar\": [{\"marker\": {\"line\": {\"color\": \"#E5ECF6\", \"width\": 0.5}}, \"type\": \"barpolar\"}], \"carpet\": [{\"aaxis\": {\"endlinecolor\": \"#2a3f5f\", \"gridcolor\": \"white\", \"linecolor\": \"white\", \"minorgridcolor\": \"white\", \"startlinecolor\": \"#2a3f5f\"}, \"baxis\": {\"endlinecolor\": \"#2a3f5f\", \"gridcolor\": \"white\", \"linecolor\": \"white\", \"minorgridcolor\": \"white\", \"startlinecolor\": \"#2a3f5f\"}, \"type\": \"carpet\"}], \"choropleth\": [{\"colorbar\": {\"outlinewidth\": 0, \"ticks\": \"\"}, \"type\": \"choropleth\"}], \"contour\": [{\"colorbar\": {\"outlinewidth\": 0, \"ticks\": \"\"}, \"colorscale\": [[0.0, \"#0d0887\"], [0.1111111111111111, \"#46039f\"], [0.2222222222222222, \"#7201a8\"], [0.3333333333333333, \"#9c179e\"], [0.4444444444444444, \"#bd3786\"], [0.5555555555555556, \"#d8576b\"], [0.6666666666666666, \"#ed7953\"], [0.7777777777777778, \"#fb9f3a\"], [0.8888888888888888, \"#fdca26\"], [1.0, \"#f0f921\"]], \"type\": \"contour\"}], \"contourcarpet\": [{\"colorbar\": {\"outlinewidth\": 0, \"ticks\": \"\"}, \"type\": \"contourcarpet\"}], \"heatmap\": [{\"colorbar\": {\"outlinewidth\": 0, \"ticks\": \"\"}, \"colorscale\": [[0.0, \"#0d0887\"], [0.1111111111111111, \"#46039f\"], [0.2222222222222222, \"#7201a8\"], [0.3333333333333333, \"#9c179e\"], [0.4444444444444444, \"#bd3786\"], [0.5555555555555556, \"#d8576b\"], [0.6666666666666666, \"#ed7953\"], [0.7777777777777778, \"#fb9f3a\"], [0.8888888888888888, \"#fdca26\"], [1.0, \"#f0f921\"]], \"type\": \"heatmap\"}], \"heatmapgl\": [{\"colorbar\": {\"outlinewidth\": 0, \"ticks\": \"\"}, \"colorscale\": [[0.0, \"#0d0887\"], [0.1111111111111111, \"#46039f\"], [0.2222222222222222, \"#7201a8\"], [0.3333333333333333, \"#9c179e\"], [0.4444444444444444, \"#bd3786\"], [0.5555555555555556, \"#d8576b\"], [0.6666666666666666, \"#ed7953\"], [0.7777777777777778, \"#fb9f3a\"], [0.8888888888888888, \"#fdca26\"], [1.0, \"#f0f921\"]], \"type\": \"heatmapgl\"}], \"histogram\": [{\"marker\": {\"colorbar\": {\"outlinewidth\": 0, \"ticks\": \"\"}}, \"type\": \"histogram\"}], \"histogram2d\": [{\"colorbar\": {\"outlinewidth\": 0, \"ticks\": \"\"}, \"colorscale\": [[0.0, \"#0d0887\"], [0.1111111111111111, \"#46039f\"], [0.2222222222222222, \"#7201a8\"], [0.3333333333333333, \"#9c179e\"], [0.4444444444444444, \"#bd3786\"], [0.5555555555555556, \"#d8576b\"], [0.6666666666666666, \"#ed7953\"], [0.7777777777777778, \"#fb9f3a\"], [0.8888888888888888, \"#fdca26\"], [1.0, \"#f0f921\"]], \"type\": \"histogram2d\"}], \"histogram2dcontour\": [{\"colorbar\": {\"outlinewidth\": 0, \"ticks\": \"\"}, \"colorscale\": [[0.0, \"#0d0887\"], [0.1111111111111111, \"#46039f\"], [0.2222222222222222, \"#7201a8\"], [0.3333333333333333, \"#9c179e\"], [0.4444444444444444, \"#bd3786\"], [0.5555555555555556, \"#d8576b\"], [0.6666666666666666, \"#ed7953\"], [0.7777777777777778, \"#fb9f3a\"], [0.8888888888888888, \"#fdca26\"], [1.0, \"#f0f921\"]], \"type\": \"histogram2dcontour\"}], \"mesh3d\": [{\"colorbar\": {\"outlinewidth\": 0, \"ticks\": \"\"}, \"type\": \"mesh3d\"}], \"parcoords\": [{\"line\": {\"colorbar\": {\"outlinewidth\": 0, \"ticks\": \"\"}}, \"type\": \"parcoords\"}], \"scatter\": [{\"marker\": {\"colorbar\": {\"outlinewidth\": 0, \"ticks\": \"\"}}, \"type\": \"scatter\"}], \"scatter3d\": [{\"line\": {\"colorbar\": {\"outlinewidth\": 0, \"ticks\": \"\"}}, \"marker\": {\"colorbar\": {\"outlinewidth\": 0, \"ticks\": \"\"}}, \"type\": \"scatter3d\"}], \"scattercarpet\": [{\"marker\": {\"colorbar\": {\"outlinewidth\": 0, \"ticks\": \"\"}}, \"type\": \"scattercarpet\"}], \"scattergeo\": [{\"marker\": {\"colorbar\": {\"outlinewidth\": 0, \"ticks\": \"\"}}, \"type\": \"scattergeo\"}], \"scattergl\": [{\"marker\": {\"colorbar\": {\"outlinewidth\": 0, \"ticks\": \"\"}}, \"type\": \"scattergl\"}], \"scattermapbox\": [{\"marker\": {\"colorbar\": {\"outlinewidth\": 0, \"ticks\": \"\"}}, \"type\": \"scattermapbox\"}], \"scatterpolar\": [{\"marker\": {\"colorbar\": {\"outlinewidth\": 0, \"ticks\": \"\"}}, \"type\": \"scatterpolar\"}], \"scatterpolargl\": [{\"marker\": {\"colorbar\": {\"outlinewidth\": 0, \"ticks\": \"\"}}, \"type\": \"scatterpolargl\"}], \"scatterternary\": [{\"marker\": {\"colorbar\": {\"outlinewidth\": 0, \"ticks\": \"\"}}, \"type\": \"scatterternary\"}], \"surface\": [{\"colorbar\": {\"outlinewidth\": 0, \"ticks\": \"\"}, \"colorscale\": [[0.0, \"#0d0887\"], [0.1111111111111111, \"#46039f\"], [0.2222222222222222, \"#7201a8\"], [0.3333333333333333, \"#9c179e\"], [0.4444444444444444, \"#bd3786\"], [0.5555555555555556, \"#d8576b\"], [0.6666666666666666, \"#ed7953\"], [0.7777777777777778, \"#fb9f3a\"], [0.8888888888888888, \"#fdca26\"], [1.0, \"#f0f921\"]], \"type\": \"surface\"}], \"table\": [{\"cells\": {\"fill\": {\"color\": \"#EBF0F8\"}, \"line\": {\"color\": \"white\"}}, \"header\": {\"fill\": {\"color\": \"#C8D4E3\"}, \"line\": {\"color\": \"white\"}}, \"type\": \"table\"}]}, \"layout\": {\"annotationdefaults\": {\"arrowcolor\": \"#2a3f5f\", \"arrowhead\": 0, \"arrowwidth\": 1}, \"colorscale\": {\"diverging\": [[0, \"#8e0152\"], [0.1, \"#c51b7d\"], [0.2, \"#de77ae\"], [0.3, \"#f1b6da\"], [0.4, \"#fde0ef\"], [0.5, \"#f7f7f7\"], [0.6, \"#e6f5d0\"], [0.7, \"#b8e186\"], [0.8, \"#7fbc41\"], [0.9, \"#4d9221\"], [1, \"#276419\"]], \"sequential\": [[0.0, \"#0d0887\"], [0.1111111111111111, \"#46039f\"], [0.2222222222222222, \"#7201a8\"], [0.3333333333333333, \"#9c179e\"], [0.4444444444444444, \"#bd3786\"], [0.5555555555555556, \"#d8576b\"], [0.6666666666666666, \"#ed7953\"], [0.7777777777777778, \"#fb9f3a\"], [0.8888888888888888, \"#fdca26\"], [1.0, \"#f0f921\"]], \"sequentialminus\": [[0.0, \"#0d0887\"], [0.1111111111111111, \"#46039f\"], [0.2222222222222222, \"#7201a8\"], [0.3333333333333333, \"#9c179e\"], [0.4444444444444444, \"#bd3786\"], [0.5555555555555556, \"#d8576b\"], [0.6666666666666666, \"#ed7953\"], [0.7777777777777778, \"#fb9f3a\"], [0.8888888888888888, \"#fdca26\"], [1.0, \"#f0f921\"]]}, \"colorway\": [\"#636efa\", \"#EF553B\", \"#00cc96\", \"#ab63fa\", \"#FFA15A\", \"#19d3f3\", \"#FF6692\", \"#B6E880\", \"#FF97FF\", \"#FECB52\"], \"font\": {\"color\": \"#2a3f5f\"}, \"geo\": {\"bgcolor\": \"white\", \"lakecolor\": \"white\", \"landcolor\": \"#E5ECF6\", \"showlakes\": true, \"showland\": true, \"subunitcolor\": \"white\"}, \"hoverlabel\": {\"align\": \"left\"}, \"hovermode\": \"closest\", \"mapbox\": {\"style\": \"light\"}, \"paper_bgcolor\": \"white\", \"plot_bgcolor\": \"#E5ECF6\", \"polar\": {\"angularaxis\": {\"gridcolor\": \"white\", \"linecolor\": \"white\", \"ticks\": \"\"}, \"bgcolor\": \"#E5ECF6\", \"radialaxis\": {\"gridcolor\": \"white\", \"linecolor\": \"white\", \"ticks\": \"\"}}, \"scene\": {\"xaxis\": {\"backgroundcolor\": \"#E5ECF6\", \"gridcolor\": \"white\", \"gridwidth\": 2, \"linecolor\": \"white\", \"showbackground\": true, \"ticks\": \"\", \"zerolinecolor\": \"white\"}, \"yaxis\": {\"backgroundcolor\": \"#E5ECF6\", \"gridcolor\": \"white\", \"gridwidth\": 2, \"linecolor\": \"white\", \"showbackground\": true, \"ticks\": \"\", \"zerolinecolor\": \"white\"}, \"zaxis\": {\"backgroundcolor\": \"#E5ECF6\", \"gridcolor\": \"white\", \"gridwidth\": 2, \"linecolor\": \"white\", \"showbackground\": true, \"ticks\": \"\", \"zerolinecolor\": \"white\"}}, \"shapedefaults\": {\"line\": {\"color\": \"#2a3f5f\"}}, \"ternary\": {\"aaxis\": {\"gridcolor\": \"white\", \"linecolor\": \"white\", \"ticks\": \"\"}, \"baxis\": {\"gridcolor\": \"white\", \"linecolor\": \"white\", \"ticks\": \"\"}, \"bgcolor\": \"#E5ECF6\", \"caxis\": {\"gridcolor\": \"white\", \"linecolor\": \"white\", \"ticks\": \"\"}}, \"title\": {\"x\": 0.05}, \"xaxis\": {\"automargin\": true, \"gridcolor\": \"white\", \"linecolor\": \"white\", \"ticks\": \"\", \"zerolinecolor\": \"white\", \"zerolinewidth\": 2}, \"yaxis\": {\"automargin\": true, \"gridcolor\": \"white\", \"linecolor\": \"white\", \"ticks\": \"\", \"zerolinecolor\": \"white\", \"zerolinewidth\": 2}}}, \"xaxis\": {\"anchor\": \"y\", \"domain\": [0.0, 0.98], \"title\": {\"text\": \"x\"}}, \"yaxis\": {\"anchor\": \"x\", \"domain\": [0.0, 1.0], \"title\": {\"text\": \"count\"}}},\n",
       "                        {\"responsive\": true}\n",
       "                    ).then(function(){\n",
       "                            \n",
       "var gd = document.getElementById('ff3787af-0e7c-416c-80ef-928aac3dcb96');\n",
       "var x = new MutationObserver(function (mutations, observer) {{\n",
       "        var display = window.getComputedStyle(gd).display;\n",
       "        if (!display || display === 'none') {{\n",
       "            console.log([gd, 'removed!']);\n",
       "            Plotly.purge(gd);\n",
       "            observer.disconnect();\n",
       "        }}\n",
       "}});\n",
       "\n",
       "// Listen for the removal of the full notebook cells\n",
       "var notebookContainer = gd.closest('#notebook-container');\n",
       "if (notebookContainer) {{\n",
       "    x.observe(notebookContainer, {childList: true});\n",
       "}}\n",
       "\n",
       "// Listen for the clearing of the current output cell\n",
       "var outputEl = gd.closest('.output');\n",
       "if (outputEl) {{\n",
       "    x.observe(outputEl, {childList: true});\n",
       "}}\n",
       "\n",
       "                        })\n",
       "                };\n",
       "                });\n",
       "            </script>\n",
       "        </div>"
      ]
     },
     "metadata": {},
     "output_type": "display_data"
    }
   ],
   "source": [
    "fig = px.histogram(tips, x=complaint3[\"Model\"])\n",
    "fig.show()"
   ]
  },
  {
   "cell_type": "code",
   "execution_count": 240,
   "metadata": {},
   "outputs": [
    {
     "data": {
      "text/plain": [
       "<seaborn.axisgrid.FacetGrid at 0x20e28f5d128>"
      ]
     },
     "execution_count": 240,
     "metadata": {},
     "output_type": "execute_result"
    },
    {
     "data": {
      "image/png": "[encoded data removed]",
      "text/plain": [
       "<Figure size 360x360 with 1 Axes>"
      ]
     },
     "metadata": {
      "needs_background": "light"
     },
     "output_type": "display_data"
    }
   ],
   "source": [
    "sea.relplot(x='Area 3',y='Model',data = complaint3)"
   ]
  },
  {
   "cell_type": "code",
   "execution_count": 241,
   "metadata": {},
   "outputs": [],
   "source": [
    "c1 = complaint1['Area 1'].count()\n",
    "c2 = complaint2['Area 2'].count()\n",
    "c3 = complaint3['Area 3'].count()"
   ]
  },
  {
   "cell_type": "code",
   "execution_count": 242,
   "metadata": {},
   "outputs": [
    {
     "data": {
      "text/html": [
       "<div>\n",
       "<style scoped>\n",
       "    .dataframe tbody tr th:only-of-type {\n",
       "        vertical-align: middle;\n",
       "    }\n",
       "\n",
       "    .dataframe tbody tr th {\n",
       "        vertical-align: top;\n",
       "    }\n",
       "\n",
       "    .dataframe thead th {\n",
       "        text-align: right;\n",
       "    }\n",
       "</style>\n",
       "<table border=\"1\" class=\"dataframe\">\n",
       "  <thead>\n",
       "    <tr style=\"text-align: right;\">\n",
       "      <th></th>\n",
       "      <th>Complaint 1</th>\n",
       "      <th>Complaint 2</th>\n",
       "      <th>Complaint 3</th>\n",
       "    </tr>\n",
       "  </thead>\n",
       "  <tbody>\n",
       "    <tr>\n",
       "      <th>0</th>\n",
       "      <td>4150</td>\n",
       "      <td>784</td>\n",
       "      <td>107</td>\n",
       "    </tr>\n",
       "  </tbody>\n",
       "</table>\n",
       "</div>"
      ],
      "text/plain": [
       "   Complaint 1  Complaint 2  Complaint 3\n",
       "0         4150          784          107"
      ]
     },
     "execution_count": 242,
     "metadata": {},
     "output_type": "execute_result"
    }
   ],
   "source": [
    "c = {'Complaint 1':c1,'Complaint 2': c2,'Complaint 3':c3}\n",
    "complaint_details = pd.DataFrame([c])\n",
    "complaint_details"
   ]
  },
  {
   "cell_type": "markdown",
   "metadata": {},
   "source": [
    "### Encoding - complaint 3 (independant variables alone)"
   ]
  },
  {
   "cell_type": "code",
   "execution_count": 243,
   "metadata": {},
   "outputs": [],
   "source": [
    "le.fit(complaint3[['Model']])\n",
    "complaint3['Model'] = le.transform(complaint3[['Model']])"
   ]
  },
  {
   "cell_type": "code",
   "execution_count": 244,
   "metadata": {},
   "outputs": [],
   "source": [
    "le.fit(complaint3[['Complaint Source']])\n",
    "complaint3['Complaint Source'] = le.transform(complaint3[['Complaint Source']])"
   ]
  },
  {
   "cell_type": "code",
   "execution_count": 245,
   "metadata": {},
   "outputs": [],
   "source": [
    "le.fit(complaint3[['Product Component 3']])\n",
    "complaint3['Product Component 3'] = le.transform(complaint3[['Product Component 3']])"
   ]
  },
  {
   "cell_type": "markdown",
   "metadata": {},
   "source": [
    "### Declare Dependant &  Independant Variables "
   ]
  },
  {
   "cell_type": "code",
   "execution_count": 246,
   "metadata": {},
   "outputs": [],
   "source": [
    "x3 = complaint3[['Model','Complaint Source','Product Component 3']]\n",
    "y3 = complaint3[['Area 3']]"
   ]
  },
  {
   "cell_type": "code",
   "execution_count": 247,
   "metadata": {},
   "outputs": [],
   "source": [
    "x3train,x3test,y3train,y3test = train_test_split(x3,y3,test_size=0.3)"
   ]
  },
  {
   "cell_type": "markdown",
   "metadata": {},
   "source": [
    "## Logistic Regression"
   ]
  },
  {
   "cell_type": "code",
   "execution_count": 248,
   "metadata": {},
   "outputs": [],
   "source": [
    "a6 = lr.fit(x3train,y3train)\n",
    "b6 = lr.fit(x3test,y3test)"
   ]
  },
  {
   "cell_type": "code",
   "execution_count": 249,
   "metadata": {},
   "outputs": [],
   "source": [
    "y3pred=a6.predict(x3test)"
   ]
  },
  {
   "cell_type": "code",
   "execution_count": 250,
   "metadata": {},
   "outputs": [
    {
     "data": {
      "text/plain": [
       "0.7575757575757576"
      ]
     },
     "execution_count": 250,
     "metadata": {},
     "output_type": "execute_result"
    }
   ],
   "source": [
    "accuracy_score(y3test,y3pred)"
   ]
  },
  {
   "cell_type": "markdown",
   "metadata": {},
   "source": [
    "### Cross Validation - LR3"
   ]
  },
  {
   "cell_type": "code",
   "execution_count": 251,
   "metadata": {},
   "outputs": [
    {
     "data": {
      "text/plain": [
       "array([0.73913043, 0.77272727, 0.77272727, 0.8       , 0.8       ])"
      ]
     },
     "execution_count": 251,
     "metadata": {},
     "output_type": "execute_result"
    }
   ],
   "source": [
    "lr3 = cross_val_score(lr,x3,y3,cv=st_fld)\n",
    "lr3"
   ]
  },
  {
   "cell_type": "code",
   "execution_count": 252,
   "metadata": {},
   "outputs": [
    {
     "data": {
      "text/plain": [
       "0.7769169960474308"
      ]
     },
     "execution_count": 252,
     "metadata": {},
     "output_type": "execute_result"
    }
   ],
   "source": [
    "lr3.mean()"
   ]
  },
  {
   "cell_type": "markdown",
   "metadata": {},
   "source": [
    "### Encoding dependant varaibles"
   ]
  },
  {
   "cell_type": "code",
   "execution_count": 253,
   "metadata": {},
   "outputs": [],
   "source": [
    "le.fit(complaint3[['Area 3']])\n",
    "complaint3['Area 3'] = le.transform(complaint3[['Area 3']])"
   ]
  },
  {
   "cell_type": "markdown",
   "metadata": {},
   "source": [
    "### Declare Dependant &  Independant Variables "
   ]
  },
  {
   "cell_type": "code",
   "execution_count": 254,
   "metadata": {},
   "outputs": [],
   "source": [
    "x3 = complaint3[['Model','Complaint Source','Product Component 3']]\n",
    "y3 = complaint3[['Area 3']]"
   ]
  },
  {
   "cell_type": "code",
   "execution_count": 255,
   "metadata": {},
   "outputs": [],
   "source": [
    "x3train,x3test,y3train,y3test = train_test_split(x3,y3,test_size=0.3)"
   ]
  },
  {
   "cell_type": "markdown",
   "metadata": {},
   "source": [
    "## SVM"
   ]
  },
  {
   "cell_type": "code",
   "execution_count": 256,
   "metadata": {},
   "outputs": [
    {
     "data": {
      "text/plain": [
       "SVC(C=1.0, cache_size=200, class_weight=None, coef0=0.0,\n",
       "  decision_function_shape='ovr', degree=3, gamma='auto', kernel='linear',\n",
       "  max_iter=-1, probability=False, random_state=None, shrinking=True,\n",
       "  tol=0.001, verbose=False)"
      ]
     },
     "execution_count": 256,
     "metadata": {},
     "output_type": "execute_result"
    }
   ],
   "source": [
    "svcclassifier.fit(x3train,y3train)"
   ]
  },
  {
   "cell_type": "code",
   "execution_count": 257,
   "metadata": {},
   "outputs": [],
   "source": [
    "y33pred = svcclassifier.predict(x3test)"
   ]
  },
  {
   "cell_type": "code",
   "execution_count": 258,
   "metadata": {},
   "outputs": [
    {
     "data": {
      "text/plain": [
       "array([[ 0,  0,  4],\n",
       "       [ 0,  0,  2],\n",
       "       [ 0,  0, 27]], dtype=int64)"
      ]
     },
     "execution_count": 258,
     "metadata": {},
     "output_type": "execute_result"
    }
   ],
   "source": [
    "confusion_matrix(y3test,y33pred)"
   ]
  },
  {
   "cell_type": "code",
   "execution_count": 259,
   "metadata": {},
   "outputs": [
    {
     "data": {
      "text/plain": [
       "0.8181818181818182"
      ]
     },
     "execution_count": 259,
     "metadata": {},
     "output_type": "execute_result"
    }
   ],
   "source": [
    "ac_sc33=accuracy_score(y3test,y33pred)\n",
    "ac_sc33"
   ]
  },
  {
   "cell_type": "code",
   "execution_count": 260,
   "metadata": {},
   "outputs": [
    {
     "name": "stdout",
     "output_type": "stream",
     "text": [
      "             precision    recall  f1-score   support\n",
      "\n",
      "          0       0.00      0.00      0.00         4\n",
      "          1       0.00      0.00      0.00         2\n",
      "          2       0.82      1.00      0.90        27\n",
      "\n",
      "avg / total       0.67      0.82      0.74        33\n",
      "\n"
     ]
    }
   ],
   "source": [
    "print(classification_report(y3test,y33pred))"
   ]
  },
  {
   "cell_type": "markdown",
   "metadata": {},
   "source": [
    "### Cross Validation - SVM3"
   ]
  },
  {
   "cell_type": "code",
   "execution_count": 261,
   "metadata": {},
   "outputs": [
    {
     "data": {
      "text/plain": [
       "array([0.73913043, 0.77272727, 0.77272727, 0.8       , 0.8       ])"
      ]
     },
     "execution_count": 261,
     "metadata": {},
     "output_type": "execute_result"
    }
   ],
   "source": [
    "cv33 = cross_val_score(svcclassifier,x3,y3,cv=st_fld)\n",
    "cv33"
   ]
  },
  {
   "cell_type": "code",
   "execution_count": 262,
   "metadata": {},
   "outputs": [
    {
     "data": {
      "text/plain": [
       "0.7769169960474308"
      ]
     },
     "execution_count": 262,
     "metadata": {},
     "output_type": "execute_result"
    }
   ],
   "source": [
    "cv33.mean()"
   ]
  },
  {
   "cell_type": "markdown",
   "metadata": {},
   "source": [
    "## Decision Tree"
   ]
  },
  {
   "cell_type": "code",
   "execution_count": 263,
   "metadata": {},
   "outputs": [],
   "source": [
    "a3 = dt.fit(x3train,y3train)\n",
    "b3 = dt.fit(x3test,y3test)"
   ]
  },
  {
   "cell_type": "code",
   "execution_count": 264,
   "metadata": {},
   "outputs": [],
   "source": [
    "y3pred = a3.predict(x3test)"
   ]
  },
  {
   "cell_type": "code",
   "execution_count": 265,
   "metadata": {},
   "outputs": [
    {
     "data": {
      "text/plain": [
       "1.0"
      ]
     },
     "execution_count": 265,
     "metadata": {},
     "output_type": "execute_result"
    }
   ],
   "source": [
    "ac_sc3 = accuracy_score(y3test,y3pred)\n",
    "ac_sc3"
   ]
  },
  {
   "cell_type": "code",
   "execution_count": 266,
   "metadata": {},
   "outputs": [
    {
     "data": {
      "text/html": [
       "<div>\n",
       "<style scoped>\n",
       "    .dataframe tbody tr th:only-of-type {\n",
       "        vertical-align: middle;\n",
       "    }\n",
       "\n",
       "    .dataframe tbody tr th {\n",
       "        vertical-align: top;\n",
       "    }\n",
       "\n",
       "    .dataframe thead th {\n",
       "        text-align: right;\n",
       "    }\n",
       "</style>\n",
       "<table border=\"1\" class=\"dataframe\">\n",
       "  <thead>\n",
       "    <tr style=\"text-align: right;\">\n",
       "      <th></th>\n",
       "      <th>Predicted Product</th>\n",
       "      <th>Predicted Sales</th>\n",
       "      <th>Predicted Service</th>\n",
       "    </tr>\n",
       "  </thead>\n",
       "  <tbody>\n",
       "    <tr>\n",
       "      <th>True Product</th>\n",
       "      <td>4</td>\n",
       "      <td>0</td>\n",
       "      <td>0</td>\n",
       "    </tr>\n",
       "    <tr>\n",
       "      <th>True Sales</th>\n",
       "      <td>0</td>\n",
       "      <td>2</td>\n",
       "      <td>0</td>\n",
       "    </tr>\n",
       "    <tr>\n",
       "      <th>True Service</th>\n",
       "      <td>0</td>\n",
       "      <td>0</td>\n",
       "      <td>27</td>\n",
       "    </tr>\n",
       "  </tbody>\n",
       "</table>\n",
       "</div>"
      ],
      "text/plain": [
       "              Predicted Product  Predicted Sales  Predicted Service\n",
       "True Product                  4                0                  0\n",
       "True Sales                    0                2                  0\n",
       "True Service                  0                0                 27"
      ]
     },
     "execution_count": 266,
     "metadata": {},
     "output_type": "execute_result"
    }
   ],
   "source": [
    "pd.DataFrame(confusion_matrix(y3test,y3pred),columns = ['Predicted Product','Predicted Sales','Predicted Service'],index=['True Product','True Sales','True Service'])"
   ]
  },
  {
   "cell_type": "code",
   "execution_count": 267,
   "metadata": {},
   "outputs": [],
   "source": [
    "graph = export_graphviz(dt,out_file=\"complaint3_tree.dot\",feature_names = ['Complaint Source','Model','Product Component'],rounded=True,precision=0)"
   ]
  },
  {
   "cell_type": "markdown",
   "metadata": {},
   "source": [
    "### Cross Validation - DT3"
   ]
  },
  {
   "cell_type": "code",
   "execution_count": 268,
   "metadata": {},
   "outputs": [
    {
     "data": {
      "text/plain": [
       "array([0.82608696, 0.95454545, 0.90909091, 0.95      , 0.85      ])"
      ]
     },
     "execution_count": 268,
     "metadata": {},
     "output_type": "execute_result"
    }
   ],
   "source": [
    "cv3 = cross_val_score(dt,x3,y3,cv=st_fld)\n",
    "cv3"
   ]
  },
  {
   "cell_type": "code",
   "execution_count": 269,
   "metadata": {
    "scrolled": true
   },
   "outputs": [
    {
     "data": {
      "text/plain": [
       "0.8979446640316204"
      ]
     },
     "execution_count": 269,
     "metadata": {},
     "output_type": "execute_result"
    }
   ],
   "source": [
    "cv3.mean()"
   ]
  }
 ],
 "metadata": {
  "kernelspec": {
   "display_name": "Python 3",
   "language": "python",
   "name": "python3"
  },
  "language_info": {
   "codemirror_mode": {
    "name": "ipython",
    "version": 3
   },
   "file_extension": ".py",
   "mimetype": "text/x-python",
   "name": "python",
   "nbconvert_exporter": "python",
   "pygments_lexer": "ipython3",
   "version": "3.7.0"
  }
 },
 "nbformat": 4,
 "nbformat_minor": 2
}
